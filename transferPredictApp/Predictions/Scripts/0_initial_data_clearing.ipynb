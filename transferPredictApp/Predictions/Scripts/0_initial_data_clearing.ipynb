{
 "cells": [
  {
   "cell_type": "code",
   "execution_count": 1,
   "metadata": {},
   "outputs": [],
   "source": [
    "#import packages\n",
    "import pandas as pd\n",
    "import matplotlib.pyplot as plt\n",
    "import networkx as nx\n",
    "import numpy as np\n",
    "import itertools\n",
    "from networkx.algorithms import community\n",
    "import operator\n",
    "from itertools import islice\n",
    "import glob\n",
    "import os\n",
    "from sklearn.model_selection import train_test_split\n",
    "from sklearn.ensemble import GradientBoostingClassifier\n",
    "from sklearn.metrics import accuracy_score\n",
    "from sklearn.metrics import confusion_matrix\n",
    "from numpy import mean\n",
    "from numpy import std\n",
    "from sklearn.datasets import make_classification\n",
    "from sklearn.model_selection import cross_val_score\n",
    "from sklearn.model_selection import RepeatedStratifiedKFold\n",
    "from sklearn.model_selection import cross_val_predict\n",
    "from imblearn.over_sampling import SVMSMOTE\n",
    "from sklearn.model_selection import cross_validate\n",
    "from sklearn.ensemble import AdaBoostClassifier\n",
    "from sklearn.ensemble import RandomForestClassifier\n",
    "from sklearn.ensemble import BaggingClassifier\n",
    "from xgboost import XGBClassifier\n",
    "from sklearn import metrics\n",
    "from sklearn import svm\n",
    "from sklearn.linear_model import LogisticRegression\n",
    "from imblearn.over_sampling import BorderlineSMOTE\n",
    "from imblearn.over_sampling import ADASYN\n",
    "from sklearn.feature_selection import RFE\n",
    "from sklearn.tree import DecisionTreeClassifier\n",
    "from sklearn.pipeline import Pipeline\n",
    "from sklearn.model_selection import GridSearchCV\n",
    "import category_encoders as ce\n",
    "from sklearn.experimental import enable_iterative_imputer\n",
    "from sklearn.impute import IterativeImputer\n",
    "from sklearn.preprocessing import StandardScaler\n",
    "from sklearn.naive_bayes import GaussianNB \n",
    "from sklearn.naive_bayes import BernoulliNB\n",
    "import pandasql as ps\n",
    "import os\n",
    "\n",
    "import warnings\n",
    "warnings.simplefilter(action='ignore', category=FutureWarning)"
   ]
  },
  {
   "cell_type": "code",
   "execution_count": 2,
   "metadata": {},
   "outputs": [
    {
     "name": "stderr",
     "output_type": "stream",
     "text": [
      "/Users/roland.kovacs4ibm.com/Library/Python/3.8/lib/python/site-packages/IPython/core/interactiveshell.py:3172: DtypeWarning: Columns (13,63,120,121,122,123,124,125,126,129,130,131,133) have mixed types.Specify dtype option on import or set low_memory=False.\n",
      "  has_raised = await self.run_ast_nodes(code_ast.body, cell_name,\n"
     ]
    }
   ],
   "source": [
    "#load dataset\n",
    "df = pd.read_csv(f\"/Users/{os.environ['USER']}/Documents/Uni/Szakdoga/Adatok/train_df_temporary4.csv\")\n",
    "\n",
    "df = df[df.Season != 2007]\n",
    "\n",
    "df['Pace_main'] = round(df['Acceleration'] * 0.45 + df['Sprint_speed'] * 0.55, 0)\n",
    "df['Shooting_main'] = round(df['Finishing'] * 0.45 + df['Long_shots'] * 0.20 + df['Penalties'] * 0.05 + \\\n",
    "     df['Positioning'] * 0.05 + df['Shot_power'] * 0.20 + df['Volleys'] * 0.05, 0)\n",
    "df['Dribbling_main'] = round(df['Agility'] * 0.1 + df['Balance'] * 0.05 + df['Ball_control'] * 0.35 + \\\n",
    "     df['Dribbling'] * 0.5, 0)\n",
    "df['Defending_main'] = round(df['Heading_accuracy'] * 0.1 + df['Interceptions'] * 0.2 + df['Marking'] * 0.3 + \\\n",
    "     df['Sliding_tackle'] * 0.3 + df['Standing_tackle'] * 0.3, 0)\n",
    "df['Passing_main'] = round(df['Crossing'] * 0.2 + df['Curve'] * 0.05 + df['FK_accuracy'] * 0.05 + \\\n",
    "     df['Long_passing'] * 0.15 + df['Short_passing'] * 0.35 + df['Vision'] * 0.25, 0)\n",
    "df['Physical_main'] = round(df['Aggression'] * 0.2 + df['Jumping'] * 0.05 + df['Stamina'] * 0.25 + \\\n",
    "     df['Strength'] * 0.5, 0)"
   ]
  },
  {
   "cell_type": "code",
   "execution_count": 3,
   "metadata": {},
   "outputs": [],
   "source": [
    "#load dataset\n",
    "age_df = pd.read_excel(f\"/Users/{os.environ['USER']}/Documents/Uni/Szakdoga/Adatok/train_ws_df.xlsx\")"
   ]
  },
  {
   "cell_type": "code",
   "execution_count": 4,
   "metadata": {},
   "outputs": [
    {
     "name": "stdout",
     "output_type": "stream",
     "text": [
      "<class 'pandas.core.frame.DataFrame'>\n",
      "Int64Index: 16311 entries, 0 to 17230\n",
      "Columns: 277 entries, NewName to Physical_main\n",
      "dtypes: float64(208), int64(34), object(35)\n",
      "memory usage: 34.6+ MB\n"
     ]
    }
   ],
   "source": [
    "df.info()"
   ]
  },
  {
   "cell_type": "code",
   "execution_count": 5,
   "metadata": {},
   "outputs": [],
   "source": [
    "df = df.drop('age', axis = 1)"
   ]
  },
  {
   "cell_type": "code",
   "execution_count": 6,
   "metadata": {},
   "outputs": [
    {
     "name": "stdout",
     "output_type": "stream",
     "text": [
      "<class 'pandas.core.frame.DataFrame'>\n",
      "Int64Index: 16311 entries, 0 to 16640\n",
      "Columns: 277 entries, NewName to Age\n",
      "dtypes: float64(207), int64(35), object(35)\n",
      "memory usage: 34.6+ MB\n"
     ]
    }
   ],
   "source": [
    "#join tables with train df\n",
    "q1 = \"\"\"SELECT DF.*,\n",
    "        i.Age\n",
    "      \n",
    "        FROM df DF \n",
    "\n",
    "        LEFT JOIN age_df i\n",
    "        ON DF.NewName = i.NewName\n",
    "        AND DF.ID = i.ID\n",
    "        AND DF.Club = i.Club\n",
    "        AND DF.Season = i.Season\n",
    "        \"\"\"\n",
    "\n",
    "df = ps.sqldf(q1, locals())\n",
    "\n",
    "df = df.drop_duplicates()\n",
    "\n",
    "df.info()"
   ]
  },
  {
   "cell_type": "code",
   "execution_count": 248,
   "metadata": {},
   "outputs": [
    {
     "data": {
      "text/html": [
       "<div>\n",
       "<style scoped>\n",
       "    .dataframe tbody tr th:only-of-type {\n",
       "        vertical-align: middle;\n",
       "    }\n",
       "\n",
       "    .dataframe tbody tr th {\n",
       "        vertical-align: top;\n",
       "    }\n",
       "\n",
       "    .dataframe thead th {\n",
       "        text-align: right;\n",
       "    }\n",
       "</style>\n",
       "<table border=\"1\" class=\"dataframe\">\n",
       "  <thead>\n",
       "    <tr style=\"text-align: right;\">\n",
       "      <th></th>\n",
       "      <th>NewName</th>\n",
       "      <th>MarketValue</th>\n",
       "      <th>ClubInvolved</th>\n",
       "      <th>League</th>\n",
       "      <th>MainPosition</th>\n",
       "      <th>LeagueInvolved</th>\n",
       "      <th>CorrMarketValue</th>\n",
       "      <th>ID</th>\n",
       "      <th>Name</th>\n",
       "      <th>Height_cm</th>\n",
       "      <th>...</th>\n",
       "      <th>GKCleanSheetPercent</th>\n",
       "      <th>ContractGood</th>\n",
       "      <th>ContractLeft</th>\n",
       "      <th>Pace_main</th>\n",
       "      <th>Shooting_main</th>\n",
       "      <th>Dribbling_main</th>\n",
       "      <th>Defending_main</th>\n",
       "      <th>Passing_main</th>\n",
       "      <th>Physical_main</th>\n",
       "      <th>Age</th>\n",
       "    </tr>\n",
       "  </thead>\n",
       "  <tbody>\n",
       "    <tr>\n",
       "      <th>0</th>\n",
       "      <td>Bernard</td>\n",
       "      <td>10.0</td>\n",
       "      <td>Clube Atlético Mineiro</td>\n",
       "      <td>Ukrainian Premier League</td>\n",
       "      <td>Forward</td>\n",
       "      <td>Brazil</td>\n",
       "      <td>5.0</td>\n",
       "      <td>205525</td>\n",
       "      <td>Bernard</td>\n",
       "      <td>164cm</td>\n",
       "      <td>...</td>\n",
       "      <td>NaN</td>\n",
       "      <td>2017</td>\n",
       "      <td>4</td>\n",
       "      <td>90.0</td>\n",
       "      <td>71.0</td>\n",
       "      <td>85.0</td>\n",
       "      <td>42.0</td>\n",
       "      <td>80.0</td>\n",
       "      <td>41.0</td>\n",
       "      <td>20</td>\n",
       "    </tr>\n",
       "    <tr>\n",
       "      <th>1</th>\n",
       "      <td>Fred</td>\n",
       "      <td>5.0</td>\n",
       "      <td>Sport Club Internacional</td>\n",
       "      <td>Ukrainian Premier League</td>\n",
       "      <td>Midfielder</td>\n",
       "      <td>Brazil</td>\n",
       "      <td>2.5</td>\n",
       "      <td>209297</td>\n",
       "      <td>Fred</td>\n",
       "      <td>169cm</td>\n",
       "      <td>...</td>\n",
       "      <td>NaN</td>\n",
       "      <td>None</td>\n",
       "      <td>None</td>\n",
       "      <td>82.0</td>\n",
       "      <td>70.0</td>\n",
       "      <td>79.0</td>\n",
       "      <td>70.0</td>\n",
       "      <td>71.0</td>\n",
       "      <td>46.0</td>\n",
       "      <td>20</td>\n",
       "    </tr>\n",
       "    <tr>\n",
       "      <th>2</th>\n",
       "      <td>Fernando</td>\n",
       "      <td>10.0</td>\n",
       "      <td>Grêmio Foot-Ball Porto Alegrense</td>\n",
       "      <td>Ukrainian Premier League</td>\n",
       "      <td>Midfielder</td>\n",
       "      <td>Brazil</td>\n",
       "      <td>5.0</td>\n",
       "      <td>202642</td>\n",
       "      <td>Fernando</td>\n",
       "      <td>174cm</td>\n",
       "      <td>...</td>\n",
       "      <td>NaN</td>\n",
       "      <td>Free</td>\n",
       "      <td>None</td>\n",
       "      <td>78.0</td>\n",
       "      <td>66.0</td>\n",
       "      <td>69.0</td>\n",
       "      <td>92.0</td>\n",
       "      <td>74.0</td>\n",
       "      <td>78.0</td>\n",
       "      <td>21</td>\n",
       "    </tr>\n",
       "    <tr>\n",
       "      <th>3</th>\n",
       "      <td>W. Nem</td>\n",
       "      <td>8.0</td>\n",
       "      <td>Fluminense Football Club</td>\n",
       "      <td>Ukrainian Premier League</td>\n",
       "      <td>Forward</td>\n",
       "      <td>Brazil</td>\n",
       "      <td>4.0</td>\n",
       "      <td>203279</td>\n",
       "      <td>Wellington Nem</td>\n",
       "      <td>165cm</td>\n",
       "      <td>...</td>\n",
       "      <td>NaN</td>\n",
       "      <td>None</td>\n",
       "      <td>None</td>\n",
       "      <td>86.0</td>\n",
       "      <td>66.0</td>\n",
       "      <td>81.0</td>\n",
       "      <td>42.0</td>\n",
       "      <td>76.0</td>\n",
       "      <td>58.0</td>\n",
       "      <td>21</td>\n",
       "    </tr>\n",
       "    <tr>\n",
       "      <th>4</th>\n",
       "      <td>F. Ferreyra</td>\n",
       "      <td>6.0</td>\n",
       "      <td>Club Atlético Vélez Sarsfield</td>\n",
       "      <td>Ukrainian Premier League</td>\n",
       "      <td>Forward</td>\n",
       "      <td>Argentina</td>\n",
       "      <td>3.0</td>\n",
       "      <td>213432</td>\n",
       "      <td>F. Ferreyra</td>\n",
       "      <td>187cm</td>\n",
       "      <td>...</td>\n",
       "      <td>NaN</td>\n",
       "      <td>None</td>\n",
       "      <td>None</td>\n",
       "      <td>64.0</td>\n",
       "      <td>74.0</td>\n",
       "      <td>68.0</td>\n",
       "      <td>32.0</td>\n",
       "      <td>53.0</td>\n",
       "      <td>58.0</td>\n",
       "      <td>22</td>\n",
       "    </tr>\n",
       "  </tbody>\n",
       "</table>\n",
       "<p>5 rows × 277 columns</p>\n",
       "</div>"
      ],
      "text/plain": [
       "       NewName  MarketValue                      ClubInvolved  \\\n",
       "0      Bernard         10.0            Clube Atlético Mineiro   \n",
       "1         Fred          5.0          Sport Club Internacional   \n",
       "2     Fernando         10.0  Grêmio Foot-Ball Porto Alegrense   \n",
       "3       W. Nem          8.0          Fluminense Football Club   \n",
       "4  F. Ferreyra          6.0     Club Atlético Vélez Sarsfield   \n",
       "\n",
       "                     League MainPosition LeagueInvolved  CorrMarketValue  \\\n",
       "0  Ukrainian Premier League      Forward         Brazil              5.0   \n",
       "1  Ukrainian Premier League   Midfielder         Brazil              2.5   \n",
       "2  Ukrainian Premier League   Midfielder         Brazil              5.0   \n",
       "3  Ukrainian Premier League      Forward         Brazil              4.0   \n",
       "4  Ukrainian Premier League      Forward      Argentina              3.0   \n",
       "\n",
       "       ID            Name Height_cm  ... GKCleanSheetPercent ContractGood  \\\n",
       "0  205525         Bernard     164cm  ...                 NaN         2017   \n",
       "1  209297            Fred     169cm  ...                 NaN         None   \n",
       "2  202642        Fernando     174cm  ...                 NaN         Free   \n",
       "3  203279  Wellington Nem     165cm  ...                 NaN         None   \n",
       "4  213432     F. Ferreyra     187cm  ...                 NaN         None   \n",
       "\n",
       "  ContractLeft Pace_main Shooting_main Dribbling_main  Defending_main  \\\n",
       "0            4      90.0          71.0           85.0            42.0   \n",
       "1         None      82.0          70.0           79.0            70.0   \n",
       "2         None      78.0          66.0           69.0            92.0   \n",
       "3         None      86.0          66.0           81.0            42.0   \n",
       "4         None      64.0          74.0           68.0            32.0   \n",
       "\n",
       "   Passing_main  Physical_main  Age  \n",
       "0          80.0           41.0   20  \n",
       "1          71.0           46.0   20  \n",
       "2          74.0           78.0   21  \n",
       "3          76.0           58.0   21  \n",
       "4          53.0           58.0   22  \n",
       "\n",
       "[5 rows x 277 columns]"
      ]
     },
     "execution_count": 248,
     "metadata": {},
     "output_type": "execute_result"
    }
   ],
   "source": [
    "df.head()"
   ]
  },
  {
   "cell_type": "code",
   "execution_count": 7,
   "metadata": {},
   "outputs": [
    {
     "name": "stdout",
     "output_type": "stream",
     "text": [
      "['NewName', 'MarketValue', 'ClubInvolved', 'League', 'MainPosition', 'LeagueInvolved', 'CorrMarketValue', 'ID', 'Name', 'Height_cm', 'Weight_kg', 'Country', 'Club', 'Joined', 'Position', 'Foot', 'IntReputation', 'Crossing', 'Finishing', 'Heading_accuracy', 'Short_passing', 'Volleys', 'Dribbling', 'Curve', 'FK_accuracy', 'Long_passing', 'Ball_control', 'Acceleration', 'Sprint_speed', 'Agility', 'Reactions', 'Balance', 'Shot_power', 'Jumping', 'Stamina', 'Strength', 'Long_shots', 'Aggression', 'Interceptions', 'Positioning', 'Vision', 'Penalties', 'Composure', 'Marking', 'Standing_tackle', 'Sliding_tackle', 'GK_diving', 'GK_handling', 'GK_kicking', 'GK_positioning', 'GK_reflexes', 'Value', 'Wage', 'Season', 'Years', 'DEGREE', 'Eigv', 'SP_LA_LIGA', 'EN_PL', 'IT_SERIE_A', 'FR_LIGUE_1', 'GE_BUNDESLIGA', 'Fee', 'Contract', 'ClubInvolvedRank', 'ClubInvolvedWin', 'ClubInvolvedDraw', 'ClubInvolvedLoose', 'ClubInvolvedGoalFor', 'ClubInvolvedGoalAgainst', 'ClubInvolvedPoints', 'ClubRank', 'ClubWin', 'ClubDraw', 'ClubLoose', 'ClubGoalFor', 'ClubGoalAgainst', 'ClubPoint', 'ClubInvolvedAge', 'ClubInovlvedPossession', 'ClubInvolvedAssists', 'ClubInvolvedNonPenaltyGoal', 'ClubInvolvedYellowCard', 'ClubInvolvedRedCard', 'ClubAge', 'ClubPossession', 'ClubAssists', 'ClubNonPenaltyGoal', 'ClubYellowCard', 'ClubRedCard', 'ClubInvolvedNumPlayersUsed', 'ClubInvolvedShots', 'ClubInvolvedShotsOnTarget', 'ClubInvolvedShotsOnTargetRate', 'ClubInvolvedShotsPer90', 'ClubInvolvedShotsOnTargetPer90', 'ClubInvolvedGoalPerShot', 'ClubInvolvedGoalPerShotOnTarget', 'ClubNumPlayersUsed', 'ClubShots', 'ClubShotsOnTarget', 'ClubShotsOnTargetRate', 'ClubShotsPer90', 'ClubShotsOnTargetPer90', 'ClubGoalPerShot', 'ClubGoalPerShotOnTarget', 'ClubInvolvedGoalAgainstPer90', 'ClubInvolvedShotOnTargetAgainst', 'ClubInvolvedSaves', 'ClubInvolvedSaveRate', 'ClubInvolvedCleanSheets', 'ClubInvolvedCleanSheetsRate', 'ClubGoalAgainstPer90', 'ClubShotOnTargetAgainst', 'ClubSaves', 'ClubSaveRate', 'ClubCleanSheets', 'ClubCleanSheetsRate', 'Squad', 'Squad.1', 'seasonName', 'tournamentRegionName', 'tournamentName', 'League.1', 'firstName', 'lastName', 'FirstLastName', 'playerId', 'teamId', 'teamName', 'teamRegionName', 'playedPositions', 'positionText', 'apps', 'subOn', 'minsPlayed', 'rating', 'goal_x', 'assistTotal_x', 'yellowCard_x', 'redCard_x', 'shotsPerGame_x', 'aerialWonPerGame', 'manOfTheMatch', 'passSuccess_x', 'tacklePerGame', 'interceptionPerGame', 'foulsPerGame', 'offsideWonPerGame', 'clearancePerGame', 'wasDribbledPerGame', 'outfielderBlockPerGame', 'goalOwn_x', 'keyPassPerGame_x', 'dribbleWonPerGame', 'foulGivenPerGame', 'offsideGivenPerGame', 'dispossessedPerGame', 'turnoverPerGame', 'totalPassesPerGame', 'accurateCrossesPerGame', 'accurateLongPassPerGame', 'accurateThroughBallPerGame', 'tackleTotalAttempted', 'challengeLost', 'interceptionAll', 'foulCommitted', 'passCrossBlockedDefensive', 'outfielderBlockedPass', 'saveSixYardBox', 'savePenaltyArea', 'saveObox', 'saveTotal', 'shotSixYardBox', 'shotPenaltyArea', 'shotOboxTotal', 'shotsTotal_x', 'shotOpenPlay', 'shotCounter', 'shotSetPiece', 'penaltyTaken', 'shotOnTarget', 'shotOffTarget', 'shotOnPost', 'shotBlocked', 'shotRightFoot', 'shotLeftFoot', 'shotHead', 'goalSixYardBox', 'goalPenaltyArea', 'goalObox', 'goalTotal_x', 'goalOwn_y', 'goalOpenPlay', 'goalCounter', 'goalSetPiece', 'penaltyScored', 'goalRightFoot', 'goalLeftFoot', 'goalHead', 'dribbleLost', 'dribbleTotal', 'duelAerialLost', 'duelAerialTotal', 'duelAerialWon', 'passTotal', 'passLongBallAccurate', 'passLongBallInaccurate', 'shortPassAccurate', 'shortPassInaccurate', 'passCornerAccurate', 'passCornerInaccurate', 'passFreekickAccurate', 'passFreekickInaccurate', 'passCrossInaccurate', 'passCrossAccurate', 'keyPassLong', 'keyPassShort', 'keyPassesTotal', 'keyPassCross', 'keyPassCorner', 'keyPassThroughball', 'keyPassFreekick', 'keyPassThrowin', 'keyPassOther', 'assistCross', 'assistCorner', 'assistThroughball', 'assistFreekick', 'assistThrowin', 'assistOther', 'assist', 'MatchesPlayed', 'Starts', 'MinutesPlayed', 'MinutesPlayedPer90', 'Goals', 'Assists', 'NonPenaltyGoals', 'YellowCards', 'RedCards', 'GoalsPer90', 'AssistsPer90', 'GoalsAssistsPer90', 'Player', 'Pos', 'Nation', 'FbrefClub', 'Shots', 'ShotsOnTarget', 'ShotsOnTargetPercent', 'ShotsPer90', 'ShotsOnTargetPer90', 'GoalsPerShot', 'GoalPerShotOnTarget', 'GKMatchPlayed', 'GKStarts', 'GKMin', 'GK90s', 'GKGoalAgainst', 'GKGoalAgainstPer90', 'GKSaves', 'GKSavePercent', 'GKWin', 'GKDraw', 'GKLost', 'GKCleanSheet', 'GKCleanSheetPercent', 'ContractGood', 'ContractLeft', 'Pace_main', 'Shooting_main', 'Dribbling_main', 'Defending_main', 'Passing_main', 'Physical_main', 'Age']\n"
     ]
    }
   ],
   "source": [
    "print(list(df.columns))"
   ]
  },
  {
   "cell_type": "code",
   "execution_count": 59,
   "metadata": {},
   "outputs": [],
   "source": [
    "train_df = df.copy()"
   ]
  },
  {
   "cell_type": "code",
   "execution_count": 60,
   "metadata": {},
   "outputs": [],
   "source": [
    "train_df = train_df.drop(['ID', 'Name', 'Height_cm', 'Weight_kg', 'Joined', 'Value', 'Wage',\\\n",
    "    'Contract', 'Squad', 'Squad.1', 'seasonName', 'tournamentRegionName', 'tournamentName', 'League.1',\\\n",
    "        'firstName', 'lastName', 'FirstLastName', 'playerId', 'teamId', 'teamName', 'teamRegionName',\\\n",
    "            'playedPositions', 'positionText', 'Player', 'Pos', 'Nation',\\\n",
    "                'FbrefClub', 'ContractGood'], axis =1)"
   ]
  },
  {
   "cell_type": "code",
   "execution_count": 61,
   "metadata": {},
   "outputs": [
    {
     "name": "stdout",
     "output_type": "stream",
     "text": [
      "<class 'pandas.core.frame.DataFrame'>\n",
      "Int64Index: 16311 entries, 0 to 16640\n",
      "Columns: 249 entries, NewName to Age\n",
      "dtypes: float64(205), int64(34), object(10)\n",
      "memory usage: 31.1+ MB\n"
     ]
    }
   ],
   "source": [
    "train_df.info()"
   ]
  },
  {
   "cell_type": "code",
   "execution_count": 11,
   "metadata": {},
   "outputs": [
    {
     "name": "stdout",
     "output_type": "stream",
     "text": [
      "['NewName', 'MarketValue', 'ClubInvolved', 'League', 'MainPosition', 'LeagueInvolved', 'CorrMarketValue', 'Country', 'Club', 'Position', 'Foot', 'IntReputation', 'Crossing', 'Finishing', 'Heading_accuracy', 'Short_passing', 'Volleys', 'Dribbling', 'Curve', 'FK_accuracy', 'Long_passing', 'Ball_control', 'Acceleration', 'Sprint_speed', 'Agility', 'Reactions', 'Balance', 'Shot_power', 'Jumping', 'Stamina', 'Strength', 'Long_shots', 'Aggression', 'Interceptions', 'Positioning', 'Vision', 'Penalties', 'Composure', 'Marking', 'Standing_tackle', 'Sliding_tackle', 'GK_diving', 'GK_handling', 'GK_kicking', 'GK_positioning', 'GK_reflexes', 'Season', 'Years', 'DEGREE', 'Eigv', 'SP_LA_LIGA', 'EN_PL', 'IT_SERIE_A', 'FR_LIGUE_1', 'GE_BUNDESLIGA', 'Fee', 'ClubInvolvedRank', 'ClubInvolvedWin', 'ClubInvolvedDraw', 'ClubInvolvedLoose', 'ClubInvolvedGoalFor', 'ClubInvolvedGoalAgainst', 'ClubInvolvedPoints', 'ClubRank', 'ClubWin', 'ClubDraw', 'ClubLoose', 'ClubGoalFor', 'ClubGoalAgainst', 'ClubPoint', 'ClubInvolvedAge', 'ClubInovlvedPossession', 'ClubInvolvedAssists', 'ClubInvolvedNonPenaltyGoal', 'ClubInvolvedYellowCard', 'ClubInvolvedRedCard', 'ClubAge', 'ClubPossession', 'ClubAssists', 'ClubNonPenaltyGoal', 'ClubYellowCard', 'ClubRedCard', 'ClubInvolvedNumPlayersUsed', 'ClubInvolvedShots', 'ClubInvolvedShotsOnTarget', 'ClubInvolvedShotsOnTargetRate', 'ClubInvolvedShotsPer90', 'ClubInvolvedShotsOnTargetPer90', 'ClubInvolvedGoalPerShot', 'ClubInvolvedGoalPerShotOnTarget', 'ClubNumPlayersUsed', 'ClubShots', 'ClubShotsOnTarget', 'ClubShotsOnTargetRate', 'ClubShotsPer90', 'ClubShotsOnTargetPer90', 'ClubGoalPerShot', 'ClubGoalPerShotOnTarget', 'ClubInvolvedGoalAgainstPer90', 'ClubInvolvedShotOnTargetAgainst', 'ClubInvolvedSaves', 'ClubInvolvedSaveRate', 'ClubInvolvedCleanSheets', 'ClubInvolvedCleanSheetsRate', 'ClubGoalAgainstPer90', 'ClubShotOnTargetAgainst', 'ClubSaves', 'ClubSaveRate', 'ClubCleanSheets', 'ClubCleanSheetsRate', 'apps', 'subOn', 'minsPlayed', 'rating', 'goal_x', 'assistTotal_x', 'yellowCard_x', 'redCard_x', 'shotsPerGame_x', 'aerialWonPerGame', 'manOfTheMatch', 'passSuccess_x', 'tacklePerGame', 'interceptionPerGame', 'foulsPerGame', 'offsideWonPerGame', 'clearancePerGame', 'wasDribbledPerGame', 'outfielderBlockPerGame', 'goalOwn_x', 'keyPassPerGame_x', 'dribbleWonPerGame', 'foulGivenPerGame', 'offsideGivenPerGame', 'dispossessedPerGame', 'turnoverPerGame', 'totalPassesPerGame', 'accurateCrossesPerGame', 'accurateLongPassPerGame', 'accurateThroughBallPerGame', 'tackleTotalAttempted', 'challengeLost', 'interceptionAll', 'foulCommitted', 'passCrossBlockedDefensive', 'outfielderBlockedPass', 'saveSixYardBox', 'savePenaltyArea', 'saveObox', 'saveTotal', 'shotSixYardBox', 'shotPenaltyArea', 'shotOboxTotal', 'shotsTotal_x', 'shotOpenPlay', 'shotCounter', 'shotSetPiece', 'penaltyTaken', 'shotOnTarget', 'shotOffTarget', 'shotOnPost', 'shotBlocked', 'shotRightFoot', 'shotLeftFoot', 'shotHead', 'goalSixYardBox', 'goalPenaltyArea', 'goalObox', 'goalTotal_x', 'goalOwn_y', 'goalOpenPlay', 'goalCounter', 'goalSetPiece', 'penaltyScored', 'goalRightFoot', 'goalLeftFoot', 'goalHead', 'dribbleLost', 'dribbleTotal', 'duelAerialLost', 'duelAerialTotal', 'duelAerialWon', 'passTotal', 'passLongBallAccurate', 'passLongBallInaccurate', 'shortPassAccurate', 'shortPassInaccurate', 'passCornerAccurate', 'passCornerInaccurate', 'passFreekickAccurate', 'passFreekickInaccurate', 'passCrossInaccurate', 'passCrossAccurate', 'keyPassLong', 'keyPassShort', 'keyPassesTotal', 'keyPassCross', 'keyPassCorner', 'keyPassThroughball', 'keyPassFreekick', 'keyPassThrowin', 'keyPassOther', 'assistCross', 'assistCorner', 'assistThroughball', 'assistFreekick', 'assistThrowin', 'assistOther', 'assist', 'MatchesPlayed', 'Starts', 'MinutesPlayed', 'MinutesPlayedPer90', 'Goals', 'Assists', 'NonPenaltyGoals', 'YellowCards', 'RedCards', 'GoalsPer90', 'AssistsPer90', 'GoalsAssistsPer90', 'Shots', 'ShotsOnTarget', 'ShotsOnTargetPercent', 'ShotsPer90', 'ShotsOnTargetPer90', 'GoalsPerShot', 'GoalPerShotOnTarget', 'GKMatchPlayed', 'GKStarts', 'GKMin', 'GK90s', 'GKGoalAgainst', 'GKGoalAgainstPer90', 'GKSaves', 'GKSavePercent', 'GKWin', 'GKDraw', 'GKLost', 'GKCleanSheet', 'GKCleanSheetPercent', 'ContractLeft', 'Pace_main', 'Shooting_main', 'Dribbling_main', 'Defending_main', 'Passing_main', 'Physical_main', 'Age']\n"
     ]
    }
   ],
   "source": [
    "print(list(train_df.columns))"
   ]
  },
  {
   "cell_type": "code",
   "execution_count": 12,
   "metadata": {},
   "outputs": [
    {
     "data": {
      "text/html": [
       "<div>\n",
       "<style scoped>\n",
       "    .dataframe tbody tr th:only-of-type {\n",
       "        vertical-align: middle;\n",
       "    }\n",
       "\n",
       "    .dataframe tbody tr th {\n",
       "        vertical-align: top;\n",
       "    }\n",
       "\n",
       "    .dataframe thead th {\n",
       "        text-align: right;\n",
       "    }\n",
       "</style>\n",
       "<table border=\"1\" class=\"dataframe\">\n",
       "  <thead>\n",
       "    <tr style=\"text-align: right;\">\n",
       "      <th></th>\n",
       "      <th>column_name</th>\n",
       "      <th>percent_missing</th>\n",
       "    </tr>\n",
       "  </thead>\n",
       "  <tbody>\n",
       "    <tr>\n",
       "      <th>GKSavePercent</th>\n",
       "      <td>GKSavePercent</td>\n",
       "      <td>97.075593</td>\n",
       "    </tr>\n",
       "    <tr>\n",
       "      <th>GKSaves</th>\n",
       "      <td>GKSaves</td>\n",
       "      <td>97.057201</td>\n",
       "    </tr>\n",
       "    <tr>\n",
       "      <th>GKCleanSheetPercent</th>\n",
       "      <td>GKCleanSheetPercent</td>\n",
       "      <td>96.952977</td>\n",
       "    </tr>\n",
       "    <tr>\n",
       "      <th>GKGoalAgainst</th>\n",
       "      <td>GKGoalAgainst</td>\n",
       "      <td>96.952977</td>\n",
       "    </tr>\n",
       "    <tr>\n",
       "      <th>GKGoalAgainstPer90</th>\n",
       "      <td>GKGoalAgainstPer90</td>\n",
       "      <td>96.952977</td>\n",
       "    </tr>\n",
       "    <tr>\n",
       "      <th>GKMatchPlayed</th>\n",
       "      <td>GKMatchPlayed</td>\n",
       "      <td>96.922322</td>\n",
       "    </tr>\n",
       "    <tr>\n",
       "      <th>GKStarts</th>\n",
       "      <td>GKStarts</td>\n",
       "      <td>96.922322</td>\n",
       "    </tr>\n",
       "    <tr>\n",
       "      <th>GKCleanSheet</th>\n",
       "      <td>GKCleanSheet</td>\n",
       "      <td>96.922322</td>\n",
       "    </tr>\n",
       "    <tr>\n",
       "      <th>GKLost</th>\n",
       "      <td>GKLost</td>\n",
       "      <td>96.922322</td>\n",
       "    </tr>\n",
       "    <tr>\n",
       "      <th>GKDraw</th>\n",
       "      <td>GKDraw</td>\n",
       "      <td>96.922322</td>\n",
       "    </tr>\n",
       "    <tr>\n",
       "      <th>GKWin</th>\n",
       "      <td>GKWin</td>\n",
       "      <td>96.922322</td>\n",
       "    </tr>\n",
       "    <tr>\n",
       "      <th>GK90s</th>\n",
       "      <td>GK90s</td>\n",
       "      <td>96.922322</td>\n",
       "    </tr>\n",
       "    <tr>\n",
       "      <th>GKMin</th>\n",
       "      <td>GKMin</td>\n",
       "      <td>96.922322</td>\n",
       "    </tr>\n",
       "    <tr>\n",
       "      <th>GoalsPerShot</th>\n",
       "      <td>GoalsPerShot</td>\n",
       "      <td>91.416835</td>\n",
       "    </tr>\n",
       "    <tr>\n",
       "      <th>ShotsOnTargetPercent</th>\n",
       "      <td>ShotsOnTargetPercent</td>\n",
       "      <td>91.416835</td>\n",
       "    </tr>\n",
       "    <tr>\n",
       "      <th>ShotsPer90</th>\n",
       "      <td>ShotsPer90</td>\n",
       "      <td>87.315309</td>\n",
       "    </tr>\n",
       "    <tr>\n",
       "      <th>Shots</th>\n",
       "      <td>Shots</td>\n",
       "      <td>87.315309</td>\n",
       "    </tr>\n",
       "    <tr>\n",
       "      <th>ClubInvolvedGoalPerShot</th>\n",
       "      <td>ClubInvolvedGoalPerShot</td>\n",
       "      <td>86.591871</td>\n",
       "    </tr>\n",
       "    <tr>\n",
       "      <th>ClubInvolvedShotsOnTargetRate</th>\n",
       "      <td>ClubInvolvedShotsOnTargetRate</td>\n",
       "      <td>86.591871</td>\n",
       "    </tr>\n",
       "    <tr>\n",
       "      <th>ClubShotsOnTargetRate</th>\n",
       "      <td>ClubShotsOnTargetRate</td>\n",
       "      <td>85.531237</td>\n",
       "    </tr>\n",
       "  </tbody>\n",
       "</table>\n",
       "</div>"
      ],
      "text/plain": [
       "                                                 column_name  percent_missing\n",
       "GKSavePercent                                  GKSavePercent        97.075593\n",
       "GKSaves                                              GKSaves        97.057201\n",
       "GKCleanSheetPercent                      GKCleanSheetPercent        96.952977\n",
       "GKGoalAgainst                                  GKGoalAgainst        96.952977\n",
       "GKGoalAgainstPer90                        GKGoalAgainstPer90        96.952977\n",
       "GKMatchPlayed                                  GKMatchPlayed        96.922322\n",
       "GKStarts                                            GKStarts        96.922322\n",
       "GKCleanSheet                                    GKCleanSheet        96.922322\n",
       "GKLost                                                GKLost        96.922322\n",
       "GKDraw                                                GKDraw        96.922322\n",
       "GKWin                                                  GKWin        96.922322\n",
       "GK90s                                                  GK90s        96.922322\n",
       "GKMin                                                  GKMin        96.922322\n",
       "GoalsPerShot                                    GoalsPerShot        91.416835\n",
       "ShotsOnTargetPercent                    ShotsOnTargetPercent        91.416835\n",
       "ShotsPer90                                        ShotsPer90        87.315309\n",
       "Shots                                                  Shots        87.315309\n",
       "ClubInvolvedGoalPerShot              ClubInvolvedGoalPerShot        86.591871\n",
       "ClubInvolvedShotsOnTargetRate  ClubInvolvedShotsOnTargetRate        86.591871\n",
       "ClubShotsOnTargetRate                  ClubShotsOnTargetRate        85.531237"
      ]
     },
     "execution_count": 12,
     "metadata": {},
     "output_type": "execute_result"
    }
   ],
   "source": [
    "percent_missing = train_df.isnull().sum() * 100 / len(train_df)\n",
    "missing_value_df = pd.DataFrame({'column_name': train_df.columns,\n",
    "                                 'percent_missing': percent_missing})\n",
    "missing_value_df.sort_values('percent_missing', ascending=False, inplace=True)\n",
    "missing_value_df.head(20)"
   ]
  },
  {
   "cell_type": "code",
   "execution_count": 62,
   "metadata": {},
   "outputs": [],
   "source": [
    "gk_train = train_df[train_df.Position == 'GK']\n",
    "outfielder_train = train_df[train_df.Position != 'GK']"
   ]
  },
  {
   "cell_type": "markdown",
   "metadata": {},
   "source": [
    "Outfileders"
   ]
  },
  {
   "cell_type": "code",
   "execution_count": 14,
   "metadata": {},
   "outputs": [
    {
     "name": "stdout",
     "output_type": "stream",
     "text": [
      "['RW', 'ST', 'CDM', 'RM', 'LW', 'SW', 'CAM', 'RF', 'CF', 'RWB', 'CM', 'RB', 'LM', 'LWB', 'LF', 'LB', 'CB']\n"
     ]
    }
   ],
   "source": [
    "print(list(set(outfielder_train.Position.values)))"
   ]
  },
  {
   "cell_type": "code",
   "execution_count": 63,
   "metadata": {},
   "outputs": [
    {
     "name": "stdout",
     "output_type": "stream",
     "text": [
      "<class 'pandas.core.frame.DataFrame'>\n",
      "Int64Index: 15170 entries, 0 to 16640\n",
      "Columns: 249 entries, NewName to Age\n",
      "dtypes: float64(205), int64(34), object(10)\n",
      "memory usage: 28.9+ MB\n"
     ]
    }
   ],
   "source": [
    "outfielder_train.info()"
   ]
  },
  {
   "cell_type": "code",
   "execution_count": 44,
   "metadata": {},
   "outputs": [
    {
     "name": "stdout",
     "output_type": "stream",
     "text": [
      "<class 'pandas.core.frame.DataFrame'>\n",
      "Int64Index: 1141 entries, 9 to 16600\n",
      "Columns: 249 entries, NewName to Age\n",
      "dtypes: float64(205), int64(34), object(10)\n",
      "memory usage: 2.2+ MB\n"
     ]
    }
   ],
   "source": [
    "gk_train.info()"
   ]
  },
  {
   "cell_type": "code",
   "execution_count": 64,
   "metadata": {},
   "outputs": [],
   "source": [
    "outfielder_train = outfielder_train.drop(['GK_diving', 'GK_handling', 'GK_kicking', 'GK_positioning', 'GK_reflexes',\\\n",
    "    'ClubInvolvedSaves', 'ClubInvolvedSaveRate', 'ClubSaves', 'ClubSaveRate', 'saveSixYardBox', 'savePenaltyArea',\\\n",
    "        'saveObox', 'saveTotal', 'GKMatchPlayed', 'GKStarts', 'GKMin', 'GK90s', 'GKGoalAgainst', 'GKGoalAgainstPer90',\\\n",
    "            'GKSaves', 'GKSavePercent', 'GKWin', 'GKDraw', 'GKLost', 'GKCleanSheet', 'GKCleanSheetPercent'], axis = 1)"
   ]
  },
  {
   "cell_type": "code",
   "execution_count": 16,
   "metadata": {},
   "outputs": [
    {
     "data": {
      "text/html": [
       "<div>\n",
       "<style scoped>\n",
       "    .dataframe tbody tr th:only-of-type {\n",
       "        vertical-align: middle;\n",
       "    }\n",
       "\n",
       "    .dataframe tbody tr th {\n",
       "        vertical-align: top;\n",
       "    }\n",
       "\n",
       "    .dataframe thead th {\n",
       "        text-align: right;\n",
       "    }\n",
       "</style>\n",
       "<table border=\"1\" class=\"dataframe\">\n",
       "  <thead>\n",
       "    <tr style=\"text-align: right;\">\n",
       "      <th></th>\n",
       "      <th>column_name</th>\n",
       "      <th>percent_missing</th>\n",
       "    </tr>\n",
       "  </thead>\n",
       "  <tbody>\n",
       "    <tr>\n",
       "      <th>ShotsOnTargetPercent</th>\n",
       "      <td>ShotsOnTargetPercent</td>\n",
       "      <td>90.771259</td>\n",
       "    </tr>\n",
       "    <tr>\n",
       "      <th>GoalsPerShot</th>\n",
       "      <td>GoalsPerShot</td>\n",
       "      <td>90.771259</td>\n",
       "    </tr>\n",
       "    <tr>\n",
       "      <th>ClubInvolvedGoalPerShot</th>\n",
       "      <td>ClubInvolvedGoalPerShot</td>\n",
       "      <td>86.493078</td>\n",
       "    </tr>\n",
       "    <tr>\n",
       "      <th>ClubInvolvedShotsOnTargetRate</th>\n",
       "      <td>ClubInvolvedShotsOnTargetRate</td>\n",
       "      <td>86.493078</td>\n",
       "    </tr>\n",
       "    <tr>\n",
       "      <th>ShotsPer90</th>\n",
       "      <td>ShotsPer90</td>\n",
       "      <td>86.361239</td>\n",
       "    </tr>\n",
       "    <tr>\n",
       "      <th>Shots</th>\n",
       "      <td>Shots</td>\n",
       "      <td>86.361239</td>\n",
       "    </tr>\n",
       "    <tr>\n",
       "      <th>ClubGoalPerShot</th>\n",
       "      <td>ClubGoalPerShot</td>\n",
       "      <td>85.543837</td>\n",
       "    </tr>\n",
       "    <tr>\n",
       "      <th>ClubShotsOnTargetRate</th>\n",
       "      <td>ClubShotsOnTargetRate</td>\n",
       "      <td>85.543837</td>\n",
       "    </tr>\n",
       "    <tr>\n",
       "      <th>accurateCrossesPerGame</th>\n",
       "      <td>accurateCrossesPerGame</td>\n",
       "      <td>82.379697</td>\n",
       "    </tr>\n",
       "    <tr>\n",
       "      <th>keyPassPerGame_x</th>\n",
       "      <td>keyPassPerGame_x</td>\n",
       "      <td>82.379697</td>\n",
       "    </tr>\n",
       "    <tr>\n",
       "      <th>dribbleWonPerGame</th>\n",
       "      <td>dribbleWonPerGame</td>\n",
       "      <td>82.379697</td>\n",
       "    </tr>\n",
       "    <tr>\n",
       "      <th>foulGivenPerGame</th>\n",
       "      <td>foulGivenPerGame</td>\n",
       "      <td>82.379697</td>\n",
       "    </tr>\n",
       "    <tr>\n",
       "      <th>offsideGivenPerGame</th>\n",
       "      <td>offsideGivenPerGame</td>\n",
       "      <td>82.379697</td>\n",
       "    </tr>\n",
       "    <tr>\n",
       "      <th>dispossessedPerGame</th>\n",
       "      <td>dispossessedPerGame</td>\n",
       "      <td>82.379697</td>\n",
       "    </tr>\n",
       "    <tr>\n",
       "      <th>turnoverPerGame</th>\n",
       "      <td>turnoverPerGame</td>\n",
       "      <td>82.379697</td>\n",
       "    </tr>\n",
       "    <tr>\n",
       "      <th>totalPassesPerGame</th>\n",
       "      <td>totalPassesPerGame</td>\n",
       "      <td>82.379697</td>\n",
       "    </tr>\n",
       "    <tr>\n",
       "      <th>manOfTheMatch</th>\n",
       "      <td>manOfTheMatch</td>\n",
       "      <td>82.379697</td>\n",
       "    </tr>\n",
       "    <tr>\n",
       "      <th>accurateLongPassPerGame</th>\n",
       "      <td>accurateLongPassPerGame</td>\n",
       "      <td>82.379697</td>\n",
       "    </tr>\n",
       "    <tr>\n",
       "      <th>accurateThroughBallPerGame</th>\n",
       "      <td>accurateThroughBallPerGame</td>\n",
       "      <td>82.379697</td>\n",
       "    </tr>\n",
       "    <tr>\n",
       "      <th>outfielderBlockPerGame</th>\n",
       "      <td>outfielderBlockPerGame</td>\n",
       "      <td>82.379697</td>\n",
       "    </tr>\n",
       "  </tbody>\n",
       "</table>\n",
       "</div>"
      ],
      "text/plain": [
       "                                                 column_name  percent_missing\n",
       "ShotsOnTargetPercent                    ShotsOnTargetPercent        90.771259\n",
       "GoalsPerShot                                    GoalsPerShot        90.771259\n",
       "ClubInvolvedGoalPerShot              ClubInvolvedGoalPerShot        86.493078\n",
       "ClubInvolvedShotsOnTargetRate  ClubInvolvedShotsOnTargetRate        86.493078\n",
       "ShotsPer90                                        ShotsPer90        86.361239\n",
       "Shots                                                  Shots        86.361239\n",
       "ClubGoalPerShot                              ClubGoalPerShot        85.543837\n",
       "ClubShotsOnTargetRate                  ClubShotsOnTargetRate        85.543837\n",
       "accurateCrossesPerGame                accurateCrossesPerGame        82.379697\n",
       "keyPassPerGame_x                            keyPassPerGame_x        82.379697\n",
       "dribbleWonPerGame                          dribbleWonPerGame        82.379697\n",
       "foulGivenPerGame                            foulGivenPerGame        82.379697\n",
       "offsideGivenPerGame                      offsideGivenPerGame        82.379697\n",
       "dispossessedPerGame                      dispossessedPerGame        82.379697\n",
       "turnoverPerGame                              turnoverPerGame        82.379697\n",
       "totalPassesPerGame                        totalPassesPerGame        82.379697\n",
       "manOfTheMatch                                  manOfTheMatch        82.379697\n",
       "accurateLongPassPerGame              accurateLongPassPerGame        82.379697\n",
       "accurateThroughBallPerGame        accurateThroughBallPerGame        82.379697\n",
       "outfielderBlockPerGame                outfielderBlockPerGame        82.379697"
      ]
     },
     "execution_count": 16,
     "metadata": {},
     "output_type": "execute_result"
    }
   ],
   "source": [
    "percent_missing = outfielder_train.isnull().sum() * 100 / len(outfielder_train)\n",
    "missing_value_df = pd.DataFrame({'column_name': outfielder_train.columns,\n",
    "                                 'percent_missing': percent_missing})\n",
    "missing_value_df.sort_values('percent_missing', ascending=False, inplace=True)\n",
    "missing_value_df.head(20)"
   ]
  },
  {
   "cell_type": "code",
   "execution_count": 65,
   "metadata": {},
   "outputs": [],
   "source": [
    "outfielder_train = outfielder_train.drop(['ShotsOnTargetPercent', 'ClubInvolvedShotsOnTargetRate', 'ClubInvolvedGoalPerShot',\\\n",
    "    'ShotsPer90', 'Shots', 'ClubShotsOnTargetRate', 'ClubGoalPerShot', 'ClubInvolvedShotsPer90', 'ClubInvolvedShots'], axis = 1)"
   ]
  },
  {
   "cell_type": "code",
   "execution_count": 45,
   "metadata": {},
   "outputs": [
    {
     "name": "stdout",
     "output_type": "stream",
     "text": [
      "<class 'pandas.core.frame.DataFrame'>\n",
      "Int64Index: 1141 entries, 9 to 16600\n",
      "Columns: 249 entries, NewName to Age\n",
      "dtypes: float64(205), int64(34), object(10)\n",
      "memory usage: 2.2+ MB\n"
     ]
    }
   ],
   "source": [
    "gk_train = gk_train.drop(['ShotsOnTargetPercent', 'ClubInvolvedShotsOnTargetRate', 'ClubInvolvedGoalPerShot',\\\n",
    "    'ShotsPer90', 'Shots', 'ClubShotsOnTargetRate', 'ClubGoalPerShot', 'ClubInvolvedShotsPer90', 'ClubInvolvedShots'], axis = 1)"
   ]
  },
  {
   "cell_type": "code",
   "execution_count": 66,
   "metadata": {},
   "outputs": [],
   "source": [
    "outf_train = outfielder_train.copy()"
   ]
  },
  {
   "cell_type": "code",
   "execution_count": 20,
   "metadata": {},
   "outputs": [
    {
     "name": "stdout",
     "output_type": "stream",
     "text": [
      "['NewName', 'MarketValue', 'ClubInvolved', 'League', 'MainPosition', 'LeagueInvolved', 'CorrMarketValue', 'Country', 'Club', 'Position', 'Foot', 'IntReputation', 'Crossing', 'Finishing', 'Heading_accuracy', 'Short_passing', 'Volleys', 'Dribbling', 'Curve', 'FK_accuracy', 'Long_passing', 'Ball_control', 'Acceleration', 'Sprint_speed', 'Agility', 'Reactions', 'Balance', 'Shot_power', 'Jumping', 'Stamina', 'Strength', 'Long_shots', 'Aggression', 'Interceptions', 'Positioning', 'Vision', 'Penalties', 'Composure', 'Marking', 'Standing_tackle', 'Sliding_tackle', 'Season', 'Years', 'DEGREE', 'Eigv', 'SP_LA_LIGA', 'EN_PL', 'IT_SERIE_A', 'FR_LIGUE_1', 'GE_BUNDESLIGA', 'Fee', 'ClubInvolvedRank', 'ClubInvolvedWin', 'ClubInvolvedDraw', 'ClubInvolvedLoose', 'ClubInvolvedGoalFor', 'ClubInvolvedGoalAgainst', 'ClubInvolvedPoints', 'ClubRank', 'ClubWin', 'ClubDraw', 'ClubLoose', 'ClubGoalFor', 'ClubGoalAgainst', 'ClubPoint', 'ClubInvolvedAge', 'ClubInovlvedPossession', 'ClubInvolvedAssists', 'ClubInvolvedNonPenaltyGoal', 'ClubInvolvedYellowCard', 'ClubInvolvedRedCard', 'ClubAge', 'ClubPossession', 'ClubAssists', 'ClubNonPenaltyGoal', 'ClubYellowCard', 'ClubRedCard', 'ClubInvolvedNumPlayersUsed', 'ClubInvolvedShotsOnTarget', 'ClubInvolvedShotsOnTargetPer90', 'ClubInvolvedGoalPerShotOnTarget', 'ClubNumPlayersUsed', 'ClubShots', 'ClubShotsOnTarget', 'ClubShotsPer90', 'ClubShotsOnTargetPer90', 'ClubGoalPerShotOnTarget', 'ClubInvolvedGoalAgainstPer90', 'ClubInvolvedShotOnTargetAgainst', 'ClubInvolvedCleanSheets', 'ClubInvolvedCleanSheetsRate', 'ClubGoalAgainstPer90', 'ClubShotOnTargetAgainst', 'ClubCleanSheets', 'ClubCleanSheetsRate', 'apps', 'subOn', 'minsPlayed', 'rating', 'goal_x', 'assistTotal_x', 'yellowCard_x', 'redCard_x', 'shotsPerGame_x', 'aerialWonPerGame', 'manOfTheMatch', 'passSuccess_x', 'tacklePerGame', 'interceptionPerGame', 'foulsPerGame', 'offsideWonPerGame', 'clearancePerGame', 'wasDribbledPerGame', 'outfielderBlockPerGame', 'goalOwn_x', 'keyPassPerGame_x', 'dribbleWonPerGame', 'foulGivenPerGame', 'offsideGivenPerGame', 'dispossessedPerGame', 'turnoverPerGame', 'totalPassesPerGame', 'accurateCrossesPerGame', 'accurateLongPassPerGame', 'accurateThroughBallPerGame', 'tackleTotalAttempted', 'challengeLost', 'interceptionAll', 'foulCommitted', 'passCrossBlockedDefensive', 'outfielderBlockedPass', 'shotSixYardBox', 'shotPenaltyArea', 'shotOboxTotal', 'shotsTotal_x', 'shotOpenPlay', 'shotCounter', 'shotSetPiece', 'penaltyTaken', 'shotOnTarget', 'shotOffTarget', 'shotOnPost', 'shotBlocked', 'shotRightFoot', 'shotLeftFoot', 'shotHead', 'goalSixYardBox', 'goalPenaltyArea', 'goalObox', 'goalTotal_x', 'goalOwn_y', 'goalOpenPlay', 'goalCounter', 'goalSetPiece', 'penaltyScored', 'goalRightFoot', 'goalLeftFoot', 'goalHead', 'dribbleLost', 'dribbleTotal', 'duelAerialLost', 'duelAerialTotal', 'duelAerialWon', 'passTotal', 'passLongBallAccurate', 'passLongBallInaccurate', 'shortPassAccurate', 'shortPassInaccurate', 'passCornerAccurate', 'passCornerInaccurate', 'passFreekickAccurate', 'passFreekickInaccurate', 'passCrossInaccurate', 'passCrossAccurate', 'keyPassLong', 'keyPassShort', 'keyPassesTotal', 'keyPassCross', 'keyPassCorner', 'keyPassThroughball', 'keyPassFreekick', 'keyPassThrowin', 'keyPassOther', 'assistCross', 'assistCorner', 'assistThroughball', 'assistFreekick', 'assistThrowin', 'assistOther', 'assist', 'MatchesPlayed', 'Starts', 'MinutesPlayed', 'MinutesPlayedPer90', 'Goals', 'Assists', 'NonPenaltyGoals', 'YellowCards', 'RedCards', 'GoalsPer90', 'AssistsPer90', 'GoalsAssistsPer90', 'ShotsOnTarget', 'ShotsOnTargetPer90', 'GoalsPerShot', 'GoalPerShotOnTarget', 'ContractLeft', 'Pace_main', 'Shooting_main', 'Dribbling_main', 'Defending_main', 'Passing_main', 'Physical_main', 'Age']\n"
     ]
    }
   ],
   "source": [
    "print(list(outf_train.columns))"
   ]
  },
  {
   "cell_type": "code",
   "execution_count": 67,
   "metadata": {},
   "outputs": [],
   "source": [
    "outf_train = outf_train.drop(['apps', 'subOn', 'minsPlayed', 'rating', 'goal_x', 'assistTotal_x', 'yellowCard_x', 'redCard_x',\\\n",
    "    'shotsPerGame_x', 'aerialWonPerGame', 'manOfTheMatch', 'passSuccess_x', 'tacklePerGame', 'interceptionPerGame', 'foulsPerGame',\\\n",
    "        'offsideWonPerGame', 'clearancePerGame', 'wasDribbledPerGame', 'outfielderBlockPerGame', 'goalOwn_x', 'keyPassPerGame_x',\\\n",
    "            'dribbleWonPerGame', 'foulGivenPerGame', 'offsideGivenPerGame', 'dispossessedPerGame', 'turnoverPerGame', 'totalPassesPerGame',\\\n",
    "                'accurateCrossesPerGame', 'accurateLongPassPerGame', 'accurateThroughBallPerGame', 'tackleTotalAttempted', 'challengeLost',\\\n",
    "                    'interceptionAll', 'foulCommitted', 'passCrossBlockedDefensive', 'outfielderBlockedPass',\n",
    "                        'shotSixYardBox', 'shotPenaltyArea', 'shotOboxTotal', 'shotsTotal_x', 'shotOpenPlay', 'shotCounter',\\\n",
    "                            'shotSetPiece', 'penaltyTaken', 'shotOnTarget', 'shotOffTarget', 'shotOnPost', 'shotBlocked', 'shotRightFoot', 'shotLeftFoot',\\\n",
    "                                'shotHead', 'goalSixYardBox', 'goalPenaltyArea', 'goalObox', 'goalTotal_x', 'goalOwn_y', 'goalOpenPlay', 'goalCounter',\\\n",
    "                                    'goalSetPiece', 'penaltyScored', 'goalRightFoot', 'goalLeftFoot', 'goalHead', 'dribbleLost', 'dribbleTotal', 'duelAerialLost',\\\n",
    "                                        'duelAerialTotal', 'duelAerialWon', 'passTotal', 'passLongBallAccurate', 'passLongBallInaccurate', 'shortPassAccurate',\\\n",
    "                                            'shortPassInaccurate', 'passCornerAccurate', 'passCornerInaccurate', 'passFreekickAccurate', 'passFreekickInaccurate',\\\n",
    "                                                'passCrossInaccurate', 'passCrossAccurate', 'keyPassLong', 'keyPassShort', 'keyPassesTotal', 'keyPassCross', 'keyPassCorner',\\\n",
    "                                                    'keyPassThroughball', 'keyPassFreekick', 'keyPassThrowin', 'keyPassOther', 'assistCross', 'assistCorner', 'assistThroughball',\\\n",
    "                                                        'assistFreekick', 'assistThrowin', 'assistOther', 'assist',], axis=1)"
   ]
  },
  {
   "cell_type": "code",
   "execution_count": 46,
   "metadata": {},
   "outputs": [],
   "source": [
    "gk_train = gk_train.drop(['apps', 'subOn', 'minsPlayed', 'rating', 'goal_x', 'assistTotal_x', 'yellowCard_x', 'redCard_x',\\\n",
    "    'shotsPerGame_x', 'aerialWonPerGame', 'manOfTheMatch', 'passSuccess_x', 'tacklePerGame', 'interceptionPerGame', 'foulsPerGame',\\\n",
    "        'offsideWonPerGame', 'clearancePerGame', 'wasDribbledPerGame', 'outfielderBlockPerGame', 'goalOwn_x', 'keyPassPerGame_x',\\\n",
    "            'dribbleWonPerGame', 'foulGivenPerGame', 'offsideGivenPerGame', 'dispossessedPerGame', 'turnoverPerGame', 'totalPassesPerGame',\\\n",
    "                'accurateCrossesPerGame', 'accurateLongPassPerGame', 'accurateThroughBallPerGame', 'tackleTotalAttempted', 'challengeLost',\\\n",
    "                    'interceptionAll', 'foulCommitted', 'passCrossBlockedDefensive', 'outfielderBlockedPass',\n",
    "                        'shotSixYardBox', 'shotPenaltyArea', 'shotOboxTotal', 'shotsTotal_x', 'shotOpenPlay', 'shotCounter',\\\n",
    "                            'shotSetPiece', 'penaltyTaken', 'shotOnTarget', 'shotOffTarget', 'shotOnPost', 'shotBlocked', 'shotRightFoot', 'shotLeftFoot',\\\n",
    "                                'shotHead', 'goalSixYardBox', 'goalPenaltyArea', 'goalObox', 'goalTotal_x', 'goalOwn_y', 'goalOpenPlay', 'goalCounter',\\\n",
    "                                    'goalSetPiece', 'penaltyScored', 'goalRightFoot', 'goalLeftFoot', 'goalHead', 'dribbleLost', 'dribbleTotal', 'duelAerialLost',\\\n",
    "                                        'duelAerialTotal', 'duelAerialWon', 'passTotal', 'passLongBallAccurate', 'passLongBallInaccurate', 'shortPassAccurate',\\\n",
    "                                            'shortPassInaccurate', 'passCornerAccurate', 'passCornerInaccurate', 'passFreekickAccurate', 'passFreekickInaccurate',\\\n",
    "                                                'passCrossInaccurate', 'passCrossAccurate', 'keyPassLong', 'keyPassShort', 'keyPassesTotal', 'keyPassCross', 'keyPassCorner',\\\n",
    "                                                    'keyPassThroughball', 'keyPassFreekick', 'keyPassThrowin', 'keyPassOther', 'assistCross', 'assistCorner', 'assistThroughball',\\\n",
    "                                                        'assistFreekick', 'assistThrowin', 'assistOther', 'assist',], axis=1)"
   ]
  },
  {
   "cell_type": "code",
   "execution_count": 68,
   "metadata": {},
   "outputs": [
    {
     "name": "stdout",
     "output_type": "stream",
     "text": [
      "<class 'pandas.core.frame.DataFrame'>\n",
      "Int64Index: 15170 entries, 0 to 16640\n",
      "Columns: 119 entries, NewName to Age\n",
      "dtypes: float64(80), int64(29), object(10)\n",
      "memory usage: 13.9+ MB\n"
     ]
    }
   ],
   "source": [
    "outf_train.info()"
   ]
  },
  {
   "cell_type": "code",
   "execution_count": 23,
   "metadata": {},
   "outputs": [
    {
     "data": {
      "text/html": [
       "<div>\n",
       "<style scoped>\n",
       "    .dataframe tbody tr th:only-of-type {\n",
       "        vertical-align: middle;\n",
       "    }\n",
       "\n",
       "    .dataframe tbody tr th {\n",
       "        vertical-align: top;\n",
       "    }\n",
       "\n",
       "    .dataframe thead th {\n",
       "        text-align: right;\n",
       "    }\n",
       "</style>\n",
       "<table border=\"1\" class=\"dataframe\">\n",
       "  <thead>\n",
       "    <tr style=\"text-align: right;\">\n",
       "      <th></th>\n",
       "      <th>column_name</th>\n",
       "      <th>percent_missing</th>\n",
       "    </tr>\n",
       "  </thead>\n",
       "  <tbody>\n",
       "    <tr>\n",
       "      <th>GoalsPerShot</th>\n",
       "      <td>GoalsPerShot</td>\n",
       "      <td>90.771259</td>\n",
       "    </tr>\n",
       "    <tr>\n",
       "      <th>ClubShots</th>\n",
       "      <td>ClubShots</td>\n",
       "      <td>80.507581</td>\n",
       "    </tr>\n",
       "    <tr>\n",
       "      <th>ClubShotsPer90</th>\n",
       "      <td>ClubShotsPer90</td>\n",
       "      <td>80.507581</td>\n",
       "    </tr>\n",
       "    <tr>\n",
       "      <th>ClubInovlvedPossession</th>\n",
       "      <td>ClubInovlvedPossession</td>\n",
       "      <td>78.378378</td>\n",
       "    </tr>\n",
       "    <tr>\n",
       "      <th>ClubPossession</th>\n",
       "      <td>ClubPossession</td>\n",
       "      <td>76.209624</td>\n",
       "    </tr>\n",
       "    <tr>\n",
       "      <th>Composure</th>\n",
       "      <td>Composure</td>\n",
       "      <td>61.885300</td>\n",
       "    </tr>\n",
       "    <tr>\n",
       "      <th>GoalPerShotOnTarget</th>\n",
       "      <td>GoalPerShotOnTarget</td>\n",
       "      <td>56.479895</td>\n",
       "    </tr>\n",
       "    <tr>\n",
       "      <th>ShotsOnTargetPer90</th>\n",
       "      <td>ShotsOnTargetPer90</td>\n",
       "      <td>50.672380</td>\n",
       "    </tr>\n",
       "    <tr>\n",
       "      <th>ShotsOnTarget</th>\n",
       "      <td>ShotsOnTarget</td>\n",
       "      <td>50.672380</td>\n",
       "    </tr>\n",
       "    <tr>\n",
       "      <th>AssistsPer90</th>\n",
       "      <td>AssistsPer90</td>\n",
       "      <td>47.778510</td>\n",
       "    </tr>\n",
       "    <tr>\n",
       "      <th>GoalsAssistsPer90</th>\n",
       "      <td>GoalsAssistsPer90</td>\n",
       "      <td>47.778510</td>\n",
       "    </tr>\n",
       "    <tr>\n",
       "      <th>Assists</th>\n",
       "      <td>Assists</td>\n",
       "      <td>47.778510</td>\n",
       "    </tr>\n",
       "    <tr>\n",
       "      <th>NonPenaltyGoals</th>\n",
       "      <td>NonPenaltyGoals</td>\n",
       "      <td>47.738958</td>\n",
       "    </tr>\n",
       "    <tr>\n",
       "      <th>Starts</th>\n",
       "      <td>Starts</td>\n",
       "      <td>47.732367</td>\n",
       "    </tr>\n",
       "    <tr>\n",
       "      <th>MatchesPlayed</th>\n",
       "      <td>MatchesPlayed</td>\n",
       "      <td>47.732367</td>\n",
       "    </tr>\n",
       "    <tr>\n",
       "      <th>GoalsPer90</th>\n",
       "      <td>GoalsPer90</td>\n",
       "      <td>47.732367</td>\n",
       "    </tr>\n",
       "    <tr>\n",
       "      <th>RedCards</th>\n",
       "      <td>RedCards</td>\n",
       "      <td>47.732367</td>\n",
       "    </tr>\n",
       "    <tr>\n",
       "      <th>YellowCards</th>\n",
       "      <td>YellowCards</td>\n",
       "      <td>47.732367</td>\n",
       "    </tr>\n",
       "    <tr>\n",
       "      <th>Goals</th>\n",
       "      <td>Goals</td>\n",
       "      <td>47.732367</td>\n",
       "    </tr>\n",
       "    <tr>\n",
       "      <th>MinutesPlayedPer90</th>\n",
       "      <td>MinutesPlayedPer90</td>\n",
       "      <td>47.732367</td>\n",
       "    </tr>\n",
       "  </tbody>\n",
       "</table>\n",
       "</div>"
      ],
      "text/plain": [
       "                                   column_name  percent_missing\n",
       "GoalsPerShot                      GoalsPerShot        90.771259\n",
       "ClubShots                            ClubShots        80.507581\n",
       "ClubShotsPer90                  ClubShotsPer90        80.507581\n",
       "ClubInovlvedPossession  ClubInovlvedPossession        78.378378\n",
       "ClubPossession                  ClubPossession        76.209624\n",
       "Composure                            Composure        61.885300\n",
       "GoalPerShotOnTarget        GoalPerShotOnTarget        56.479895\n",
       "ShotsOnTargetPer90          ShotsOnTargetPer90        50.672380\n",
       "ShotsOnTarget                    ShotsOnTarget        50.672380\n",
       "AssistsPer90                      AssistsPer90        47.778510\n",
       "GoalsAssistsPer90            GoalsAssistsPer90        47.778510\n",
       "Assists                                Assists        47.778510\n",
       "NonPenaltyGoals                NonPenaltyGoals        47.738958\n",
       "Starts                                  Starts        47.732367\n",
       "MatchesPlayed                    MatchesPlayed        47.732367\n",
       "GoalsPer90                          GoalsPer90        47.732367\n",
       "RedCards                              RedCards        47.732367\n",
       "YellowCards                        YellowCards        47.732367\n",
       "Goals                                    Goals        47.732367\n",
       "MinutesPlayedPer90          MinutesPlayedPer90        47.732367"
      ]
     },
     "execution_count": 23,
     "metadata": {},
     "output_type": "execute_result"
    }
   ],
   "source": [
    "percent_missing = outf_train.isnull().sum() * 100 / len(outf_train)\n",
    "missing_value_df = pd.DataFrame({'column_name': outf_train.columns,\n",
    "                                 'percent_missing': percent_missing})\n",
    "missing_value_df.sort_values('percent_missing', ascending=False, inplace=True)\n",
    "missing_value_df.head(20)"
   ]
  },
  {
   "cell_type": "code",
   "execution_count": 69,
   "metadata": {},
   "outputs": [],
   "source": [
    "outf_train = outf_train.drop(['GoalsPerShot', 'ClubShotsPer90', 'ClubShots', 'ClubInovlvedPossession',\\\n",
    "    'ClubPossession', 'Composure'], axis = 1)"
   ]
  },
  {
   "cell_type": "code",
   "execution_count": 47,
   "metadata": {},
   "outputs": [],
   "source": [
    "gk_train = gk_train.drop(['GoalsPerShot', 'ClubShotsPer90', 'ClubShots', 'ClubInovlvedPossession',\\\n",
    "    'ClubPossession', 'Composure'], axis = 1)"
   ]
  },
  {
   "cell_type": "code",
   "execution_count": 25,
   "metadata": {},
   "outputs": [
    {
     "data": {
      "text/html": [
       "<div>\n",
       "<style scoped>\n",
       "    .dataframe tbody tr th:only-of-type {\n",
       "        vertical-align: middle;\n",
       "    }\n",
       "\n",
       "    .dataframe tbody tr th {\n",
       "        vertical-align: top;\n",
       "    }\n",
       "\n",
       "    .dataframe thead th {\n",
       "        text-align: right;\n",
       "    }\n",
       "</style>\n",
       "<table border=\"1\" class=\"dataframe\">\n",
       "  <thead>\n",
       "    <tr style=\"text-align: right;\">\n",
       "      <th></th>\n",
       "      <th>column_name</th>\n",
       "      <th>percent_missing</th>\n",
       "    </tr>\n",
       "  </thead>\n",
       "  <tbody>\n",
       "    <tr>\n",
       "      <th>GoalPerShotOnTarget</th>\n",
       "      <td>GoalPerShotOnTarget</td>\n",
       "      <td>56.479895</td>\n",
       "    </tr>\n",
       "    <tr>\n",
       "      <th>ShotsOnTargetPer90</th>\n",
       "      <td>ShotsOnTargetPer90</td>\n",
       "      <td>50.672380</td>\n",
       "    </tr>\n",
       "    <tr>\n",
       "      <th>ShotsOnTarget</th>\n",
       "      <td>ShotsOnTarget</td>\n",
       "      <td>50.672380</td>\n",
       "    </tr>\n",
       "    <tr>\n",
       "      <th>Assists</th>\n",
       "      <td>Assists</td>\n",
       "      <td>47.778510</td>\n",
       "    </tr>\n",
       "    <tr>\n",
       "      <th>GoalsAssistsPer90</th>\n",
       "      <td>GoalsAssistsPer90</td>\n",
       "      <td>47.778510</td>\n",
       "    </tr>\n",
       "    <tr>\n",
       "      <th>AssistsPer90</th>\n",
       "      <td>AssistsPer90</td>\n",
       "      <td>47.778510</td>\n",
       "    </tr>\n",
       "    <tr>\n",
       "      <th>NonPenaltyGoals</th>\n",
       "      <td>NonPenaltyGoals</td>\n",
       "      <td>47.738958</td>\n",
       "    </tr>\n",
       "    <tr>\n",
       "      <th>Starts</th>\n",
       "      <td>Starts</td>\n",
       "      <td>47.732367</td>\n",
       "    </tr>\n",
       "    <tr>\n",
       "      <th>RedCards</th>\n",
       "      <td>RedCards</td>\n",
       "      <td>47.732367</td>\n",
       "    </tr>\n",
       "    <tr>\n",
       "      <th>MatchesPlayed</th>\n",
       "      <td>MatchesPlayed</td>\n",
       "      <td>47.732367</td>\n",
       "    </tr>\n",
       "    <tr>\n",
       "      <th>MinutesPlayed</th>\n",
       "      <td>MinutesPlayed</td>\n",
       "      <td>47.732367</td>\n",
       "    </tr>\n",
       "    <tr>\n",
       "      <th>MinutesPlayedPer90</th>\n",
       "      <td>MinutesPlayedPer90</td>\n",
       "      <td>47.732367</td>\n",
       "    </tr>\n",
       "    <tr>\n",
       "      <th>Goals</th>\n",
       "      <td>Goals</td>\n",
       "      <td>47.732367</td>\n",
       "    </tr>\n",
       "    <tr>\n",
       "      <th>YellowCards</th>\n",
       "      <td>YellowCards</td>\n",
       "      <td>47.732367</td>\n",
       "    </tr>\n",
       "    <tr>\n",
       "      <th>GoalsPer90</th>\n",
       "      <td>GoalsPer90</td>\n",
       "      <td>47.732367</td>\n",
       "    </tr>\n",
       "    <tr>\n",
       "      <th>ClubInvolvedRedCard</th>\n",
       "      <td>ClubInvolvedRedCard</td>\n",
       "      <td>41.292024</td>\n",
       "    </tr>\n",
       "    <tr>\n",
       "      <th>ClubInvolvedYellowCard</th>\n",
       "      <td>ClubInvolvedYellowCard</td>\n",
       "      <td>41.278840</td>\n",
       "    </tr>\n",
       "    <tr>\n",
       "      <th>ClubInvolvedGoalPerShotOnTarget</th>\n",
       "      <td>ClubInvolvedGoalPerShotOnTarget</td>\n",
       "      <td>38.431114</td>\n",
       "    </tr>\n",
       "    <tr>\n",
       "      <th>ClubInvolvedShotsOnTargetPer90</th>\n",
       "      <td>ClubInvolvedShotsOnTargetPer90</td>\n",
       "      <td>38.431114</td>\n",
       "    </tr>\n",
       "    <tr>\n",
       "      <th>ClubInvolvedShotsOnTarget</th>\n",
       "      <td>ClubInvolvedShotsOnTarget</td>\n",
       "      <td>38.431114</td>\n",
       "    </tr>\n",
       "  </tbody>\n",
       "</table>\n",
       "</div>"
      ],
      "text/plain": [
       "                                                     column_name  \\\n",
       "GoalPerShotOnTarget                          GoalPerShotOnTarget   \n",
       "ShotsOnTargetPer90                            ShotsOnTargetPer90   \n",
       "ShotsOnTarget                                      ShotsOnTarget   \n",
       "Assists                                                  Assists   \n",
       "GoalsAssistsPer90                              GoalsAssistsPer90   \n",
       "AssistsPer90                                        AssistsPer90   \n",
       "NonPenaltyGoals                                  NonPenaltyGoals   \n",
       "Starts                                                    Starts   \n",
       "RedCards                                                RedCards   \n",
       "MatchesPlayed                                      MatchesPlayed   \n",
       "MinutesPlayed                                      MinutesPlayed   \n",
       "MinutesPlayedPer90                            MinutesPlayedPer90   \n",
       "Goals                                                      Goals   \n",
       "YellowCards                                          YellowCards   \n",
       "GoalsPer90                                            GoalsPer90   \n",
       "ClubInvolvedRedCard                          ClubInvolvedRedCard   \n",
       "ClubInvolvedYellowCard                    ClubInvolvedYellowCard   \n",
       "ClubInvolvedGoalPerShotOnTarget  ClubInvolvedGoalPerShotOnTarget   \n",
       "ClubInvolvedShotsOnTargetPer90    ClubInvolvedShotsOnTargetPer90   \n",
       "ClubInvolvedShotsOnTarget              ClubInvolvedShotsOnTarget   \n",
       "\n",
       "                                 percent_missing  \n",
       "GoalPerShotOnTarget                    56.479895  \n",
       "ShotsOnTargetPer90                     50.672380  \n",
       "ShotsOnTarget                          50.672380  \n",
       "Assists                                47.778510  \n",
       "GoalsAssistsPer90                      47.778510  \n",
       "AssistsPer90                           47.778510  \n",
       "NonPenaltyGoals                        47.738958  \n",
       "Starts                                 47.732367  \n",
       "RedCards                               47.732367  \n",
       "MatchesPlayed                          47.732367  \n",
       "MinutesPlayed                          47.732367  \n",
       "MinutesPlayedPer90                     47.732367  \n",
       "Goals                                  47.732367  \n",
       "YellowCards                            47.732367  \n",
       "GoalsPer90                             47.732367  \n",
       "ClubInvolvedRedCard                    41.292024  \n",
       "ClubInvolvedYellowCard                 41.278840  \n",
       "ClubInvolvedGoalPerShotOnTarget        38.431114  \n",
       "ClubInvolvedShotsOnTargetPer90         38.431114  \n",
       "ClubInvolvedShotsOnTarget              38.431114  "
      ]
     },
     "execution_count": 25,
     "metadata": {},
     "output_type": "execute_result"
    }
   ],
   "source": [
    "percent_missing = outf_train.isnull().sum() * 100 / len(outf_train)\n",
    "missing_value_df = pd.DataFrame({'column_name': outf_train.columns,\n",
    "                                 'percent_missing': percent_missing})\n",
    "missing_value_df.sort_values('percent_missing', ascending=False, inplace=True)\n",
    "missing_value_df.head(20)"
   ]
  },
  {
   "cell_type": "code",
   "execution_count": 26,
   "metadata": {},
   "outputs": [
    {
     "name": "stdout",
     "output_type": "stream",
     "text": [
      "{'Scottish Premiership', 'Russian Premier League', 'Italian Serie A', 'Denmark', 'Polish T-Mobile Ekstraklasa', 'Belgium', 'Norwegian Eliteserien', 'Romanian Liga I', 'Finnish Veikkausliiga', 'German 1 Bundesliga', 'Swiss Super League', 'Italian Serie B', 'Turkish Süper Lig', 'French Ligue 1', 'Austria', 'English League Championship', 'Rep Ireland Airtricity League', 'Portuguese Liga ZON SAGRES', 'French Ligue 2', 'Swedish Allsvenskan', 'Holland Eredivisie', 'Spain Primera Division', 'German 2 Bundesliga', 'Greek Super League', 'Spanish Segunda División', 'English Premier League', 'Czech Republic Gambrinus Liga', 'Ukrainian Premier League', 'Croatian Prva HNL'}\n"
     ]
    }
   ],
   "source": [
    "print(set(outf_train.League))"
   ]
  },
  {
   "cell_type": "code",
   "execution_count": 71,
   "metadata": {},
   "outputs": [
    {
     "name": "stdout",
     "output_type": "stream",
     "text": [
      "<class 'pandas.core.frame.DataFrame'>\n",
      "Int64Index: 15170 entries, 0 to 16640\n",
      "Columns: 113 entries, NewName to Age\n",
      "dtypes: float64(74), int64(29), object(10)\n",
      "memory usage: 13.2+ MB\n"
     ]
    }
   ],
   "source": [
    "outf_train.info()"
   ]
  },
  {
   "cell_type": "code",
   "execution_count": 72,
   "metadata": {},
   "outputs": [],
   "source": [
    "outf_train = outf_train[outf_train.League.isin(['English Premier League', 'Italian Serie A', 'English League Championship', 'French Ligue 2',  'Spain Primera Division',\\\n",
    "    'Portuguese Liga ZON SAGRES','Italian Serie B', 'Spanish Segunda División', 'German 2 Bundesliga', 'German 1 Bundesliga', 'French Ligue 1',\\\n",
    "         'Holland Eredivisie'])]"
   ]
  },
  {
   "cell_type": "code",
   "execution_count": 73,
   "metadata": {},
   "outputs": [
    {
     "name": "stdout",
     "output_type": "stream",
     "text": [
      "<class 'pandas.core.frame.DataFrame'>\n",
      "Int64Index: 11028 entries, 95 to 16640\n",
      "Columns: 113 entries, NewName to Age\n",
      "dtypes: float64(74), int64(29), object(10)\n",
      "memory usage: 9.6+ MB\n"
     ]
    }
   ],
   "source": [
    "outf_train.info()"
   ]
  },
  {
   "cell_type": "code",
   "execution_count": 48,
   "metadata": {},
   "outputs": [],
   "source": [
    "gk_train = gk_train[gk_train.League.isin(['English Premier League', 'Italian Serie A', 'English League Championship', 'French Ligue 2',  'Spain Primera Division',\\\n",
    "    'Portuguese Liga ZON SAGRES','Italian Serie B', 'Spanish Segunda División', 'German 2 Bundesliga', 'German 1 Bundesliga', 'French Ligue 1',\\\n",
    "         'Holland Eredivisie'])]"
   ]
  },
  {
   "cell_type": "code",
   "execution_count": 28,
   "metadata": {},
   "outputs": [
    {
     "data": {
      "text/html": [
       "<div>\n",
       "<style scoped>\n",
       "    .dataframe tbody tr th:only-of-type {\n",
       "        vertical-align: middle;\n",
       "    }\n",
       "\n",
       "    .dataframe tbody tr th {\n",
       "        vertical-align: top;\n",
       "    }\n",
       "\n",
       "    .dataframe thead th {\n",
       "        text-align: right;\n",
       "    }\n",
       "</style>\n",
       "<table border=\"1\" class=\"dataframe\">\n",
       "  <thead>\n",
       "    <tr style=\"text-align: right;\">\n",
       "      <th></th>\n",
       "      <th>column_name</th>\n",
       "      <th>percent_missing</th>\n",
       "    </tr>\n",
       "  </thead>\n",
       "  <tbody>\n",
       "    <tr>\n",
       "      <th>GoalPerShotOnTarget</th>\n",
       "      <td>GoalPerShotOnTarget</td>\n",
       "      <td>51.759159</td>\n",
       "    </tr>\n",
       "    <tr>\n",
       "      <th>ShotsOnTargetPer90</th>\n",
       "      <td>ShotsOnTargetPer90</td>\n",
       "      <td>45.357272</td>\n",
       "    </tr>\n",
       "    <tr>\n",
       "      <th>ShotsOnTarget</th>\n",
       "      <td>ShotsOnTarget</td>\n",
       "      <td>45.357272</td>\n",
       "    </tr>\n",
       "    <tr>\n",
       "      <th>AssistsPer90</th>\n",
       "      <td>AssistsPer90</td>\n",
       "      <td>42.645992</td>\n",
       "    </tr>\n",
       "    <tr>\n",
       "      <th>Assists</th>\n",
       "      <td>Assists</td>\n",
       "      <td>42.645992</td>\n",
       "    </tr>\n",
       "    <tr>\n",
       "      <th>GoalsAssistsPer90</th>\n",
       "      <td>GoalsAssistsPer90</td>\n",
       "      <td>42.645992</td>\n",
       "    </tr>\n",
       "    <tr>\n",
       "      <th>NonPenaltyGoals</th>\n",
       "      <td>NonPenaltyGoals</td>\n",
       "      <td>42.600653</td>\n",
       "    </tr>\n",
       "    <tr>\n",
       "      <th>GoalsPer90</th>\n",
       "      <td>GoalsPer90</td>\n",
       "      <td>42.591585</td>\n",
       "    </tr>\n",
       "    <tr>\n",
       "      <th>MatchesPlayed</th>\n",
       "      <td>MatchesPlayed</td>\n",
       "      <td>42.591585</td>\n",
       "    </tr>\n",
       "    <tr>\n",
       "      <th>MinutesPlayed</th>\n",
       "      <td>MinutesPlayed</td>\n",
       "      <td>42.591585</td>\n",
       "    </tr>\n",
       "    <tr>\n",
       "      <th>MinutesPlayedPer90</th>\n",
       "      <td>MinutesPlayedPer90</td>\n",
       "      <td>42.591585</td>\n",
       "    </tr>\n",
       "    <tr>\n",
       "      <th>YellowCards</th>\n",
       "      <td>YellowCards</td>\n",
       "      <td>42.591585</td>\n",
       "    </tr>\n",
       "    <tr>\n",
       "      <th>RedCards</th>\n",
       "      <td>RedCards</td>\n",
       "      <td>42.591585</td>\n",
       "    </tr>\n",
       "    <tr>\n",
       "      <th>Goals</th>\n",
       "      <td>Goals</td>\n",
       "      <td>42.591585</td>\n",
       "    </tr>\n",
       "    <tr>\n",
       "      <th>Starts</th>\n",
       "      <td>Starts</td>\n",
       "      <td>42.591585</td>\n",
       "    </tr>\n",
       "    <tr>\n",
       "      <th>ClubInvolvedRedCard</th>\n",
       "      <td>ClubInvolvedRedCard</td>\n",
       "      <td>35.999275</td>\n",
       "    </tr>\n",
       "    <tr>\n",
       "      <th>ClubInvolvedYellowCard</th>\n",
       "      <td>ClubInvolvedYellowCard</td>\n",
       "      <td>35.981139</td>\n",
       "    </tr>\n",
       "    <tr>\n",
       "      <th>ClubInvolvedShotsOnTargetPer90</th>\n",
       "      <td>ClubInvolvedShotsOnTargetPer90</td>\n",
       "      <td>32.444686</td>\n",
       "    </tr>\n",
       "    <tr>\n",
       "      <th>ClubInvolvedShotsOnTarget</th>\n",
       "      <td>ClubInvolvedShotsOnTarget</td>\n",
       "      <td>32.444686</td>\n",
       "    </tr>\n",
       "    <tr>\n",
       "      <th>ClubInvolvedNumPlayersUsed</th>\n",
       "      <td>ClubInvolvedNumPlayersUsed</td>\n",
       "      <td>32.444686</td>\n",
       "    </tr>\n",
       "  </tbody>\n",
       "</table>\n",
       "</div>"
      ],
      "text/plain": [
       "                                                   column_name  \\\n",
       "GoalPerShotOnTarget                        GoalPerShotOnTarget   \n",
       "ShotsOnTargetPer90                          ShotsOnTargetPer90   \n",
       "ShotsOnTarget                                    ShotsOnTarget   \n",
       "AssistsPer90                                      AssistsPer90   \n",
       "Assists                                                Assists   \n",
       "GoalsAssistsPer90                            GoalsAssistsPer90   \n",
       "NonPenaltyGoals                                NonPenaltyGoals   \n",
       "GoalsPer90                                          GoalsPer90   \n",
       "MatchesPlayed                                    MatchesPlayed   \n",
       "MinutesPlayed                                    MinutesPlayed   \n",
       "MinutesPlayedPer90                          MinutesPlayedPer90   \n",
       "YellowCards                                        YellowCards   \n",
       "RedCards                                              RedCards   \n",
       "Goals                                                    Goals   \n",
       "Starts                                                  Starts   \n",
       "ClubInvolvedRedCard                        ClubInvolvedRedCard   \n",
       "ClubInvolvedYellowCard                  ClubInvolvedYellowCard   \n",
       "ClubInvolvedShotsOnTargetPer90  ClubInvolvedShotsOnTargetPer90   \n",
       "ClubInvolvedShotsOnTarget            ClubInvolvedShotsOnTarget   \n",
       "ClubInvolvedNumPlayersUsed          ClubInvolvedNumPlayersUsed   \n",
       "\n",
       "                                percent_missing  \n",
       "GoalPerShotOnTarget                   51.759159  \n",
       "ShotsOnTargetPer90                    45.357272  \n",
       "ShotsOnTarget                         45.357272  \n",
       "AssistsPer90                          42.645992  \n",
       "Assists                               42.645992  \n",
       "GoalsAssistsPer90                     42.645992  \n",
       "NonPenaltyGoals                       42.600653  \n",
       "GoalsPer90                            42.591585  \n",
       "MatchesPlayed                         42.591585  \n",
       "MinutesPlayed                         42.591585  \n",
       "MinutesPlayedPer90                    42.591585  \n",
       "YellowCards                           42.591585  \n",
       "RedCards                              42.591585  \n",
       "Goals                                 42.591585  \n",
       "Starts                                42.591585  \n",
       "ClubInvolvedRedCard                   35.999275  \n",
       "ClubInvolvedYellowCard                35.981139  \n",
       "ClubInvolvedShotsOnTargetPer90        32.444686  \n",
       "ClubInvolvedShotsOnTarget             32.444686  \n",
       "ClubInvolvedNumPlayersUsed            32.444686  "
      ]
     },
     "execution_count": 28,
     "metadata": {},
     "output_type": "execute_result"
    }
   ],
   "source": [
    "percent_missing = outf_train.isnull().sum() * 100 / len(outf_train)\n",
    "missing_value_df = pd.DataFrame({'column_name': outf_train.columns,\n",
    "                                 'percent_missing': percent_missing})\n",
    "missing_value_df.sort_values('percent_missing', ascending=False, inplace=True)\n",
    "missing_value_df.head(20)"
   ]
  },
  {
   "cell_type": "code",
   "execution_count": 29,
   "metadata": {},
   "outputs": [],
   "source": [
    "outf_train = outf_train.drop('GoalPerShotOnTarget', axis=1)"
   ]
  },
  {
   "cell_type": "code",
   "execution_count": 49,
   "metadata": {},
   "outputs": [],
   "source": [
    "gk_train = gk_train.drop('GoalPerShotOnTarget', axis=1)"
   ]
  },
  {
   "cell_type": "code",
   "execution_count": 50,
   "metadata": {},
   "outputs": [
    {
     "data": {
      "text/html": [
       "<div>\n",
       "<style scoped>\n",
       "    .dataframe tbody tr th:only-of-type {\n",
       "        vertical-align: middle;\n",
       "    }\n",
       "\n",
       "    .dataframe tbody tr th {\n",
       "        vertical-align: top;\n",
       "    }\n",
       "\n",
       "    .dataframe thead th {\n",
       "        text-align: right;\n",
       "    }\n",
       "</style>\n",
       "<table border=\"1\" class=\"dataframe\">\n",
       "  <thead>\n",
       "    <tr style=\"text-align: right;\">\n",
       "      <th></th>\n",
       "      <th>column_name</th>\n",
       "      <th>percent_missing</th>\n",
       "    </tr>\n",
       "  </thead>\n",
       "  <tbody>\n",
       "    <tr>\n",
       "      <th>NonPenaltyGoals</th>\n",
       "      <td>NonPenaltyGoals</td>\n",
       "      <td>99.878788</td>\n",
       "    </tr>\n",
       "    <tr>\n",
       "      <th>MinutesPlayedPer90</th>\n",
       "      <td>MinutesPlayedPer90</td>\n",
       "      <td>99.757576</td>\n",
       "    </tr>\n",
       "    <tr>\n",
       "      <th>MinutesPlayed</th>\n",
       "      <td>MinutesPlayed</td>\n",
       "      <td>99.757576</td>\n",
       "    </tr>\n",
       "    <tr>\n",
       "      <th>Goals</th>\n",
       "      <td>Goals</td>\n",
       "      <td>99.757576</td>\n",
       "    </tr>\n",
       "    <tr>\n",
       "      <th>Assists</th>\n",
       "      <td>Assists</td>\n",
       "      <td>99.757576</td>\n",
       "    </tr>\n",
       "    <tr>\n",
       "      <th>Starts</th>\n",
       "      <td>Starts</td>\n",
       "      <td>99.757576</td>\n",
       "    </tr>\n",
       "    <tr>\n",
       "      <th>YellowCards</th>\n",
       "      <td>YellowCards</td>\n",
       "      <td>99.757576</td>\n",
       "    </tr>\n",
       "    <tr>\n",
       "      <th>RedCards</th>\n",
       "      <td>RedCards</td>\n",
       "      <td>99.757576</td>\n",
       "    </tr>\n",
       "    <tr>\n",
       "      <th>GoalsPer90</th>\n",
       "      <td>GoalsPer90</td>\n",
       "      <td>99.757576</td>\n",
       "    </tr>\n",
       "    <tr>\n",
       "      <th>AssistsPer90</th>\n",
       "      <td>AssistsPer90</td>\n",
       "      <td>99.757576</td>\n",
       "    </tr>\n",
       "    <tr>\n",
       "      <th>GoalsAssistsPer90</th>\n",
       "      <td>GoalsAssistsPer90</td>\n",
       "      <td>99.757576</td>\n",
       "    </tr>\n",
       "    <tr>\n",
       "      <th>MatchesPlayed</th>\n",
       "      <td>MatchesPlayed</td>\n",
       "      <td>99.757576</td>\n",
       "    </tr>\n",
       "    <tr>\n",
       "      <th>ShotsOnTarget</th>\n",
       "      <td>ShotsOnTarget</td>\n",
       "      <td>99.757576</td>\n",
       "    </tr>\n",
       "    <tr>\n",
       "      <th>ShotsOnTargetPer90</th>\n",
       "      <td>ShotsOnTargetPer90</td>\n",
       "      <td>99.757576</td>\n",
       "    </tr>\n",
       "    <tr>\n",
       "      <th>saveTotal</th>\n",
       "      <td>saveTotal</td>\n",
       "      <td>83.393939</td>\n",
       "    </tr>\n",
       "    <tr>\n",
       "      <th>saveObox</th>\n",
       "      <td>saveObox</td>\n",
       "      <td>83.393939</td>\n",
       "    </tr>\n",
       "    <tr>\n",
       "      <th>savePenaltyArea</th>\n",
       "      <td>savePenaltyArea</td>\n",
       "      <td>83.393939</td>\n",
       "    </tr>\n",
       "    <tr>\n",
       "      <th>saveSixYardBox</th>\n",
       "      <td>saveSixYardBox</td>\n",
       "      <td>83.393939</td>\n",
       "    </tr>\n",
       "    <tr>\n",
       "      <th>GKSavePercent</th>\n",
       "      <td>GKSavePercent</td>\n",
       "      <td>52.363636</td>\n",
       "    </tr>\n",
       "    <tr>\n",
       "      <th>GKSaves</th>\n",
       "      <td>GKSaves</td>\n",
       "      <td>52.121212</td>\n",
       "    </tr>\n",
       "  </tbody>\n",
       "</table>\n",
       "</div>"
      ],
      "text/plain": [
       "                           column_name  percent_missing\n",
       "NonPenaltyGoals        NonPenaltyGoals        99.878788\n",
       "MinutesPlayedPer90  MinutesPlayedPer90        99.757576\n",
       "MinutesPlayed            MinutesPlayed        99.757576\n",
       "Goals                            Goals        99.757576\n",
       "Assists                        Assists        99.757576\n",
       "Starts                          Starts        99.757576\n",
       "YellowCards                YellowCards        99.757576\n",
       "RedCards                      RedCards        99.757576\n",
       "GoalsPer90                  GoalsPer90        99.757576\n",
       "AssistsPer90              AssistsPer90        99.757576\n",
       "GoalsAssistsPer90    GoalsAssistsPer90        99.757576\n",
       "MatchesPlayed            MatchesPlayed        99.757576\n",
       "ShotsOnTarget            ShotsOnTarget        99.757576\n",
       "ShotsOnTargetPer90  ShotsOnTargetPer90        99.757576\n",
       "saveTotal                    saveTotal        83.393939\n",
       "saveObox                      saveObox        83.393939\n",
       "savePenaltyArea        savePenaltyArea        83.393939\n",
       "saveSixYardBox          saveSixYardBox        83.393939\n",
       "GKSavePercent            GKSavePercent        52.363636\n",
       "GKSaves                        GKSaves        52.121212"
      ]
     },
     "execution_count": 50,
     "metadata": {},
     "output_type": "execute_result"
    }
   ],
   "source": [
    "percent_missing = gk_train.isnull().sum() * 100 / len(gk_train)\n",
    "missing_value_df = pd.DataFrame({'column_name': gk_train.columns,\n",
    "                                 'percent_missing': percent_missing})\n",
    "missing_value_df.sort_values('percent_missing', ascending=False, inplace=True)\n",
    "missing_value_df.head(20)"
   ]
  },
  {
   "cell_type": "code",
   "execution_count": 51,
   "metadata": {},
   "outputs": [],
   "source": [
    "gk_train = gk_train.drop(['NonPenaltyGoals', 'MinutesPlayedPer90', 'MinutesPlayed', 'Goals', 'Assists',\\\n",
    "    'Starts', 'YellowCards', 'RedCards', 'GoalsPer90', 'AssistsPer90', 'GoalsAssistsPer90', 'MatchesPlayed', 'ShotsOnTarget',\\\n",
    "        'ShotsOnTargetPer90', 'saveTotal', 'saveObox', 'savePenaltyArea', 'saveSixYardBox', 'GKSavePercent', 'GKSaves'], axis=1)"
   ]
  },
  {
   "cell_type": "code",
   "execution_count": 52,
   "metadata": {},
   "outputs": [
    {
     "data": {
      "text/html": [
       "<div>\n",
       "<style scoped>\n",
       "    .dataframe tbody tr th:only-of-type {\n",
       "        vertical-align: middle;\n",
       "    }\n",
       "\n",
       "    .dataframe tbody tr th {\n",
       "        vertical-align: top;\n",
       "    }\n",
       "\n",
       "    .dataframe thead th {\n",
       "        text-align: right;\n",
       "    }\n",
       "</style>\n",
       "<table border=\"1\" class=\"dataframe\">\n",
       "  <thead>\n",
       "    <tr style=\"text-align: right;\">\n",
       "      <th></th>\n",
       "      <th>column_name</th>\n",
       "      <th>percent_missing</th>\n",
       "    </tr>\n",
       "  </thead>\n",
       "  <tbody>\n",
       "    <tr>\n",
       "      <th>GKCleanSheetPercent</th>\n",
       "      <td>GKCleanSheetPercent</td>\n",
       "      <td>50.909091</td>\n",
       "    </tr>\n",
       "    <tr>\n",
       "      <th>GKGoalAgainstPer90</th>\n",
       "      <td>GKGoalAgainstPer90</td>\n",
       "      <td>50.666667</td>\n",
       "    </tr>\n",
       "    <tr>\n",
       "      <th>GKGoalAgainst</th>\n",
       "      <td>GKGoalAgainst</td>\n",
       "      <td>50.666667</td>\n",
       "    </tr>\n",
       "    <tr>\n",
       "      <th>GKMatchPlayed</th>\n",
       "      <td>GKMatchPlayed</td>\n",
       "      <td>50.424242</td>\n",
       "    </tr>\n",
       "    <tr>\n",
       "      <th>GKMin</th>\n",
       "      <td>GKMin</td>\n",
       "      <td>50.424242</td>\n",
       "    </tr>\n",
       "    <tr>\n",
       "      <th>GKCleanSheet</th>\n",
       "      <td>GKCleanSheet</td>\n",
       "      <td>50.424242</td>\n",
       "    </tr>\n",
       "    <tr>\n",
       "      <th>GKLost</th>\n",
       "      <td>GKLost</td>\n",
       "      <td>50.424242</td>\n",
       "    </tr>\n",
       "    <tr>\n",
       "      <th>GKDraw</th>\n",
       "      <td>GKDraw</td>\n",
       "      <td>50.424242</td>\n",
       "    </tr>\n",
       "    <tr>\n",
       "      <th>GKWin</th>\n",
       "      <td>GKWin</td>\n",
       "      <td>50.424242</td>\n",
       "    </tr>\n",
       "    <tr>\n",
       "      <th>GKStarts</th>\n",
       "      <td>GKStarts</td>\n",
       "      <td>50.424242</td>\n",
       "    </tr>\n",
       "    <tr>\n",
       "      <th>GK90s</th>\n",
       "      <td>GK90s</td>\n",
       "      <td>50.424242</td>\n",
       "    </tr>\n",
       "    <tr>\n",
       "      <th>ClubInvolvedRedCard</th>\n",
       "      <td>ClubInvolvedRedCard</td>\n",
       "      <td>41.090909</td>\n",
       "    </tr>\n",
       "    <tr>\n",
       "      <th>ClubInvolvedYellowCard</th>\n",
       "      <td>ClubInvolvedYellowCard</td>\n",
       "      <td>40.969697</td>\n",
       "    </tr>\n",
       "    <tr>\n",
       "      <th>ClubInvolvedShotOnTargetAgainst</th>\n",
       "      <td>ClubInvolvedShotOnTargetAgainst</td>\n",
       "      <td>37.696970</td>\n",
       "    </tr>\n",
       "    <tr>\n",
       "      <th>ClubInvolvedGoalPerShotOnTarget</th>\n",
       "      <td>ClubInvolvedGoalPerShotOnTarget</td>\n",
       "      <td>37.696970</td>\n",
       "    </tr>\n",
       "    <tr>\n",
       "      <th>ClubInvolvedShotsOnTargetPer90</th>\n",
       "      <td>ClubInvolvedShotsOnTargetPer90</td>\n",
       "      <td>37.696970</td>\n",
       "    </tr>\n",
       "    <tr>\n",
       "      <th>ClubInvolvedShotsOnTarget</th>\n",
       "      <td>ClubInvolvedShotsOnTarget</td>\n",
       "      <td>37.696970</td>\n",
       "    </tr>\n",
       "    <tr>\n",
       "      <th>ClubInvolvedNumPlayersUsed</th>\n",
       "      <td>ClubInvolvedNumPlayersUsed</td>\n",
       "      <td>37.696970</td>\n",
       "    </tr>\n",
       "    <tr>\n",
       "      <th>ClubInvolvedSaves</th>\n",
       "      <td>ClubInvolvedSaves</td>\n",
       "      <td>37.696970</td>\n",
       "    </tr>\n",
       "    <tr>\n",
       "      <th>ClubInvolvedSaveRate</th>\n",
       "      <td>ClubInvolvedSaveRate</td>\n",
       "      <td>37.696970</td>\n",
       "    </tr>\n",
       "  </tbody>\n",
       "</table>\n",
       "</div>"
      ],
      "text/plain": [
       "                                                     column_name  \\\n",
       "GKCleanSheetPercent                          GKCleanSheetPercent   \n",
       "GKGoalAgainstPer90                            GKGoalAgainstPer90   \n",
       "GKGoalAgainst                                      GKGoalAgainst   \n",
       "GKMatchPlayed                                      GKMatchPlayed   \n",
       "GKMin                                                      GKMin   \n",
       "GKCleanSheet                                        GKCleanSheet   \n",
       "GKLost                                                    GKLost   \n",
       "GKDraw                                                    GKDraw   \n",
       "GKWin                                                      GKWin   \n",
       "GKStarts                                                GKStarts   \n",
       "GK90s                                                      GK90s   \n",
       "ClubInvolvedRedCard                          ClubInvolvedRedCard   \n",
       "ClubInvolvedYellowCard                    ClubInvolvedYellowCard   \n",
       "ClubInvolvedShotOnTargetAgainst  ClubInvolvedShotOnTargetAgainst   \n",
       "ClubInvolvedGoalPerShotOnTarget  ClubInvolvedGoalPerShotOnTarget   \n",
       "ClubInvolvedShotsOnTargetPer90    ClubInvolvedShotsOnTargetPer90   \n",
       "ClubInvolvedShotsOnTarget              ClubInvolvedShotsOnTarget   \n",
       "ClubInvolvedNumPlayersUsed            ClubInvolvedNumPlayersUsed   \n",
       "ClubInvolvedSaves                              ClubInvolvedSaves   \n",
       "ClubInvolvedSaveRate                        ClubInvolvedSaveRate   \n",
       "\n",
       "                                 percent_missing  \n",
       "GKCleanSheetPercent                    50.909091  \n",
       "GKGoalAgainstPer90                     50.666667  \n",
       "GKGoalAgainst                          50.666667  \n",
       "GKMatchPlayed                          50.424242  \n",
       "GKMin                                  50.424242  \n",
       "GKCleanSheet                           50.424242  \n",
       "GKLost                                 50.424242  \n",
       "GKDraw                                 50.424242  \n",
       "GKWin                                  50.424242  \n",
       "GKStarts                               50.424242  \n",
       "GK90s                                  50.424242  \n",
       "ClubInvolvedRedCard                    41.090909  \n",
       "ClubInvolvedYellowCard                 40.969697  \n",
       "ClubInvolvedShotOnTargetAgainst        37.696970  \n",
       "ClubInvolvedGoalPerShotOnTarget        37.696970  \n",
       "ClubInvolvedShotsOnTargetPer90         37.696970  \n",
       "ClubInvolvedShotsOnTarget              37.696970  \n",
       "ClubInvolvedNumPlayersUsed             37.696970  \n",
       "ClubInvolvedSaves                      37.696970  \n",
       "ClubInvolvedSaveRate                   37.696970  "
      ]
     },
     "execution_count": 52,
     "metadata": {},
     "output_type": "execute_result"
    }
   ],
   "source": [
    "percent_missing = gk_train.isnull().sum() * 100 / len(gk_train)\n",
    "missing_value_df = pd.DataFrame({'column_name': gk_train.columns,\n",
    "                                 'percent_missing': percent_missing})\n",
    "missing_value_df.sort_values('percent_missing', ascending=False, inplace=True)\n",
    "missing_value_df.head(20)"
   ]
  },
  {
   "cell_type": "code",
   "execution_count": 53,
   "metadata": {},
   "outputs": [],
   "source": [
    "gk_train = gk_train.drop(['GKCleanSheetPercent', 'GKGoalAgainstPer90', 'GKGoalAgainst', 'GKMatchPlayed', 'GKMin',\\\n",
    "    'GKCleanSheet', 'GKLost', 'GKDraw', 'GKWin', 'GKStarts', 'GK90s'], axis=1)"
   ]
  },
  {
   "cell_type": "code",
   "execution_count": 55,
   "metadata": {},
   "outputs": [
    {
     "name": "stdout",
     "output_type": "stream",
     "text": [
      "['NewName', 'MarketValue', 'ClubInvolved', 'League', 'MainPosition', 'LeagueInvolved', 'CorrMarketValue', 'Country', 'Club', 'Position', 'Foot', 'IntReputation', 'Crossing', 'Finishing', 'Heading_accuracy', 'Short_passing', 'Volleys', 'Dribbling', 'Curve', 'FK_accuracy', 'Long_passing', 'Ball_control', 'Acceleration', 'Sprint_speed', 'Agility', 'Reactions', 'Balance', 'Shot_power', 'Jumping', 'Stamina', 'Strength', 'Long_shots', 'Aggression', 'Interceptions', 'Positioning', 'Vision', 'Penalties', 'Marking', 'Standing_tackle', 'Sliding_tackle', 'GK_diving', 'GK_handling', 'GK_kicking', 'GK_positioning', 'GK_reflexes', 'Season', 'Years', 'DEGREE', 'Eigv', 'SP_LA_LIGA', 'EN_PL', 'IT_SERIE_A', 'FR_LIGUE_1', 'GE_BUNDESLIGA', 'Fee', 'ClubInvolvedRank', 'ClubInvolvedWin', 'ClubInvolvedDraw', 'ClubInvolvedLoose', 'ClubInvolvedGoalFor', 'ClubInvolvedGoalAgainst', 'ClubInvolvedPoints', 'ClubRank', 'ClubWin', 'ClubDraw', 'ClubLoose', 'ClubGoalFor', 'ClubGoalAgainst', 'ClubPoint', 'ClubInvolvedAge', 'ClubInvolvedAssists', 'ClubInvolvedNonPenaltyGoal', 'ClubInvolvedYellowCard', 'ClubInvolvedRedCard', 'ClubAge', 'ClubAssists', 'ClubNonPenaltyGoal', 'ClubYellowCard', 'ClubRedCard', 'ClubInvolvedNumPlayersUsed', 'ClubInvolvedShotsOnTarget', 'ClubInvolvedShotsOnTargetPer90', 'ClubInvolvedGoalPerShotOnTarget', 'ClubNumPlayersUsed', 'ClubShotsOnTarget', 'ClubShotsOnTargetPer90', 'ClubGoalPerShotOnTarget', 'ClubInvolvedGoalAgainstPer90', 'ClubInvolvedShotOnTargetAgainst', 'ClubInvolvedSaves', 'ClubInvolvedSaveRate', 'ClubInvolvedCleanSheets', 'ClubInvolvedCleanSheetsRate', 'ClubGoalAgainstPer90', 'ClubShotOnTargetAgainst', 'ClubSaves', 'ClubSaveRate', 'ClubCleanSheets', 'ClubCleanSheetsRate', 'ContractLeft', 'Pace_main', 'Shooting_main', 'Dribbling_main', 'Defending_main', 'Passing_main', 'Physical_main', 'Age']\n"
     ]
    }
   ],
   "source": [
    "print(list(gk_train.columns))"
   ]
  },
  {
   "cell_type": "code",
   "execution_count": 56,
   "metadata": {},
   "outputs": [],
   "source": [
    "gk_train = gk_train.drop(['Crossing', 'Finishing', 'Heading_accuracy', 'Ball_control', 'Acceleration', 'Sprint_speed',\\\n",
    "    'Volleys', 'Dribbling', 'Curve', 'FK_accuracy', 'Shot_power', 'Strength', 'Long_shots', 'Aggression', 'Interceptions',\\\n",
    "        'Vision', 'Penalties', 'Marking', 'Standing_tackle', 'Sliding_tackle', 'Pace_main', 'Shooting_main', 'Dribbling_main',\\\n",
    "            'Defending_main', 'Passing_main', 'Physical_main',], axis=1)"
   ]
  },
  {
   "cell_type": "code",
   "execution_count": 57,
   "metadata": {},
   "outputs": [
    {
     "name": "stdout",
     "output_type": "stream",
     "text": [
      "<class 'pandas.core.frame.DataFrame'>\n",
      "Int64Index: 825 entries, 140 to 16500\n",
      "Data columns (total 81 columns):\n",
      " #   Column                           Non-Null Count  Dtype  \n",
      "---  ------                           --------------  -----  \n",
      " 0   NewName                          825 non-null    object \n",
      " 1   MarketValue                      825 non-null    float64\n",
      " 2   ClubInvolved                     825 non-null    object \n",
      " 3   League                           825 non-null    object \n",
      " 4   MainPosition                     825 non-null    object \n",
      " 5   LeagueInvolved                   825 non-null    object \n",
      " 6   CorrMarketValue                  825 non-null    float64\n",
      " 7   Country                          825 non-null    object \n",
      " 8   Club                             825 non-null    object \n",
      " 9   Position                         825 non-null    object \n",
      " 10  Foot                             825 non-null    object \n",
      " 11  IntReputation                    825 non-null    int64  \n",
      " 12  Short_passing                    825 non-null    int64  \n",
      " 13  Long_passing                     825 non-null    int64  \n",
      " 14  Agility                          646 non-null    float64\n",
      " 15  Reactions                        825 non-null    int64  \n",
      " 16  Balance                          646 non-null    float64\n",
      " 17  Jumping                          646 non-null    float64\n",
      " 18  Stamina                          825 non-null    int64  \n",
      " 19  Positioning                      825 non-null    float64\n",
      " 20  GK_diving                        825 non-null    int64  \n",
      " 21  GK_handling                      825 non-null    int64  \n",
      " 22  GK_kicking                       825 non-null    int64  \n",
      " 23  GK_positioning                   825 non-null    int64  \n",
      " 24  GK_reflexes                      825 non-null    int64  \n",
      " 25  Season                           825 non-null    int64  \n",
      " 26  Years                            825 non-null    int64  \n",
      " 27  DEGREE                           825 non-null    int64  \n",
      " 28  Eigv                             825 non-null    float64\n",
      " 29  SP_LA_LIGA                       825 non-null    int64  \n",
      " 30  EN_PL                            825 non-null    int64  \n",
      " 31  IT_SERIE_A                       825 non-null    int64  \n",
      " 32  FR_LIGUE_1                       825 non-null    int64  \n",
      " 33  GE_BUNDESLIGA                    825 non-null    int64  \n",
      " 34  Fee                              728 non-null    float64\n",
      " 35  ClubInvolvedRank                 533 non-null    float64\n",
      " 36  ClubInvolvedWin                  533 non-null    float64\n",
      " 37  ClubInvolvedDraw                 533 non-null    float64\n",
      " 38  ClubInvolvedLoose                533 non-null    float64\n",
      " 39  ClubInvolvedGoalFor              533 non-null    float64\n",
      " 40  ClubInvolvedGoalAgainst          533 non-null    float64\n",
      " 41  ClubInvolvedPoints               533 non-null    float64\n",
      " 42  ClubRank                         623 non-null    float64\n",
      " 43  ClubWin                          623 non-null    float64\n",
      " 44  ClubDraw                         623 non-null    float64\n",
      " 45  ClubLoose                        623 non-null    float64\n",
      " 46  ClubGoalFor                      623 non-null    float64\n",
      " 47  ClubGoalAgainst                  623 non-null    float64\n",
      " 48  ClubPoint                        623 non-null    float64\n",
      " 49  ClubInvolvedAge                  533 non-null    float64\n",
      " 50  ClubInvolvedAssists              533 non-null    float64\n",
      " 51  ClubInvolvedNonPenaltyGoal       533 non-null    float64\n",
      " 52  ClubInvolvedYellowCard           487 non-null    float64\n",
      " 53  ClubInvolvedRedCard              486 non-null    float64\n",
      " 54  ClubAge                          623 non-null    float64\n",
      " 55  ClubAssists                      623 non-null    float64\n",
      " 56  ClubNonPenaltyGoal               623 non-null    float64\n",
      " 57  ClubYellowCard                   563 non-null    float64\n",
      " 58  ClubRedCard                      562 non-null    float64\n",
      " 59  ClubInvolvedNumPlayersUsed       514 non-null    float64\n",
      " 60  ClubInvolvedShotsOnTarget        514 non-null    float64\n",
      " 61  ClubInvolvedShotsOnTargetPer90   514 non-null    float64\n",
      " 62  ClubInvolvedGoalPerShotOnTarget  514 non-null    float64\n",
      " 63  ClubNumPlayersUsed               615 non-null    float64\n",
      " 64  ClubShotsOnTarget                615 non-null    float64\n",
      " 65  ClubShotsOnTargetPer90           615 non-null    float64\n",
      " 66  ClubGoalPerShotOnTarget          615 non-null    float64\n",
      " 67  ClubInvolvedGoalAgainstPer90     531 non-null    float64\n",
      " 68  ClubInvolvedShotOnTargetAgainst  514 non-null    float64\n",
      " 69  ClubInvolvedSaves                514 non-null    float64\n",
      " 70  ClubInvolvedSaveRate             514 non-null    float64\n",
      " 71  ClubInvolvedCleanSheets          533 non-null    float64\n",
      " 72  ClubInvolvedCleanSheetsRate      533 non-null    float64\n",
      " 73  ClubGoalAgainstPer90             623 non-null    float64\n",
      " 74  ClubShotOnTargetAgainst          615 non-null    float64\n",
      " 75  ClubSaves                        615 non-null    float64\n",
      " 76  ClubSaveRate                     615 non-null    float64\n",
      " 77  ClubCleanSheets                  623 non-null    float64\n",
      " 78  ClubCleanSheetsRate              623 non-null    float64\n",
      " 79  ContractLeft                     813 non-null    object \n",
      " 80  Age                              825 non-null    int64  \n",
      "dtypes: float64(52), int64(19), object(10)\n",
      "memory usage: 528.5+ KB\n"
     ]
    }
   ],
   "source": [
    "gk_train.info()"
   ]
  },
  {
   "cell_type": "code",
   "execution_count": 30,
   "metadata": {},
   "outputs": [
    {
     "name": "stdout",
     "output_type": "stream",
     "text": [
      "['NewName', 'MarketValue', 'ClubInvolved', 'League', 'MainPosition', 'LeagueInvolved', 'CorrMarketValue', 'Country', 'Club', 'Position', 'Foot', 'IntReputation', 'Crossing', 'Finishing', 'Heading_accuracy', 'Short_passing', 'Volleys', 'Dribbling', 'Curve', 'FK_accuracy', 'Long_passing', 'Ball_control', 'Acceleration', 'Sprint_speed', 'Agility', 'Reactions', 'Balance', 'Shot_power', 'Jumping', 'Stamina', 'Strength', 'Long_shots', 'Aggression', 'Interceptions', 'Positioning', 'Vision', 'Penalties', 'Marking', 'Standing_tackle', 'Sliding_tackle', 'Season', 'Years', 'DEGREE', 'Eigv', 'SP_LA_LIGA', 'EN_PL', 'IT_SERIE_A', 'FR_LIGUE_1', 'GE_BUNDESLIGA', 'Fee', 'ClubInvolvedRank', 'ClubInvolvedWin', 'ClubInvolvedDraw', 'ClubInvolvedLoose', 'ClubInvolvedGoalFor', 'ClubInvolvedGoalAgainst', 'ClubInvolvedPoints', 'ClubRank', 'ClubWin', 'ClubDraw', 'ClubLoose', 'ClubGoalFor', 'ClubGoalAgainst', 'ClubPoint', 'ClubInvolvedAge', 'ClubInvolvedAssists', 'ClubInvolvedNonPenaltyGoal', 'ClubInvolvedYellowCard', 'ClubInvolvedRedCard', 'ClubAge', 'ClubAssists', 'ClubNonPenaltyGoal', 'ClubYellowCard', 'ClubRedCard', 'ClubInvolvedNumPlayersUsed', 'ClubInvolvedShotsOnTarget', 'ClubInvolvedShotsOnTargetPer90', 'ClubInvolvedGoalPerShotOnTarget', 'ClubNumPlayersUsed', 'ClubShotsOnTarget', 'ClubShotsOnTargetPer90', 'ClubGoalPerShotOnTarget', 'ClubInvolvedGoalAgainstPer90', 'ClubInvolvedShotOnTargetAgainst', 'ClubInvolvedCleanSheets', 'ClubInvolvedCleanSheetsRate', 'ClubGoalAgainstPer90', 'ClubShotOnTargetAgainst', 'ClubCleanSheets', 'ClubCleanSheetsRate', 'MatchesPlayed', 'Starts', 'MinutesPlayed', 'MinutesPlayedPer90', 'Goals', 'Assists', 'NonPenaltyGoals', 'YellowCards', 'RedCards', 'GoalsPer90', 'AssistsPer90', 'GoalsAssistsPer90', 'ShotsOnTarget', 'ShotsOnTargetPer90', 'ContractLeft', 'Pace_main', 'Shooting_main', 'Dribbling_main', 'Defending_main', 'Passing_main', 'Physical_main', 'Age']\n"
     ]
    }
   ],
   "source": [
    "print(list(outf_train.columns))"
   ]
  },
  {
   "cell_type": "code",
   "execution_count": 31,
   "metadata": {},
   "outputs": [],
   "source": [
    "outf_df = outf_train[['NewName', 'ClubInvolved','Club']]"
   ]
  },
  {
   "cell_type": "code",
   "execution_count": 32,
   "metadata": {},
   "outputs": [],
   "source": [
    "outf_train['ClubInvolvedPlayed'] = outf_train['ClubInvolvedWin'] + outf_train['ClubInvolvedDraw'] + outf_train['ClubInvolvedLoose']\n",
    "outf_train['ClubInvolvedWinPerMatch'] = outf_train['ClubInvolvedWin'] / outf_train['ClubInvolvedPlayed']\n",
    "outf_train['ClubInvolvedDrawPerMatch'] = outf_train['ClubInvolvedDraw'] / outf_train['ClubInvolvedPlayed']\n",
    "outf_train['ClubInvolvedLoosePerMatch'] = outf_train['ClubInvolvedLoose'] / outf_train['ClubInvolvedPlayed']\n",
    "outf_train['ClubInvolvedGoalForPerMatch'] = outf_train['ClubInvolvedGoalFor'] / outf_train['ClubInvolvedPlayed']\n",
    "outf_train['ClubInvolvedGoalAgainstPerMatch'] = outf_train['ClubInvolvedGoalAgainst'] / outf_train['ClubInvolvedPlayed']\n",
    "outf_train['ClubInvolvedPointsPerMatch'] = outf_train['ClubInvolvedPoints'] / outf_train['ClubInvolvedPlayed']\n",
    "\n",
    "outf_train['ClubPlayed'] = outf_train['ClubWin'] + outf_train['ClubDraw'] + outf_train['ClubLoose']\n",
    "outf_train['ClubWinPerMatch'] = outf_train['ClubWin'] / outf_train['ClubPlayed']\n",
    "outf_train['ClubDrawPerMatch'] = outf_train['ClubDraw'] / outf_train['ClubPlayed']\n",
    "outf_train['ClubLoosePerMatch'] = outf_train['ClubLoose'] / outf_train['ClubPlayed']\n",
    "outf_train['ClubGoalForPerMatch'] = outf_train['ClubGoalFor'] / outf_train['ClubPlayed']\n",
    "outf_train['ClubGoalAgainstPerMatch'] = outf_train['ClubGoalAgainst'] / outf_train['ClubPlayed']\n",
    "outf_train['ClubPointsPerMatch'] = outf_train['ClubPoint'] / outf_train['ClubPlayed']\n",
    "\n",
    "outf_train['ClubInvolvedAssistsPerMatch'] = outf_train['ClubInvolvedAssists'] / outf_train['ClubInvolvedPlayed']\n",
    "outf_train['ClubInvolvedNonPenaltyGoalPerMatch'] = outf_train['ClubInvolvedNonPenaltyGoal'] / outf_train['ClubInvolvedPlayed']\n",
    "outf_train['ClubInvolvedYellowCardPerMatch'] = outf_train['ClubInvolvedYellowCard'] / outf_train['ClubInvolvedPlayed']\n",
    "outf_train['ClubInvolvedRedCardPerMatch'] = outf_train['ClubInvolvedRedCard'] / outf_train['ClubInvolvedPlayed']\n",
    "\n",
    "outf_train['ClubAssistsPerMatch'] = outf_train['ClubAssists'] / outf_train['ClubPlayed']\n",
    "outf_train['ClubNonPenaltyGoalPerMatch'] = outf_train['ClubNonPenaltyGoal'] / outf_train['ClubPlayed']\n",
    "outf_train['ClubYellowCardPerMatch'] = outf_train['ClubYellowCard'] / outf_train['ClubPlayed']\n",
    "outf_train['ClubRedCardPerMatch'] = outf_train['ClubRedCard'] / outf_train['ClubPlayed']\n",
    "\n",
    "outf_train['ClubInvolvedNumPlayersUsedPerMatch'] = outf_train['ClubInvolvedNumPlayersUsed'] / outf_train['ClubInvolvedPlayed']\n",
    "outf_train['ClubInvolvedShotsOnTargetPerMatch'] = outf_train['ClubInvolvedShotsOnTarget'] / outf_train['ClubInvolvedPlayed']\n",
    "outf_train['ClubInvolvedGoalPerShotOnTargetPerMatch'] = outf_train['ClubInvolvedGoalPerShotOnTarget'] / outf_train['ClubInvolvedPlayed']\n",
    "\n",
    "outf_train['ClubNumPlayersUsedPerMatch'] = outf_train['ClubNumPlayersUsed'] / outf_train['ClubPlayed']\n",
    "outf_train['ClubShotsOnTargetPerMatch'] = outf_train['ClubShotsOnTarget'] / outf_train['ClubPlayed']\n",
    "outf_train['ClubGoalPerShotOnTargetPerMatch'] = outf_train['ClubGoalPerShotOnTarget'] / outf_train['ClubPlayed']\n",
    "\n",
    "outf_train['ClubInvolvedShotOnTargetAgainstUsedPerMatch'] = outf_train['ClubInvolvedShotOnTargetAgainst'] / outf_train['ClubInvolvedPlayed']\n",
    "outf_train['ClubInvolvedCleanSheetsPerMatch'] = outf_train['ClubInvolvedCleanSheets'] / outf_train['ClubInvolvedPlayed']\n",
    "\n",
    "outf_train['ClubShotOnTargetAgainstUsedPerMatch'] = outf_train['ClubShotOnTargetAgainst'] / outf_train['ClubPlayed']\n",
    "outf_train['ClubCleanSheetsPerMatch'] = outf_train['ClubCleanSheets'] / outf_train['ClubPlayed']\n",
    "\n",
    "outf_train['MatchesPlayedPerClubMatches'] = outf_train['MatchesPlayed'] / outf_train['ClubInvolvedPlayed']\n",
    "outf_train['StartsPerClubMatches'] = outf_train['Starts'] / outf_train['ClubInvolvedPlayed']\n",
    "outf_train['NonPenaltyGoalsPerMinutes'] = outf_train['MatchesPlayed'] / outf_train['ClubInvolvedPlayed']\n",
    "outf_train['GoalsPerMinutesPlayed'] = outf_train['Goals'] / outf_train['MinutesPlayed']\n",
    "outf_train['AssistsPerMinutesPlayed'] = outf_train['Assists'] / outf_train['MinutesPlayed']\n",
    "outf_train['NonPenaltyGoalsPerMinutesPlayed'] = outf_train['NonPenaltyGoals'] / outf_train['MinutesPlayed']\n",
    "outf_train['YellowCardsPerMinutesPlayed'] = outf_train['YellowCards'] / outf_train['MinutesPlayed']\n",
    "outf_train['RedCardsPerMinutesPlayed'] = outf_train['RedCards'] / outf_train['MinutesPlayed']\n",
    "outf_train['ShotsOnTargetPerMinutesPlayed'] = outf_train['ShotsOnTarget'] / outf_train['MinutesPlayed']"
   ]
  },
  {
   "cell_type": "code",
   "execution_count": 58,
   "metadata": {},
   "outputs": [
    {
     "ename": "KeyError",
     "evalue": "'MatchesPlayed'",
     "output_type": "error",
     "traceback": [
      "\u001b[0;31m---------------------------------------------------------------------------\u001b[0m",
      "\u001b[0;31mKeyError\u001b[0m                                  Traceback (most recent call last)",
      "\u001b[0;32m/Library/Frameworks/Python.framework/Versions/3.8/lib/python3.8/site-packages/pandas/core/indexes/base.py\u001b[0m in \u001b[0;36mget_loc\u001b[0;34m(self, key, method, tolerance)\u001b[0m\n\u001b[1;32m   3079\u001b[0m             \u001b[0;32mtry\u001b[0m\u001b[0;34m:\u001b[0m\u001b[0;34m\u001b[0m\u001b[0;34m\u001b[0m\u001b[0m\n\u001b[0;32m-> 3080\u001b[0;31m                 \u001b[0;32mreturn\u001b[0m \u001b[0mself\u001b[0m\u001b[0;34m.\u001b[0m\u001b[0m_engine\u001b[0m\u001b[0;34m.\u001b[0m\u001b[0mget_loc\u001b[0m\u001b[0;34m(\u001b[0m\u001b[0mcasted_key\u001b[0m\u001b[0;34m)\u001b[0m\u001b[0;34m\u001b[0m\u001b[0;34m\u001b[0m\u001b[0m\n\u001b[0m\u001b[1;32m   3081\u001b[0m             \u001b[0;32mexcept\u001b[0m \u001b[0mKeyError\u001b[0m \u001b[0;32mas\u001b[0m \u001b[0merr\u001b[0m\u001b[0;34m:\u001b[0m\u001b[0;34m\u001b[0m\u001b[0;34m\u001b[0m\u001b[0m\n",
      "\u001b[0;32mpandas/_libs/index.pyx\u001b[0m in \u001b[0;36mpandas._libs.index.IndexEngine.get_loc\u001b[0;34m()\u001b[0m\n",
      "\u001b[0;32mpandas/_libs/index.pyx\u001b[0m in \u001b[0;36mpandas._libs.index.IndexEngine.get_loc\u001b[0;34m()\u001b[0m\n",
      "\u001b[0;32mpandas/_libs/hashtable_class_helper.pxi\u001b[0m in \u001b[0;36mpandas._libs.hashtable.PyObjectHashTable.get_item\u001b[0;34m()\u001b[0m\n",
      "\u001b[0;32mpandas/_libs/hashtable_class_helper.pxi\u001b[0m in \u001b[0;36mpandas._libs.hashtable.PyObjectHashTable.get_item\u001b[0;34m()\u001b[0m\n",
      "\u001b[0;31mKeyError\u001b[0m: 'MatchesPlayed'",
      "\nThe above exception was the direct cause of the following exception:\n",
      "\u001b[0;31mKeyError\u001b[0m                                  Traceback (most recent call last)",
      "\u001b[0;32m/var/folders/8m/8q13t9cn0917nvwcf017zkbc0000gn/T/ipykernel_20822/3456041283.py\u001b[0m in \u001b[0;36m<module>\u001b[0;34m\u001b[0m\n\u001b[1;32m     39\u001b[0m \u001b[0mgk_train\u001b[0m\u001b[0;34m[\u001b[0m\u001b[0;34m'ClubCleanSheetsPerMatch'\u001b[0m\u001b[0;34m]\u001b[0m \u001b[0;34m=\u001b[0m \u001b[0mgk_train\u001b[0m\u001b[0;34m[\u001b[0m\u001b[0;34m'ClubCleanSheets'\u001b[0m\u001b[0;34m]\u001b[0m \u001b[0;34m/\u001b[0m \u001b[0mgk_train\u001b[0m\u001b[0;34m[\u001b[0m\u001b[0;34m'ClubPlayed'\u001b[0m\u001b[0;34m]\u001b[0m\u001b[0;34m\u001b[0m\u001b[0;34m\u001b[0m\u001b[0m\n\u001b[1;32m     40\u001b[0m \u001b[0;34m\u001b[0m\u001b[0m\n\u001b[0;32m---> 41\u001b[0;31m \u001b[0mgk_train\u001b[0m\u001b[0;34m[\u001b[0m\u001b[0;34m'MatchesPlayedPerClubMatches'\u001b[0m\u001b[0;34m]\u001b[0m \u001b[0;34m=\u001b[0m \u001b[0mgk_train\u001b[0m\u001b[0;34m[\u001b[0m\u001b[0;34m'MatchesPlayed'\u001b[0m\u001b[0;34m]\u001b[0m \u001b[0;34m/\u001b[0m \u001b[0mgk_train\u001b[0m\u001b[0;34m[\u001b[0m\u001b[0;34m'ClubInvolvedPlayed'\u001b[0m\u001b[0;34m]\u001b[0m\u001b[0;34m\u001b[0m\u001b[0;34m\u001b[0m\u001b[0m\n\u001b[0m\u001b[1;32m     42\u001b[0m \u001b[0mgk_train\u001b[0m\u001b[0;34m[\u001b[0m\u001b[0;34m'StartsPerClubMatches'\u001b[0m\u001b[0;34m]\u001b[0m \u001b[0;34m=\u001b[0m \u001b[0mgk_train\u001b[0m\u001b[0;34m[\u001b[0m\u001b[0;34m'Starts'\u001b[0m\u001b[0;34m]\u001b[0m \u001b[0;34m/\u001b[0m \u001b[0mgk_train\u001b[0m\u001b[0;34m[\u001b[0m\u001b[0;34m'ClubInvolvedPlayed'\u001b[0m\u001b[0;34m]\u001b[0m\u001b[0;34m\u001b[0m\u001b[0;34m\u001b[0m\u001b[0m\n\u001b[1;32m     43\u001b[0m \u001b[0mgk_train\u001b[0m\u001b[0;34m[\u001b[0m\u001b[0;34m'NonPenaltyGoalsPerMinutes'\u001b[0m\u001b[0;34m]\u001b[0m \u001b[0;34m=\u001b[0m \u001b[0mgk_train\u001b[0m\u001b[0;34m[\u001b[0m\u001b[0;34m'MatchesPlayed'\u001b[0m\u001b[0;34m]\u001b[0m \u001b[0;34m/\u001b[0m \u001b[0mgk_train\u001b[0m\u001b[0;34m[\u001b[0m\u001b[0;34m'ClubInvolvedPlayed'\u001b[0m\u001b[0;34m]\u001b[0m\u001b[0;34m\u001b[0m\u001b[0;34m\u001b[0m\u001b[0m\n",
      "\u001b[0;32m/Library/Frameworks/Python.framework/Versions/3.8/lib/python3.8/site-packages/pandas/core/frame.py\u001b[0m in \u001b[0;36m__getitem__\u001b[0;34m(self, key)\u001b[0m\n\u001b[1;32m   3022\u001b[0m             \u001b[0;32mif\u001b[0m \u001b[0mself\u001b[0m\u001b[0;34m.\u001b[0m\u001b[0mcolumns\u001b[0m\u001b[0;34m.\u001b[0m\u001b[0mnlevels\u001b[0m \u001b[0;34m>\u001b[0m \u001b[0;36m1\u001b[0m\u001b[0;34m:\u001b[0m\u001b[0;34m\u001b[0m\u001b[0;34m\u001b[0m\u001b[0m\n\u001b[1;32m   3023\u001b[0m                 \u001b[0;32mreturn\u001b[0m \u001b[0mself\u001b[0m\u001b[0;34m.\u001b[0m\u001b[0m_getitem_multilevel\u001b[0m\u001b[0;34m(\u001b[0m\u001b[0mkey\u001b[0m\u001b[0;34m)\u001b[0m\u001b[0;34m\u001b[0m\u001b[0;34m\u001b[0m\u001b[0m\n\u001b[0;32m-> 3024\u001b[0;31m             \u001b[0mindexer\u001b[0m \u001b[0;34m=\u001b[0m \u001b[0mself\u001b[0m\u001b[0;34m.\u001b[0m\u001b[0mcolumns\u001b[0m\u001b[0;34m.\u001b[0m\u001b[0mget_loc\u001b[0m\u001b[0;34m(\u001b[0m\u001b[0mkey\u001b[0m\u001b[0;34m)\u001b[0m\u001b[0;34m\u001b[0m\u001b[0;34m\u001b[0m\u001b[0m\n\u001b[0m\u001b[1;32m   3025\u001b[0m             \u001b[0;32mif\u001b[0m \u001b[0mis_integer\u001b[0m\u001b[0;34m(\u001b[0m\u001b[0mindexer\u001b[0m\u001b[0;34m)\u001b[0m\u001b[0;34m:\u001b[0m\u001b[0;34m\u001b[0m\u001b[0;34m\u001b[0m\u001b[0m\n\u001b[1;32m   3026\u001b[0m                 \u001b[0mindexer\u001b[0m \u001b[0;34m=\u001b[0m \u001b[0;34m[\u001b[0m\u001b[0mindexer\u001b[0m\u001b[0;34m]\u001b[0m\u001b[0;34m\u001b[0m\u001b[0;34m\u001b[0m\u001b[0m\n",
      "\u001b[0;32m/Library/Frameworks/Python.framework/Versions/3.8/lib/python3.8/site-packages/pandas/core/indexes/base.py\u001b[0m in \u001b[0;36mget_loc\u001b[0;34m(self, key, method, tolerance)\u001b[0m\n\u001b[1;32m   3080\u001b[0m                 \u001b[0;32mreturn\u001b[0m \u001b[0mself\u001b[0m\u001b[0;34m.\u001b[0m\u001b[0m_engine\u001b[0m\u001b[0;34m.\u001b[0m\u001b[0mget_loc\u001b[0m\u001b[0;34m(\u001b[0m\u001b[0mcasted_key\u001b[0m\u001b[0;34m)\u001b[0m\u001b[0;34m\u001b[0m\u001b[0;34m\u001b[0m\u001b[0m\n\u001b[1;32m   3081\u001b[0m             \u001b[0;32mexcept\u001b[0m \u001b[0mKeyError\u001b[0m \u001b[0;32mas\u001b[0m \u001b[0merr\u001b[0m\u001b[0;34m:\u001b[0m\u001b[0;34m\u001b[0m\u001b[0;34m\u001b[0m\u001b[0m\n\u001b[0;32m-> 3082\u001b[0;31m                 \u001b[0;32mraise\u001b[0m \u001b[0mKeyError\u001b[0m\u001b[0;34m(\u001b[0m\u001b[0mkey\u001b[0m\u001b[0;34m)\u001b[0m \u001b[0;32mfrom\u001b[0m \u001b[0merr\u001b[0m\u001b[0;34m\u001b[0m\u001b[0;34m\u001b[0m\u001b[0m\n\u001b[0m\u001b[1;32m   3083\u001b[0m \u001b[0;34m\u001b[0m\u001b[0m\n\u001b[1;32m   3084\u001b[0m         \u001b[0;32mif\u001b[0m \u001b[0mtolerance\u001b[0m \u001b[0;32mis\u001b[0m \u001b[0;32mnot\u001b[0m \u001b[0;32mNone\u001b[0m\u001b[0;34m:\u001b[0m\u001b[0;34m\u001b[0m\u001b[0;34m\u001b[0m\u001b[0m\n",
      "\u001b[0;31mKeyError\u001b[0m: 'MatchesPlayed'"
     ]
    }
   ],
   "source": [
    "gk_train['ClubInvolvedPlayed'] = gk_train['ClubInvolvedWin'] + gk_train['ClubInvolvedDraw'] + gk_train['ClubInvolvedLoose']\n",
    "gk_train['ClubInvolvedWinPerMatch'] = gk_train['ClubInvolvedWin'] / gk_train['ClubInvolvedPlayed']\n",
    "gk_train['ClubInvolvedDrawPerMatch'] = gk_train['ClubInvolvedDraw'] / gk_train['ClubInvolvedPlayed']\n",
    "gk_train['ClubInvolvedLoosePerMatch'] = gk_train['ClubInvolvedLoose'] / gk_train['ClubInvolvedPlayed']\n",
    "gk_train['ClubInvolvedGoalForPerMatch'] = gk_train['ClubInvolvedGoalFor'] / gk_train['ClubInvolvedPlayed']\n",
    "gk_train['ClubInvolvedGoalAgainstPerMatch'] = gk_train['ClubInvolvedGoalAgainst'] / gk_train['ClubInvolvedPlayed']\n",
    "gk_train['ClubInvolvedPointsPerMatch'] = gk_train['ClubInvolvedPoints'] / gk_train['ClubInvolvedPlayed']\n",
    "\n",
    "gk_train['ClubPlayed'] = gk_train['ClubWin'] + gk_train['ClubDraw'] + gk_train['ClubLoose']\n",
    "gk_train['ClubWinPerMatch'] = gk_train['ClubWin'] / gk_train['ClubPlayed']\n",
    "gk_train['ClubDrawPerMatch'] = gk_train['ClubDraw'] / gk_train['ClubPlayed']\n",
    "gk_train['ClubLoosePerMatch'] = gk_train['ClubLoose'] / gk_train['ClubPlayed']\n",
    "gk_train['ClubGoalForPerMatch'] = gk_train['ClubGoalFor'] / gk_train['ClubPlayed']\n",
    "gk_train['ClubGoalAgainstPerMatch'] = gk_train['ClubGoalAgainst'] / gk_train['ClubPlayed']\n",
    "gk_train['ClubPointsPerMatch'] = gk_train['ClubPoint'] / gk_train['ClubPlayed']\n",
    "\n",
    "gk_train['ClubInvolvedAssistsPerMatch'] = gk_train['ClubInvolvedAssists'] / gk_train['ClubInvolvedPlayed']\n",
    "gk_train['ClubInvolvedNonPenaltyGoalPerMatch'] = gk_train['ClubInvolvedNonPenaltyGoal'] / gk_train['ClubInvolvedPlayed']\n",
    "gk_train['ClubInvolvedYellowCardPerMatch'] = gk_train['ClubInvolvedYellowCard'] / gk_train['ClubInvolvedPlayed']\n",
    "gk_train['ClubInvolvedRedCardPerMatch'] = gk_train['ClubInvolvedRedCard'] / gk_train['ClubInvolvedPlayed']\n",
    "\n",
    "gk_train['ClubAssistsPerMatch'] = gk_train['ClubAssists'] / gk_train['ClubPlayed']\n",
    "gk_train['ClubNonPenaltyGoalPerMatch'] = gk_train['ClubNonPenaltyGoal'] / gk_train['ClubPlayed']\n",
    "gk_train['ClubYellowCardPerMatch'] = gk_train['ClubYellowCard'] / gk_train['ClubPlayed']\n",
    "gk_train['ClubRedCardPerMatch'] = gk_train['ClubRedCard'] / gk_train['ClubPlayed']\n",
    "\n",
    "gk_train['ClubInvolvedNumPlayersUsedPerMatch'] = gk_train['ClubInvolvedNumPlayersUsed'] / gk_train['ClubInvolvedPlayed']\n",
    "gk_train['ClubInvolvedShotsOnTargetPerMatch'] = gk_train['ClubInvolvedShotsOnTarget'] / gk_train['ClubInvolvedPlayed']\n",
    "gk_train['ClubInvolvedGoalPerShotOnTargetPerMatch'] = gk_train['ClubInvolvedGoalPerShotOnTarget'] / gk_train['ClubInvolvedPlayed']\n",
    "\n",
    "gk_train['ClubNumPlayersUsedPerMatch'] = gk_train['ClubNumPlayersUsed'] / gk_train['ClubPlayed']\n",
    "gk_train['ClubShotsOnTargetPerMatch'] = gk_train['ClubShotsOnTarget'] / gk_train['ClubPlayed']\n",
    "gk_train['ClubGoalPerShotOnTargetPerMatch'] = gk_train['ClubGoalPerShotOnTarget'] / gk_train['ClubPlayed']\n",
    "\n",
    "gk_train['ClubInvolvedShotOnTargetAgainstUsedPerMatch'] = gk_train['ClubInvolvedShotOnTargetAgainst'] / gk_train['ClubInvolvedPlayed']\n",
    "gk_train['ClubInvolvedCleanSheetsPerMatch'] = gk_train['ClubInvolvedCleanSheets'] / gk_train['ClubInvolvedPlayed']\n",
    "\n",
    "gk_train['ClubShotOnTargetAgainstUsedPerMatch'] = gk_train['ClubShotOnTargetAgainst'] / gk_train['ClubPlayed']\n",
    "gk_train['ClubCleanSheetsPerMatch'] = gk_train['ClubCleanSheets'] / gk_train['ClubPlayed']\n",
    "\n",
    "gk_train['MatchesPlayedPerClubMatches'] = gk_train['MatchesPlayed'] / gk_train['ClubInvolvedPlayed']\n",
    "gk_train['StartsPerClubMatches'] = gk_train['Starts'] / gk_train['ClubInvolvedPlayed']\n",
    "gk_train['NonPenaltyGoalsPerMinutes'] = gk_train['MatchesPlayed'] / gk_train['ClubInvolvedPlayed']\n",
    "gk_train['GoalsPerMinutesPlayed'] = gk_train['Goals'] / gk_train['MinutesPlayed']\n",
    "gk_train['AssistsPerMinutesPlayed'] = gk_train['Assists'] / gk_train['MinutesPlayed']\n",
    "gk_train['NonPenaltyGoalsPerMinutesPlayed'] = gk_train['NonPenaltyGoals'] / gk_train['MinutesPlayed']\n",
    "gk_train['YellowCardsPerMinutesPlayed'] = gk_train['YellowCards'] / gk_train['MinutesPlayed']\n",
    "gk_train['RedCardsPerMinutesPlayed'] = gk_train['RedCards'] / gk_train['MinutesPlayed']\n",
    "gk_train['ShotsOnTargetPerMinutesPlayed'] = gk_train['ShotsOnTarget'] / gk_train['MinutesPlayed']"
   ]
  },
  {
   "cell_type": "code",
   "execution_count": 33,
   "metadata": {},
   "outputs": [],
   "source": [
    "outf_train = outf_train.drop(['ClubInvolvedPlayed', 'ClubInvolvedWin', 'ClubInvolvedDraw',\\\n",
    "     'ClubInvolvedLoose', 'ClubInvolvedGoalFor', 'ClubInvolvedGoalAgainst', 'ClubInvolvedPoints',\\\n",
    "          'ClubPlayed', 'ClubWin', 'ClubDraw', 'ClubLoose', 'ClubGoalFor', 'ClubGoalAgainst', 'ClubPoint',\\\n",
    "               'ClubInvolvedAssists', 'ClubInvolvedNonPenaltyGoal', 'ClubInvolvedYellowCard', 'ClubInvolvedRedCard',\\\n",
    "                    'ClubAssists', 'ClubNonPenaltyGoal', 'ClubYellowCard', 'ClubRedCard', 'ClubInvolvedNumPlayersUsed',\\\n",
    "                         'ClubInvolvedShotsOnTarget', 'ClubInvolvedGoalPerShotOnTarget', 'ClubNumPlayersUsed', 'ClubShotsOnTarget',\\\n",
    "                         'ClubGoalPerShotOnTarget', 'ClubInvolvedShotOnTargetAgainst', 'ClubInvolvedCleanSheets', 'ClubShotOnTargetAgainst',\\\n",
    "                              'ClubCleanSheets', 'MatchesPlayed', 'Starts', 'MatchesPlayed', 'Goals', 'Assists', 'NonPenaltyGoals', 'YellowCards',\\\n",
    "                                   'RedCards', 'ShotsOnTarget',  'GoalsPer90', 'AssistsPer90', 'GoalsAssistsPer90', 'ShotsOnTargetPer90'], axis=1)"
   ]
  },
  {
   "cell_type": "code",
   "execution_count": 34,
   "metadata": {},
   "outputs": [
    {
     "name": "stdout",
     "output_type": "stream",
     "text": [
      "['NewName', 'MarketValue', 'ClubInvolved', 'League', 'MainPosition', 'LeagueInvolved', 'CorrMarketValue', 'Country', 'Club', 'Position', 'Foot', 'IntReputation', 'Crossing', 'Finishing', 'Heading_accuracy', 'Short_passing', 'Volleys', 'Dribbling', 'Curve', 'FK_accuracy', 'Long_passing', 'Ball_control', 'Acceleration', 'Sprint_speed', 'Agility', 'Reactions', 'Balance', 'Shot_power', 'Jumping', 'Stamina', 'Strength', 'Long_shots', 'Aggression', 'Interceptions', 'Positioning', 'Vision', 'Penalties', 'Marking', 'Standing_tackle', 'Sliding_tackle', 'Season', 'Years', 'DEGREE', 'Eigv', 'SP_LA_LIGA', 'EN_PL', 'IT_SERIE_A', 'FR_LIGUE_1', 'GE_BUNDESLIGA', 'Fee', 'ClubInvolvedRank', 'ClubRank', 'ClubInvolvedAge', 'ClubAge', 'ClubInvolvedShotsOnTargetPer90', 'ClubShotsOnTargetPer90', 'ClubInvolvedGoalAgainstPer90', 'ClubInvolvedCleanSheetsRate', 'ClubGoalAgainstPer90', 'ClubCleanSheetsRate', 'MinutesPlayed', 'MinutesPlayedPer90', 'ContractLeft', 'Pace_main', 'Shooting_main', 'Dribbling_main', 'Defending_main', 'Passing_main', 'Physical_main', 'Age', 'ClubInvolvedWinPerMatch', 'ClubInvolvedDrawPerMatch', 'ClubInvolvedLoosePerMatch', 'ClubInvolvedGoalForPerMatch', 'ClubInvolvedGoalAgainstPerMatch', 'ClubInvolvedPointsPerMatch', 'ClubWinPerMatch', 'ClubDrawPerMatch', 'ClubLoosePerMatch', 'ClubGoalForPerMatch', 'ClubGoalAgainstPerMatch', 'ClubPointsPerMatch', 'ClubInvolvedAssistsPerMatch', 'ClubInvolvedNonPenaltyGoalPerMatch', 'ClubInvolvedYellowCardPerMatch', 'ClubInvolvedRedCardPerMatch', 'ClubAssistsPerMatch', 'ClubNonPenaltyGoalPerMatch', 'ClubYellowCardPerMatch', 'ClubRedCardPerMatch', 'ClubInvolvedNumPlayersUsedPerMatch', 'ClubInvolvedShotsOnTargetPerMatch', 'ClubInvolvedGoalPerShotOnTargetPerMatch', 'ClubNumPlayersUsedPerMatch', 'ClubShotsOnTargetPerMatch', 'ClubGoalPerShotOnTargetPerMatch', 'ClubInvolvedShotOnTargetAgainstUsedPerMatch', 'ClubInvolvedCleanSheetsPerMatch', 'ClubShotOnTargetAgainstUsedPerMatch', 'ClubCleanSheetsPerMatch', 'MatchesPlayedPerClubMatches', 'StartsPerClubMatches', 'NonPenaltyGoalsPerMinutes', 'GoalsPerMinutesPlayed', 'AssistsPerMinutesPlayed', 'NonPenaltyGoalsPerMinutesPlayed', 'YellowCardsPerMinutesPlayed', 'RedCardsPerMinutesPlayed', 'ShotsOnTargetPerMinutesPlayed']\n"
     ]
    }
   ],
   "source": [
    "print(list(outf_train.columns))"
   ]
  },
  {
   "cell_type": "code",
   "execution_count": 35,
   "metadata": {},
   "outputs": [],
   "source": [
    "outf_train_df = outf_train.copy()\n"
   ]
  },
  {
   "cell_type": "code",
   "execution_count": 36,
   "metadata": {},
   "outputs": [
    {
     "name": "stdout",
     "output_type": "stream",
     "text": [
      "<class 'pandas.core.frame.DataFrame'>\n",
      "Int64Index: 11028 entries, 95 to 16640\n",
      "Columns: 109 entries, NewName to ShotsOnTargetPerMinutesPlayed\n",
      "dtypes: float64(70), int64(29), object(10)\n",
      "memory usage: 9.3+ MB\n"
     ]
    }
   ],
   "source": [
    "outf_train_df.info()"
   ]
  },
  {
   "cell_type": "code",
   "execution_count": 42,
   "metadata": {},
   "outputs": [
    {
     "data": {
      "text/plain": [
       "count    8859.000000\n",
       "mean        3.977810\n",
       "std         9.107186\n",
       "min         0.000000\n",
       "25%         0.050000\n",
       "50%         0.890000\n",
       "75%         3.800000\n",
       "max       222.000000\n",
       "Name: Fee, dtype: float64"
      ]
     },
     "execution_count": 42,
     "metadata": {},
     "output_type": "execute_result"
    }
   ],
   "source": [
    "outf_train_df.Fee.describe()"
   ]
  },
  {
   "cell_type": "code",
   "execution_count": 37,
   "metadata": {},
   "outputs": [],
   "source": [
    "outf_train_df.to_csv(f\"/Users/{os.environ['USER']}/Documents/Uni/Szakdoga/Adatok/TRAIN2.csv\")"
   ]
  },
  {
   "cell_type": "code",
   "execution_count": 38,
   "metadata": {},
   "outputs": [],
   "source": [
    "league_outf_train_df = outf_train_df.drop(['NewName', 'MarketValue','ClubInvolved', 'Club', 'ClubRank', 'ClubAge', 'ClubShotsOnTargetPer90',\\\n",
    "    'ClubGoalAgainstPer90', 'ClubCleanSheetsRate', 'ClubWinPerMatch', 'ClubDrawPerMatch', 'ClubLoosePerMatch', 'ClubGoalForPerMatch', 'ClubGoalAgainstPerMatch',\\\n",
    "        'ClubPointsPerMatch', 'ClubAssistsPerMatch', 'ClubNonPenaltyGoalPerMatch', 'ClubYellowCardPerMatch', 'ClubRedCardPerMatch','ClubNumPlayersUsedPerMatch',\\\n",
    "            'ClubShotsOnTargetPerMatch', 'ClubGoalPerShotOnTargetPerMatch', 'ClubShotOnTargetAgainstUsedPerMatch', 'ClubCleanSheetsPerMatch'], axis = 1)\n",
    "club_outf_train_df = outf_train_df.drop(['NewName', 'MarketValue'], axis = 1)"
   ]
  },
  {
   "cell_type": "code",
   "execution_count": 39,
   "metadata": {},
   "outputs": [
    {
     "name": "stdout",
     "output_type": "stream",
     "text": [
      "['League', 'MainPosition', 'LeagueInvolved', 'CorrMarketValue', 'Country', 'Position', 'Foot', 'IntReputation', 'Crossing', 'Finishing', 'Heading_accuracy', 'Short_passing', 'Volleys', 'Dribbling', 'Curve', 'FK_accuracy', 'Long_passing', 'Ball_control', 'Acceleration', 'Sprint_speed', 'Agility', 'Reactions', 'Balance', 'Shot_power', 'Jumping', 'Stamina', 'Strength', 'Long_shots', 'Aggression', 'Interceptions', 'Positioning', 'Vision', 'Penalties', 'Marking', 'Standing_tackle', 'Sliding_tackle', 'Season', 'Years', 'DEGREE', 'Eigv', 'SP_LA_LIGA', 'EN_PL', 'IT_SERIE_A', 'FR_LIGUE_1', 'GE_BUNDESLIGA', 'Fee', 'ClubInvolvedRank', 'ClubInvolvedAge', 'ClubInvolvedShotsOnTargetPer90', 'ClubInvolvedGoalAgainstPer90', 'ClubInvolvedCleanSheetsRate', 'MinutesPlayed', 'MinutesPlayedPer90', 'ContractLeft', 'Pace_main', 'Shooting_main', 'Dribbling_main', 'Defending_main', 'Passing_main', 'Physical_main', 'Age', 'ClubInvolvedWinPerMatch', 'ClubInvolvedDrawPerMatch', 'ClubInvolvedLoosePerMatch', 'ClubInvolvedGoalForPerMatch', 'ClubInvolvedGoalAgainstPerMatch', 'ClubInvolvedPointsPerMatch', 'ClubInvolvedAssistsPerMatch', 'ClubInvolvedNonPenaltyGoalPerMatch', 'ClubInvolvedYellowCardPerMatch', 'ClubInvolvedRedCardPerMatch', 'ClubInvolvedNumPlayersUsedPerMatch', 'ClubInvolvedShotsOnTargetPerMatch', 'ClubInvolvedGoalPerShotOnTargetPerMatch', 'ClubInvolvedShotOnTargetAgainstUsedPerMatch', 'ClubInvolvedCleanSheetsPerMatch', 'MatchesPlayedPerClubMatches', 'StartsPerClubMatches', 'NonPenaltyGoalsPerMinutes', 'GoalsPerMinutesPlayed', 'AssistsPerMinutesPlayed', 'NonPenaltyGoalsPerMinutesPlayed', 'YellowCardsPerMinutesPlayed', 'RedCardsPerMinutesPlayed', 'ShotsOnTargetPerMinutesPlayed']\n"
     ]
    }
   ],
   "source": [
    "print(list(league_outf_train_df.columns))"
   ]
  },
  {
   "cell_type": "code",
   "execution_count": 37,
   "metadata": {},
   "outputs": [],
   "source": [
    "league_outf_train_df['target'] = 0\n",
    "league_outf_train_df.loc[league_outf_train_df.League == 'Spain Primera Division', 'target'] = 1"
   ]
  },
  {
   "cell_type": "code",
   "execution_count": 316,
   "metadata": {},
   "outputs": [],
   "source": [
    "club_outf_train_df['target'] = 0\n",
    "club_outf_train_df.loc[club_outf_train_df.Club == 'Chelsea', 'target'] = 1"
   ]
  },
  {
   "cell_type": "code",
   "execution_count": 38,
   "metadata": {},
   "outputs": [
    {
     "data": {
      "text/plain": [
       "0    10034\n",
       "1      994\n",
       "Name: target, dtype: int64"
      ]
     },
     "execution_count": 38,
     "metadata": {},
     "output_type": "execute_result"
    }
   ],
   "source": [
    "league_outf_train_df['target'].value_counts()"
   ]
  },
  {
   "cell_type": "code",
   "execution_count": 317,
   "metadata": {},
   "outputs": [
    {
     "data": {
      "text/plain": [
       "0    15108\n",
       "1       62\n",
       "Name: target, dtype: int64"
      ]
     },
     "execution_count": 317,
     "metadata": {},
     "output_type": "execute_result"
    }
   ],
   "source": [
    "club_outf_train_df['target'].value_counts()"
   ]
  },
  {
   "cell_type": "code",
   "execution_count": 319,
   "metadata": {},
   "outputs": [],
   "source": [
    "club_outf_train_df = club_outf_train_df.drop(['ClubInvolved', 'Club', 'League'], axis=1)"
   ]
  },
  {
   "cell_type": "code",
   "execution_count": 329,
   "metadata": {},
   "outputs": [],
   "source": [
    "club_outf_train_df.to_csv(f\"/Users/{os.environ['USER']}/Documents/Uni/Szakdoga/Adatok/train_chelsea.csv\")"
   ]
  },
  {
   "cell_type": "code",
   "execution_count": 330,
   "metadata": {},
   "outputs": [],
   "source": [
    "club_outf_train_df.to_excel(f\"/Users/{os.environ['USER']}/Documents/Uni/Szakdoga/Adatok/train_chelsea.xlsx\")"
   ]
  },
  {
   "cell_type": "code",
   "execution_count": 328,
   "metadata": {},
   "outputs": [
    {
     "data": {
      "text/html": [
       "<div>\n",
       "<style scoped>\n",
       "    .dataframe tbody tr th:only-of-type {\n",
       "        vertical-align: middle;\n",
       "    }\n",
       "\n",
       "    .dataframe tbody tr th {\n",
       "        vertical-align: top;\n",
       "    }\n",
       "\n",
       "    .dataframe thead th {\n",
       "        text-align: right;\n",
       "    }\n",
       "</style>\n",
       "<table border=\"1\" class=\"dataframe\">\n",
       "  <thead>\n",
       "    <tr style=\"text-align: right;\">\n",
       "      <th></th>\n",
       "      <th>MainPosition</th>\n",
       "      <th>LeagueInvolved</th>\n",
       "      <th>CorrMarketValue</th>\n",
       "      <th>Country</th>\n",
       "      <th>Position</th>\n",
       "      <th>Foot</th>\n",
       "      <th>IntReputation</th>\n",
       "      <th>Crossing</th>\n",
       "      <th>Finishing</th>\n",
       "      <th>Heading_accuracy</th>\n",
       "      <th>...</th>\n",
       "      <th>MatchesPlayedPerClubMatches</th>\n",
       "      <th>StartsPerClubMatches</th>\n",
       "      <th>NonPenaltyGoalsPerMinutes</th>\n",
       "      <th>GoalsPerMinutesPlayed</th>\n",
       "      <th>AssistsPerMinutesPlayed</th>\n",
       "      <th>NonPenaltyGoalsPerMinutesPlayed</th>\n",
       "      <th>YellowCardsPerMinutesPlayed</th>\n",
       "      <th>RedCardsPerMinutesPlayed</th>\n",
       "      <th>ShotsOnTargetPerMinutesPlayed</th>\n",
       "      <th>target</th>\n",
       "    </tr>\n",
       "  </thead>\n",
       "  <tbody>\n",
       "    <tr>\n",
       "      <th>0</th>\n",
       "      <td>Forward</td>\n",
       "      <td>Brazil</td>\n",
       "      <td>5.0</td>\n",
       "      <td>Brazil</td>\n",
       "      <td>RW</td>\n",
       "      <td>Right</td>\n",
       "      <td>1</td>\n",
       "      <td>78</td>\n",
       "      <td>73</td>\n",
       "      <td>58</td>\n",
       "      <td>...</td>\n",
       "      <td>NaN</td>\n",
       "      <td>NaN</td>\n",
       "      <td>NaN</td>\n",
       "      <td>NaN</td>\n",
       "      <td>NaN</td>\n",
       "      <td>NaN</td>\n",
       "      <td>NaN</td>\n",
       "      <td>NaN</td>\n",
       "      <td>NaN</td>\n",
       "      <td>0</td>\n",
       "    </tr>\n",
       "    <tr>\n",
       "      <th>1</th>\n",
       "      <td>Midfielder</td>\n",
       "      <td>Brazil</td>\n",
       "      <td>2.5</td>\n",
       "      <td>Brazil</td>\n",
       "      <td>CAM</td>\n",
       "      <td>Left</td>\n",
       "      <td>1</td>\n",
       "      <td>66</td>\n",
       "      <td>74</td>\n",
       "      <td>54</td>\n",
       "      <td>...</td>\n",
       "      <td>NaN</td>\n",
       "      <td>NaN</td>\n",
       "      <td>NaN</td>\n",
       "      <td>NaN</td>\n",
       "      <td>NaN</td>\n",
       "      <td>NaN</td>\n",
       "      <td>NaN</td>\n",
       "      <td>NaN</td>\n",
       "      <td>NaN</td>\n",
       "      <td>0</td>\n",
       "    </tr>\n",
       "    <tr>\n",
       "      <th>2</th>\n",
       "      <td>Midfielder</td>\n",
       "      <td>Brazil</td>\n",
       "      <td>5.0</td>\n",
       "      <td>Brazil</td>\n",
       "      <td>CDM</td>\n",
       "      <td>Right</td>\n",
       "      <td>1</td>\n",
       "      <td>62</td>\n",
       "      <td>65</td>\n",
       "      <td>62</td>\n",
       "      <td>...</td>\n",
       "      <td>NaN</td>\n",
       "      <td>NaN</td>\n",
       "      <td>NaN</td>\n",
       "      <td>0.000521</td>\n",
       "      <td>0.000521</td>\n",
       "      <td>0.000521</td>\n",
       "      <td>0.004685</td>\n",
       "      <td>0.0</td>\n",
       "      <td>0.002082</td>\n",
       "      <td>0</td>\n",
       "    </tr>\n",
       "    <tr>\n",
       "      <th>3</th>\n",
       "      <td>Forward</td>\n",
       "      <td>Brazil</td>\n",
       "      <td>4.0</td>\n",
       "      <td>Brazil</td>\n",
       "      <td>LM</td>\n",
       "      <td>Left</td>\n",
       "      <td>1</td>\n",
       "      <td>72</td>\n",
       "      <td>69</td>\n",
       "      <td>57</td>\n",
       "      <td>...</td>\n",
       "      <td>NaN</td>\n",
       "      <td>NaN</td>\n",
       "      <td>NaN</td>\n",
       "      <td>NaN</td>\n",
       "      <td>NaN</td>\n",
       "      <td>NaN</td>\n",
       "      <td>NaN</td>\n",
       "      <td>NaN</td>\n",
       "      <td>NaN</td>\n",
       "      <td>0</td>\n",
       "    </tr>\n",
       "    <tr>\n",
       "      <th>4</th>\n",
       "      <td>Forward</td>\n",
       "      <td>Argentina</td>\n",
       "      <td>3.0</td>\n",
       "      <td>Argentina</td>\n",
       "      <td>ST</td>\n",
       "      <td>Right</td>\n",
       "      <td>1</td>\n",
       "      <td>48</td>\n",
       "      <td>77</td>\n",
       "      <td>71</td>\n",
       "      <td>...</td>\n",
       "      <td>NaN</td>\n",
       "      <td>NaN</td>\n",
       "      <td>NaN</td>\n",
       "      <td>NaN</td>\n",
       "      <td>NaN</td>\n",
       "      <td>NaN</td>\n",
       "      <td>NaN</td>\n",
       "      <td>NaN</td>\n",
       "      <td>NaN</td>\n",
       "      <td>0</td>\n",
       "    </tr>\n",
       "  </tbody>\n",
       "</table>\n",
       "<p>5 rows × 103 columns</p>\n",
       "</div>"
      ],
      "text/plain": [
       "  MainPosition LeagueInvolved  CorrMarketValue    Country Position   Foot  \\\n",
       "0      Forward         Brazil              5.0     Brazil       RW  Right   \n",
       "1   Midfielder         Brazil              2.5     Brazil      CAM   Left   \n",
       "2   Midfielder         Brazil              5.0     Brazil      CDM  Right   \n",
       "3      Forward         Brazil              4.0     Brazil       LM   Left   \n",
       "4      Forward      Argentina              3.0  Argentina       ST  Right   \n",
       "\n",
       "   IntReputation  Crossing  Finishing  Heading_accuracy  ...  \\\n",
       "0              1        78         73                58  ...   \n",
       "1              1        66         74                54  ...   \n",
       "2              1        62         65                62  ...   \n",
       "3              1        72         69                57  ...   \n",
       "4              1        48         77                71  ...   \n",
       "\n",
       "   MatchesPlayedPerClubMatches  StartsPerClubMatches  \\\n",
       "0                          NaN                   NaN   \n",
       "1                          NaN                   NaN   \n",
       "2                          NaN                   NaN   \n",
       "3                          NaN                   NaN   \n",
       "4                          NaN                   NaN   \n",
       "\n",
       "   NonPenaltyGoalsPerMinutes  GoalsPerMinutesPlayed  AssistsPerMinutesPlayed  \\\n",
       "0                        NaN                    NaN                      NaN   \n",
       "1                        NaN                    NaN                      NaN   \n",
       "2                        NaN               0.000521                 0.000521   \n",
       "3                        NaN                    NaN                      NaN   \n",
       "4                        NaN                    NaN                      NaN   \n",
       "\n",
       "   NonPenaltyGoalsPerMinutesPlayed  YellowCardsPerMinutesPlayed  \\\n",
       "0                              NaN                          NaN   \n",
       "1                              NaN                          NaN   \n",
       "2                         0.000521                     0.004685   \n",
       "3                              NaN                          NaN   \n",
       "4                              NaN                          NaN   \n",
       "\n",
       "   RedCardsPerMinutesPlayed  ShotsOnTargetPerMinutesPlayed  target  \n",
       "0                       NaN                            NaN       0  \n",
       "1                       NaN                            NaN       0  \n",
       "2                       0.0                       0.002082       0  \n",
       "3                       NaN                            NaN       0  \n",
       "4                       NaN                            NaN       0  \n",
       "\n",
       "[5 rows x 103 columns]"
      ]
     },
     "execution_count": 328,
     "metadata": {},
     "output_type": "execute_result"
    }
   ],
   "source": [
    "club_outf_train_df.head()"
   ]
  },
  {
   "cell_type": "code",
   "execution_count": 39,
   "metadata": {},
   "outputs": [],
   "source": [
    "league_outf_train_df = league_outf_train_df.drop('League', axis = 1)"
   ]
  },
  {
   "cell_type": "code",
   "execution_count": 40,
   "metadata": {},
   "outputs": [],
   "source": [
    "#set feature list and target\n",
    "feature_list = list(league_outf_train_df.columns.values)\n",
    "feature_list.remove('target')\n",
    "target = 'target'\n",
    "\n",
    "# define dataset\n",
    "X = league_outf_train_df[feature_list]\n",
    "y = league_outf_train_df[target]"
   ]
  },
  {
   "cell_type": "code",
   "execution_count": 348,
   "metadata": {},
   "outputs": [
    {
     "ename": "ValueError",
     "evalue": "list.remove(x): x not in list",
     "output_type": "error",
     "traceback": [
      "\u001b[0;31m---------------------------------------------------------------------------\u001b[0m",
      "\u001b[0;31mValueError\u001b[0m                                Traceback (most recent call last)",
      "\u001b[0;32m/var/folders/8m/8q13t9cn0917nvwcf017zkbc0000gn/T/ipykernel_23568/3622149839.py\u001b[0m in \u001b[0;36m<module>\u001b[0;34m\u001b[0m\n\u001b[1;32m      1\u001b[0m \u001b[0;31m#set feature list and target\u001b[0m\u001b[0;34m\u001b[0m\u001b[0;34m\u001b[0m\u001b[0;34m\u001b[0m\u001b[0m\n\u001b[1;32m      2\u001b[0m \u001b[0mfeature_list\u001b[0m \u001b[0;34m=\u001b[0m \u001b[0mlist\u001b[0m\u001b[0;34m(\u001b[0m\u001b[0mclub_outf_train_df\u001b[0m\u001b[0;34m.\u001b[0m\u001b[0mcolumns\u001b[0m\u001b[0;34m.\u001b[0m\u001b[0mvalues\u001b[0m\u001b[0;34m)\u001b[0m\u001b[0;34m\u001b[0m\u001b[0;34m\u001b[0m\u001b[0m\n\u001b[0;32m----> 3\u001b[0;31m \u001b[0mfeature_list\u001b[0m\u001b[0;34m.\u001b[0m\u001b[0mremove\u001b[0m\u001b[0;34m(\u001b[0m\u001b[0;34m'target'\u001b[0m\u001b[0;34m)\u001b[0m\u001b[0;34m\u001b[0m\u001b[0;34m\u001b[0m\u001b[0m\n\u001b[0m\u001b[1;32m      4\u001b[0m \u001b[0mtarget\u001b[0m \u001b[0;34m=\u001b[0m \u001b[0;34m'target'\u001b[0m\u001b[0;34m\u001b[0m\u001b[0;34m\u001b[0m\u001b[0m\n\u001b[1;32m      5\u001b[0m \u001b[0;34m\u001b[0m\u001b[0m\n",
      "\u001b[0;31mValueError\u001b[0m: list.remove(x): x not in list"
     ]
    }
   ],
   "source": [
    "#set feature list and target\n",
    "feature_list = list(club_outf_train_df.columns.values)\n",
    "feature_list.remove('target')\n",
    "target = 'target'\n",
    "\n",
    "# define dataset\n",
    "X = club_outf_train_df[feature_list]\n",
    "y = club_outf_train_df[target]"
   ]
  },
  {
   "cell_type": "code",
   "execution_count": 41,
   "metadata": {},
   "outputs": [],
   "source": [
    "#encoding the categorival variables using target encoding\n",
    "cbe_encoder = ce.cat_boost.CatBoostEncoder()\n",
    "X_cbe = cbe_encoder.fit_transform(X,y)"
   ]
  },
  {
   "cell_type": "code",
   "execution_count": 42,
   "metadata": {},
   "outputs": [
    {
     "name": "stderr",
     "output_type": "stream",
     "text": [
      "/Library/Frameworks/Python.framework/Versions/3.8/lib/python3.8/site-packages/sklearn/impute/_iterative.py:699: ConvergenceWarning: [IterativeImputer] Early stopping criterion not reached.\n",
      "  warnings.warn(\n"
     ]
    }
   ],
   "source": [
    "#Impute missing values\n",
    "imputer = IterativeImputer()\n",
    "imputer.fit(X_cbe)\n",
    "X_imp = imputer.transform(X_cbe)\n",
    "X_imp = pd.DataFrame(data = X_imp, columns = X_cbe.columns)"
   ]
  },
  {
   "cell_type": "code",
   "execution_count": 43,
   "metadata": {},
   "outputs": [],
   "source": [
    "#standardization \n",
    "scaler = StandardScaler()\n",
    "X_imp_st = scaler.fit_transform(X_imp)\n",
    "X_imp_st = pd.DataFrame(data = X_imp_st, columns=X_imp.columns)"
   ]
  },
  {
   "cell_type": "code",
   "execution_count": 44,
   "metadata": {},
   "outputs": [
    {
     "name": "stderr",
     "output_type": "stream",
     "text": [
      "/Library/Frameworks/Python.framework/Versions/3.8/lib/python3.8/site-packages/xgboost/sklearn.py:1146: UserWarning: The use of label encoder in XGBClassifier is deprecated and will be removed in a future release. To remove this warning, do the following: 1) Pass option use_label_encoder=False when constructing XGBClassifier object; and 2) Encode your labels (y) as integers starting with 0, i.e. 0, 1, 2, ..., [num_class - 1].\n",
      "  warnings.warn(label_encoder_deprecation_msg, UserWarning)\n",
      "/Library/Frameworks/Python.framework/Versions/3.8/lib/python3.8/site-packages/xgboost/sklearn.py:1146: UserWarning: The use of label encoder in XGBClassifier is deprecated and will be removed in a future release. To remove this warning, do the following: 1) Pass option use_label_encoder=False when constructing XGBClassifier object; and 2) Encode your labels (y) as integers starting with 0, i.e. 0, 1, 2, ..., [num_class - 1].\n",
      "  warnings.warn(label_encoder_deprecation_msg, UserWarning)\n",
      "/Library/Frameworks/Python.framework/Versions/3.8/lib/python3.8/site-packages/xgboost/sklearn.py:1146: UserWarning: The use of label encoder in XGBClassifier is deprecated and will be removed in a future release. To remove this warning, do the following: 1) Pass option use_label_encoder=False when constructing XGBClassifier object; and 2) Encode your labels (y) as integers starting with 0, i.e. 0, 1, 2, ..., [num_class - 1].\n",
      "  warnings.warn(label_encoder_deprecation_msg, UserWarning)\n",
      "/Library/Frameworks/Python.framework/Versions/3.8/lib/python3.8/site-packages/xgboost/sklearn.py:1146: UserWarning: The use of label encoder in XGBClassifier is deprecated and will be removed in a future release. To remove this warning, do the following: 1) Pass option use_label_encoder=False when constructing XGBClassifier object; and 2) Encode your labels (y) as integers starting with 0, i.e. 0, 1, 2, ..., [num_class - 1].\n",
      "  warnings.warn(label_encoder_deprecation_msg, UserWarning)\n"
     ]
    },
    {
     "name": "stdout",
     "output_type": "stream",
     "text": [
      "[18:27:36] WARNING: /Users/travis/build/dmlc/xgboost/src/learner.cc:1095: Starting in XGBoost 1.3.0, the default evaluation metric used with the objective 'binary:logistic' was changed from 'error' to 'logloss'. Explicitly set eval_metric if you'd like to restore the old behavior.\n",
      "[18:27:36] WARNING: /Users/travis/build/dmlc/xgboost/src/learner.cc:1095: Starting in XGBoost 1.3.0, the default evaluation metric used with the objective 'binary:logistic' was changed from 'error' to 'logloss'. Explicitly set eval_metric if you'd like to restore the old behavior.\n",
      "[18:27:36] WARNING: /Users/travis/build/dmlc/xgboost/src/learner.cc:1095: Starting in XGBoost 1.3.0, the default evaluation metric used with the objective 'binary:logistic' was changed from 'error' to 'logloss'. Explicitly set eval_metric if you'd like to restore the old behavior.\n",
      "[18:27:36] WARNING: /Users/travis/build/dmlc/xgboost/src/learner.cc:1095: Starting in XGBoost 1.3.0, the default evaluation metric used with the objective 'binary:logistic' was changed from 'error' to 'logloss'. Explicitly set eval_metric if you'd like to restore the old behavior.\n"
     ]
    },
    {
     "name": "stderr",
     "output_type": "stream",
     "text": [
      "/Library/Frameworks/Python.framework/Versions/3.8/lib/python3.8/site-packages/xgboost/data.py:112: UserWarning: Use subset (sliced data) of np.ndarray is not recommended because it will generate extra copies and increase memory consumption\n",
      "  warnings.warn(\n",
      "/Library/Frameworks/Python.framework/Versions/3.8/lib/python3.8/site-packages/xgboost/data.py:112: UserWarning: Use subset (sliced data) of np.ndarray is not recommended because it will generate extra copies and increase memory consumption\n",
      "  warnings.warn(\n",
      "/Library/Frameworks/Python.framework/Versions/3.8/lib/python3.8/site-packages/xgboost/data.py:112: UserWarning: Use subset (sliced data) of np.ndarray is not recommended because it will generate extra copies and increase memory consumption\n",
      "  warnings.warn(\n",
      "/Library/Frameworks/Python.framework/Versions/3.8/lib/python3.8/site-packages/xgboost/data.py:112: UserWarning: Use subset (sliced data) of np.ndarray is not recommended because it will generate extra copies and increase memory consumption\n",
      "  warnings.warn(\n",
      "/Library/Frameworks/Python.framework/Versions/3.8/lib/python3.8/site-packages/xgboost/data.py:112: UserWarning: Use subset (sliced data) of np.ndarray is not recommended because it will generate extra copies and increase memory consumption\n",
      "  warnings.warn(\n",
      "/Library/Frameworks/Python.framework/Versions/3.8/lib/python3.8/site-packages/xgboost/data.py:112: UserWarning: Use subset (sliced data) of np.ndarray is not recommended because it will generate extra copies and increase memory consumption\n",
      "  warnings.warn(\n",
      "/Library/Frameworks/Python.framework/Versions/3.8/lib/python3.8/site-packages/xgboost/data.py:112: UserWarning: Use subset (sliced data) of np.ndarray is not recommended because it will generate extra copies and increase memory consumption\n",
      "  warnings.warn(\n",
      "/Library/Frameworks/Python.framework/Versions/3.8/lib/python3.8/site-packages/xgboost/data.py:112: UserWarning: Use subset (sliced data) of np.ndarray is not recommended because it will generate extra copies and increase memory consumption\n",
      "  warnings.warn(\n",
      "/Library/Frameworks/Python.framework/Versions/3.8/lib/python3.8/site-packages/xgboost/sklearn.py:1146: UserWarning: The use of label encoder in XGBClassifier is deprecated and will be removed in a future release. To remove this warning, do the following: 1) Pass option use_label_encoder=False when constructing XGBClassifier object; and 2) Encode your labels (y) as integers starting with 0, i.e. 0, 1, 2, ..., [num_class - 1].\n",
      "  warnings.warn(label_encoder_deprecation_msg, UserWarning)\n",
      "/Library/Frameworks/Python.framework/Versions/3.8/lib/python3.8/site-packages/xgboost/sklearn.py:1146: UserWarning: The use of label encoder in XGBClassifier is deprecated and will be removed in a future release. To remove this warning, do the following: 1) Pass option use_label_encoder=False when constructing XGBClassifier object; and 2) Encode your labels (y) as integers starting with 0, i.e. 0, 1, 2, ..., [num_class - 1].\n",
      "  warnings.warn(label_encoder_deprecation_msg, UserWarning)\n",
      "/Library/Frameworks/Python.framework/Versions/3.8/lib/python3.8/site-packages/xgboost/sklearn.py:1146: UserWarning: The use of label encoder in XGBClassifier is deprecated and will be removed in a future release. To remove this warning, do the following: 1) Pass option use_label_encoder=False when constructing XGBClassifier object; and 2) Encode your labels (y) as integers starting with 0, i.e. 0, 1, 2, ..., [num_class - 1].\n",
      "  warnings.warn(label_encoder_deprecation_msg, UserWarning)\n",
      "/Library/Frameworks/Python.framework/Versions/3.8/lib/python3.8/site-packages/xgboost/sklearn.py:1146: UserWarning: The use of label encoder in XGBClassifier is deprecated and will be removed in a future release. To remove this warning, do the following: 1) Pass option use_label_encoder=False when constructing XGBClassifier object; and 2) Encode your labels (y) as integers starting with 0, i.e. 0, 1, 2, ..., [num_class - 1].\n",
      "  warnings.warn(label_encoder_deprecation_msg, UserWarning)\n"
     ]
    },
    {
     "name": "stdout",
     "output_type": "stream",
     "text": [
      "[18:28:01] WARNING: /Users/travis/build/dmlc/xgboost/src/learner.cc:1095: Starting in XGBoost 1.3.0, the default evaluation metric used with the objective 'binary:logistic' was changed from 'error' to 'logloss'. Explicitly set eval_metric if you'd like to restore the old behavior.\n",
      "[18:28:01] WARNING: /Users/travis/build/dmlc/xgboost/src/learner.cc:1095: Starting in XGBoost 1.3.0, the default evaluation metric used with the objective 'binary:logistic' was changed from 'error' to 'logloss'. Explicitly set eval_metric if you'd like to restore the old behavior.\n",
      "[18:28:01] WARNING: /Users/travis/build/dmlc/xgboost/src/learner.cc:1095: Starting in XGBoost 1.3.0, the default evaluation metric used with the objective 'binary:logistic' was changed from 'error' to 'logloss'. Explicitly set eval_metric if you'd like to restore the old behavior.\n",
      "[18:28:01] WARNING: /Users/travis/build/dmlc/xgboost/src/learner.cc:1095: Starting in XGBoost 1.3.0, the default evaluation metric used with the objective 'binary:logistic' was changed from 'error' to 'logloss'. Explicitly set eval_metric if you'd like to restore the old behavior.\n"
     ]
    },
    {
     "name": "stderr",
     "output_type": "stream",
     "text": [
      "/Library/Frameworks/Python.framework/Versions/3.8/lib/python3.8/site-packages/xgboost/data.py:112: UserWarning: Use subset (sliced data) of np.ndarray is not recommended because it will generate extra copies and increase memory consumption\n",
      "  warnings.warn(\n",
      "/Library/Frameworks/Python.framework/Versions/3.8/lib/python3.8/site-packages/xgboost/data.py:112: UserWarning: Use subset (sliced data) of np.ndarray is not recommended because it will generate extra copies and increase memory consumption\n",
      "  warnings.warn(\n",
      "/Library/Frameworks/Python.framework/Versions/3.8/lib/python3.8/site-packages/xgboost/data.py:112: UserWarning: Use subset (sliced data) of np.ndarray is not recommended because it will generate extra copies and increase memory consumption\n",
      "  warnings.warn(\n",
      "/Library/Frameworks/Python.framework/Versions/3.8/lib/python3.8/site-packages/xgboost/data.py:112: UserWarning: Use subset (sliced data) of np.ndarray is not recommended because it will generate extra copies and increase memory consumption\n",
      "  warnings.warn(\n",
      "/Library/Frameworks/Python.framework/Versions/3.8/lib/python3.8/site-packages/xgboost/sklearn.py:1146: UserWarning: The use of label encoder in XGBClassifier is deprecated and will be removed in a future release. To remove this warning, do the following: 1) Pass option use_label_encoder=False when constructing XGBClassifier object; and 2) Encode your labels (y) as integers starting with 0, i.e. 0, 1, 2, ..., [num_class - 1].\n",
      "  warnings.warn(label_encoder_deprecation_msg, UserWarning)\n",
      "/Library/Frameworks/Python.framework/Versions/3.8/lib/python3.8/site-packages/xgboost/sklearn.py:1146: UserWarning: The use of label encoder in XGBClassifier is deprecated and will be removed in a future release. To remove this warning, do the following: 1) Pass option use_label_encoder=False when constructing XGBClassifier object; and 2) Encode your labels (y) as integers starting with 0, i.e. 0, 1, 2, ..., [num_class - 1].\n",
      "  warnings.warn(label_encoder_deprecation_msg, UserWarning)\n",
      "/Library/Frameworks/Python.framework/Versions/3.8/lib/python3.8/site-packages/xgboost/data.py:112: UserWarning: Use subset (sliced data) of np.ndarray is not recommended because it will generate extra copies and increase memory consumption\n",
      "  warnings.warn(\n",
      "/Library/Frameworks/Python.framework/Versions/3.8/lib/python3.8/site-packages/xgboost/data.py:112: UserWarning: Use subset (sliced data) of np.ndarray is not recommended because it will generate extra copies and increase memory consumption\n",
      "  warnings.warn(\n",
      "/Library/Frameworks/Python.framework/Versions/3.8/lib/python3.8/site-packages/xgboost/sklearn.py:1146: UserWarning: The use of label encoder in XGBClassifier is deprecated and will be removed in a future release. To remove this warning, do the following: 1) Pass option use_label_encoder=False when constructing XGBClassifier object; and 2) Encode your labels (y) as integers starting with 0, i.e. 0, 1, 2, ..., [num_class - 1].\n",
      "  warnings.warn(label_encoder_deprecation_msg, UserWarning)\n",
      "/Library/Frameworks/Python.framework/Versions/3.8/lib/python3.8/site-packages/xgboost/data.py:112: UserWarning: Use subset (sliced data) of np.ndarray is not recommended because it will generate extra copies and increase memory consumption\n",
      "  warnings.warn(\n",
      "/Library/Frameworks/Python.framework/Versions/3.8/lib/python3.8/site-packages/xgboost/data.py:112: UserWarning: Use subset (sliced data) of np.ndarray is not recommended because it will generate extra copies and increase memory consumption\n",
      "  warnings.warn(\n",
      "/Library/Frameworks/Python.framework/Versions/3.8/lib/python3.8/site-packages/xgboost/sklearn.py:1146: UserWarning: The use of label encoder in XGBClassifier is deprecated and will be removed in a future release. To remove this warning, do the following: 1) Pass option use_label_encoder=False when constructing XGBClassifier object; and 2) Encode your labels (y) as integers starting with 0, i.e. 0, 1, 2, ..., [num_class - 1].\n",
      "  warnings.warn(label_encoder_deprecation_msg, UserWarning)\n"
     ]
    },
    {
     "name": "stdout",
     "output_type": "stream",
     "text": [
      "[18:28:29] WARNING: /Users/travis/build/dmlc/xgboost/src/learner.cc:1095: Starting in XGBoost 1.3.0, the default evaluation metric used with the objective 'binary:logistic' was changed from 'error' to 'logloss'. Explicitly set eval_metric if you'd like to restore the old behavior.\n",
      "[18:28:29] WARNING: /Users/travis/build/dmlc/xgboost/src/learner.cc:1095: Starting in XGBoost 1.3.0, the default evaluation metric used with the objective 'binary:logistic' was changed from 'error' to 'logloss'. Explicitly set eval_metric if you'd like to restore the old behavior.\n",
      "[18:28:29] WARNING: /Users/travis/build/dmlc/xgboost/src/learner.cc:1095: Starting in XGBoost 1.3.0, the default evaluation metric used with the objective 'binary:logistic' was changed from 'error' to 'logloss'. Explicitly set eval_metric if you'd like to restore the old behavior.\n",
      "[18:28:30] WARNING: /Users/travis/build/dmlc/xgboost/src/learner.cc:1095: Starting in XGBoost 1.3.0, the default evaluation metric used with the objective 'binary:logistic' was changed from 'error' to 'logloss'. Explicitly set eval_metric if you'd like to restore the old behavior.\n"
     ]
    },
    {
     "name": "stderr",
     "output_type": "stream",
     "text": [
      "/Library/Frameworks/Python.framework/Versions/3.8/lib/python3.8/site-packages/xgboost/data.py:112: UserWarning: Use subset (sliced data) of np.ndarray is not recommended because it will generate extra copies and increase memory consumption\n",
      "  warnings.warn(\n",
      "/Library/Frameworks/Python.framework/Versions/3.8/lib/python3.8/site-packages/xgboost/data.py:112: UserWarning: Use subset (sliced data) of np.ndarray is not recommended because it will generate extra copies and increase memory consumption\n",
      "  warnings.warn(\n",
      "/Library/Frameworks/Python.framework/Versions/3.8/lib/python3.8/site-packages/xgboost/data.py:112: UserWarning: Use subset (sliced data) of np.ndarray is not recommended because it will generate extra copies and increase memory consumption\n",
      "  warnings.warn(\n",
      "/Library/Frameworks/Python.framework/Versions/3.8/lib/python3.8/site-packages/xgboost/data.py:112: UserWarning: Use subset (sliced data) of np.ndarray is not recommended because it will generate extra copies and increase memory consumption\n",
      "  warnings.warn(\n",
      "/Library/Frameworks/Python.framework/Versions/3.8/lib/python3.8/site-packages/xgboost/sklearn.py:1146: UserWarning: The use of label encoder in XGBClassifier is deprecated and will be removed in a future release. To remove this warning, do the following: 1) Pass option use_label_encoder=False when constructing XGBClassifier object; and 2) Encode your labels (y) as integers starting with 0, i.e. 0, 1, 2, ..., [num_class - 1].\n",
      "  warnings.warn(label_encoder_deprecation_msg, UserWarning)\n",
      "/Library/Frameworks/Python.framework/Versions/3.8/lib/python3.8/site-packages/xgboost/sklearn.py:1146: UserWarning: The use of label encoder in XGBClassifier is deprecated and will be removed in a future release. To remove this warning, do the following: 1) Pass option use_label_encoder=False when constructing XGBClassifier object; and 2) Encode your labels (y) as integers starting with 0, i.e. 0, 1, 2, ..., [num_class - 1].\n",
      "  warnings.warn(label_encoder_deprecation_msg, UserWarning)\n",
      "/Library/Frameworks/Python.framework/Versions/3.8/lib/python3.8/site-packages/xgboost/data.py:112: UserWarning: Use subset (sliced data) of np.ndarray is not recommended because it will generate extra copies and increase memory consumption\n",
      "  warnings.warn(\n",
      "/Library/Frameworks/Python.framework/Versions/3.8/lib/python3.8/site-packages/xgboost/data.py:112: UserWarning: Use subset (sliced data) of np.ndarray is not recommended because it will generate extra copies and increase memory consumption\n",
      "  warnings.warn(\n",
      "/Library/Frameworks/Python.framework/Versions/3.8/lib/python3.8/site-packages/xgboost/sklearn.py:1146: UserWarning: The use of label encoder in XGBClassifier is deprecated and will be removed in a future release. To remove this warning, do the following: 1) Pass option use_label_encoder=False when constructing XGBClassifier object; and 2) Encode your labels (y) as integers starting with 0, i.e. 0, 1, 2, ..., [num_class - 1].\n",
      "  warnings.warn(label_encoder_deprecation_msg, UserWarning)\n",
      "/Library/Frameworks/Python.framework/Versions/3.8/lib/python3.8/site-packages/xgboost/data.py:112: UserWarning: Use subset (sliced data) of np.ndarray is not recommended because it will generate extra copies and increase memory consumption\n",
      "  warnings.warn(\n",
      "/Library/Frameworks/Python.framework/Versions/3.8/lib/python3.8/site-packages/xgboost/data.py:112: UserWarning: Use subset (sliced data) of np.ndarray is not recommended because it will generate extra copies and increase memory consumption\n",
      "  warnings.warn(\n"
     ]
    },
    {
     "name": "stdout",
     "output_type": "stream",
     "text": [
      "[18:29:01] WARNING: /Users/travis/build/dmlc/xgboost/src/learner.cc:1095: Starting in XGBoost 1.3.0, the default evaluation metric used with the objective 'binary:logistic' was changed from 'error' to 'logloss'. Explicitly set eval_metric if you'd like to restore the old behavior.\n"
     ]
    },
    {
     "name": "stderr",
     "output_type": "stream",
     "text": [
      "/Library/Frameworks/Python.framework/Versions/3.8/lib/python3.8/site-packages/xgboost/sklearn.py:1146: UserWarning: The use of label encoder in XGBClassifier is deprecated and will be removed in a future release. To remove this warning, do the following: 1) Pass option use_label_encoder=False when constructing XGBClassifier object; and 2) Encode your labels (y) as integers starting with 0, i.e. 0, 1, 2, ..., [num_class - 1].\n",
      "  warnings.warn(label_encoder_deprecation_msg, UserWarning)\n"
     ]
    },
    {
     "name": "stdout",
     "output_type": "stream",
     "text": [
      "[18:29:01] WARNING: /Users/travis/build/dmlc/xgboost/src/learner.cc:1095: Starting in XGBoost 1.3.0, the default evaluation metric used with the objective 'binary:logistic' was changed from 'error' to 'logloss'. Explicitly set eval_metric if you'd like to restore the old behavior.\n",
      "[18:29:02] WARNING: /Users/travis/build/dmlc/xgboost/src/learner.cc:1095: Starting in XGBoost 1.3.0, the default evaluation metric used with the objective 'binary:logistic' was changed from 'error' to 'logloss'. Explicitly set eval_metric if you'd like to restore the old behavior.\n",
      "[18:29:02] WARNING: /Users/travis/build/dmlc/xgboost/src/learner.cc:1095: Starting in XGBoost 1.3.0, the default evaluation metric used with the objective 'binary:logistic' was changed from 'error' to 'logloss'. Explicitly set eval_metric if you'd like to restore the old behavior.\n"
     ]
    },
    {
     "name": "stderr",
     "output_type": "stream",
     "text": [
      "/Library/Frameworks/Python.framework/Versions/3.8/lib/python3.8/site-packages/xgboost/data.py:112: UserWarning: Use subset (sliced data) of np.ndarray is not recommended because it will generate extra copies and increase memory consumption\n",
      "  warnings.warn(\n",
      "/Library/Frameworks/Python.framework/Versions/3.8/lib/python3.8/site-packages/xgboost/data.py:112: UserWarning: Use subset (sliced data) of np.ndarray is not recommended because it will generate extra copies and increase memory consumption\n",
      "  warnings.warn(\n",
      "/Library/Frameworks/Python.framework/Versions/3.8/lib/python3.8/site-packages/xgboost/sklearn.py:1146: UserWarning: The use of label encoder in XGBClassifier is deprecated and will be removed in a future release. To remove this warning, do the following: 1) Pass option use_label_encoder=False when constructing XGBClassifier object; and 2) Encode your labels (y) as integers starting with 0, i.e. 0, 1, 2, ..., [num_class - 1].\n",
      "  warnings.warn(label_encoder_deprecation_msg, UserWarning)\n",
      "/Library/Frameworks/Python.framework/Versions/3.8/lib/python3.8/site-packages/xgboost/data.py:112: UserWarning: Use subset (sliced data) of np.ndarray is not recommended because it will generate extra copies and increase memory consumption\n",
      "  warnings.warn(\n",
      "/Library/Frameworks/Python.framework/Versions/3.8/lib/python3.8/site-packages/xgboost/data.py:112: UserWarning: Use subset (sliced data) of np.ndarray is not recommended because it will generate extra copies and increase memory consumption\n",
      "  warnings.warn(\n",
      "/Library/Frameworks/Python.framework/Versions/3.8/lib/python3.8/site-packages/xgboost/sklearn.py:1146: UserWarning: The use of label encoder in XGBClassifier is deprecated and will be removed in a future release. To remove this warning, do the following: 1) Pass option use_label_encoder=False when constructing XGBClassifier object; and 2) Encode your labels (y) as integers starting with 0, i.e. 0, 1, 2, ..., [num_class - 1].\n",
      "  warnings.warn(label_encoder_deprecation_msg, UserWarning)\n",
      "/Library/Frameworks/Python.framework/Versions/3.8/lib/python3.8/site-packages/xgboost/data.py:112: UserWarning: Use subset (sliced data) of np.ndarray is not recommended because it will generate extra copies and increase memory consumption\n",
      "  warnings.warn(\n",
      "/Library/Frameworks/Python.framework/Versions/3.8/lib/python3.8/site-packages/xgboost/data.py:112: UserWarning: Use subset (sliced data) of np.ndarray is not recommended because it will generate extra copies and increase memory consumption\n",
      "  warnings.warn(\n"
     ]
    },
    {
     "name": "stdout",
     "output_type": "stream",
     "text": [
      "[18:29:33] WARNING: /Users/travis/build/dmlc/xgboost/src/learner.cc:1095: Starting in XGBoost 1.3.0, the default evaluation metric used with the objective 'binary:logistic' was changed from 'error' to 'logloss'. Explicitly set eval_metric if you'd like to restore the old behavior.\n",
      "[18:29:33] WARNING: /Users/travis/build/dmlc/xgboost/src/learner.cc:1095: Starting in XGBoost 1.3.0, the default evaluation metric used with the objective 'binary:logistic' was changed from 'error' to 'logloss'. Explicitly set eval_metric if you'd like to restore the old behavior.\n"
     ]
    },
    {
     "name": "stderr",
     "output_type": "stream",
     "text": [
      "/Library/Frameworks/Python.framework/Versions/3.8/lib/python3.8/site-packages/xgboost/data.py:112: UserWarning: Use subset (sliced data) of np.ndarray is not recommended because it will generate extra copies and increase memory consumption\n",
      "  warnings.warn(\n",
      "/Library/Frameworks/Python.framework/Versions/3.8/lib/python3.8/site-packages/xgboost/sklearn.py:1146: UserWarning: The use of label encoder in XGBClassifier is deprecated and will be removed in a future release. To remove this warning, do the following: 1) Pass option use_label_encoder=False when constructing XGBClassifier object; and 2) Encode your labels (y) as integers starting with 0, i.e. 0, 1, 2, ..., [num_class - 1].\n",
      "  warnings.warn(label_encoder_deprecation_msg, UserWarning)\n",
      "/Library/Frameworks/Python.framework/Versions/3.8/lib/python3.8/site-packages/xgboost/data.py:112: UserWarning: Use subset (sliced data) of np.ndarray is not recommended because it will generate extra copies and increase memory consumption\n",
      "  warnings.warn(\n",
      "/Library/Frameworks/Python.framework/Versions/3.8/lib/python3.8/site-packages/xgboost/sklearn.py:1146: UserWarning: The use of label encoder in XGBClassifier is deprecated and will be removed in a future release. To remove this warning, do the following: 1) Pass option use_label_encoder=False when constructing XGBClassifier object; and 2) Encode your labels (y) as integers starting with 0, i.e. 0, 1, 2, ..., [num_class - 1].\n",
      "  warnings.warn(label_encoder_deprecation_msg, UserWarning)\n"
     ]
    },
    {
     "name": "stdout",
     "output_type": "stream",
     "text": [
      "[18:29:34] WARNING: /Users/travis/build/dmlc/xgboost/src/learner.cc:1095: Starting in XGBoost 1.3.0, the default evaluation metric used with the objective 'binary:logistic' was changed from 'error' to 'logloss'. Explicitly set eval_metric if you'd like to restore the old behavior.\n",
      "[18:29:35] WARNING: /Users/travis/build/dmlc/xgboost/src/learner.cc:1095: Starting in XGBoost 1.3.0, the default evaluation metric used with the objective 'binary:logistic' was changed from 'error' to 'logloss'. Explicitly set eval_metric if you'd like to restore the old behavior.\n"
     ]
    },
    {
     "name": "stderr",
     "output_type": "stream",
     "text": [
      "/Library/Frameworks/Python.framework/Versions/3.8/lib/python3.8/site-packages/xgboost/data.py:112: UserWarning: Use subset (sliced data) of np.ndarray is not recommended because it will generate extra copies and increase memory consumption\n",
      "  warnings.warn(\n",
      "/Library/Frameworks/Python.framework/Versions/3.8/lib/python3.8/site-packages/xgboost/data.py:112: UserWarning: Use subset (sliced data) of np.ndarray is not recommended because it will generate extra copies and increase memory consumption\n",
      "  warnings.warn(\n",
      "/Library/Frameworks/Python.framework/Versions/3.8/lib/python3.8/site-packages/xgboost/data.py:112: UserWarning: Use subset (sliced data) of np.ndarray is not recommended because it will generate extra copies and increase memory consumption\n",
      "  warnings.warn(\n",
      "/Library/Frameworks/Python.framework/Versions/3.8/lib/python3.8/site-packages/xgboost/data.py:112: UserWarning: Use subset (sliced data) of np.ndarray is not recommended because it will generate extra copies and increase memory consumption\n",
      "  warnings.warn(\n",
      "/Library/Frameworks/Python.framework/Versions/3.8/lib/python3.8/site-packages/xgboost/data.py:112: UserWarning: Use subset (sliced data) of np.ndarray is not recommended because it will generate extra copies and increase memory consumption\n",
      "  warnings.warn(\n",
      "/Library/Frameworks/Python.framework/Versions/3.8/lib/python3.8/site-packages/xgboost/data.py:112: UserWarning: Use subset (sliced data) of np.ndarray is not recommended because it will generate extra copies and increase memory consumption\n",
      "  warnings.warn(\n",
      "/Library/Frameworks/Python.framework/Versions/3.8/lib/python3.8/site-packages/xgboost/data.py:112: UserWarning: Use subset (sliced data) of np.ndarray is not recommended because it will generate extra copies and increase memory consumption\n",
      "  warnings.warn(\n",
      "/Library/Frameworks/Python.framework/Versions/3.8/lib/python3.8/site-packages/xgboost/data.py:112: UserWarning: Use subset (sliced data) of np.ndarray is not recommended because it will generate extra copies and increase memory consumption\n",
      "  warnings.warn(\n"
     ]
    },
    {
     "name": "stdout",
     "output_type": "stream",
     "text": [
      "fit_time 29.59111578464508\n",
      "score_time 0.1670628786087036\n",
      "test_acc 0.9299958206705684\n",
      "test_recall 0.39834848484848484\n",
      "test_auc 0.9188336492394121\n",
      "test_precison 0.6988463529852529\n",
      "test_f1 0.5058436687513967\n"
     ]
    }
   ],
   "source": [
    "# define the model\n",
    "model = XGBClassifier(n_estimators=50)\n",
    "\n",
    "# define the evaluation method\n",
    "cv = RepeatedStratifiedKFold(n_splits=10, n_repeats=2, random_state=1)\n",
    "\n",
    "#scoring params\n",
    "scoring = {'acc': 'accuracy',\n",
    "           'recall': 'recall',\n",
    "           'auc': 'roc_auc',\n",
    "           'precison': 'precision',\n",
    "           'f1': 'f1'}\n",
    "\n",
    "# evaluate the model on the dataset\n",
    "n_scores = cross_validate(model, X_imp_st , y, scoring=scoring, cv=cv, n_jobs=-1, return_train_score= False)\n",
    "\n",
    "# report performance\n",
    "for key, value in n_scores.items():\n",
    "    print(key, mean(value))"
   ]
  },
  {
   "cell_type": "code",
   "execution_count": 45,
   "metadata": {},
   "outputs": [
    {
     "name": "stdout",
     "output_type": "stream",
     "text": [
      "fit_time 29.59111578464508\n",
      "score_time 0.1670628786087036\n",
      "test_acc 0.9299958206705684\n",
      "test_recall 0.39834848484848484\n",
      "test_auc 0.9188336492394121\n",
      "test_precison 0.6988463529852529\n",
      "test_f1 0.5058436687513967\n"
     ]
    }
   ],
   "source": [
    "for key, value in n_scores.items():\n",
    "    print(key, mean(value))"
   ]
  },
  {
   "cell_type": "code",
   "execution_count": 327,
   "metadata": {},
   "outputs": [
    {
     "name": "stdout",
     "output_type": "stream",
     "text": [
      "['MainPosition', 'LeagueInvolved', 'CorrMarketValue', 'Country', 'Position', 'Foot', 'IntReputation', 'Crossing', 'Finishing', 'Heading_accuracy', 'Short_passing', 'Volleys', 'Dribbling', 'Curve', 'FK_accuracy', 'Long_passing', 'Ball_control', 'Acceleration', 'Sprint_speed', 'Agility', 'Reactions', 'Balance', 'Shot_power', 'Jumping', 'Stamina', 'Strength', 'Long_shots', 'Aggression', 'Interceptions', 'Positioning', 'Vision', 'Penalties', 'Marking', 'Standing_tackle', 'Sliding_tackle', 'Years', 'DEGREE', 'Eigv', 'SP_LA_LIGA', 'EN_PL', 'IT_SERIE_A', 'FR_LIGUE_1', 'GE_BUNDESLIGA', 'ClubInvolvedRank', 'ClubRank', 'ClubInvolvedAge', 'ClubAge', 'ClubInvolvedShotsOnTargetPer90', 'ClubShotsOnTargetPer90', 'ClubInvolvedGoalAgainstPer90', 'ClubInvolvedCleanSheetsRate', 'ClubGoalAgainstPer90', 'ClubCleanSheetsRate', 'MinutesPlayed', 'MinutesPlayedPer90', 'ContractLeft', 'Pace_main', 'Shooting_main', 'Dribbling_main', 'Defending_main', 'Passing_main', 'Physical_main', 'Age', 'ClubInvolvedWinPerMatch', 'ClubInvolvedDrawPerMatch', 'ClubInvolvedLoosePerMatch', 'ClubInvolvedGoalForPerMatch', 'ClubInvolvedGoalAgainstPerMatch', 'ClubInvolvedPointsPerMatch', 'ClubWinPerMatch', 'ClubDrawPerMatch', 'ClubLoosePerMatch', 'ClubGoalForPerMatch', 'ClubGoalAgainstPerMatch', 'ClubPointsPerMatch', 'ClubInvolvedAssistsPerMatch', 'ClubInvolvedNonPenaltyGoalPerMatch', 'ClubInvolvedYellowCardPerMatch', 'ClubInvolvedRedCardPerMatch', 'ClubAssistsPerMatch', 'ClubNonPenaltyGoalPerMatch', 'ClubYellowCardPerMatch', 'ClubRedCardPerMatch', 'ClubInvolvedNumPlayersUsedPerMatch', 'ClubInvolvedShotsOnTargetPerMatch', 'ClubInvolvedGoalPerShotOnTargetPerMatch', 'ClubNumPlayersUsedPerMatch', 'ClubShotsOnTargetPerMatch', 'ClubGoalPerShotOnTargetPerMatch', 'ClubInvolvedShotOnTargetAgainstUsedPerMatch', 'ClubInvolvedCleanSheetsPerMatch', 'ClubShotOnTargetAgainstUsedPerMatch', 'ClubCleanSheetsPerMatch', 'MatchesPlayedPerClubMatches', 'StartsPerClubMatches', 'NonPenaltyGoalsPerMinutes', 'GoalsPerMinutesPlayed', 'AssistsPerMinutesPlayed', 'NonPenaltyGoalsPerMinutesPlayed', 'YellowCardsPerMinutesPlayed', 'RedCardsPerMinutesPlayed', 'ShotsOnTargetPerMinutesPlayed']\n"
     ]
    }
   ],
   "source": [
    "print(list(X_imp_st.columns))"
   ]
  },
  {
   "cell_type": "markdown",
   "metadata": {},
   "source": [
    "Predict\n"
   ]
  },
  {
   "cell_type": "code",
   "execution_count": 298,
   "metadata": {},
   "outputs": [],
   "source": [
    "predict_df = pd.read_csv(f\"/Users/{os.environ['USER']}/Documents/Uni/Szakdoga/Adatok/predict_df_temp3.csv\")\n",
    "predict_df = predict_df.drop('Unnamed: 0', axis = 1)"
   ]
  },
  {
   "cell_type": "code",
   "execution_count": 182,
   "metadata": {},
   "outputs": [
    {
     "data": {
      "text/html": [
       "<div>\n",
       "<style scoped>\n",
       "    .dataframe tbody tr th:only-of-type {\n",
       "        vertical-align: middle;\n",
       "    }\n",
       "\n",
       "    .dataframe tbody tr th {\n",
       "        vertical-align: top;\n",
       "    }\n",
       "\n",
       "    .dataframe thead th {\n",
       "        text-align: right;\n",
       "    }\n",
       "</style>\n",
       "<table border=\"1\" class=\"dataframe\">\n",
       "  <thead>\n",
       "    <tr style=\"text-align: right;\">\n",
       "      <th></th>\n",
       "      <th>Name</th>\n",
       "      <th>Age</th>\n",
       "      <th>Nationality</th>\n",
       "      <th>Pos</th>\n",
       "      <th>MarketValue</th>\n",
       "      <th>LeagueInvolved</th>\n",
       "      <th>Crossing</th>\n",
       "      <th>Finishing</th>\n",
       "      <th>Heading_accuracy</th>\n",
       "      <th>Short_passing</th>\n",
       "      <th>...</th>\n",
       "      <th>GK90s</th>\n",
       "      <th>GKGoalAgainst</th>\n",
       "      <th>GKGoalAgainstPer90</th>\n",
       "      <th>GKSaves</th>\n",
       "      <th>GKSavePercent</th>\n",
       "      <th>GKWin</th>\n",
       "      <th>GKDraw</th>\n",
       "      <th>GKLost</th>\n",
       "      <th>GKCleanSheet</th>\n",
       "      <th>GKCleanSheetPercent</th>\n",
       "    </tr>\n",
       "  </thead>\n",
       "  <tbody>\n",
       "    <tr>\n",
       "      <th>0</th>\n",
       "      <td>L. Messi</td>\n",
       "      <td>33</td>\n",
       "      <td>Argentina</td>\n",
       "      <td>FW,MF</td>\n",
       "      <td>103.5</td>\n",
       "      <td>Spain Primera Division</td>\n",
       "      <td>85</td>\n",
       "      <td>95</td>\n",
       "      <td>70</td>\n",
       "      <td>91</td>\n",
       "      <td>...</td>\n",
       "      <td>NaN</td>\n",
       "      <td>NaN</td>\n",
       "      <td>NaN</td>\n",
       "      <td>NaN</td>\n",
       "      <td>NaN</td>\n",
       "      <td>NaN</td>\n",
       "      <td>NaN</td>\n",
       "      <td>NaN</td>\n",
       "      <td>NaN</td>\n",
       "      <td>NaN</td>\n",
       "    </tr>\n",
       "    <tr>\n",
       "      <th>1</th>\n",
       "      <td>Cristiano Ronaldo</td>\n",
       "      <td>35</td>\n",
       "      <td>Portugal</td>\n",
       "      <td>FW</td>\n",
       "      <td>63.0</td>\n",
       "      <td>Italian Serie A</td>\n",
       "      <td>84</td>\n",
       "      <td>95</td>\n",
       "      <td>90</td>\n",
       "      <td>82</td>\n",
       "      <td>...</td>\n",
       "      <td>NaN</td>\n",
       "      <td>NaN</td>\n",
       "      <td>NaN</td>\n",
       "      <td>NaN</td>\n",
       "      <td>NaN</td>\n",
       "      <td>NaN</td>\n",
       "      <td>NaN</td>\n",
       "      <td>NaN</td>\n",
       "      <td>NaN</td>\n",
       "      <td>NaN</td>\n",
       "    </tr>\n",
       "    <tr>\n",
       "      <th>2</th>\n",
       "      <td>J. Oblak</td>\n",
       "      <td>27</td>\n",
       "      <td>Slovenia</td>\n",
       "      <td>NaN</td>\n",
       "      <td>120.0</td>\n",
       "      <td>Spain Primera Division</td>\n",
       "      <td>13</td>\n",
       "      <td>11</td>\n",
       "      <td>15</td>\n",
       "      <td>43</td>\n",
       "      <td>...</td>\n",
       "      <td>38.0</td>\n",
       "      <td>25.0</td>\n",
       "      <td>0.66</td>\n",
       "      <td>97.0</td>\n",
       "      <td>80.0</td>\n",
       "      <td>26.0</td>\n",
       "      <td>8.0</td>\n",
       "      <td>4.0</td>\n",
       "      <td>18.0</td>\n",
       "      <td>47.4</td>\n",
       "    </tr>\n",
       "    <tr>\n",
       "      <th>3</th>\n",
       "      <td>K. De Bruyne</td>\n",
       "      <td>29</td>\n",
       "      <td>Belgium</td>\n",
       "      <td>MF</td>\n",
       "      <td>127.5</td>\n",
       "      <td>English Premier League</td>\n",
       "      <td>94</td>\n",
       "      <td>82</td>\n",
       "      <td>55</td>\n",
       "      <td>94</td>\n",
       "      <td>...</td>\n",
       "      <td>NaN</td>\n",
       "      <td>NaN</td>\n",
       "      <td>NaN</td>\n",
       "      <td>NaN</td>\n",
       "      <td>NaN</td>\n",
       "      <td>NaN</td>\n",
       "      <td>NaN</td>\n",
       "      <td>NaN</td>\n",
       "      <td>NaN</td>\n",
       "      <td>NaN</td>\n",
       "    </tr>\n",
       "    <tr>\n",
       "      <th>4</th>\n",
       "      <td>Neymar Jr</td>\n",
       "      <td>28</td>\n",
       "      <td>Brazil</td>\n",
       "      <td>NaN</td>\n",
       "      <td>132.0</td>\n",
       "      <td>French Ligue 1</td>\n",
       "      <td>85</td>\n",
       "      <td>87</td>\n",
       "      <td>62</td>\n",
       "      <td>87</td>\n",
       "      <td>...</td>\n",
       "      <td>NaN</td>\n",
       "      <td>NaN</td>\n",
       "      <td>NaN</td>\n",
       "      <td>NaN</td>\n",
       "      <td>NaN</td>\n",
       "      <td>NaN</td>\n",
       "      <td>NaN</td>\n",
       "      <td>NaN</td>\n",
       "      <td>NaN</td>\n",
       "      <td>NaN</td>\n",
       "    </tr>\n",
       "  </tbody>\n",
       "</table>\n",
       "<p>5 rows × 122 columns</p>\n",
       "</div>"
      ],
      "text/plain": [
       "                Name  Age Nationality    Pos  MarketValue  \\\n",
       "0           L. Messi   33   Argentina  FW,MF        103.5   \n",
       "1  Cristiano Ronaldo   35    Portugal     FW         63.0   \n",
       "2           J. Oblak   27    Slovenia    NaN        120.0   \n",
       "3       K. De Bruyne   29     Belgium     MF        127.5   \n",
       "4          Neymar Jr   28      Brazil    NaN        132.0   \n",
       "\n",
       "           LeagueInvolved  Crossing  Finishing  Heading_accuracy  \\\n",
       "0  Spain Primera Division        85         95                70   \n",
       "1         Italian Serie A        84         95                90   \n",
       "2  Spain Primera Division        13         11                15   \n",
       "3  English Premier League        94         82                55   \n",
       "4          French Ligue 1        85         87                62   \n",
       "\n",
       "   Short_passing  ...  GK90s  GKGoalAgainst  GKGoalAgainstPer90  GKSaves  \\\n",
       "0             91  ...    NaN            NaN                 NaN      NaN   \n",
       "1             82  ...    NaN            NaN                 NaN      NaN   \n",
       "2             43  ...   38.0           25.0                0.66     97.0   \n",
       "3             94  ...    NaN            NaN                 NaN      NaN   \n",
       "4             87  ...    NaN            NaN                 NaN      NaN   \n",
       "\n",
       "   GKSavePercent  GKWin  GKDraw  GKLost  GKCleanSheet  GKCleanSheetPercent  \n",
       "0            NaN    NaN     NaN     NaN           NaN                  NaN  \n",
       "1            NaN    NaN     NaN     NaN           NaN                  NaN  \n",
       "2           80.0   26.0     8.0     4.0          18.0                 47.4  \n",
       "3            NaN    NaN     NaN     NaN           NaN                  NaN  \n",
       "4            NaN    NaN     NaN     NaN           NaN                  NaN  \n",
       "\n",
       "[5 rows x 122 columns]"
      ]
     },
     "execution_count": 182,
     "metadata": {},
     "output_type": "execute_result"
    }
   ],
   "source": [
    "predict_df.head()"
   ]
  },
  {
   "cell_type": "code",
   "execution_count": 299,
   "metadata": {},
   "outputs": [],
   "source": [
    "predict_df['Pace_main'] = round(predict_df['Acceleration'] * 0.45 + predict_df['Sprint_speed'] * 0.55, 0)\n",
    "predict_df['Shooting_main'] = round(predict_df['Finishing'] * 0.45 + predict_df['Long_shots'] * 0.20 + predict_df['Penalties'] * 0.05 + \\\n",
    "     predict_df['Positioning'] * 0.05 + predict_df['Shot_power'] * 0.20 + predict_df['Volleys'] * 0.05, 0)\n",
    "predict_df['Dribbling_main'] = round(predict_df['Agility'] * 0.1 + predict_df['Balance'] * 0.05 + predict_df['Ball_control'] * 0.35 + \\\n",
    "     predict_df['Dribbling'] * 0.5, 0)\n",
    "predict_df['Defending_main'] = round(predict_df['Heading_accuracy'] * 0.1 + predict_df['Interceptions'] * 0.2 + predict_df['Marking'] * 0.3 + \\\n",
    "     predict_df['Sliding_tackle'] * 0.3 + predict_df['Standing_tackle'] * 0.3, 0)\n",
    "predict_df['Passing_main'] = round(predict_df['Crossing'] * 0.2 + predict_df['Curve'] * 0.05 + predict_df['FK_accuracy'] * 0.05 + \\\n",
    "     predict_df['Long_passing'] * 0.15 + predict_df['Short_passing'] * 0.35 + predict_df['Vision'] * 0.25, 0)\n",
    "predict_df['Physical_main'] = round(predict_df['Aggression'] * 0.2 + predict_df['Jumping'] * 0.05 + predict_df['Stamina'] * 0.25 + \\\n",
    "     predict_df['Strength'] * 0.5, 0)"
   ]
  },
  {
   "cell_type": "code",
   "execution_count": 300,
   "metadata": {},
   "outputs": [],
   "source": [
    "gk_predict = predict_df[predict_df.Position == 'GK']\n",
    "outfielder_predict = predict_df[predict_df.Position != 'GK']"
   ]
  },
  {
   "cell_type": "code",
   "execution_count": 301,
   "metadata": {},
   "outputs": [],
   "source": [
    "outfielder_predict = outfielder_predict.drop(['GK_diving', 'GK_handling', 'GK_kicking', 'GK_positioning', 'GK_reflexes',\\\n",
    "    'ClubInvolvedSaves', 'ClubInvolvedSaveRate', 'GKMatchPlayed', 'GKStarts', 'GKMin', 'GK90s', 'GKGoalAgainst', 'GKGoalAgainstPer90',\\\n",
    "        'GKSaves', 'GKSavePercent', 'GKWin', 'GKDraw', 'GKLost', 'GKCleanSheet', 'GKCleanSheetPercent'], axis = 1)"
   ]
  },
  {
   "cell_type": "code",
   "execution_count": 302,
   "metadata": {},
   "outputs": [],
   "source": [
    "outfielder_predict = outfielder_predict.drop(['ShotsOnTargetPercent', 'ClubInvolvedShotsOnTargetRate', 'ClubInvolvedGoalPerShot',\\\n",
    "    'ShotsPer90', 'Shots', 'ClubInvolvedShotsPer90', 'ClubInvolvedShots'], axis = 1)"
   ]
  },
  {
   "cell_type": "code",
   "execution_count": 303,
   "metadata": {},
   "outputs": [],
   "source": [
    "outfielder_predict = outfielder_predict.drop(['GoalsPerShot', 'ClubInovlvedPossession'], axis = 1)"
   ]
  },
  {
   "cell_type": "code",
   "execution_count": 304,
   "metadata": {},
   "outputs": [],
   "source": [
    "outfielder_predict['ClubInvolvedPlayed'] = outfielder_predict['ClubInvolvedWin'] + outfielder_predict['ClubInvolvedDraw'] + outfielder_predict['ClubInvolvedLoose']\n",
    "outfielder_predict['ClubInvolvedWinPerMatch'] = outfielder_predict['ClubInvolvedWin'] / outfielder_predict['ClubInvolvedPlayed']\n",
    "outfielder_predict['ClubInvolvedDrawPerMatch'] = outfielder_predict['ClubInvolvedDraw'] / outfielder_predict['ClubInvolvedPlayed']\n",
    "outfielder_predict['ClubInvolvedLoosePerMatch'] = outfielder_predict['ClubInvolvedLoose'] / outfielder_predict['ClubInvolvedPlayed']\n",
    "outfielder_predict['ClubInvolvedGoalForPerMatch'] = outfielder_predict['ClubInvolvedGoalFor'] / outfielder_predict['ClubInvolvedPlayed']\n",
    "outfielder_predict['ClubInvolvedGoalAgainstPerMatch'] = outfielder_predict['ClubInvolvedGoalAgainst'] / outfielder_predict['ClubInvolvedPlayed']\n",
    "outfielder_predict['ClubInvolvedPointsPerMatch'] = outfielder_predict['ClubInvolvedPoints'] / outfielder_predict['ClubInvolvedPlayed']\n",
    "\n",
    "outfielder_predict['ClubInvolvedAssistsPerMatch'] = outfielder_predict['ClubInvolvedAssists'] / outfielder_predict['ClubInvolvedPlayed']\n",
    "outfielder_predict['ClubInvolvedNonPenaltyGoalPerMatch'] = outfielder_predict['ClubInvolvedNonPenaltyGoal'] / outfielder_predict['ClubInvolvedPlayed']\n",
    "outfielder_predict['ClubInvolvedYellowCardPerMatch'] = outfielder_predict['ClubInvolvedYellowCard'] / outfielder_predict['ClubInvolvedPlayed']\n",
    "outfielder_predict['ClubInvolvedRedCardPerMatch'] = outfielder_predict['ClubInvolvedRedCard'] / outfielder_predict['ClubInvolvedPlayed']\n",
    "\n",
    "outfielder_predict['ClubInvolvedNumPlayersUsedPerMatch'] = outfielder_predict['ClubInvolvedNumPlayersUsed'] / outfielder_predict['ClubInvolvedPlayed']\n",
    "outfielder_predict['ClubInvolvedShotsOnTargetPerMatch'] = outfielder_predict['ClubInvolvedShotsOnTarget'] / outfielder_predict['ClubInvolvedPlayed']\n",
    "outfielder_predict['ClubInvolvedGoalPerShotOnTargetPerMatch'] = outfielder_predict['ClubInvolvedGoalPerShotOnTarget'] / outfielder_predict['ClubInvolvedPlayed']\n",
    "\n",
    "outfielder_predict['ClubInvolvedShotOnTargetAgainstUsedPerMatch'] = outfielder_predict['ClubInvolvedShotOnTargetAgainst'] / outfielder_predict['ClubInvolvedPlayed']\n",
    "outfielder_predict['ClubInvolvedCleanSheetsPerMatch'] = outfielder_predict['ClubInvolvedCleanSheets'] / outfielder_predict['ClubInvolvedPlayed']\n",
    "\n",
    "outfielder_predict['MatchesPlayedPerClubMatches'] = outfielder_predict['MatchesPlayed'] / outfielder_predict['ClubInvolvedPlayed']\n",
    "outfielder_predict['StartsPerClubMatches'] = outfielder_predict['Starts'] / outfielder_predict['ClubInvolvedPlayed']\n",
    "outfielder_predict['NonPenaltyGoalsPerMinutes'] = outfielder_predict['MatchesPlayed'] / outfielder_predict['ClubInvolvedPlayed']\n",
    "outfielder_predict['GoalsPerMinutesPlayed'] = outfielder_predict['Goals'] / outfielder_predict['MinutesPlayed']\n",
    "outfielder_predict['AssistsPerMinutesPlayed'] = outfielder_predict['Assists'] / outfielder_predict['MinutesPlayed']\n",
    "outfielder_predict['NonPenaltyGoalsPerMinutesPlayed'] = outfielder_predict['NonPenaltyGoals'] / outfielder_predict['MinutesPlayed']\n",
    "outfielder_predict['YellowCardsPerMinutesPlayed'] = outfielder_predict['YellowCards'] / outfielder_predict['MinutesPlayed']\n",
    "outfielder_predict['RedCardsPerMinutesPlayed'] = outfielder_predict['RedCards'] / outfielder_predict['MinutesPlayed']\n",
    "outfielder_predict['ShotsOnTargetPerMinutesPlayed'] = outfielder_predict['ShotsOnTarget'] / outfielder_predict['MinutesPlayed']"
   ]
  },
  {
   "cell_type": "code",
   "execution_count": 305,
   "metadata": {},
   "outputs": [],
   "source": [
    "outfielder_predict = outfielder_predict.drop(['ClubInvolvedPlayed', 'ClubInvolvedWin', 'ClubInvolvedDraw',\\\n",
    "     'ClubInvolvedLoose', 'ClubInvolvedGoalFor', 'ClubInvolvedGoalAgainst', 'ClubInvolvedPoints',\\\n",
    "               'ClubInvolvedAssists', 'ClubInvolvedNonPenaltyGoal', 'ClubInvolvedYellowCard', 'ClubInvolvedRedCard',\\\n",
    "                     'ClubInvolvedNumPlayersUsed',\\\n",
    "                         'ClubInvolvedShotsOnTarget', 'ClubInvolvedGoalPerShotOnTarget', 'ClubInvolvedShotOnTargetAgainst', 'ClubInvolvedCleanSheets',\\\n",
    "                              'MatchesPlayed', 'Starts', 'MatchesPlayed', 'Goals', 'Assists', 'NonPenaltyGoals', 'YellowCards',\\\n",
    "                                   'RedCards', 'ShotsOnTarget',  'GoalsPer90', 'AssistsPer90', 'GoalsAssistsPer90', 'ShotsOnTargetPer90'], axis=1)"
   ]
  },
  {
   "cell_type": "code",
   "execution_count": 190,
   "metadata": {},
   "outputs": [
    {
     "name": "stdout",
     "output_type": "stream",
     "text": [
      "['MainPosition', 'LeagueInvolved', 'CorrMarketValue', 'Country', 'Position', 'Foot', 'IntReputation', 'Crossing', 'Finishing', 'Heading_accuracy', 'Short_passing', 'Volleys', 'Dribbling', 'Curve', 'FK_accuracy', 'Long_passing', 'Ball_control', 'Acceleration', 'Sprint_speed', 'Agility', 'Reactions', 'Balance', 'Shot_power', 'Jumping', 'Stamina', 'Strength', 'Long_shots', 'Aggression', 'Interceptions', 'Positioning', 'Vision', 'Penalties', 'Marking', 'Standing_tackle', 'Sliding_tackle', 'Years', 'DEGREE', 'Eigv', 'SP_LA_LIGA', 'EN_PL', 'IT_SERIE_A', 'FR_LIGUE_1', 'GE_BUNDESLIGA', 'ClubInvolvedRank', 'ClubInvolvedAge', 'ClubInvolvedShotsOnTargetPer90', 'ClubInvolvedGoalAgainstPer90', 'ClubInvolvedCleanSheetsRate', 'MinutesPlayed', 'MinutesPlayedPer90', 'ContractLeft', 'Pace_main', 'Shooting_main', 'Dribbling_main', 'Defending_main', 'Passing_main', 'Physical_main', 'ClubInvolvedWinPerMatch', 'ClubInvolvedDrawPerMatch', 'ClubInvolvedLoosePerMatch', 'ClubInvolvedGoalForPerMatch', 'ClubInvolvedGoalAgainstPerMatch', 'ClubInvolvedPointsPerMatch', 'ClubInvolvedAssistsPerMatch', 'ClubInvolvedNonPenaltyGoalPerMatch', 'ClubInvolvedYellowCardPerMatch', 'ClubInvolvedRedCardPerMatch', 'ClubInvolvedNumPlayersUsedPerMatch', 'ClubInvolvedShotsOnTargetPerMatch', 'ClubInvolvedGoalPerShotOnTargetPerMatch', 'ClubInvolvedShotOnTargetAgainstUsedPerMatch', 'ClubInvolvedCleanSheetsPerMatch', 'MatchesPlayedPerClubMatches', 'StartsPerClubMatches', 'NonPenaltyGoalsPerMinutes', 'GoalsPerMinutesPlayed', 'AssistsPerMinutesPlayed', 'NonPenaltyGoalsPerMinutesPlayed', 'YellowCardsPerMinutesPlayed', 'RedCardsPerMinutesPlayed', 'ShotsOnTargetPerMinutesPlayed']\n"
     ]
    }
   ],
   "source": [
    "print(list(X_imp_st.columns))"
   ]
  },
  {
   "cell_type": "code",
   "execution_count": 306,
   "metadata": {},
   "outputs": [],
   "source": [
    "outfielder_predict['CorrMarketValue'] = outfielder_predict['NewMarketValue']"
   ]
  },
  {
   "cell_type": "code",
   "execution_count": 307,
   "metadata": {},
   "outputs": [],
   "source": [
    "result_df = outfielder_predict[['Name', 'ClubInvolved', 'Pos',  'ID', 'Nationality']]"
   ]
  },
  {
   "cell_type": "code",
   "execution_count": 308,
   "metadata": {},
   "outputs": [],
   "source": [
    "outfielder_predict = outfielder_predict.drop([ 'Name', 'Season', 'ClubInvolved', 'ContractGood', 'Player',\\\n",
    "    'Nation', 'FbrefClub', 'GoalPerShotOnTarget', 'Pos', 'MarketValue', 'Composure', 'ID', 'Joined', 'NewMarketValue', 'Nationality'], axis=1)"
   ]
  },
  {
   "cell_type": "code",
   "execution_count": 309,
   "metadata": {},
   "outputs": [],
   "source": [
    "#encode\n",
    "outfielder_predict_cbe = cbe_encoder.transform(outfielder_predict)"
   ]
  },
  {
   "cell_type": "code",
   "execution_count": 310,
   "metadata": {},
   "outputs": [],
   "source": [
    "#impute\n",
    "outfielder_predict_cbe_imp = imputer.transform(outfielder_predict_cbe)\n",
    "outfielder_predict_cbe_imp = pd.DataFrame(data = outfielder_predict_cbe_imp, columns = outfielder_predict_cbe.columns)"
   ]
  },
  {
   "cell_type": "code",
   "execution_count": 311,
   "metadata": {},
   "outputs": [],
   "source": [
    "#standardization\n",
    "outfielder_predict_imp_st = scaler.transform(outfielder_predict_cbe_imp)\n",
    "outfielder_predict_imp_st = pd.DataFrame(data = outfielder_predict_imp_st, columns = outfielder_predict_cbe_imp.columns)"
   ]
  },
  {
   "cell_type": "code",
   "execution_count": 313,
   "metadata": {},
   "outputs": [
    {
     "name": "stdout",
     "output_type": "stream",
     "text": [
      "[19:07:41] WARNING: /Users/travis/build/dmlc/xgboost/src/learner.cc:1095: Starting in XGBoost 1.3.0, the default evaluation metric used with the objective 'binary:logistic' was changed from 'error' to 'logloss'. Explicitly set eval_metric if you'd like to restore the old behavior.\n"
     ]
    }
   ],
   "source": [
    "#predict \n",
    "model.fit(X_imp_st , y)\n",
    "result_df['confidence'] = model.predict_proba(outfielder_predict_imp_st)[:, 1]"
   ]
  },
  {
   "cell_type": "code",
   "execution_count": 314,
   "metadata": {},
   "outputs": [],
   "source": [
    "result_df.to_excel(f\"/Users/{os.environ['USER']}/Documents/Uni/Szakdoga/Adatok/result.xlsx\")"
   ]
  }
 ],
 "metadata": {
  "interpreter": {
   "hash": "aee8b7b246df8f9039afb4144a1f6fd8d2ca17a180786b69acc140d282b71a49"
  },
  "kernelspec": {
   "display_name": "Python 3.8.3 64-bit",
   "language": "python",
   "name": "python3"
  },
  "language_info": {
   "codemirror_mode": {
    "name": "ipython",
    "version": 3
   },
   "file_extension": ".py",
   "mimetype": "text/x-python",
   "name": "python",
   "nbconvert_exporter": "python",
   "pygments_lexer": "ipython3",
   "version": "3.8.3"
  },
  "orig_nbformat": 4
 },
 "nbformat": 4,
 "nbformat_minor": 2
}
