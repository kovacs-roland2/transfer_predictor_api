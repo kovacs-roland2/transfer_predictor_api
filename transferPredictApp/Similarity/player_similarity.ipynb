{
 "cells": [
  {
   "cell_type": "code",
   "execution_count": 60,
   "metadata": {},
   "outputs": [],
   "source": [
    "from sklearn.metrics.pairwise import cosine_similarity\n",
    "import pandas as pd\n",
    "import numpy as np\n",
    "import os\n",
    "from sklearn.decomposition import PCA\n",
    "import joblib\n",
    "import matplotlib.pyplot as plt\n",
    "import matplotlib as mpl\n",
    "import highlight_text\n",
    "import matplotlib.font_manager\n",
    "from io import BytesIO\n",
    "import base64\n",
    "import math\n",
    "from scipy import stats\n",
    "import json"
   ]
  },
  {
   "cell_type": "code",
   "execution_count": 133,
   "metadata": {},
   "outputs": [],
   "source": [
    "def create_files(position):\n",
    "    df = pd.read_csv('./Data/ws_df_sim.csv')\n",
    "\n",
    "    df_21 = df[df.Year == 2021]\n",
    "    df_20 = df[df.Year == 2020]\n",
    "    df_19 = df[df.Year == 2019]\n",
    "\n",
    "    df_21= df_21.drop([\t'tournamentName', 'firstName', 'lastName', 'SecondName', 'FirstLastName',\n",
    "        'age', 'Full name'] , axis = 1)\n",
    "    df_20= df_20.drop([\t'tournamentName','firstName', 'lastName', 'SecondName', 'FirstLastName',\n",
    "        'age', 'Full name'] , axis = 1)\n",
    "    df_19= df_19.drop([\t'tournamentName', 'firstName', 'lastName', 'SecondName', 'FirstLastName',\n",
    "        'age', 'Full name'] , axis = 1)\n",
    "\n",
    "    df_all = df_21.join(\n",
    "        df_20.set_index(['playerId']),\n",
    "        lsuffix=\"_x\",\n",
    "        rsuffix=\"_y\",\n",
    "        on=[\"playerId\"],\n",
    "    ).join(\n",
    "        df_19.set_index(['playerId']),\n",
    "        lsuffix=\"_x\",\n",
    "        rsuffix=\"_y\",\n",
    "        on=[\"playerId\"],\n",
    "    )\n",
    "\n",
    "    df_all = df_all.dropna()  \n",
    "\n",
    "    df_all = df_all.drop([ 'NewName_y',  'positionText_y',\n",
    "    'NewName', 'positionText', 'League_y', 'League', 'teamName_y', 'teamName' ], axis = 1)\n",
    "\n",
    "    df_cluster = df_all.copy()\n",
    "    df_cluster.to_csv('./Data/ws_sim_player.csv')\n",
    "    df_21.to_csv('./Data/df_21.csv')\n",
    "\n",
    "    df_clust = df_cluster[df_cluster.positionText_x == position]\n",
    "    df_columns = df_clust[['NewName_x',\t'playerId',\t'positionText_x', 'teamName_x', 'League_x']]\n",
    "    df_columns = df_columns.reset_index()\n",
    "    #index = df_columns[df_columns.NewName_x==name].index\n",
    "\n",
    "    df_clust = df_clust.drop(['NewName_x',\t'playerId',\t'positionText_x', 'Year', 'Year_x', 'Year_y', 'teamName_x', 'League_x'], axis = 1)\n",
    "\n",
    "    df_columns.to_csv('./Data/df_columns_' + position + '.csv')\n",
    "\n",
    "    num = 5\n",
    "    pca = PCA(n_components=num)\n",
    "    principalComponents = pca.fit_transform(df_clust)\n",
    "    principalDf = pd.DataFrame(data = principalComponents\n",
    "                , columns = [f'principal_{i}' for i in range(num)])\n",
    "\n",
    "    principalDf.to_csv('./Data/ws_sim_' + position + '.csv')\n",
    "    pca_path = './Models/pca_' + position + '.sav'\n",
    "    joblib.dump(pca, pca_path)"
   ]
  },
  {
   "cell_type": "code",
   "execution_count": 136,
   "metadata": {},
   "outputs": [],
   "source": [
    "position = 'Forward'\n",
    "create_files(position)"
   ]
  }
 ],
 "metadata": {
  "interpreter": {
   "hash": "aee8b7b246df8f9039afb4144a1f6fd8d2ca17a180786b69acc140d282b71a49"
  },
  "kernelspec": {
   "display_name": "Python 3.8.3 64-bit",
   "language": "python",
   "name": "python3"
  },
  "language_info": {
   "codemirror_mode": {
    "name": "ipython",
    "version": 3
   },
   "file_extension": ".py",
   "mimetype": "text/x-python",
   "name": "python",
   "nbconvert_exporter": "python",
   "pygments_lexer": "ipython3",
   "version": "3.8.3"
  },
  "orig_nbformat": 4
 },
 "nbformat": 4,
 "nbformat_minor": 2
}
