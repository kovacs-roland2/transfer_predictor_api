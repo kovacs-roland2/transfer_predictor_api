{
 "cells": [
  {
   "cell_type": "code",
   "execution_count": 1,
   "metadata": {},
   "outputs": [],
   "source": [
    "import pandas as pd\n",
    "import os"
   ]
  },
  {
   "cell_type": "code",
   "execution_count": null,
   "metadata": {},
   "outputs": [],
   "source": [
    "target = [\n",
    "'Club Atlético Vélez Sarsfield',\n",
    "'Club Estudiantes de La Plata',\n",
    "'Club Atlético San Martín (SJ)',\n",
    "'Atlético de Rafaela',\n",
    "\"Club Atlético Newell's Old Boys\",\n",
    "'Club Atlético Boca Juniors',\n",
    "'Club Olimpo',\n",
    "'Club Atlético River Plate',\n",
    "'Club Atlético Tigre',\n",
    "'Club Atlético Lanús',\n",
    "'Racing Club',\n",
    "'Club Atlético San Lorenzo de Almagro',\n",
    "'Asociación Atlética Argentinos Juniors',\n",
    "'Nueva Chicago',\n",
    "'Club Atlético Independiente',\n",
    "'Arsenal Fútbol Club',\n",
    "'Club Ferro Carril Oeste',\n",
    "'Instituto AC Córdoba',\n",
    "'Club Sportivo Desamparados (SJ)',\n",
    "'Club Atlético Rosario Central',\n",
    "'Club Atlético Colón',\n",
    "'Club Atlético Banfield',\n",
    "'Club de Gimnasia y Esgrima La Plata',\n",
    "'Quilmes Atlético Club',\n",
    "'Club Atlético Huracán',\n",
    "'Club Atlético Belgrano',\n",
    "'CA Tiro Federal',\n",
    "'Club Deportivo Godoy Cruz Antonio Tomba',\n",
    "'Defensa y Justicia',\n",
    "'Club Atlético Platense',\n",
    "'Club Atlético Talleres',\n",
    "'Club Atlético Unión',\n",
    "]"
   ]
  },
  {
   "cell_type": "code",
   "execution_count": 7,
   "metadata": {},
   "outputs": [],
   "source": [
    "to_change = ['Vélez Sarsf',\n",
    "'Estudiantes',\n",
    "'San Martín SJ',\n",
    "'Rafaela',\n",
    "\"Newell's OB\",\n",
    "'Boca Juniors',\n",
    "'Club Olimpo',\n",
    "'River Plate',\n",
    "'Tigre',\n",
    "'Lanús',\n",
    "'Racing Club',\n",
    "'San Lorenzo',\n",
    "'Argentinos Jun',\n",
    "'Nueva Chicago',\n",
    "'Independiente',\n",
    "'Arsenal',\n",
    "'Club Ferro Carril Oeste',\n",
    "'CC Córdoba',\n",
    "'Club Sportivo Desamparados (SJ)',\n",
    "'Rosario Cent',\n",
    "'Colón',\n",
    "'Banfield',\n",
    "'Gimnasia ELP',\n",
    "'Quilmes',\n",
    "'CA Huracán',\n",
    "'Belgrano',\n",
    "'CA Tiro Federal',\n",
    "'Godoy Cruz',\n",
    "'Defensa y Just',\n",
    "'Platense',\n",
    "'Talleres',\n",
    "'CA Unión'\n",
    "]"
   ]
  },
  {
   "cell_type": "code",
   "execution_count": 8,
   "metadata": {},
   "outputs": [
    {
     "name": "stdout",
     "output_type": "stream",
     "text": [
      "32 32\n"
     ]
    }
   ],
   "source": [
    "print(len(target), len(to_change))"
   ]
  },
  {
   "cell_type": "code",
   "execution_count": 9,
   "metadata": {},
   "outputs": [
    {
     "name": "stdout",
     "output_type": "stream",
     "text": [
      "Club Atlético Vélez Sarsfield      -      Vélez Sarsf\n",
      "Club Estudiantes de La Plata      -      Estudiantes\n",
      "Club Atlético San Martín (SJ)      -      San Martín SJ\n",
      "Atlético de Rafaela      -      Rafaela\n",
      "Club Atlético Newell's Old Boys      -      Newell's OB\n",
      "Club Atlético Boca Juniors      -      Boca Juniors\n",
      "Club Olimpo      -      Club Olimpo\n",
      "Club Atlético River Plate      -      River Plate\n",
      "Club Atlético Tigre      -      Tigre\n",
      "Club Atlético Lanús      -      Lanús\n",
      "Racing Club      -      Racing Club\n",
      "Club Atlético San Lorenzo de Almagro      -      San Lorenzo\n",
      "Asociación Atlética Argentinos Juniors      -      Argentinos Jun\n",
      "Nueva Chicago      -      Nueva Chicago\n",
      "Club Atlético Independiente      -      Independiente\n",
      "Arsenal Fútbol Club      -      Arsenal\n",
      "Club Ferro Carril Oeste      -      Club Ferro Carril Oeste\n",
      "Instituto AC Córdoba      -      CC Córdoba\n",
      "Club Sportivo Desamparados (SJ)      -      Club Sportivo Desamparados (SJ)\n",
      "Club Atlético Rosario Central      -      Rosario Cent\n",
      "Club Atlético Colón      -      Colón\n",
      "Club Atlético Banfield      -      Banfield\n",
      "Club de Gimnasia y Esgrima La Plata      -      Gimnasia ELP\n",
      "Quilmes Atlético Club      -      Quilmes\n",
      "Club Atlético Huracán      -      CA Huracán\n",
      "Club Atlético Belgrano      -      Belgrano\n",
      "CA Tiro Federal      -      CA Tiro Federal\n",
      "Club Deportivo Godoy Cruz Antonio Tomba      -      Godoy Cruz\n",
      "Defensa y Justicia      -      Defensa y Just\n",
      "Club Atlético Platense      -      Platense\n",
      "Club Atlético Talleres      -      Talleres\n",
      "Club Atlético Unión      -      CA Unión\n"
     ]
    }
   ],
   "source": [
    "for i in range(len(to_change)):\n",
    "    print(target[i],\"     -     \", to_change[i])"
   ]
  },
  {
   "cell_type": "code",
   "execution_count": 11,
   "metadata": {},
   "outputs": [],
   "source": [
    "folder = 'Argentin'\n",
    "df = pd.read_excel(f\"/Users/{os.environ['USER']}/Documents/Uni/Szakdoga/Fbref_data/{folder}/league.xlsx\")"
   ]
  },
  {
   "cell_type": "code",
   "execution_count": 13,
   "metadata": {},
   "outputs": [],
   "source": [
    "for i in range(len(target)):\n",
    "    df = df.replace(to_change[i], target[i])"
   ]
  },
  {
   "cell_type": "code",
   "execution_count": 15,
   "metadata": {},
   "outputs": [],
   "source": [
    "df.to_excel(f\"/Users/{os.environ['USER']}/Documents/Uni/Szakdoga/Fbref_data/{folder}/league2.xlsx\")"
   ]
  },
  {
   "cell_type": "code",
   "execution_count": 16,
   "metadata": {},
   "outputs": [
    {
     "name": "stdout",
     "output_type": "stream",
     "text": [
      "32 32\n"
     ]
    }
   ],
   "source": [
    "target = [\n",
    "'Club Atlético Vélez Sarsfield',\n",
    "'Club Estudiantes de La Plata',\n",
    "'Club Atlético San Martín (SJ)',\n",
    "'Atlético de Rafaela',\n",
    "\"Club Atlético Newell's Old Boys\",\n",
    "'Club Atlético Boca Juniors',\n",
    "'Club Olimpo',\n",
    "'Club Atlético River Plate',\n",
    "'Club Atlético Tigre',\n",
    "'Club Atlético Lanús',\n",
    "'Racing Club',\n",
    "'Club Atlético San Lorenzo de Almagro',\n",
    "'Asociación Atlética Argentinos Juniors',\n",
    "'Nueva Chicago',\n",
    "'Club Atlético Independiente',\n",
    "'Arsenal Fútbol Club',\n",
    "'Club Ferro Carril Oeste',\n",
    "'Instituto AC Córdoba',\n",
    "'Club Sportivo Desamparados (SJ)',\n",
    "'Club Atlético Rosario Central',\n",
    "'Club Atlético Colón',\n",
    "'Club Atlético Banfield',\n",
    "'Club de Gimnasia y Esgrima La Plata',\n",
    "'Quilmes Atlético Club',\n",
    "'Club Atlético Huracán',\n",
    "'Club Atlético Belgrano',\n",
    "'CA Tiro Federal',\n",
    "'Club Deportivo Godoy Cruz Antonio Tomba',\n",
    "'Defensa y Justicia',\n",
    "'Club Atlético Platense',\n",
    "'Club Atlético Talleres',\n",
    "'Club Atlético Unión',\n",
    "]\n",
    "\n",
    "to_change = ['Vélez Sarsf',\n",
    "'Estudiantes',\n",
    "'San Martín SJ',\n",
    "'Rafaela',\n",
    "\"Newell's OB\",\n",
    "'Boca Juniors',\n",
    "'Club Olimpo',\n",
    "'River Plate',\n",
    "'Tigre',\n",
    "'Lanús',\n",
    "'Racing Club',\n",
    "'San Lorenzo',\n",
    "'Argentinos Jun',\n",
    "'Nueva Chicago',\n",
    "'Independiente',\n",
    "'Arsenal',\n",
    "'Club Ferro Carril Oeste',\n",
    "'CC Córdoba',\n",
    "'Club Sportivo Desamparados (SJ)',\n",
    "'Rosario Cent',\n",
    "'Colón',\n",
    "'Banfield',\n",
    "'Gimnasia ELP',\n",
    "'Quilmes',\n",
    "'CA Huracán',\n",
    "'Belgrano',\n",
    "'CA Tiro Federal',\n",
    "'Godoy Cruz',\n",
    "'Defensa y Just',\n",
    "'Platense',\n",
    "'Talleres',\n",
    "'CA Unión'\n",
    "]\n",
    "\n",
    "print(len(target), len(to_change))\n",
    "\n",
    "# for i in range(len(to_change)):\n",
    "#     print(target[i],\"     -     \", to_change[i])\n",
    "\n",
    "folder = 'Argentin'"
   ]
  },
  {
   "cell_type": "code",
   "execution_count": 18,
   "metadata": {},
   "outputs": [],
   "source": [
    "target = ['Red Bull Salzburg',\n",
    "'SK Austria Klagenfurt',\n",
    "'SV Feldkirchen',\n",
    "'Union St. Florian',\n",
    "'Rapid Lienz',\n",
    "'SV Ried',\n",
    "'SV Horn',\n",
    "'FC Blau-Weiss Linz',\n",
    "'FC Liefering',\n",
    "'SK Rapid Wien',\n",
    "'FC Admira Wacker Mödling',\n",
    "'SK Sturm Graz',\n",
    "'FC Wacker Innsbruck',\n",
    "'Austria Vienna',\n",
    "'SV Kapfenberg',\n",
    "'SV Grödig',\n",
    "'Wiener Sportklub',\n",
    "'SCR Altach Juniors',\n",
    "'SKN St. Pölten',\n",
    "'SC Austria Lustenau',\n",
    "'VST Völkermarkt',\n",
    "'LASK',\n",
    "'SV Austria Salzburg',\n",
    "'ASK Ebreichsdorf',\n",
    "'SCR Altach',\n",
    "'Union Vöcklamarkt',\n",
    "'Grazer AK',\n",
    "'FC Lustenau',\n",
    "'FC Wels',\n",
    "'FC Gratkorn',\n",
    "'1.FC Vöcklabruck',\n",
    "'VfB Admira Wacker Mödling',\n",
    "'SC Neusiedl/See',\n",
    "'TSV Hartberg',\n",
    "'SK Austria Kärnten',\n",
    "'WSG Wattens',\n",
    "'SC Schwaz',\n",
    "'SKN St. Pölten Juniors',\n",
    "'SC Magna Wiener Neustadt',\n",
    "'SV Gloggnitz',\n",
    "'Villacher SV',\n",
    "'SC Weiz',\n",
    "'FC Gleisdorf 09',\n",
    "'SKU Amstetten',\n",
    "'FC Juniors OÖ',\n",
    "'SV Wörgl',\n",
    "'WSC Hertha Wels',\n",
    "'SV Lafnitz',\n",
    "'Young Violets Austria Wien',\n",
    "'Red Bull Juniors Salzburg',\n",
    "'First Vienna FC',\n",
    "'USK Anif',\n",
    "'WAC - St. Andrä',\n",
    "'1. SC Sollenau']\n",
    "\n",
    "to_change = ['RB Salzburg',\n",
    "'SK Austria Klagenfurt',\n",
    "'SV Feldkirchen',\n",
    "'Union St. Florian',\n",
    "'Rapid Lienz',\n",
    "'Ried',\n",
    "'SV Horn',\n",
    "'FC Blau-Weiss Linz',\n",
    "'FC Liefering',\n",
    "'Rapid Wien',\n",
    "'Admira',\n",
    "'Sturm Graz',\n",
    "'Wacker Innsbr',\n",
    "'Austria Wien',\n",
    "'Kapfenberger',\n",
    "'Grödig',\n",
    "'Wiener Sportklub',\n",
    "'SCR Altach',\n",
    "'St. Pölten',\n",
    "'SC Austria Lustenau',\n",
    "'VST Völkermarkt',\n",
    "'LASK',\n",
    "'SV Austria Salzburg',\n",
    "'ASK Ebreichsdorf',\n",
    "'SCR Altach',\n",
    "'Union Vöcklamarkt',\n",
    "'Grazer AK',\n",
    "'FC Lustenau',\n",
    "'FC Wels',\n",
    "'FC Gratkorn',\n",
    "'1.FC Vöcklabruck',\n",
    "'VfB Admira Wacker Mödling',\n",
    "'SC Neusiedl/See',\n",
    "'Hartberg',\n",
    "'SK Austria Kärnten',\n",
    "'WSG Wattens',\n",
    "'SC Schwaz',\n",
    "'SKN St. Pölten Juniors',\n",
    "'Wiener Neustadt',\n",
    "'SV Gloggnitz',\n",
    "'Villacher SV',\n",
    "'SC Weiz',\n",
    "'FC Gleisdorf 09',\n",
    "'SKU Amstetten',\n",
    "'FC Juniors OÖ',\n",
    "'SV Wörgl',\n",
    "'WSC Hertha Wels',\n",
    "'SV Lafnitz',\n",
    "'Young Violets Austria Wien',\n",
    "'Red Bull Juniors Salzburg',\n",
    "'First Vienna FC',\n",
    "'USK Anif',\n",
    "'WAC - St. Andrä',\n",
    "'1. SC Sollenau'\n",
    "]\n",
    "\n",
    "folder = 'Austrian'"
   ]
  },
  {
   "cell_type": "code",
   "execution_count": 21,
   "metadata": {},
   "outputs": [],
   "source": [
    "target = ['KRC Genk', 'RAEC Mons', 'Club Brugge KV', 'Standard Liège', 'KV Mechelen', 'KV Kortrijk',\n",
    "    'RSC Anderlecht', 'KSV Roeselare', 'Lierse SK', 'KAA Gent', 'Beerschot AC', 'KVC Westerlo',\n",
    "    'White Star Brüssel', 'SV Zulte-Waregem', 'KSC Lokeren', 'Sporting de Charleroi', 'Waasland-Beveren',\n",
    "    'KAS Eupen', 'Mouscron-Péruwelz', 'Mouscron-Péruwelz', 'Sint-Truidense VV', 'KV Oostende', 'AFC Tubize',\n",
    "    'FCV Dender EH', 'Royal Antwerp FC', 'KSK Beveren']\n",
    "\n",
    "to_change = ['Genk', 'Mons', 'Club Brugge', 'Standard Liège', 'Mechelen', 'Kortrijk',\n",
    "    'Anderlecht', 'Roeselare', 'Lierse', 'Gent', 'Beerschot', 'Westerlo', 'Brussel',\n",
    "    'Zulte Waregem', 'Lokeren', 'Charleroi', 'Waasland-Bev', 'Eupen', 'Mouscron', 'RE Mouscron',\n",
    "    'Sint-Truiden', 'KV Oostende', 'Tubize', 'Dender', 'Antwerp', 'Beveren']\n",
    "\n",
    "folder = 'Belgian'"
   ]
  },
  {
   "cell_type": "code",
   "execution_count": 3,
   "metadata": {},
   "outputs": [],
   "source": [
    "target = ['Sport Club do Recife', 'América Futebol Clube (MG)', 'Botafogo de Futebol e Regatas', 'Atlético Paranaense']\n",
    "\n",
    "to_change = ['Sport Recife', 'América (MG)', 'Botafogo (RJ)', 'Atl Paranaense']\n",
    "\n",
    "folder = 'Brazil'"
   ]
  },
  {
   "cell_type": "code",
   "execution_count": 6,
   "metadata": {},
   "outputs": [],
   "source": [
    "target = ['Östers IF', 'AIK', 'Djurgardens IF', 'Athletic Eskilstuna']\n",
    "\n",
    "to_change = ['Östers', 'AIK Stockholm', 'Djurgården', 'AFC Eskilstuna']\n",
    "\n",
    "folder = 'Swedish'"
   ]
  },
  {
   "cell_type": "code",
   "execution_count": 9,
   "metadata": {},
   "outputs": [],
   "source": [
    "target = ['Fenerbahce SK', 'Gençlerbirligi SK', 'Eskisehirspor', 'Elazigspor', 'Gaziantep Büyüksehir Belediyespor',\n",
    "    'Balikesirspor', 'Kasimpasa', 'Mersin Idmanyurdu', 'Erzurumspor', 'Osmanlispor FK']\n",
    "\n",
    "to_change = ['Fenerbahçe', 'Gençlerbirliği', 'Eskişehirspor', 'Elazığspor', 'Gaziantep FK', 'Balıkesirspor',\n",
    "    'Kasımpaşa', 'Mersin İY', 'BB Erzurumspor', 'Osmanlıspor']\n",
    "\n",
    "folder = 'Turkish'"
   ]
  },
  {
   "cell_type": "code",
   "execution_count": 12,
   "metadata": {},
   "outputs": [],
   "source": [
    "target = ['Metalurg Donetsk', 'Zorya Lugansk', 'PFK Lviv']\n",
    "\n",
    "to_change = ['Met Donetsk', 'Zorya Luhansk', 'FC Lviv']\n",
    "\n",
    "folder = 'Ukrain'"
   ]
  },
  {
   "cell_type": "code",
   "execution_count": 15,
   "metadata": {},
   "outputs": [],
   "source": [
    "target = ['CD Universidad Católica', 'CSD Colo Colo', 'Unión Espanola', 'Club Universidad de Chile']\n",
    "\n",
    "to_change = ['Univ Católica', 'Colo-Colo', 'Unión Española', 'Univ Chile']\n",
    "\n",
    "folder = 'Chile'"
   ]
  },
  {
   "cell_type": "code",
   "execution_count": 18,
   "metadata": {},
   "outputs": [],
   "source": [
    "target = ['NK Inter Zapresic', 'NK Varazdin', 'NK Rudes']\n",
    "\n",
    "to_change = ['Inter Zaprešić', 'Varaždin', 'Rudeš']\n",
    "\n",
    "folder = 'Croatia'"
   ]
  },
  {
   "cell_type": "code",
   "execution_count": 23,
   "metadata": {},
   "outputs": [],
   "source": [
    "target = ['FC Viktoria Plzen', 'AC Sparta Praha', 'FC Banik Ostrava', 'FC Vysocina Jihlava', 'FK Viktoria Zizkov'\n",
    "    ,'SK Dynamo Ceske Budejovice','SK Dynamo Ceske Budejovice', 'FC Bohemians Prag 1905']\n",
    "\n",
    "to_change = ['Viktoria Plzeň', 'Sparta Prague', 'Baník Ostrava', 'Vysočina Jihlava', 'Viktoria Žižkov', \"České Budějovice\",\n",
    " 'České Budĕjov.', 'Bohemians Pra']\n",
    "\n",
    "folder = 'Czech'"
   ]
  },
  {
   "cell_type": "code",
   "execution_count": 28,
   "metadata": {},
   "outputs": [],
   "source": [
    "\n",
    "\n",
    "target = ['Vejle Boldklub Kolding', 'Vejle Boldklub', 'FC Vestsjaelland', 'FC Helsingör', 'SönderjyskE'\n",
    "    ,'Bröndby IF','HB Köge']\n",
    "\n",
    "to_change = ['Vejle BK', 'Vejle BK', 'Vestsjælland', 'Helsingør', \"SønderjyskE\",\n",
    " 'Brøndby', 'HB Køge']\n",
    "\n",
    "folder = 'Danish'"
   ]
  },
  {
   "cell_type": "code",
   "execution_count": 31,
   "metadata": {},
   "outputs": [],
   "source": [
    "target = ['Sparta Rotterdam']\n",
    "\n",
    "to_change = [\"Sparta R'dam\"]\n",
    "\n",
    "folder = 'Dutch'"
   ]
  },
  {
   "cell_type": "code",
   "execution_count": 34,
   "metadata": {},
   "outputs": [],
   "source": [
    "\n",
    "\n",
    "target = ['AE Larisa', 'AO Xanthi']\n",
    "\n",
    "to_change = [\"Larissa\", 'Xanthi']\n",
    "\n",
    "folder = 'Greek'"
   ]
  },
  {
   "cell_type": "code",
   "execution_count": 2,
   "metadata": {},
   "outputs": [],
   "source": [
    "target = ['Newcastle United', 'Manchester United', 'Queens Park Rangers','Sheffield United','Wolverhampton Wanderers' ]\n",
    "\n",
    "to_change = [\"Newcastle Utd\", 'Manchester Utd', 'QPR','Sheffield Utd','Wolves']\n",
    "\n",
    "folder = 'PL'"
   ]
  },
  {
   "cell_type": "code",
   "execution_count": 41,
   "metadata": {},
   "outputs": [],
   "source": [
    "\n",
    "\n",
    "\n",
    "target = ['Desportivo Aves']\n",
    "\n",
    "to_change = [\"Aves\"]\n",
    "\n",
    "folder = 'Portugal'"
   ]
  },
  {
   "cell_type": "code",
   "execution_count": 44,
   "metadata": {},
   "outputs": [],
   "source": [
    "\n",
    "\n",
    "\n",
    "target = ['Lokomotiv Moscow','Kuban Krasnodar','Dinamo Moscow','SKA-Energia Khabarovsk','Luch Vladivostok']\n",
    "\n",
    "to_change = [\"Loko Moscow\",'Kuban','Dynamo Moscow','SKA-Khabarovsk','LE Vladivostok']\n",
    "\n",
    "folder = 'Russian'"
   ]
  },
  {
   "cell_type": "code",
   "execution_count": 47,
   "metadata": {},
   "outputs": [],
   "source": [
    "target = ['Inverness Caledonian Thistle FC','Dundee FC','Heart of Midlothian FC']\n",
    "\n",
    "to_change = [\"Inverness CT\",'Dundee','Hearts']\n",
    "\n",
    "folder = 'Scottish'"
   ]
  },
  {
   "cell_type": "code",
   "execution_count": 5,
   "metadata": {},
   "outputs": [],
   "source": [
    "target = ['Borussia Mönchengladbach','FC Bayern München','Eintracht Frankfurt', 'SpVgg Greuther Fürth',\n",
    "    'Alemannia Aachen']\n",
    "\n",
    "to_change = [\"M'Gladbach\",'Bayern Munich','Eint Frankfurt', 'Greuther Fürth', 'AA Aachen']\n",
    "\n",
    "folder = 'Bundesliga'"
   ]
  },
  {
   "cell_type": "code",
   "execution_count": 7,
   "metadata": {},
   "outputs": [],
   "source": [
    "target = ['Évian Thonon Gaillard FC','Stade Rennais FC','Paris Saint-Germain']\n",
    "\n",
    "to_change = [\"Evian\",'Rennes','Paris S-G']\n",
    "\n",
    "folder = 'Ligue1'"
   ]
  },
  {
   "cell_type": "code",
   "execution_count": 79,
   "metadata": {},
   "outputs": [],
   "source": [
    "target = ['Évian Thonon Gaillard FC','Stade Rennais FC','Paris Saint-Germain']\n",
    "\n",
    "to_change = [\"Evian\",'Rennes','Paris S-G']\n",
    "\n",
    "folder = 'Ligue1'"
   ]
  },
  {
   "cell_type": "code",
   "execution_count": 61,
   "metadata": {},
   "outputs": [],
   "source": [
    "target = ['Queens Park Rangers','Nottingham Forest','Sheffield Wednesday', 'Rotherham United','Wolverhampton Wanderers','Milton Keynes Dons',\n",
    "    'Sheffield United','Scunthorpe United','Colchester United','Newcastle United']\n",
    "\n",
    "to_change = [\"QPR\",\"Nott'ham Forest\",'Sheffield Weds', 'Rotherham Utd','Wolves','MK Dons','Sheffield Utd','Scunthorpe Utd','Colchester Utd',\n",
    "    'Newcastle Utd']\n",
    "\n",
    "folder = 'English2'"
   ]
  },
  {
   "cell_type": "code",
   "execution_count": 9,
   "metadata": {},
   "outputs": [],
   "source": [
    "\n",
    "target = ['RC Celta','Deportivo de La Coruna','Real Sporting de Gijón']\n",
    "\n",
    "to_change = [\"Celta Vigo\",'La Coruña','Sporting Gijón']\n",
    "\n",
    "folder = 'LaLiga'"
   ]
  },
  {
   "cell_type": "code",
   "execution_count": 67,
   "metadata": {},
   "outputs": [],
   "source": [
    "target = ['Bourg-en-Bresse Péronnas 01','Quevilly Rouen Métropole']\n",
    "\n",
    "to_change = [\"Bourg-Péronnas\",\"Quevilly-Rouen\"]\n",
    "\n",
    "folder = 'Ligue2'"
   ]
  },
  {
   "cell_type": "code",
   "execution_count": 69,
   "metadata": {},
   "outputs": [],
   "source": [
    "target = ['Borussia Mönchengladbach','SSV Jahn Regensburg',\"Würzburger Kickers\",'Eintracht Frankfurt']\n",
    "\n",
    "to_change = [\"M'Gladbach\",\"Jahn R'burg\",\"W'burg Kickers\",'Eint Frankfurt']\n",
    "\n",
    "folder = 'Bundesliga2'"
   ]
  },
  {
   "cell_type": "code",
   "execution_count": 72,
   "metadata": {},
   "outputs": [],
   "source": [
    "target = ['Real Sporting de Gijón','Real Madrid Castilla',\"Sevilla Atlético\",'Club Polideportivo Ejido (liq.)','RC Celta','Deportivo de La Coruna']\n",
    "\n",
    "to_change = [\"Sporting Gijón\",\"Real Madrid B\",\"Sevilla B\",'Poli Ejido','Celta Vigo','La Coruña']\n",
    "\n",
    "folder = 'Spain2'"
   ]
  },
  {
   "cell_type": "code",
   "execution_count": 82,
   "metadata": {},
   "outputs": [],
   "source": [
    "folder='Top5'\n",
    "df2 = pd.read_excel(f\"/Users/{os.environ['USER']}/Documents/Uni/Szakdoga/Fbref_data/{folder}/player_goalkeeping2.xlsx\")\n",
    "df3 = pd.read_excel(f\"/Users/{os.environ['USER']}/Documents/Uni/Szakdoga/Fbref_data/{folder}/player_shooting2.xlsx\")\n",
    "\n",
    "for i in range(len(target)):\n",
    "    df2 = df2.replace(to_change[i], target[i])\n",
    "    df3 = df3.replace(to_change[i], target[i])\n",
    "\n",
    "df2.to_excel(f\"/Users/{os.environ['USER']}/Documents/Uni/Szakdoga/Fbref_data/{folder}/player_goalkeeping2.xlsx\")\n",
    "df3.to_excel(f\"/Users/{os.environ['USER']}/Documents/Uni/Szakdoga/Fbref_data/{folder}/player_shooting2.xlsx\")"
   ]
  },
  {
   "cell_type": "code",
   "execution_count": 73,
   "metadata": {},
   "outputs": [
    {
     "name": "stdout",
     "output_type": "stream",
     "text": [
      "6 6\n"
     ]
    }
   ],
   "source": [
    "print(len(target), len(to_change))"
   ]
  }
 ],
 "metadata": {
  "interpreter": {
   "hash": "aee8b7b246df8f9039afb4144a1f6fd8d2ca17a180786b69acc140d282b71a49"
  },
  "kernelspec": {
   "display_name": "Python 3.8.3 64-bit",
   "language": "python",
   "name": "python3"
  },
  "language_info": {
   "codemirror_mode": {
    "name": "ipython",
    "version": 3
   },
   "file_extension": ".py",
   "mimetype": "text/x-python",
   "name": "python",
   "nbconvert_exporter": "python",
   "pygments_lexer": "ipython3",
   "version": "3.8.3"
  },
  "orig_nbformat": 4
 },
 "nbformat": 4,
 "nbformat_minor": 2
}
