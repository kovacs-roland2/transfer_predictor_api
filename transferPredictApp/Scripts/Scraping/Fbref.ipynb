{
 "cells": [
  {
   "cell_type": "code",
   "execution_count": 1,
   "metadata": {},
   "outputs": [],
   "source": [
    "import pandas as pd\n",
    "import html5lib\n",
    "import os"
   ]
  },
  {
   "cell_type": "code",
   "execution_count": null,
   "metadata": {},
   "outputs": [],
   "source": [
    "#Ligue1\n",
    "links  = ['https://fbref.com/en/comps/13/10732/2020-2021-Ligue-1-Stats', 'https://fbref.com/en/comps/13/3243/2019-2020-Ligue-1-Stats',\n",
    "    'https://fbref.com/en/comps/13/2104/2018-2019-Ligue-1-Stats', 'https://fbref.com/en/comps/13/1632/2017-2018-Ligue-1-Stats', \n",
    "    'https://fbref.com/en/comps/13/1527/2016-2017-Ligue-1-Stats', 'https://fbref.com/en/comps/13/1468/2015-2016-Ligue-1-Stats',\n",
    "    'https://fbref.com/en/comps/13/734/2014-2015-Ligue-1-Stats','https://fbref.com/en/comps/13/670/2013-2014-Ligue-1-Stats',\n",
    "    'https://fbref.com/en/comps/13/603/2012-2013-Ligue-1-Stats','https://fbref.com/en/comps/13/535/2011-2012-Ligue-1-Stats',\n",
    "    'https://fbref.com/en/comps/13/468/2010-2011-Ligue-1-Stats','https://fbref.com/en/comps/13/401/2009-2010-Ligue-1-Stats',\n",
    "    'https://fbref.com/en/comps/13/339/2008-2009-Ligue-1-Stats', 'https://fbref.com/en/comps/13/283/2007-2008-Ligue-1-Stats',\n",
    "    'https://fbref.com/en/comps/13/230/2006-2007-Ligue-1-Stats']\n",
    "seasons = ['20/21', '19/20', '18/19', '17/18', '16/17', '15/16', '14/15', '13/14', '12/13', '11/12', '10/11', '09/10', '08/09', '07/08','06/07']"
   ]
  },
  {
   "cell_type": "code",
   "execution_count": null,
   "metadata": {},
   "outputs": [],
   "source": [
    "#PL\n",
    "links  = ['https://fbref.com/en/comps/9/10728/2020-2021-Premier-League-Stats', 'https://fbref.com/en/comps/9/3232/2019-2020-Premier-League-Stats',\n",
    "    'https://fbref.com/en/comps/9/1889/2018-2019-Premier-League-Stats', 'https://fbref.com/en/comps/9/1631/2017-2018-Premier-League-Stats', \n",
    "    'https://fbref.com/en/comps/9/1526/2016-2017-Premier-League-Stats', 'https://fbref.com/en/comps/9/1467/2015-2016-Premier-League-Stats',\n",
    "    'https://fbref.com/en/comps/9/733/2014-2015-Premier-League-Stats','https://fbref.com/en/comps/9/669/2013-2014-Premier-League-Stats',\n",
    "    'https://fbref.com/en/comps/9/602/2012-2013-Premier-League-Stats','https://fbref.com/en/comps/9/534/2011-2012-Premier-League-Stats',\n",
    "    'https://fbref.com/en/comps/9/467/2010-2011-Premier-League-Stats','https://fbref.com/en/comps/9/400/2009-2010-Premier-League-Stats',\n",
    "    'https://fbref.com/en/comps/9/338/2008-2009-Premier-League-Stats', 'https://fbref.com/en/comps/9/282/2007-2008-Premier-League-Stats',\n",
    "    'https://fbref.com/en/comps/9/229/2006-2007-Premier-League-Stats']\n",
    "seasons = ['20/21', '19/20', '18/19', '17/18', '16/17', '15/16', '14/15', '13/14', '12/13', '11/12', '10/11', '09/10', '08/09', '07/08','06/07']\n"
   ]
  },
  {
   "cell_type": "code",
   "execution_count": null,
   "metadata": {},
   "outputs": [],
   "source": [
    "#LaLiga\n",
    "links  = ['https://fbref.com/en/comps/12/10731/2020-2021-La-Liga-Stats', 'https://fbref.com/en/comps/12/3239/2019-2020-La-Liga-Stats',\n",
    "    'https://fbref.com/en/comps/12/1886/2018-2019-La-Liga-Stats', 'https://fbref.com/en/comps/12/1652/2017-2018-La-Liga-Stats', \n",
    "    'https://fbref.com/en/comps/12/1547/2016-2017-La-Liga-Stats', 'https://fbref.com/en/comps/12/1488/2015-2016-La-Liga-Stats',\n",
    "    'https://fbref.com/en/comps/12/755/2014-2015-La-Liga-Stats','https://fbref.com/en/comps/12/690/2013-2014-La-Liga-Stats',\n",
    "    'https://fbref.com/en/comps/12/624/2012-2013-La-Liga-Stats','https://fbref.com/en/comps/12/557/2011-2012-La-Liga-Stats',\n",
    "    'https://fbref.com/en/comps/12/488/2010-2011-La-Liga-Stats','https://fbref.com/en/comps/12/422/2009-2010-La-Liga-Stats',\n",
    "    'https://fbref.com/en/comps/12/355/2008-2009-La-Liga-Stats', 'https://fbref.com/en/comps/12/299/2007-2008-La-Liga-Stats',\n",
    "    'https://fbref.com/en/comps/12/245/2006-2007-La-Liga-Stats']\n",
    "seasons = ['20/21', '19/20', '18/19', '17/18', '16/17', '15/16', '14/15', '13/14', '12/13', '11/12', '10/11', '09/10', '08/09', '07/08','06/07']\n"
   ]
  },
  {
   "cell_type": "code",
   "execution_count": null,
   "metadata": {},
   "outputs": [],
   "source": [
    "#Bundesliga\n",
    "links  = ['https://fbref.com/en/comps/20/10737/2020-2021-Bundesliga-Stats', 'https://fbref.com/en/comps/20/3248/2019-2020-Bundesliga-Stats',\n",
    "    'https://fbref.com/en/comps/20/2109/2018-2019-Bundesliga-Stats', 'https://fbref.com/en/comps/20/1634/2017-2018-Bundesliga-Stats', \n",
    "    'https://fbref.com/en/comps/20/1529/2016-2017-Bundesliga-Stats', 'https://fbref.com/en/comps/20/1470/2015-2016-Bundesliga-Stats',\n",
    "    'https://fbref.com/en/comps/20/736/2014-2015-Bundesliga-Stats','https://fbref.com/en/comps/20/672/2013-2014-Bundesliga-Stats',\n",
    "    'https://fbref.com/en/comps/20/605/2012-2013-Bundesliga-Stats','https://fbref.com/en/comps/20/537/2011-2012-Bundesliga-Stats',\n",
    "    'https://fbref.com/en/comps/20/470/2010-2011-Bundesliga-Stats','https://fbref.com/en/comps/20/403/2009-2010-Bundesliga-Stats',\n",
    "    'https://fbref.com/en/comps/20/340/2008-2009-Bundesliga-Stats', 'https://fbref.com/en/comps/20/284/2007-2008-Bundesliga-Stats',\n",
    "    'https://fbref.com/en/comps/20/231/2006-2007-Bundesliga-Stats']\n",
    "seasons = ['20/21', '19/20', '18/19', '17/18', '16/17', '15/16', '14/15', '13/14', '12/13', '11/12', '10/11', '09/10', '08/09', '07/08','06/07']\n"
   ]
  },
  {
   "cell_type": "code",
   "execution_count": null,
   "metadata": {},
   "outputs": [],
   "source": [
    "#SerieA\n",
    "links  = ['https://fbref.com/en/comps/11/10730/2020-2021-Serie-A-Stats', 'https://fbref.com/en/comps/11/3260/2019-2020-Serie-A-Stats',\n",
    "    'https://fbref.com/en/comps/11/1896/2018-2019-Serie-A-Stats', 'https://fbref.com/en/comps/11/1640/2017-2018-Serie-A-Stats', \n",
    "    'https://fbref.com/en/comps/11/1535/2016-2017-Serie-A-Stats', 'https://fbref.com/en/comps/11/1476/2015-2016-Serie-A-Stats',\n",
    "    'https://fbref.com/en/comps/11/742/2014-2015-Serie-A-Stats','https://fbref.com/en/comps/11/678/2013-2014-Serie-A-Stats',\n",
    "    'https://fbref.com/en/comps/11/611/2012-2013-Serie-A-Stats','https://fbref.com/en/comps/11/544/2011-2012-Serie-A-Stats',\n",
    "    'https://fbref.com/en/comps/11/477/2010-2011-Serie-A-Stats','https://fbref.com/en/comps/11/410/2009-2010-Serie-A-Stats',\n",
    "    'https://fbref.com/en/comps/11/345/2008-2009-Serie-A-Stats', 'https://fbref.com/en/comps/11/289/2007-2008-Serie-A-Stats',\n",
    "    'https://fbref.com/en/comps/11/236/2006-2007-Serie-A-Stats']\n",
    "seasons = ['20/21', '19/20', '18/19', '17/18', '16/17', '15/16', '14/15', '13/14', '12/13', '11/12', '10/11', '09/10', '08/09', '07/08','06/07']"
   ]
  },
  {
   "cell_type": "code",
   "execution_count": null,
   "metadata": {},
   "outputs": [],
   "source": [
    "#CL\n",
    "links  = ['https://fbref.com/en/comps/8/10096/2020-2021-Champions-League-Stats', 'https://fbref.com/en/comps/8/2900/2019-2020-Champions-League-Stats',\n",
    "    'https://fbref.com/en/comps/8/2102/2018-2019-Champions-League-Stats', 'https://fbref.com/en/comps/8/1656/2017-2018-Champions-League-Stats', \n",
    "    'https://fbref.com/en/comps/8/1551/2016-2017-Champions-League-Stats', 'https://fbref.com/en/comps/8/1555/2015-2016-Champions-League-Stats',\n",
    "    'https://fbref.com/en/comps/8/768/2014-2015-Champions-League-Stats','https://fbref.com/en/comps/8/694/2013-2014-Champions-League-Stats',\n",
    "    'https://fbref.com/en/comps/8/628/2012-2013-Champions-League-Stats','https://fbref.com/en/comps/8/562/2011-2012-Champions-League-Stats',\n",
    "    'https://fbref.com/en/comps/8/492/2010-2011-Champions-League-Stats','https://fbref.com/en/comps/8/426/2009-2010-Champions-League-Stats',\n",
    "    'https://fbref.com/en/comps/8/359/2008-2009-Champions-League-Stats', 'https://fbref.com/en/comps/8/303/2007-2008-Champions-League-Stats',\n",
    "    'https://fbref.com/en/comps/8/249/2006-2007-Champions-League-Stats']\n",
    "seasons = ['20/21', '19/20', '18/19', '17/18', '16/17', '15/16', '14/15', '13/14', '12/13', '11/12', '10/11', '09/10', '08/09', '07/08','06/07']"
   ]
  },
  {
   "cell_type": "code",
   "execution_count": null,
   "metadata": {},
   "outputs": [],
   "source": [
    "#MLS\n",
    "links  = ['https://fbref.com/en/comps/22/Major-League-Soccer-Stats', 'https://fbref.com/en/comps/22/10090/2020-Major-League-Soccer-Stats',\n",
    "    'https://fbref.com/en/comps/22/2798/2019-Major-League-Soccer-Stats', 'https://fbref.com/en/comps/22/1759/2018-Major-League-Soccer-Stats', \n",
    "    'https://fbref.com/en/comps/22/1558/2017-Major-League-Soccer-Stats', 'https://fbref.com/en/comps/22/1503/2016-Major-League-Soccer-Stats',\n",
    "    'https://fbref.com/en/comps/22/1369/2015-Major-League-Soccer-Stats','https://fbref.com/en/comps/22/708/2014-Major-League-Soccer-Stats',\n",
    "    'https://fbref.com/en/comps/22/643/2013-Major-League-Soccer-Stats','https://fbref.com/en/comps/22/577/2012-Major-League-Soccer-Stats',\n",
    "    'https://fbref.com/en/comps/22/509/2011-Major-League-Soccer-Stats','https://fbref.com/en/comps/22/442/2010-Major-League-Soccer-Stats',\n",
    "    'https://fbref.com/en/comps/22/374/2009-Major-League-Soccer-Stats', 'https://fbref.com/en/comps/22/316/2008-Major-League-Soccer-Stats',\n",
    "    'https://fbref.com/en/comps/22/260/2007-Major-League-Soccer-Stats']\n",
    "seasons = ['20/21', '19/20', '18/19', '17/18', '16/17', '15/16', '14/15', '13/14', '12/13', '11/12', '10/11', '09/10', '08/09', '07/08','06/07']"
   ]
  },
  {
   "cell_type": "code",
   "execution_count": null,
   "metadata": {},
   "outputs": [],
   "source": [
    "#Argentin\n",
    "links  = ['https://fbref.com/en/comps/21/Primera-Division-Stats', 'https://fbref.com/en/comps/21/3211/2019-2020-Superliga-Argentina-Stats',\n",
    "    'https://fbref.com/en/comps/21/2436/2018-2019-Superliga-Argentina-Stats', 'https://fbref.com/en/comps/21/1659/2017-2018-Superliga-Argentina-Stats', \n",
    "    'https://fbref.com/en/comps/21/1554/2016-2017-Primera-Division-Stats', 'https://fbref.com/en/comps/21/1494/2016-Primera-Division-Stats',\n",
    "    'https://fbref.com/en/comps/21/789/2015-Primera-Division-Stats','https://fbref.com/en/comps/21/718/2014-Primera-Division-Stats',\n",
    "    ]\n",
    "seasons = ['20/21', '19/20', '18/19', '17/18', '16/17', '15/16', '14/15', '13/14']"
   ]
  },
  {
   "cell_type": "code",
   "execution_count": null,
   "metadata": {},
   "outputs": [],
   "source": [
    "#Austrian\n",
    "links  = ['https://fbref.com/en/comps/56/10758/2020-2021-Austrian-Bundesliga-Stats', 'https://fbref.com/en/comps/56/3213/2019-2020-Austrian-Bundesliga-Stats',\n",
    "    'https://fbref.com/en/comps/56/2352/2018-2019-Austrian-Bundesliga-Stats', 'https://fbref.com/en/comps/56/1618/2017-2018-Austrian-Bundesliga-Stats', \n",
    "    'https://fbref.com/en/comps/56/1513/2016-2017-Austrian-Bundesliga-Stats', 'https://fbref.com/en/comps/56/1454/2015-2016-Austrian-Bundesliga-Stats',\n",
    "    'https://fbref.com/en/comps/56/720/2014-2015-Austrian-Bundesliga-Stats','https://fbref.com/en/comps/56/656/2013-2014-Austrian-Bundesliga-Stats',\n",
    "    'https://fbref.com/en/comps/56/589/2012-2013-Austrian-Bundesliga-Stats','https://fbref.com/en/comps/56/521/2011-2012-Austrian-Bundesliga-Stats',\n",
    "    'https://fbref.com/en/comps/56/454/2010-2011-Austrian-Bundesliga-Stats','https://fbref.com/en/comps/56/386/2009-2010-Austrian-Bundesliga-Stats',\n",
    "    'https://fbref.com/en/comps/56/328/2008-2009-Austrian-Bundesliga-Stats', 'https://fbref.com/en/comps/56/272/2007-2008-Austrian-Bundesliga-Stats',\n",
    "    'https://fbref.com/en/comps/56/221/2006-2007-Austrian-Bundesliga-Stats']\n",
    "seasons = ['20/21', '19/20', '18/19', '17/18', '16/17', '15/16', '14/15', '13/14', '12/13', '11/12', '10/11', '09/10', '08/09', '07/08','06/07']"
   ]
  },
  {
   "cell_type": "code",
   "execution_count": null,
   "metadata": {},
   "outputs": [],
   "source": [
    "#Belgian\n",
    "links  = ['https://fbref.com/en/comps/37/10748/2020-2021-Belgian-First-Division-A-Stats', 'https://fbref.com/en/comps/37/3216/2019-2020-Belgian-First-Division-A-Stats',\n",
    "    'https://fbref.com/en/comps/37/2246/2018-2019-Belgian-First-Division-A-Stats', 'https://fbref.com/en/comps/37/1619/2017-2018-Belgian-First-Division-A-Stats', \n",
    "    'https://fbref.com/en/comps/37/1514/2016-2017-Belgian-First-Division-A-Stats', 'https://fbref.com/en/comps/37/1455/2015-2016-Belgian-Pro-League-Stats',\n",
    "    'https://fbref.com/en/comps/37/721/2014-2015-Belgian-Pro-League-Stats','https://fbref.com/en/comps/37/657/2013-2014-Belgian-Pro-League-Stats',\n",
    "    'https://fbref.com/en/comps/37/591/2012-2013-Belgian-Pro-League-Stats','https://fbref.com/en/comps/37/523/2011-2012-Belgian-Pro-League-Stats',\n",
    "    'https://fbref.com/en/comps/37/456/2010-2011-Belgian-Pro-League-Stats','https://fbref.com/en/comps/37/388/2009-2010-Belgian-Pro-League-Stats',\n",
    "    'https://fbref.com/en/comps/37/329/2008-2009-Belgian-First-Division-Stats', 'https://fbref.com/en/comps/37/273/2007-2008-Belgian-First-Division-Stats',\n",
    "    'https://fbref.com/en/comps/37/222/2006-2007-Belgian-First-Division-Stats']\n",
    "seasons = ['20/21', '19/20', '18/19', '17/18', '16/17', '15/16', '14/15', '13/14', '12/13', '11/12', '10/11', '09/10', '08/09', '07/08','06/07']\n",
    "folder = 'Belgian'"
   ]
  },
  {
   "cell_type": "code",
   "execution_count": null,
   "metadata": {},
   "outputs": [],
   "source": [
    "#Brazil\n",
    "links  = ['https://fbref.com/en/comps/24/Serie-A-Stats', 'https://fbref.com/en/comps/24/10072/2020-Serie-A-Stats',\n",
    "    'https://fbref.com/en/comps/24/3320/2019-Serie-A-Stats', 'https://fbref.com/en/comps/24/1760/2018-Serie-A-Stats', \n",
    "    'https://fbref.com/en/comps/24/1559/2017-Serie-A-Stats', 'https://fbref.com/en/comps/24/1495/2016-Serie-A-Stats',\n",
    "    'https://fbref.com/en/comps/24/851/2015-Serie-A-Stats','https://fbref.com/en/comps/24/698/2014-Serie-A-Stats',\n",
    "    ]\n",
    "seasons = ['20/21', '19/20', '18/19', '17/18', '16/17', '15/16', '14/15', '13/14']\n",
    "folder = 'Brazil'"
   ]
  },
  {
   "cell_type": "code",
   "execution_count": null,
   "metadata": {},
   "outputs": [],
   "source": [
    "#Chile\n",
    "links  = ['https://fbref.com/en/comps/35/10989/2021-Primera-Division-Stats', 'https://fbref.com/en/comps/35/10074/2020-Primera-Division-Stats',\n",
    "    'https://fbref.com/en/comps/35/3926/2019-Primera-Division-Stats', 'https://fbref.com/en/comps/35/1621/2018-Primera-Division-Stats', \n",
    "    'https://fbref.com/en/comps/35/1616/2017-Primera-Division-Stats', 'https://fbref.com/en/comps/35/1516/2016-2017-Primera-Division-Stats',\n",
    "    'https://fbref.com/en/comps/35/1457/2015-2016-Primera-Division-Stats','https://fbref.com/en/comps/35/723/2014-2015-Primera-Division-Stats']\n",
    "seasons = ['20/21', '19/20', '18/19', '17/18', '16/17', '15/16', '14/15', '13/14']\n",
    "folder = 'Chile'"
   ]
  },
  {
   "cell_type": "code",
   "execution_count": null,
   "metadata": {},
   "outputs": [],
   "source": [
    "#Czech\n",
    "links  = ['https://fbref.com/en/comps/66/10765/2020-2021-Czech-First-League-Stats', 'https://fbref.com/en/comps/66/3226/2019-2020-Czech-First-League-Stats',\n",
    "    'https://fbref.com/en/comps/66/2427/2018-2019-Czech-First-League-Stats', 'https://fbref.com/en/comps/66/1623/2017-2018-Czech-First-League-Stats', \n",
    "    'https://fbref.com/en/comps/66/1518/2016-2017-Czech-First-League-Stats', 'https://fbref.com/en/comps/66/1459/2015-2016-Czech-First-League-Stats',\n",
    "    'https://fbref.com/en/comps/66/725/2014-2015-Czech-First-League-Stats','https://fbref.com/en/comps/66/661/2013-2014-Czech-First-League-Stats',\n",
    "    'https://fbref.com/en/comps/66/661/2013-2014-Czech-First-League-Stats','https://fbref.com/en/comps/66/526/2011-2012-Czech-First-League-Stats',\n",
    "    'https://fbref.com/en/comps/66/459/2010-2011-Czech-First-League-Stats','https://fbref.com/en/comps/66/391/2009-2010-Czech-First-League-Stats']\n",
    "seasons = ['20/21', '19/20', '18/19', '17/18', '16/17', '15/16', '14/15', '13/14', '12/13', '11/12', '10/11', '09/10']\n",
    "folder = 'Czech'"
   ]
  },
  {
   "cell_type": "code",
   "execution_count": null,
   "metadata": {},
   "outputs": [],
   "source": [
    "#Croatia\n",
    "links  = ['https://fbref.com/en/comps/63/10762/2020-2021-1-HNL-Stats', 'https://fbref.com/en/comps/63/3223/2019-2020-1-HNL-Stats',\n",
    "    'https://fbref.com/en/comps/63/2422/2018-2019-1-HNL-Stats', 'https://fbref.com/en/comps/63/1622/2017-2018-1-HNL-Stats', \n",
    "    'https://fbref.com/en/comps/63/1517/2016-2017-1-HNL-Stats', 'https://fbref.com/en/comps/63/1458/2015-2016-1-HNL-Stats',\n",
    "    'https://fbref.com/en/comps/63/724/2014-2015-1-HNL-Stats','https://fbref.com/en/comps/63/660/2013-2014-1-HNL-Stats',\n",
    "    'https://fbref.com/en/comps/63/593/2012-2013-1-HNL-Stats','https://fbref.com/en/comps/63/525/2011-2012-1-HNL-Stats',\n",
    "    'https://fbref.com/en/comps/63/458/2010-2011-1-HNL-Stats','https://fbref.com/en/comps/63/390/2009-2010-1-HNL-Stats',\n",
    "    'https://fbref.com/en/comps/63/330/2008-2009-1-HNL-Stats', 'https://fbref.com/en/comps/63/274/2007-2008-1-HNL-Stats']\n",
    "seasons = ['20/21', '19/20', '18/19', '17/18', '16/17', '15/16', '14/15', '13/14', '12/13', '11/12', '10/11', '09/10', '08/09', '07/08']\n",
    "folder = 'Croatia'"
   ]
  },
  {
   "cell_type": "code",
   "execution_count": null,
   "metadata": {},
   "outputs": [],
   "source": [
    "#Danish\n",
    "links  = ['https://fbref.com/en/comps/50/10754/2020-2021-Superliga-Stats', 'https://fbref.com/en/comps/50/3229/2019-2020-Superliga-Stats',\n",
    "    'https://fbref.com/en/comps/50/2423/2018-2019-Superliga-Stats', 'https://fbref.com/en/comps/50/1624/2017-2018-Superliga-Stats', \n",
    "    'https://fbref.com/en/comps/50/1519/2016-2017-Superliga-Stats', 'https://fbref.com/en/comps/50/1460/2015-2016-Superliga-Stats',\n",
    "    'https://fbref.com/en/comps/50/726/2014-2015-Superliga-Stats','https://fbref.com/en/comps/50/662/2013-2014-Superliga-Stats',\n",
    "    'https://fbref.com/en/comps/50/595/2012-2013-Superliga-Stats','https://fbref.com/en/comps/50/527/2011-2012-Superliga-Stats',\n",
    "    'https://fbref.com/en/comps/50/460/2010-2011-Superliga-Stats','https://fbref.com/en/comps/50/392/2009-2010-Superliga-Stats',\n",
    "    'https://fbref.com/en/comps/50/331/2008-2009-Superliga-Stats', 'https://fbref.com/en/comps/50/275/2007-2008-Superliga-Stats',\n",
    "    'https://fbref.com/en/comps/50/223/2006-2007-Superliga-Stats']\n",
    "seasons = ['20/21', '19/20', '18/19', '17/18', '16/17', '15/16', '14/15', '13/14', '12/13', '11/12', '10/11', '09/10', '08/09', '07/08','06/07']\n",
    "folder = 'Danish'"
   ]
  },
  {
   "cell_type": "code",
   "execution_count": null,
   "metadata": {},
   "outputs": [],
   "source": [
    "#Dutch\n",
    "links  = ['https://fbref.com/en/comps/23/10739/2020-2021-Dutch-Eredivisie-Stats', 'https://fbref.com/en/comps/23/3269/2019-2020-Dutch-Eredivisie-Stats',\n",
    "    'https://fbref.com/en/comps/23/2231/2018-2019-Dutch-Eredivisie-Stats', 'https://fbref.com/en/comps/23/1625/2017-2018-Dutch-Eredivisie-Stats', \n",
    "    'https://fbref.com/en/comps/23/1520/2016-2017-Dutch-Eredivisie-Stats', 'https://fbref.com/en/comps/23/1462/2015-2016-Dutch-Eredivisie-Stats',\n",
    "    'https://fbref.com/en/comps/23/728/2014-2015-Dutch-Eredivisie-Stats','https://fbref.com/en/comps/23/664/2013-2014-Dutch-Eredivisie-Stats',\n",
    "    'https://fbref.com/en/comps/23/597/2012-2013-Dutch-Eredivisie-Stats','https://fbref.com/en/comps/23/529/2011-2012-Dutch-Eredivisie-Stats',\n",
    "    'https://fbref.com/en/comps/23/462/2010-2011-Dutch-Eredivisie-Stats','https://fbref.com/en/comps/23/394/2009-2010-Dutch-Eredivisie-Stats',\n",
    "    'https://fbref.com/en/comps/23/333/2008-2009-Dutch-Eredivisie-Stats', 'https://fbref.com/en/comps/23/277/2007-2008-Dutch-Eredivisie-Stats',\n",
    "    'https://fbref.com/en/comps/23/224/2006-2007-Dutch-Eredivisie-Stats']\n",
    "seasons = ['20/21', '19/20', '18/19', '17/18', '16/17', '15/16', '14/15', '13/14', '12/13', '11/12', '10/11', '09/10', '08/09', '07/08','06/07']\n",
    "folder = 'Dutch'"
   ]
  },
  {
   "cell_type": "code",
   "execution_count": null,
   "metadata": {},
   "outputs": [],
   "source": [
    "#Greek\n",
    "links  = ['https://fbref.com/en/comps/27/10741/2020-2021-Super-League-Greece-Stats', 'https://fbref.com/en/comps/27/3254/2019-2020-Super-League-Greece-Stats',\n",
    "    'https://fbref.com/en/comps/27/2428/2018-2019-Super-League-Greece-Stats', 'https://fbref.com/en/comps/27/1637/2017-2018-Super-League-Greece-Stats', \n",
    "    'https://fbref.com/en/comps/27/1532/2016-2017-Super-League-Greece-Stats', 'https://fbref.com/en/comps/27/1473/2015-2016-Super-League-Greece-Stats',\n",
    "    'https://fbref.com/en/comps/27/739/2014-2015-Super-League-Greece-Stats','https://fbref.com/en/comps/27/675/2013-2014-Super-League-Greece-Stats',\n",
    "    'https://fbref.com/en/comps/27/608/2012-2013-Super-League-Greece-Stats','https://fbref.com/en/comps/27/540/2011-2012-Super-League-Greece-Stats',\n",
    "    'https://fbref.com/en/comps/27/473/2010-2011-Super-League-Greece-Stats','https://fbref.com/en/comps/27/406/2009-2010-Super-League-Greece-Stats',\n",
    "    'https://fbref.com/en/comps/27/342/2008-2009-Super-League-Greece-Stats', 'https://fbref.com/en/comps/27/286/2007-2008-Super-League-Greece-Stats',\n",
    "    'https://fbref.com/en/comps/27/233/2006-2007-Super-League-Greece-Stats']\n",
    "seasons = ['20/21', '19/20', '18/19', '17/18', '16/17', '15/16', '14/15', '13/14', '12/13', '11/12', '10/11', '09/10', '08/09', '07/08','06/07']\n",
    "folder = 'Greek'"
   ]
  },
  {
   "cell_type": "code",
   "execution_count": null,
   "metadata": {},
   "outputs": [],
   "source": [
    "#Portugal\n",
    "links  = ['https://fbref.com/en/comps/32/10744/2020-2021-Primeira-Liga-Stats', 'https://fbref.com/en/comps/32/3278/2019-2020-Primeira-Liga-Stats',\n",
    "    'https://fbref.com/en/comps/32/2226/2018-2019-Primeira-Liga-Stats', 'https://fbref.com/en/comps/32/1644/2017-2018-Primeira-Liga-Stats', \n",
    "    'https://fbref.com/en/comps/32/1539/2016-2017-Primeira-Liga-Stats', 'https://fbref.com/en/comps/32/1480/2015-2016-Primeira-Liga-Stats',\n",
    "    'https://fbref.com/en/comps/32/746/2014-2015-Primeira-Liga-Stats','https://fbref.com/en/comps/32/681/2013-2014-Primeira-Liga-Stats',\n",
    "    'https://fbref.com/en/comps/32/615/2012-2013-Primeira-Liga-Stats','https://fbref.com/en/comps/32/548/2011-2012-Primeira-Liga-Stats',\n",
    "    'https://fbref.com/en/comps/32/481/2010-2011-Primeira-Liga-Stats','https://fbref.com/en/comps/32/414/2009-2010-Primeira-Liga-Stats',\n",
    "    'https://fbref.com/en/comps/32/349/2008-2009-Primeira-Liga-Stats', 'https://fbref.com/en/comps/32/293/2007-2008-Primeira-Liga-Stats',\n",
    "    'https://fbref.com/en/comps/32/240/2006-2007-Primeira-Liga-Stats']\n",
    "seasons = ['20/21', '19/20', '18/19', '17/18', '16/17', '15/16', '14/15', '13/14', '12/13', '11/12', '10/11', '09/10', '08/09', '07/08','06/07']\n",
    "folder = 'Portugal'"
   ]
  },
  {
   "cell_type": "code",
   "execution_count": null,
   "metadata": {},
   "outputs": [],
   "source": [
    "#Russian\n",
    "links  = ['https://fbref.com/en/comps/30/10742/2020-2021-Russian-Premier-League-Stats', 'https://fbref.com/en/comps/30/3285/2019-2020-Russian-Premier-League-Stats',\n",
    "    'https://fbref.com/en/comps/30/2371/2018-2019-Russian-Premier-League-Stats', 'https://fbref.com/en/comps/30/1646/2017-2018-Russian-Premier-League-Stats', \n",
    "    'https://fbref.com/en/comps/30/1541/2016-2017-Russian-Premier-League-Stats', 'https://fbref.com/en/comps/30/1482/2015-2016-Russian-Premier-League-Stats',\n",
    "    'https://fbref.com/en/comps/30/748/2014-2015-Russian-Premier-League-Stats','https://fbref.com/en/comps/30/683/2013-2014-Russian-Premier-League-Stats',\n",
    "    'https://fbref.com/en/comps/30/617/2012-2013-Russian-Premier-League-Stats','https://fbref.com/en/comps/30/551/2011-2012-Russian-Premier-League-Stats',\n",
    "    'https://fbref.com/en/comps/30/446/2010-Russian-Premier-League-Stats','https://fbref.com/en/comps/30/378/2009-Russian-Premier-League-Stats',\n",
    "    'https://fbref.com/en/comps/30/320/2008-Russian-Premier-League-Stats', 'https://fbref.com/en/comps/30/264/2007-Russian-Premier-League-Stats',\n",
    "    'https://fbref.com/en/comps/30/214/2006-Russian-Premier-League-Stats']\n",
    "seasons = ['20/21', '19/20', '18/19', '17/18', '16/17', '15/16', '14/15', '13/14', '12/13', '11/12', '10/11', '09/10', '08/09', '07/08','06/07']\n",
    "folder = 'Russian'"
   ]
  },
  {
   "cell_type": "code",
   "execution_count": null,
   "metadata": {},
   "outputs": [],
   "source": [
    "#Scottish\n",
    "links  = ['https://fbref.com/en/comps/40/10750/2020-2021-Scottish-Premiership-Stats', 'https://fbref.com/en/comps/40/3289/2019-2020-Scottish-Premiership-Stats',\n",
    "    'https://fbref.com/en/comps/40/2116/2018-2019-Scottish-Premiership-Stats', 'https://fbref.com/en/comps/40/1649/2017-2018-Scottish-Premiership-Stats', \n",
    "    'https://fbref.com/en/comps/40/1544/2016-2017-Scottish-Premiership-Stats', 'https://fbref.com/en/comps/40/1485/2015-2016-Scottish-Premiership-Stats',\n",
    "    'https://fbref.com/en/comps/40/752/2014-2015-Scottish-Premiership-Stats','https://fbref.com/en/comps/40/687/2013-2014-Scottish-Premiership-Stats',\n",
    "    'https://fbref.com/en/comps/40/621/2012-2013-Scottish-Premier-League-Stats','https://fbref.com/en/comps/40/554/2011-2012-Scottish-Premier-League-Stats',\n",
    "    'https://fbref.com/en/comps/40/485/2010-2011-Scottish-Premier-League-Stats','https://fbref.com/en/comps/40/419/2009-2010-Scottish-Premier-League-Stats',\n",
    "    'https://fbref.com/en/comps/40/352/2008-2009-Scottish-Premier-League-Stats', 'https://fbref.com/en/comps/40/296/2007-2008-Scottish-Premier-League-Stats',\n",
    "    'https://fbref.com/en/comps/40/242/2006-2007-Scottish-Premier-League-Stats']\n",
    "seasons = ['20/21', '19/20', '18/19', '17/18', '16/17', '15/16', '14/15', '13/14', '12/13', '11/12', '10/11', '09/10', '08/09', '07/08','06/07']\n",
    "folder = 'Scottish'"
   ]
  },
  {
   "cell_type": "code",
   "execution_count": null,
   "metadata": {},
   "outputs": [],
   "source": [
    "#Swedish\n",
    "links  = ['https://fbref.com/en/comps/29/10086/2020-Allsvenskan-Stats',\n",
    "    'https://fbref.com/en/comps/29/2917/2019-Allsvenskan-Stats', 'https://fbref.com/en/comps/29/1763/2018-Allsvenskan-Stats', \n",
    "    'https://fbref.com/en/comps/29/1562/2017-Allsvenskan-Stats', 'https://fbref.com/en/comps/29/1509/2016-Allsvenskan-Stats',\n",
    "    'https://fbref.com/en/comps/29/1348/2015-Allsvenskan-Stats','https://fbref.com/en/comps/29/714/2014-Allsvenskan-Stats',\n",
    "    'https://fbref.com/en/comps/29/649/2013-Allsvenskan-Stats','https://fbref.com/en/comps/29/583/2012-Allsvenskan-Stats',\n",
    "    'https://fbref.com/en/comps/29/515/2011-Allsvenskan-Stats','https://fbref.com/en/comps/29/448/2010-Allsvenskan-Stats',\n",
    "    'https://fbref.com/en/comps/29/380/2009-Allsvenskan-Stats', 'https://fbref.com/en/comps/29/322/2008-Allsvenskan-Stats',\n",
    "    'https://fbref.com/en/comps/29/266/2007-Allsvenskan-Stats', 'https://fbref.com/en/comps/29/215/2006-Allsvenskan-Stats']\n",
    "seasons = ['20/21', '19/20', '18/19', '17/18', '16/17', '15/16', '14/15', '13/14', '12/13', '11/12', '10/11', '09/10', '08/09', '07/08','06/07']\n",
    "folder = 'Swedish'"
   ]
  },
  {
   "cell_type": "code",
   "execution_count": null,
   "metadata": {},
   "outputs": [],
   "source": [
    "#Swiss\n",
    "links  = ['https://fbref.com/en/comps/57/10759/2020-2021-Swiss-Super-League-Stats',\n",
    "    'https://fbref.com/en/comps/57/3298/2019-2020-Swiss-Super-League-Stats', 'https://fbref.com/en/comps/57/2425/2018-2019-Swiss-Super-League-Stats', \n",
    "    'https://fbref.com/en/comps/57/1654/2017-2018-Swiss-Super-League-Stats', 'https://fbref.com/en/comps/57/1549/2016-2017-Swiss-Super-League-Stats',\n",
    "    'https://fbref.com/en/comps/57/1490/2015-2016-Swiss-Super-League-Stats','https://fbref.com/en/comps/57/757/2014-2015-Swiss-Super-League-Stats',\n",
    "    'https://fbref.com/en/comps/57/692/2013-2014-Swiss-Super-League-Stats','https://fbref.com/en/comps/57/626/2012-2013-Swiss-Super-League-Stats',\n",
    "    'https://fbref.com/en/comps/57/559/2011-2012-Swiss-Super-League-Stats','https://fbref.com/en/comps/57/490/2010-2011-Swiss-Super-League-Stats',\n",
    "    'https://fbref.com/en/comps/57/424/2009-2010-Swiss-Super-League-Stats', 'https://fbref.com/en/comps/57/357/2008-2009-Swiss-Super-League-Stats',\n",
    "    'https://fbref.com/en/comps/57/301/2007-2008-Swiss-Super-League-Stats', 'https://fbref.com/en/comps/57/247/2006-2007-Swiss-Super-League-Stats']\n",
    "seasons = ['20/21', '19/20', '18/19', '17/18', '16/17', '15/16', '14/15', '13/14', '12/13', '11/12', '10/11', '09/10', '08/09', '07/08','06/07']\n",
    "folder = 'Swiss'"
   ]
  },
  {
   "cell_type": "code",
   "execution_count": 169,
   "metadata": {},
   "outputs": [],
   "source": [
    "#Turkish\n",
    "links  = ['https://fbref.com/en/comps/26/10740/2020-2021-Super-Lig-Stats',\n",
    "    'https://fbref.com/en/comps/26/3301/2019-2020-Super-Lig-Stats', 'https://fbref.com/en/comps/26/2382/2018-2019-Super-Lig-Stats', \n",
    "    'https://fbref.com/en/comps/26/1655/2017-2018-Super-Lig-Stats', 'https://fbref.com/en/comps/26/1550/2016-2017-Super-Lig-Stats',\n",
    "    'https://fbref.com/en/comps/26/1491/2015-2016-Super-Lig-Stats','https://fbref.com/en/comps/26/758/2014-2015-Super-Lig-Stats',\n",
    "    'https://fbref.com/en/comps/26/693/2013-2014-Super-Lig-Stats','https://fbref.com/en/comps/26/627/2012-2013-Super-Lig-Stats',\n",
    "    'https://fbref.com/en/comps/26/560/2011-2012-Super-Lig-Stats','https://fbref.com/en/comps/26/491/2010-2011-Super-Lig-Stats',\n",
    "    'https://fbref.com/en/comps/26/425/2009-2010-Super-Lig-Stats', 'https://fbref.com/en/comps/26/358/2008-2009-Super-Lig-Stats',\n",
    "    'https://fbref.com/en/comps/26/302/2007-2008-Super-Lig-Stats', 'https://fbref.com/en/comps/26/248/2006-2007-Super-Lig-Stats']\n",
    "seasons = ['20/21', '19/20', '18/19', '17/18', '16/17', '15/16', '14/15', '13/14', '12/13', '11/12', '10/11', '09/10', '08/09', '07/08','06/07']\n",
    "folder = 'Turkish'"
   ]
  },
  {
   "cell_type": "code",
   "execution_count": 180,
   "metadata": {},
   "outputs": [],
   "source": [
    "#Ukrain\n",
    "links  = ['https://fbref.com/en/comps/39/10749/2020-2021-Ukrainian-Premier-League-Stats',\n",
    "    'https://fbref.com/en/comps/39/3303/2019-2020-Ukrainian-Premier-League-Stats', 'https://fbref.com/en/comps/39/2435/2018-2019-Ukrainian-Premier-League-Stats', \n",
    "    'https://fbref.com/en/comps/39/1658/2017-2018-Ukrainian-Premier-League-Stats', 'https://fbref.com/en/comps/39/1553/2016-2017-Ukrainian-Premier-League-Stats',\n",
    "    'https://fbref.com/en/comps/39/1492/2015-2016-Ukrainian-Premier-League-Stats','https://fbref.com/en/comps/39/759/2014-2015-Ukrainian-Premier-League-Stats',\n",
    "    'https://fbref.com/en/comps/39/696/2013-2014-Ukrainian-Premier-League-Stats','https://fbref.com/en/comps/39/630/2012-2013-Ukrainian-Premier-League-Stats',\n",
    "    'https://fbref.com/en/comps/39/564/2011-2012-Ukrainian-Premier-League-Stats','https://fbref.com/en/comps/39/494/2010-2011-Ukrainian-Premier-League-Stats',\n",
    "    'https://fbref.com/en/comps/39/428/2009-2010-Ukrainian-Premier-League-Stats', 'https://fbref.com/en/comps/39/360/2008-2009-Ukrainian-Premier-League-Stats',\n",
    "    'https://fbref.com/en/comps/39/304/2007-2008-Ukrainian-Top-League-Stats', 'https://fbref.com/en/comps/39/250/2006-2007-Ukrainian-Top-League-Stats']\n",
    "seasons = ['20/21', '19/20', '18/19', '17/18', '16/17', '15/16', '14/15', '13/14', '12/13', '11/12', '10/11', '09/10', '08/09', '07/08','06/07']\n",
    "folder = 'Ukrain'"
   ]
  },
  {
   "cell_type": "code",
   "execution_count": 2,
   "metadata": {},
   "outputs": [],
   "source": [
    "#Ukrain\n",
    "links  = ['https://fbref.com/en/comps/10/10729/2020-2021-Championship-Stats',\n",
    "    'https://fbref.com/en/comps/10/3233/2019-2020-Championship-Stats', 'https://fbref.com/en/comps/10/1890/2018-2019-Championship-Stats', \n",
    "    'https://fbref.com/en/comps/10/1627/2017-2018-Championship-Stats', 'https://fbref.com/en/comps/10/1522/2016-2017-Championship-Stats',\n",
    "    'https://fbref.com/en/comps/10/1463/2015-2016-Championship-Stats','https://fbref.com/en/comps/10/729/2014-2015-Championship-Stats',\n",
    "    'https://fbref.com/en/comps/10/665/2013-2014-Championship-Stats','https://fbref.com/en/comps/10/598/2012-2013-Championship-Stats',\n",
    "    'https://fbref.com/en/comps/10/530/2011-2012-Championship-Stats','https://fbref.com/en/comps/10/463/2010-2011-Championship-Stats',\n",
    "    'https://fbref.com/en/comps/10/396/2009-2010-Championship-Stats', 'https://fbref.com/en/comps/10/334/2008-2009-Championship-Stats',\n",
    "    'https://fbref.com/en/comps/10/278/2007-2008-Championship-Stats', 'https://fbref.com/en/comps/10/225/2006-2007-Championship-Stats']\n",
    "seasons = ['20/21', '19/20', '18/19', '17/18', '16/17', '15/16', '14/15', '13/14', '12/13', '11/12', '10/11', '09/10', '08/09', '07/08','06/07']\n",
    "folder = 'English2'"
   ]
  },
  {
   "cell_type": "code",
   "execution_count": 7,
   "metadata": {},
   "outputs": [],
   "source": [
    "#Ukrain\n",
    "links  = ['https://fbref.com/en/comps/15/10733/2020-2021-League-One-Stats',\n",
    "    'https://fbref.com/en/comps/15/3234/2019-2020-League-One-Stats', 'https://fbref.com/en/comps/15/1891/2018-2019-League-One-Stats', \n",
    "    'https://fbref.com/en/comps/15/1628/2017-2018-League-One-Stats', 'https://fbref.com/en/comps/15/1523/2016-2017-League-One-Stats',\n",
    "    'https://fbref.com/en/comps/15/1465/2015-2016-League-One-Stats','https://fbref.com/en/comps/15/731/2014-2015-League-One-Stats',\n",
    "    'https://fbref.com/en/comps/15/667/2013-2014-League-One-Stats','https://fbref.com/en/comps/15/600/2012-2013-League-One-Stats',\n",
    "    'https://fbref.com/en/comps/15/532/2011-2012-League-One-Stats','https://fbref.com/en/comps/15/465/2010-2011-League-One-Stats',\n",
    "    'https://fbref.com/en/comps/15/398/2009-2010-League-One-Stats', 'https://fbref.com/en/comps/15/336/2008-2009-League-One-Stats',\n",
    "    'https://fbref.com/en/comps/15/280/2007-2008-League-One-Stats', 'https://fbref.com/en/comps/15/227/2006-2007-League-One-Stats']\n",
    "seasons = ['20/21', '19/20', '18/19', '17/18', '16/17', '15/16', '14/15', '13/14', '12/13', '11/12', '10/11', '09/10', '08/09', '07/08','06/07']\n",
    "folder = 'English3'"
   ]
  },
  {
   "cell_type": "code",
   "execution_count": 12,
   "metadata": {},
   "outputs": [],
   "source": [
    "#Ukrain\n",
    "links  = ['https://fbref.com/en/comps/16/10734/2020-2021-League-Two-Stats',\n",
    "    'https://fbref.com/en/comps/16/3235/2019-2020-League-Two-Stats', 'https://fbref.com/en/comps/16/1892/2018-2019-League-Two-Stats', \n",
    "    'https://fbref.com/en/comps/16/1629/2017-2018-League-Two-Stats', 'https://fbref.com/en/comps/16/1524/2016-2017-League-Two-Stats',\n",
    "    'https://fbref.com/en/comps/16/1466/2015-2016-League-Two-Stats','https://fbref.com/en/comps/16/732/2014-2015-League-Two-Stats',\n",
    "    'https://fbref.com/en/comps/16/668/2013-2014-League-Two-Stats','https://fbref.com/en/comps/16/601/2012-2013-League-Two-Stats',\n",
    "    'https://fbref.com/en/comps/16/533/2011-2012-League-Two-Stats','https://fbref.com/en/comps/16/466/2010-2011-League-Two-Stats',\n",
    "    'https://fbref.com/en/comps/16/399/2009-2010-League-Two-Stats', 'https://fbref.com/en/comps/16/337/2008-2009-League-Two-Stats',\n",
    "    'https://fbref.com/en/comps/16/281/2007-2008-League-Two-Stats', 'https://fbref.com/en/comps/16/228/2006-2007-League-Two-Stats']\n",
    "seasons = ['20/21', '19/20', '18/19', '17/18', '16/17', '15/16', '14/15', '13/14', '12/13', '11/12', '10/11', '09/10', '08/09', '07/08','06/07']\n",
    "folder = 'English4'"
   ]
  },
  {
   "cell_type": "code",
   "execution_count": 17,
   "metadata": {},
   "outputs": [],
   "source": [
    "#Ukrain\n",
    "links  = ['https://fbref.com/en/comps/60/10761/2020-2021-Ligue-2-Stats',\n",
    "    'https://fbref.com/en/comps/60/3244/2019-2020-Ligue-2-Stats', 'https://fbref.com/en/comps/60/2105/2018-2019-Ligue-2-Stats', \n",
    "    'https://fbref.com/en/comps/60/1633/2017-2018-Ligue-2-Stats', 'https://fbref.com/en/comps/60/1528/2016-2017-Ligue-2-Stats',\n",
    "    'https://fbref.com/en/comps/60/1469/2015-2016-Ligue-2-Stats','https://fbref.com/en/comps/60/735/2014-2015-Ligue-2-Stats',\n",
    "    'https://fbref.com/en/comps/60/671/2013-2014-Ligue-2-Stats','https://fbref.com/en/comps/60/604/2012-2013-Ligue-2-Stats',\n",
    "    'https://fbref.com/en/comps/60/536/2011-2012-Ligue-2-Stats','https://fbref.com/en/comps/60/469/2010-2011-Ligue-2-Stats',\n",
    "    'https://fbref.com/en/comps/60/402/2009-2010-Ligue-2-Stats']\n",
    "seasons = ['20/21', '19/20', '18/19', '17/18', '16/17', '15/16', '14/15', '13/14', '12/13', '11/12', '10/11', '09/10']\n",
    "folder = 'Ligue2'"
   ]
  },
  {
   "cell_type": "code",
   "execution_count": 22,
   "metadata": {},
   "outputs": [],
   "source": [
    "#Ukrain\n",
    "links  = ['https://fbref.com/en/comps/33/10745/2020-2021-2-Bundesliga-Stats',\n",
    "    'https://fbref.com/en/comps/33/3249/2019-2020-2-Bundesliga-Stats', 'https://fbref.com/en/comps/33/2110/2018-2019-2-Bundesliga-Stats', \n",
    "    'https://fbref.com/en/comps/33/1635/2017-2018-2-Bundesliga-Stats', 'https://fbref.com/en/comps/33/1530/2016-2017-2-Bundesliga-Stats',\n",
    "    'https://fbref.com/en/comps/33/1471/2015-2016-2-Bundesliga-Stats','https://fbref.com/en/comps/33/737/2014-2015-2-Bundesliga-Stats',\n",
    "    'https://fbref.com/en/comps/33/673/2013-2014-2-Bundesliga-Stats','https://fbref.com/en/comps/33/606/2012-2013-2-Bundesliga-Stats',\n",
    "    'https://fbref.com/en/comps/33/538/2011-2012-2-Bundesliga-Stats','https://fbref.com/en/comps/33/471/2010-2011-2-Bundesliga-Stats',\n",
    "    'https://fbref.com/en/comps/33/404/2009-2010-2-Bundesliga-Stats', 'https://fbref.com/en/comps/33/341/2008-2009-2-Bundesliga-Stats',\n",
    "    'https://fbref.com/en/comps/33/285/2007-2008-2-Bundesliga-Stats', 'https://fbref.com/en/comps/33/232/2006-2007-2-Bundesliga-Stats']\n",
    "seasons = ['20/21', '19/20', '18/19', '17/18', '16/17', '15/16', '14/15', '13/14', '12/13', '11/12', '10/11', '09/10', '08/09', '07/08','06/07']\n",
    "folder = 'Bundesliga2'"
   ]
  },
  {
   "cell_type": "code",
   "execution_count": 27,
   "metadata": {},
   "outputs": [],
   "source": [
    "#Ukrain\n",
    "links  = ['https://fbref.com/en/comps/18/10736/2020-2021-Serie-B-Stats',\n",
    "    'https://fbref.com/en/comps/18/3261/2019-2020-Serie-B-Stats', 'https://fbref.com/en/comps/18/1897/2018-2019-Serie-B-Stats', \n",
    "    'https://fbref.com/en/comps/18/1641/2017-2018-Serie-B-Stats', 'https://fbref.com/en/comps/18/1536/2016-2017-Serie-B-Stats',\n",
    "    'https://fbref.com/en/comps/18/1477/2015-2016-Serie-B-Stats','https://fbref.com/en/comps/18/743/2014-2015-Serie-B-Stats',\n",
    "    'https://fbref.com/en/comps/18/679/2013-2014-Serie-B-Stats','https://fbref.com/en/comps/18/612/2012-2013-Serie-B-Stats',\n",
    "    'https://fbref.com/en/comps/18/545/2011-2012-Serie-B-Stats','https://fbref.com/en/comps/18/478/2010-2011-Serie-B-Stats',\n",
    "    'https://fbref.com/en/comps/18/411/2009-2010-Serie-B-Stats', 'https://fbref.com/en/comps/18/346/2008-2009-Serie-B-Stats',\n",
    "    'https://fbref.com/en/comps/18/290/2007-2008-Serie-B-Stats', 'https://fbref.com/en/comps/18/237/2006-2007-Serie-B-Stats']\n",
    "seasons = ['20/21', '19/20', '18/19', '17/18', '16/17', '15/16', '14/15', '13/14', '12/13', '11/12', '10/11', '09/10', '08/09', '07/08','06/07']\n",
    "folder = 'SerieB'"
   ]
  },
  {
   "cell_type": "code",
   "execution_count": 33,
   "metadata": {},
   "outputs": [],
   "source": [
    "#Ukrain\n",
    "links  = ['https://fbref.com/en/comps/17/10735/2020-2021-Segunda-Division-Stats',\n",
    "    'https://fbref.com/en/comps/17/3240/2019-2020-Segunda-Division-Stats', 'https://fbref.com/en/comps/17/1887/2018-2019-Segunda-Division-Stats', \n",
    "    'https://fbref.com/en/comps/17/1653/2017-2018-Segunda-Division-Stats', 'https://fbref.com/en/comps/17/1548/2016-2017-Segunda-Division-Stats',\n",
    "    'https://fbref.com/en/comps/17/1489/2015-2016-Segunda-Division-Stats','https://fbref.com/en/comps/17/756/2014-2015-Segunda-Division-Stats',\n",
    "    'https://fbref.com/en/comps/17/691/2013-2014-Segunda-Division-Stats','https://fbref.com/en/comps/17/625/2012-2013-Segunda-Division-Stats',\n",
    "    'https://fbref.com/en/comps/17/558/2011-2012-Segunda-Division-Stats','https://fbref.com/en/comps/17/489/2010-2011-Segunda-Division-Stats',\n",
    "    'https://fbref.com/en/comps/17/423/2009-2010-Segunda-Division-Stats', 'https://fbref.com/en/comps/17/356/2008-2009-Segunda-Division-Stats',\n",
    "    'https://fbref.com/en/comps/17/300/2007-2008-Segunda-Division-Stats', 'https://fbref.com/en/comps/17/246/2006-2007-Segunda-Division-Stats']\n",
    "seasons = ['20/21', '19/20', '18/19', '17/18', '16/17', '15/16', '14/15', '13/14', '12/13', '11/12', '10/11', '09/10', '08/09', '07/08','06/07']\n",
    "folder = 'Spain2'"
   ]
  },
  {
   "cell_type": "code",
   "execution_count": 5,
   "metadata": {},
   "outputs": [],
   "source": [
    "#poland\n",
    "links  = ['https://fbref.com/en/comps/36/10747/2020-2021-Ekstraklasa-Stats',\n",
    "    'https://fbref.com/en/comps/36/3274/2019-2020-Ekstraklasa-Stats', 'https://fbref.com/en/comps/36/2424/2018-2019-Ekstraklasa-Stats', \n",
    "    'https://fbref.com/en/comps/36/1643/2017-2018-Ekstraklasa-Stats', 'https://fbref.com/en/comps/36/1538/2016-2017-Ekstraklasa-Stats',\n",
    "    'https://fbref.com/en/comps/36/1479/2015-2016-Ekstraklasa-Stats','https://fbref.com/en/comps/36/745/2014-2015-Ekstraklasa-Stats',\n",
    "    'https://fbref.com/en/comps/36/652/2013-2014-Ekstraklasa-Stats','https://fbref.com/en/comps/36/614/2012-2013-Ekstraklasa-Stats',\n",
    "    'https://fbref.com/en/comps/36/547/2011-2012-Ekstraklasa-Stats','https://fbref.com/en/comps/36/480/2010-2011-Ekstraklasa-Stats',\n",
    "    'https://fbref.com/en/comps/36/413/2009-2010-Ekstraklasa-Stats', 'https://fbref.com/en/comps/36/348/2008-2009-Ekstraklasa-Stats',\n",
    "    'https://fbref.com/en/comps/36/292/2007-2008-I-Liga-Stats', 'https://fbref.com/en/comps/36/239/2006-2007-I-Liga-Stats']\n",
    "seasons = ['20/21', '19/20', '18/19', '17/18', '16/17', '15/16', '14/15', '13/14', '12/13', '11/12', '10/11', '09/10', '08/09', '07/08','06/07']\n",
    "folder = 'Poland'"
   ]
  },
  {
   "cell_type": "code",
   "execution_count": null,
   "metadata": {},
   "outputs": [],
   "source": [
    "#poland\n",
    "links  = ['https://fbref.com/en/comps/36/10747/2020-2021-Ekstraklasa-Stats',\n",
    "    'https://fbref.com/en/comps/36/3274/2019-2020-Ekstraklasa-Stats', 'https://fbref.com/en/comps/36/2424/2018-2019-Ekstraklasa-Stats', \n",
    "    'https://fbref.com/en/comps/36/1643/2017-2018-Ekstraklasa-Stats', 'https://fbref.com/en/comps/36/1538/2016-2017-Ekstraklasa-Stats',\n",
    "    'https://fbref.com/en/comps/36/1479/2015-2016-Ekstraklasa-Stats','https://fbref.com/en/comps/36/745/2014-2015-Ekstraklasa-Stats',\n",
    "    'https://fbref.com/en/comps/36/652/2013-2014-Ekstraklasa-Stats','https://fbref.com/en/comps/36/614/2012-2013-Ekstraklasa-Stats',\n",
    "    'https://fbref.com/en/comps/36/547/2011-2012-Ekstraklasa-Stats','https://fbref.com/en/comps/36/480/2010-2011-Ekstraklasa-Stats',\n",
    "    'https://fbref.com/en/comps/36/413/2009-2010-Ekstraklasa-Stats', 'https://fbref.com/en/comps/36/348/2008-2009-Ekstraklasa-Stats',\n",
    "    'https://fbref.com/en/comps/36/292/2007-2008-I-Liga-Stats', 'https://fbref.com/en/comps/36/239/2006-2007-I-Liga-Stats']\n",
    "seasons = ['20/21', '19/20', '18/19', '17/18', '16/17', '15/16', '14/15', '13/14', '12/13', '11/12', '10/11', '09/10', '08/09', '07/08','06/07']\n",
    "folder = 'Poland'"
   ]
  },
  {
   "cell_type": "code",
   "execution_count": 6,
   "metadata": {},
   "outputs": [
    {
     "name": "stdout",
     "output_type": "stream",
     "text": [
      "1 of 15 ready\n",
      "2 of 15 ready\n",
      "3 of 15 ready\n",
      "4 of 15 ready\n",
      "5 of 15 ready\n",
      "6 of 15 ready\n",
      "7 of 15 ready\n",
      "8 of 15 ready\n",
      "9 of 15 ready\n",
      "10 of 15 ready\n",
      "11 of 15 ready\n",
      "12 of 15 ready\n",
      "13 of 15 ready\n",
      "14 of 15 ready\n",
      "15 of 15 ready\n"
     ]
    }
   ],
   "source": [
    "league = pd.DataFrame(columns=['Rk', 'Squad','MP', 'W', 'D', 'L', 'GF', 'GA', 'Pts', 'Attendance', 'Notes', 'Season'])\n",
    "\n",
    "for i in range(len(links)):\n",
    "    #league\n",
    "    try:\n",
    "        league_table= pd.read_html(links[i] , match='League Table')[0]\n",
    "    except:\n",
    "        league_table= pd.read_html(links[i] , match='Regular Season')[0]\n",
    "    league_table = league_table[['Rk', 'Squad','MP', 'W', 'D', 'L', 'GF', 'GA', 'Pts', 'Attendance', 'Notes']]\n",
    "    league_table['Season'] = seasons[i]\n",
    "    \n",
    "    league = league.append(league_table)\n",
    "    print(f'{i + 1} of {len(links)} ready')\n",
    "\n",
    "league.to_excel(f\"/Users/{os.environ['USER']}/Documents/Uni/Szakdoga/Adatok/Fbref_data/{folder}/league.xlsx\")"
   ]
  },
  {
   "cell_type": "code",
   "execution_count": 7,
   "metadata": {},
   "outputs": [
    {
     "name": "stderr",
     "output_type": "stream",
     "text": [
      "/Library/Frameworks/Python.framework/Versions/3.8/lib/python3.8/site-packages/pandas/core/generic.py:4152: PerformanceWarning: dropping on a non-lexsorted multi-index without a level parameter may impact performance.\n",
      "  obj = obj._drop_axis(labels, axis, level=level, errors=errors)\n"
     ]
    },
    {
     "name": "stdout",
     "output_type": "stream",
     "text": [
      "1 of 15 ready\n"
     ]
    },
    {
     "name": "stderr",
     "output_type": "stream",
     "text": [
      "/Library/Frameworks/Python.framework/Versions/3.8/lib/python3.8/site-packages/pandas/core/generic.py:4152: PerformanceWarning: dropping on a non-lexsorted multi-index without a level parameter may impact performance.\n",
      "  obj = obj._drop_axis(labels, axis, level=level, errors=errors)\n"
     ]
    },
    {
     "name": "stdout",
     "output_type": "stream",
     "text": [
      "2 of 15 ready\n"
     ]
    },
    {
     "name": "stderr",
     "output_type": "stream",
     "text": [
      "/Library/Frameworks/Python.framework/Versions/3.8/lib/python3.8/site-packages/pandas/core/generic.py:4152: PerformanceWarning: dropping on a non-lexsorted multi-index without a level parameter may impact performance.\n",
      "  obj = obj._drop_axis(labels, axis, level=level, errors=errors)\n"
     ]
    },
    {
     "name": "stdout",
     "output_type": "stream",
     "text": [
      "3 of 15 ready\n"
     ]
    },
    {
     "name": "stderr",
     "output_type": "stream",
     "text": [
      "/Library/Frameworks/Python.framework/Versions/3.8/lib/python3.8/site-packages/pandas/core/generic.py:4152: PerformanceWarning: dropping on a non-lexsorted multi-index without a level parameter may impact performance.\n",
      "  obj = obj._drop_axis(labels, axis, level=level, errors=errors)\n"
     ]
    },
    {
     "name": "stdout",
     "output_type": "stream",
     "text": [
      "4 of 15 ready\n"
     ]
    },
    {
     "name": "stderr",
     "output_type": "stream",
     "text": [
      "/Library/Frameworks/Python.framework/Versions/3.8/lib/python3.8/site-packages/pandas/core/generic.py:4152: PerformanceWarning: dropping on a non-lexsorted multi-index without a level parameter may impact performance.\n",
      "  obj = obj._drop_axis(labels, axis, level=level, errors=errors)\n"
     ]
    },
    {
     "name": "stdout",
     "output_type": "stream",
     "text": [
      "5 of 15 ready\n"
     ]
    },
    {
     "name": "stderr",
     "output_type": "stream",
     "text": [
      "/Library/Frameworks/Python.framework/Versions/3.8/lib/python3.8/site-packages/pandas/core/generic.py:4152: PerformanceWarning: dropping on a non-lexsorted multi-index without a level parameter may impact performance.\n",
      "  obj = obj._drop_axis(labels, axis, level=level, errors=errors)\n"
     ]
    },
    {
     "name": "stdout",
     "output_type": "stream",
     "text": [
      "6 of 15 ready\n"
     ]
    },
    {
     "name": "stderr",
     "output_type": "stream",
     "text": [
      "/Library/Frameworks/Python.framework/Versions/3.8/lib/python3.8/site-packages/pandas/core/generic.py:4152: PerformanceWarning: dropping on a non-lexsorted multi-index without a level parameter may impact performance.\n",
      "  obj = obj._drop_axis(labels, axis, level=level, errors=errors)\n"
     ]
    },
    {
     "name": "stdout",
     "output_type": "stream",
     "text": [
      "7 of 15 ready\n"
     ]
    },
    {
     "name": "stderr",
     "output_type": "stream",
     "text": [
      "/Library/Frameworks/Python.framework/Versions/3.8/lib/python3.8/site-packages/pandas/core/generic.py:4152: PerformanceWarning: dropping on a non-lexsorted multi-index without a level parameter may impact performance.\n",
      "  obj = obj._drop_axis(labels, axis, level=level, errors=errors)\n"
     ]
    },
    {
     "name": "stdout",
     "output_type": "stream",
     "text": [
      "8 of 15 ready\n"
     ]
    },
    {
     "name": "stderr",
     "output_type": "stream",
     "text": [
      "/Library/Frameworks/Python.framework/Versions/3.8/lib/python3.8/site-packages/pandas/core/generic.py:4152: PerformanceWarning: dropping on a non-lexsorted multi-index without a level parameter may impact performance.\n",
      "  obj = obj._drop_axis(labels, axis, level=level, errors=errors)\n"
     ]
    },
    {
     "name": "stdout",
     "output_type": "stream",
     "text": [
      "9 of 15 ready\n"
     ]
    },
    {
     "name": "stderr",
     "output_type": "stream",
     "text": [
      "/Library/Frameworks/Python.framework/Versions/3.8/lib/python3.8/site-packages/pandas/core/generic.py:4152: PerformanceWarning: dropping on a non-lexsorted multi-index without a level parameter may impact performance.\n",
      "  obj = obj._drop_axis(labels, axis, level=level, errors=errors)\n"
     ]
    },
    {
     "name": "stdout",
     "output_type": "stream",
     "text": [
      "10 of 15 ready\n"
     ]
    },
    {
     "name": "stderr",
     "output_type": "stream",
     "text": [
      "/Library/Frameworks/Python.framework/Versions/3.8/lib/python3.8/site-packages/pandas/core/generic.py:4152: PerformanceWarning: dropping on a non-lexsorted multi-index without a level parameter may impact performance.\n",
      "  obj = obj._drop_axis(labels, axis, level=level, errors=errors)\n"
     ]
    },
    {
     "name": "stdout",
     "output_type": "stream",
     "text": [
      "11 of 15 ready\n"
     ]
    },
    {
     "name": "stderr",
     "output_type": "stream",
     "text": [
      "/Library/Frameworks/Python.framework/Versions/3.8/lib/python3.8/site-packages/pandas/core/generic.py:4152: PerformanceWarning: dropping on a non-lexsorted multi-index without a level parameter may impact performance.\n",
      "  obj = obj._drop_axis(labels, axis, level=level, errors=errors)\n"
     ]
    },
    {
     "name": "stdout",
     "output_type": "stream",
     "text": [
      "12 of 15 ready\n"
     ]
    },
    {
     "name": "stderr",
     "output_type": "stream",
     "text": [
      "/Library/Frameworks/Python.framework/Versions/3.8/lib/python3.8/site-packages/pandas/core/generic.py:4152: PerformanceWarning: dropping on a non-lexsorted multi-index without a level parameter may impact performance.\n",
      "  obj = obj._drop_axis(labels, axis, level=level, errors=errors)\n"
     ]
    },
    {
     "name": "stdout",
     "output_type": "stream",
     "text": [
      "13 of 15 ready\n"
     ]
    },
    {
     "name": "stderr",
     "output_type": "stream",
     "text": [
      "/Library/Frameworks/Python.framework/Versions/3.8/lib/python3.8/site-packages/pandas/core/generic.py:4152: PerformanceWarning: dropping on a non-lexsorted multi-index without a level parameter may impact performance.\n",
      "  obj = obj._drop_axis(labels, axis, level=level, errors=errors)\n"
     ]
    },
    {
     "name": "stdout",
     "output_type": "stream",
     "text": [
      "14 of 15 ready\n"
     ]
    },
    {
     "name": "stderr",
     "output_type": "stream",
     "text": [
      "/Library/Frameworks/Python.framework/Versions/3.8/lib/python3.8/site-packages/pandas/core/generic.py:4152: PerformanceWarning: dropping on a non-lexsorted multi-index without a level parameter may impact performance.\n",
      "  obj = obj._drop_axis(labels, axis, level=level, errors=errors)\n"
     ]
    },
    {
     "name": "stdout",
     "output_type": "stream",
     "text": [
      "15 of 15 ready\n"
     ]
    }
   ],
   "source": [
    "squad = pd.DataFrame(columns=['Squad', '# Pl', 'Age', 'Poss', 'Gls', 'Ast', 'G-PK', 'PK', 'PKatt', 'CrdY', 'CrdR', 'Season'])\n",
    "\n",
    "for i in range(len(links)):\n",
    "    #squad\n",
    "    squad_table= pd.read_html(links[i] , match='Squad Standard Stats')[0]\n",
    "    squad_table = squad_table.drop(['Per 90 Minutes'], axis=1)\n",
    "    squad_table.columns = squad_table.columns.droplevel()\n",
    "    squad_table = squad_table[['Squad', '# Pl', 'Age', 'Poss', 'Gls', 'Ast', 'G-PK', 'PK', 'PKatt', 'CrdY', 'CrdR']]\n",
    "    squad_table['Season'] = seasons[i]\n",
    "    \n",
    "    squad = squad.append(squad_table)\n",
    "    print(f'{i + 1} of {len(links)} ready')\n",
    "\n",
    "squad.to_excel(f\"Users/{os.environ['USER']}/Documents/Uni/Szakdoga/Adatok/Fbref_data/{folder}/squad_standatd_data.xlsx\")"
   ]
  },
  {
   "cell_type": "code",
   "execution_count": 8,
   "metadata": {},
   "outputs": [
    {
     "name": "stderr",
     "output_type": "stream",
     "text": [
      "/Library/Frameworks/Python.framework/Versions/3.8/lib/python3.8/site-packages/pandas/core/generic.py:4152: PerformanceWarning: dropping on a non-lexsorted multi-index without a level parameter may impact performance.\n",
      "  obj = obj._drop_axis(labels, axis, level=level, errors=errors)\n"
     ]
    },
    {
     "name": "stdout",
     "output_type": "stream",
     "text": [
      "1 of 15 ready\n"
     ]
    },
    {
     "name": "stderr",
     "output_type": "stream",
     "text": [
      "/Library/Frameworks/Python.framework/Versions/3.8/lib/python3.8/site-packages/pandas/core/generic.py:4152: PerformanceWarning: dropping on a non-lexsorted multi-index without a level parameter may impact performance.\n",
      "  obj = obj._drop_axis(labels, axis, level=level, errors=errors)\n"
     ]
    },
    {
     "name": "stdout",
     "output_type": "stream",
     "text": [
      "2 of 15 ready\n"
     ]
    },
    {
     "name": "stderr",
     "output_type": "stream",
     "text": [
      "/Library/Frameworks/Python.framework/Versions/3.8/lib/python3.8/site-packages/pandas/core/generic.py:4152: PerformanceWarning: dropping on a non-lexsorted multi-index without a level parameter may impact performance.\n",
      "  obj = obj._drop_axis(labels, axis, level=level, errors=errors)\n"
     ]
    },
    {
     "name": "stdout",
     "output_type": "stream",
     "text": [
      "3 of 15 ready\n"
     ]
    },
    {
     "name": "stderr",
     "output_type": "stream",
     "text": [
      "/Library/Frameworks/Python.framework/Versions/3.8/lib/python3.8/site-packages/pandas/core/generic.py:4152: PerformanceWarning: dropping on a non-lexsorted multi-index without a level parameter may impact performance.\n",
      "  obj = obj._drop_axis(labels, axis, level=level, errors=errors)\n"
     ]
    },
    {
     "name": "stdout",
     "output_type": "stream",
     "text": [
      "4 of 15 ready\n"
     ]
    },
    {
     "name": "stderr",
     "output_type": "stream",
     "text": [
      "/Library/Frameworks/Python.framework/Versions/3.8/lib/python3.8/site-packages/pandas/core/generic.py:4152: PerformanceWarning: dropping on a non-lexsorted multi-index without a level parameter may impact performance.\n",
      "  obj = obj._drop_axis(labels, axis, level=level, errors=errors)\n"
     ]
    },
    {
     "name": "stdout",
     "output_type": "stream",
     "text": [
      "5 of 15 ready\n"
     ]
    },
    {
     "name": "stderr",
     "output_type": "stream",
     "text": [
      "/Library/Frameworks/Python.framework/Versions/3.8/lib/python3.8/site-packages/pandas/core/generic.py:4152: PerformanceWarning: dropping on a non-lexsorted multi-index without a level parameter may impact performance.\n",
      "  obj = obj._drop_axis(labels, axis, level=level, errors=errors)\n"
     ]
    },
    {
     "name": "stdout",
     "output_type": "stream",
     "text": [
      "6 of 15 ready\n"
     ]
    },
    {
     "name": "stderr",
     "output_type": "stream",
     "text": [
      "/Library/Frameworks/Python.framework/Versions/3.8/lib/python3.8/site-packages/pandas/core/generic.py:4152: PerformanceWarning: dropping on a non-lexsorted multi-index without a level parameter may impact performance.\n",
      "  obj = obj._drop_axis(labels, axis, level=level, errors=errors)\n"
     ]
    },
    {
     "name": "stdout",
     "output_type": "stream",
     "text": [
      "7 of 15 ready\n"
     ]
    },
    {
     "name": "stderr",
     "output_type": "stream",
     "text": [
      "/Library/Frameworks/Python.framework/Versions/3.8/lib/python3.8/site-packages/pandas/core/generic.py:4152: PerformanceWarning: dropping on a non-lexsorted multi-index without a level parameter may impact performance.\n",
      "  obj = obj._drop_axis(labels, axis, level=level, errors=errors)\n"
     ]
    },
    {
     "name": "stdout",
     "output_type": "stream",
     "text": [
      "8 of 15 ready\n"
     ]
    },
    {
     "name": "stderr",
     "output_type": "stream",
     "text": [
      "/Library/Frameworks/Python.framework/Versions/3.8/lib/python3.8/site-packages/pandas/core/generic.py:4152: PerformanceWarning: dropping on a non-lexsorted multi-index without a level parameter may impact performance.\n",
      "  obj = obj._drop_axis(labels, axis, level=level, errors=errors)\n"
     ]
    },
    {
     "name": "stdout",
     "output_type": "stream",
     "text": [
      "9 of 15 ready\n"
     ]
    },
    {
     "name": "stderr",
     "output_type": "stream",
     "text": [
      "/Library/Frameworks/Python.framework/Versions/3.8/lib/python3.8/site-packages/pandas/core/generic.py:4152: PerformanceWarning: dropping on a non-lexsorted multi-index without a level parameter may impact performance.\n",
      "  obj = obj._drop_axis(labels, axis, level=level, errors=errors)\n"
     ]
    },
    {
     "name": "stdout",
     "output_type": "stream",
     "text": [
      "10 of 15 ready\n"
     ]
    },
    {
     "name": "stderr",
     "output_type": "stream",
     "text": [
      "/Library/Frameworks/Python.framework/Versions/3.8/lib/python3.8/site-packages/pandas/core/generic.py:4152: PerformanceWarning: dropping on a non-lexsorted multi-index without a level parameter may impact performance.\n",
      "  obj = obj._drop_axis(labels, axis, level=level, errors=errors)\n"
     ]
    },
    {
     "name": "stdout",
     "output_type": "stream",
     "text": [
      "11 of 15 ready\n"
     ]
    },
    {
     "name": "stderr",
     "output_type": "stream",
     "text": [
      "/Library/Frameworks/Python.framework/Versions/3.8/lib/python3.8/site-packages/pandas/core/generic.py:4152: PerformanceWarning: dropping on a non-lexsorted multi-index without a level parameter may impact performance.\n",
      "  obj = obj._drop_axis(labels, axis, level=level, errors=errors)\n"
     ]
    },
    {
     "name": "stdout",
     "output_type": "stream",
     "text": [
      "12 of 15 ready\n"
     ]
    },
    {
     "name": "stderr",
     "output_type": "stream",
     "text": [
      "/Library/Frameworks/Python.framework/Versions/3.8/lib/python3.8/site-packages/pandas/core/generic.py:4152: PerformanceWarning: dropping on a non-lexsorted multi-index without a level parameter may impact performance.\n",
      "  obj = obj._drop_axis(labels, axis, level=level, errors=errors)\n"
     ]
    },
    {
     "name": "stdout",
     "output_type": "stream",
     "text": [
      "13 of 15 ready\n"
     ]
    },
    {
     "name": "stderr",
     "output_type": "stream",
     "text": [
      "/Library/Frameworks/Python.framework/Versions/3.8/lib/python3.8/site-packages/pandas/core/generic.py:4152: PerformanceWarning: dropping on a non-lexsorted multi-index without a level parameter may impact performance.\n",
      "  obj = obj._drop_axis(labels, axis, level=level, errors=errors)\n"
     ]
    },
    {
     "name": "stdout",
     "output_type": "stream",
     "text": [
      "14 of 15 ready\n"
     ]
    },
    {
     "name": "stderr",
     "output_type": "stream",
     "text": [
      "/Library/Frameworks/Python.framework/Versions/3.8/lib/python3.8/site-packages/pandas/core/generic.py:4152: PerformanceWarning: dropping on a non-lexsorted multi-index without a level parameter may impact performance.\n",
      "  obj = obj._drop_axis(labels, axis, level=level, errors=errors)\n"
     ]
    },
    {
     "name": "stdout",
     "output_type": "stream",
     "text": [
      "15 of 15 ready\n"
     ]
    }
   ],
   "source": [
    "gk = pd.DataFrame(columns=['Squad',\t'# Pl',\t'GA','GA90','SoTA',\t'Saves','Save%','CS','CS%', 'Season'])\n",
    "\n",
    "for i in range(len(links)):\n",
    "    #gk\n",
    "    gk_table= pd.read_html(links[i] , match='Squad Goalkeeping')[0]\n",
    "    gk_table = gk_table.drop(['Penalty Kicks'], axis=1)\n",
    "    gk_table.columns = gk_table.columns.droplevel()\n",
    "    gk_table = gk_table[['Squad',\t'# Pl',\t'GA','GA90','SoTA',\t'Saves','Save%','CS','CS%']]\n",
    "    gk_table['Season'] = seasons[i]\n",
    "    \n",
    "    gk = gk.append(gk_table)\n",
    "    print(f'{i + 1} of {len(links)} ready')\n",
    "\n",
    "gk.to_excel(f\"/Users/{os.environ['USER']}/Documents/Uni/Szakdoga/Adatok/Fbref_data/{folder}/gk.xlsx\")\n"
   ]
  },
  {
   "cell_type": "code",
   "execution_count": 9,
   "metadata": {},
   "outputs": [
    {
     "name": "stdout",
     "output_type": "stream",
     "text": [
      "4 of 15 ready\n",
      "5 of 15 ready\n",
      "6 of 15 ready\n",
      "7 of 15 ready\n",
      "8 of 15 ready\n",
      "9 of 15 ready\n",
      "10 of 15 ready\n",
      "11 of 15 ready\n",
      "12 of 15 ready\n",
      "13 of 15 ready\n",
      "14 of 15 ready\n",
      "15 of 15 ready\n"
     ]
    }
   ],
   "source": [
    "shooting = pd.DataFrame(columns=['Squad','# Pl','90s','Sh','SoT','SoT%','Sh/90','SoT/90','G/Sh','G/SoT','Dist',\t'PK', 'Season'])\n",
    "\n",
    "for i in range(len(links)):\n",
    "    #shooting\n",
    "    try:\n",
    "        shooting_table= pd.read_html(links[i] , match='Squad Shooting')[0]\n",
    "        shooting_table.columns = shooting_table.columns.droplevel()\n",
    "        shooting_table = shooting_table[['Squad','# Pl','90s','Sh','SoT','SoT%','Sh/90','SoT/90','G/Sh','G/SoT','Dist',\t'PK']]\n",
    "        shooting_table['Season'] = seasons[i]\n",
    "        \n",
    "        shooting = shooting.append(shooting_table)\n",
    "        print(f'{i + 1} of {len(links)} ready')\n",
    "    except:\n",
    "        pass\n",
    "\n",
    "shooting.to_excel(f\"/Users/{os.environ['USER']}/Documents/Uni/Szakdoga/Adatok/Fbref_data/{folder}/shooting.xlsx\")\n"
   ]
  },
  {
   "cell_type": "markdown",
   "metadata": {},
   "source": [
    "#Player stats"
   ]
  },
  {
   "cell_type": "code",
   "execution_count": null,
   "metadata": {},
   "outputs": [],
   "source": [
    "links = ['https://widgets.sports-reference.com/wg.fcgi?css=1&site=fb&url=%2Fen%2Fcomps%2F9%2F10728%2Fstats%2F2020-2021-Premier-League-Stats&div=div_stats_standard', \n",
    "'https://widgets.sports-reference.com/wg.fcgi?css=1&site=fb&url=%2Fen%2Fcomps%2F9%2F3232%2Fstats%2F2019-2020-Premier-League-Stats&div=div_stats_standard',\n",
    "'https://widgets.sports-reference.com/wg.fcgi?css=1&site=fb&url=%2Fen%2Fcomps%2F9%2F1889%2Fstats%2F2018-2019-Premier-League-Stats&div=div_stats_standard',\n",
    "'https://widgets.sports-reference.com/wg.fcgi?css=1&site=fb&url=%2Fen%2Fcomps%2F9%2F1631%2Fstats%2F2017-2018-Premier-League-Stats&div=div_stats_standard',\n",
    "'https://widgets.sports-reference.com/wg.fcgi?css=1&site=fb&url=%2Fen%2Fcomps%2F9%2F1526%2Fstats%2F2016-2017-Premier-League-Stats&div=div_stats_standard',\n",
    "'https://widgets.sports-reference.com/wg.fcgi?css=1&site=fb&url=%2Fen%2Fcomps%2F9%2F1467%2Fstats%2F2015-2016-Premier-League-Stats&div=div_stats_standard',\n",
    "'https://widgets.sports-reference.com/wg.fcgi?css=1&site=fb&url=%2Fen%2Fcomps%2F9%2F733%2Fstats%2F2014-2015-Premier-League-Stats&div=div_stats_standard',\n",
    "'https://widgets.sports-reference.com/wg.fcgi?css=1&site=fb&url=%2Fen%2Fcomps%2F9%2F669%2Fstats%2F2013-2014-Premier-League-Stats&div=div_stats_standard',\n",
    "'https://widgets.sports-reference.com/wg.fcgi?css=1&site=fb&url=%2Fen%2Fcomps%2F9%2F602%2Fstats%2F2012-2013-Premier-League-Stats&div=div_stats_standard',\n",
    "'https://widgets.sports-reference.com/wg.fcgi?css=1&site=fb&url=%2Fen%2Fcomps%2F9%2F534%2Fstats%2F2011-2012-Premier-League-Stats&div=div_stats_standard',\n",
    "'https://widgets.sports-reference.com/wg.fcgi?css=1&site=fb&url=%2Fen%2Fcomps%2F9%2F467%2Fstats%2F2010-2011-Premier-League-Stats&div=div_stats_standard',\n",
    "'https://widgets.sports-reference.com/wg.fcgi?css=1&site=fb&url=%2Fen%2Fcomps%2F9%2F400%2Fstats%2F2009-2010-Premier-League-Stats&div=div_stats_standard',\n",
    "'https://widgets.sports-reference.com/wg.fcgi?css=1&site=fb&url=%2Fen%2Fcomps%2F9%2F338%2Fstats%2F2008-2009-Premier-League-Stats&div=div_stats_standard',\n",
    "'https://widgets.sports-reference.com/wg.fcgi?css=1&site=fb&url=%2Fen%2Fcomps%2F9%2F282%2Fstats%2F2007-2008-Premier-League-Stats&div=div_stats_standard',\n",
    "'https://widgets.sports-reference.com/wg.fcgi?css=1&site=fb&url=%2Fen%2Fcomps%2F9%2F229%2Fstats%2F2006-2007-Premier-League-Stats&div=div_stats_standard']\n",
    "seasons = ['20/21', '19/20', '18/19', '17/18', '16/17', '15/16', '14/15', '13/14', '12/13', '11/12', '10/11', '09/10', '08/09', '07/08','06/07']\n",
    "folder = 'PL'"
   ]
  },
  {
   "cell_type": "code",
   "execution_count": null,
   "metadata": {},
   "outputs": [],
   "source": [
    "links = ['https://widgets.sports-reference.com/wg.fcgi?css=1&site=fb&url=%2Fen%2Fcomps%2F13%2F10732%2Fstats%2F2020-2021-Ligue-1-Stats&div=div_stats_standard', \n",
    "'https://widgets.sports-reference.com/wg.fcgi?css=1&site=fb&url=%2Fen%2Fcomps%2F13%2F3243%2Fstats%2F2019-2020-Ligue-1-Stats&div=div_stats_standard',\n",
    "'https://widgets.sports-reference.com/wg.fcgi?css=1&site=fb&url=%2Fen%2Fcomps%2F13%2F2104%2Fstats%2F2018-2019-Ligue-1-Stats&div=div_stats_standard',\n",
    "'https://widgets.sports-reference.com/wg.fcgi?css=1&site=fb&url=%2Fen%2Fcomps%2F13%2F1632%2Fstats%2F2017-2018-Ligue-1-Stats&div=div_stats_standard',\n",
    "'https://widgets.sports-reference.com/wg.fcgi?css=1&site=fb&url=%2Fen%2Fcomps%2F13%2F1527%2Fstats%2F2016-2017-Ligue-1-Stats&div=div_stats_standard',\n",
    "'https://widgets.sports-reference.com/wg.fcgi?css=1&site=fb&url=%2Fen%2Fcomps%2F13%2F734%2Fstats%2F2015-2016-Ligue-1-Stats&div=div_stats_standard',\n",
    "'https://widgets.sports-reference.com/wg.fcgi?css=1&site=fb&url=%2Fen%2Fcomps%2F13%2F733%2Fstats%2F2014-2015-Ligue-1-Stats&div=div_stats_standard',\n",
    "'https://widgets.sports-reference.com/wg.fcgi?css=1&site=fb&url=%2Fen%2Fcomps%2F13%2F670%2Fstats%2F2013-2014-Ligue-1-Stats&div=div_stats_standard',\n",
    "'https://widgets.sports-reference.com/wg.fcgi?css=1&site=fb&url=%2Fen%2Fcomps%2F13%2F603%2Fstats%2F2012-2013-Ligue-1-Stats&div=div_stats_standard',\n",
    "'https://widgets.sports-reference.com/wg.fcgi?css=1&site=fb&url=%2Fen%2Fcomps%2F13%2F535%2Fstats%2F2011-2012-Ligue-1-Stats&div=div_stats_standard',\n",
    "'https://widgets.sports-reference.com/wg.fcgi?css=1&site=fb&url=%2Fen%2Fcomps%2F13%2F468%2Fstats%2F2010-2011-Ligue-1-Stats&div=div_stats_standard',\n",
    "'https://widgets.sports-reference.com/wg.fcgi?css=1&site=fb&url=%2Fen%2Fcomps%2F13%2F401%2Fstats%2F2009-2010-Ligue-1-Stats&div=div_stats_standard',\n",
    "'https://widgets.sports-reference.com/wg.fcgi?css=1&site=fb&url=%2Fen%2Fcomps%2F13%2F339%2Fstats%2F2008-2009-Ligue-1-Stats&div=div_stats_standard',\n",
    "'https://widgets.sports-reference.com/wg.fcgi?css=1&site=fb&url=%2Fen%2Fcomps%2F13%2F283%2Fstats%2F2007-2008-Ligue-1-Stats&div=div_stats_standard',\n",
    "'https://widgets.sports-reference.com/wg.fcgi?css=1&site=fb&url=%2Fen%2Fcomps%2F13%2F230%2Fstats%2F2006-2007-Ligue-1-Stats&div=div_stats_standard']\n",
    "\n",
    "seasons = ['20/21', '19/20', '18/19', '17/18', '16/17', '15/16', '14/15', '13/14', '12/13', '11/12', '10/11', '09/10', '08/09', '07/08','06/07']\n",
    "folder = 'Ligue1'"
   ]
  },
  {
   "cell_type": "code",
   "execution_count": null,
   "metadata": {},
   "outputs": [],
   "source": [
    "links = ['https://widgets.sports-reference.com/wg.fcgi?css=1&site=fb&url=%2Fen%2Fcomps%2F20%2F10737%2Fstats%2F2020-2021-Bundesliga-Stats&div=div_stats_standard', \n",
    "'https://widgets.sports-reference.com/wg.fcgi?css=1&site=fb&url=%2Fen%2Fcomps%2F20%2F3248%2Fstats%2F2019-2020-Bundesliga-Stats&div=div_stats_standard',\n",
    "'https://widgets.sports-reference.com/wg.fcgi?css=1&site=fb&url=%2Fen%2Fcomps%2F20%2F2109%2Fstats%2F2018-2019-Bundesliga-Stats&div=div_stats_standard',\n",
    "'https://widgets.sports-reference.com/wg.fcgi?css=1&site=fb&url=%2Fen%2Fcomps%2F20%2F1634%2Fstats%2F2017-2018-Bundesliga-Stats&div=div_stats_standard',\n",
    "'https://widgets.sports-reference.com/wg.fcgi?css=1&site=fb&url=%2Fen%2Fcomps%2F20%2F1529%2Fstats%2F2016-2017-Bundesliga-Stats&div=div_stats_standard',\n",
    "'https://widgets.sports-reference.com/wg.fcgi?css=1&site=fb&url=%2Fen%2Fcomps%2F20%2F1470%2Fstats%2F2015-2016-Bundesliga-Stats&div=div_stats_standard',\n",
    "'https://widgets.sports-reference.com/wg.fcgi?css=1&site=fb&url=%2Fen%2Fcomps%2F20%2F736%2Fstats%2F2014-2015-Bundesliga-Stats&div=div_stats_standard',\n",
    "'https://widgets.sports-reference.com/wg.fcgi?css=1&site=fb&url=%2Fen%2Fcomps%2F20%2F672%2Fstats%2F2013-2014-Bundesliga-Stats&div=div_stats_standard',\n",
    "'https://widgets.sports-reference.com/wg.fcgi?css=1&site=fb&url=%2Fen%2Fcomps%2F20%2F605%2Fstats%2F2012-2013-Bundesliga-Stats&div=div_stats_standard',\n",
    "'https://widgets.sports-reference.com/wg.fcgi?css=1&site=fb&url=%2Fen%2Fcomps%2F20%2F537%2Fstats%2F2011-2012-Bundesliga-Stats&div=div_stats_standard',\n",
    "'https://widgets.sports-reference.com/wg.fcgi?css=1&site=fb&url=%2Fen%2Fcomps%2F20%2F470%2Fstats%2F2010-2011-Bundesliga-Stats&div=div_stats_standard',\n",
    "'https://widgets.sports-reference.com/wg.fcgi?css=1&site=fb&url=%2Fen%2Fcomps%2F20%2F403%2Fstats%2F2009-2010-Bundesliga-Stats&div=div_stats_standard',\n",
    "'https://widgets.sports-reference.com/wg.fcgi?css=1&site=fb&url=%2Fen%2Fcomps%2F20%2F340%2Fstats%2F2008-2009-Bundesliga-Stats&div=div_stats_standard',\n",
    "'https://widgets.sports-reference.com/wg.fcgi?css=1&site=fb&url=%2Fen%2Fcomps%2F20%2F284%2Fstats%2F2007-2008-Bundesliga-Stats&div=div_stats_standard',\n",
    "'https://widgets.sports-reference.com/wg.fcgi?css=1&site=fb&url=%2Fen%2Fcomps%2F20%2F231%2Fstats%2F2006-2007-Bundesliga-Stats&div=div_stats_standard']\n",
    "\n",
    "seasons = ['20/21', '19/20', '18/19', '17/18', '16/17', '15/16', '14/15', '13/14', '12/13', '11/12', '10/11', '09/10', '08/09', '07/08','06/07']\n",
    "folder = 'Bundesliga'"
   ]
  },
  {
   "cell_type": "code",
   "execution_count": null,
   "metadata": {},
   "outputs": [],
   "source": [
    "comp_id = '11'\n",
    "comp_name = 'Serie-A'\n",
    "seria_a_ids = ['10730', '3260','1896','1640','1535','1476','742','678','611','544','477','410','345','289','236']\n",
    "\n",
    "links = ['https://widgets.sports-reference.com/wg.fcgi?css=1&site=fb&url=%2Fen%2Fcomps%2F' + comp_id + '%2F' + seria_a_ids[0] + '%2Fstats%2F2020-2021-' + comp_name + '-Stats&div=div_stats_standard', \n",
    "'https://widgets.sports-reference.com/wg.fcgi?css=1&site=fb&url=%2Fen%2Fcomps%2F' + comp_id + '%2F' + seria_a_ids[1] + '%2Fstats%2F2019-2020-' + comp_name + '-Stats&div=div_stats_standard',\n",
    "'https://widgets.sports-reference.com/wg.fcgi?css=1&site=fb&url=%2Fen%2Fcomps%2F' + comp_id + '%2F' + seria_a_ids[2] + '%2Fstats%2F2018-2019-' + comp_name + '-Stats&div=div_stats_standard',\n",
    "'https://widgets.sports-reference.com/wg.fcgi?css=1&site=fb&url=%2Fen%2Fcomps%2F' + comp_id + '%2F' + seria_a_ids[3] + '%2Fstats%2F2017-2018-' + comp_name + '-Stats&div=div_stats_standard',\n",
    "'https://widgets.sports-reference.com/wg.fcgi?css=1&site=fb&url=%2Fen%2Fcomps%2F' + comp_id + '%2F' + seria_a_ids[4] + '%2Fstats%2F2016-2017-' + comp_name + '-Stats&div=div_stats_standard',\n",
    "'https://widgets.sports-reference.com/wg.fcgi?css=1&site=fb&url=%2Fen%2Fcomps%2F' + comp_id + '%2F' + seria_a_ids[5] + '%2Fstats%2F2015-2016-' + comp_name + '-Stats&div=div_stats_standard',\n",
    "'https://widgets.sports-reference.com/wg.fcgi?css=1&site=fb&url=%2Fen%2Fcomps%2F' + comp_id + '%2F' + seria_a_ids[6] + '%2Fstats%2F2014-2015-' + comp_name + '-Stats&div=div_stats_standard',\n",
    "'https://widgets.sports-reference.com/wg.fcgi?css=1&site=fb&url=%2Fen%2Fcomps%2F' + comp_id + '%2F' + seria_a_ids[7] + '%2Fstats%2F2013-2014-' + comp_name + '-Stats&div=div_stats_standard',\n",
    "'https://widgets.sports-reference.com/wg.fcgi?css=1&site=fb&url=%2Fen%2Fcomps%2F' + comp_id + '%2F' + seria_a_ids[8] + '%2Fstats%2F2012-2013-' + comp_name + '-Stats&div=div_stats_standard',\n",
    "'https://widgets.sports-reference.com/wg.fcgi?css=1&site=fb&url=%2Fen%2Fcomps%2F' + comp_id + '%2F' + seria_a_ids[9] + '%2Fstats%2F2011-2012-' + comp_name + '-Stats&div=div_stats_standard',\n",
    "'https://widgets.sports-reference.com/wg.fcgi?css=1&site=fb&url=%2Fen%2Fcomps%2F' + comp_id + '%2F' + seria_a_ids[10] + '%2Fstats%2F2010-2011-' + comp_name + '-Stats&div=div_stats_standard',\n",
    "'https://widgets.sports-reference.com/wg.fcgi?css=1&site=fb&url=%2Fen%2Fcomps%2F' + comp_id + '%2F' + seria_a_ids[11] + '%2Fstats%2F2009-2010-' + comp_name + '-Stats&div=div_stats_standard',\n",
    "'https://widgets.sports-reference.com/wg.fcgi?css=1&site=fb&url=%2Fen%2Fcomps%2F' + comp_id + '%2F' + seria_a_ids[12] + '%2Fstats%2F2008-2009-' + comp_name + '-Stats&div=div_stats_standard',\n",
    "'https://widgets.sports-reference.com/wg.fcgi?css=1&site=fb&url=%2Fen%2Fcomps%2F' + comp_id + '%2F' + seria_a_ids[13] + '%2Fstats%2F2007-2008-' + comp_name + '-Stats&div=div_stats_standard',\n",
    "'https://widgets.sports-reference.com/wg.fcgi?css=1&site=fb&url=%2Fen%2Fcomps%2F' + comp_id + '%2F' + seria_a_ids[14] + '%2Fstats%2F2006-2007-' + comp_name + '-Stats&div=div_stats_standard']\n",
    "\n",
    "seasons = ['20/21', '19/20', '18/19', '17/18', '16/17', '15/16', '14/15', '13/14', '12/13', '11/12', '10/11', '09/10', '08/09', '07/08','06/07']\n",
    "folder = 'SeriaA'"
   ]
  },
  {
   "cell_type": "code",
   "execution_count": null,
   "metadata": {},
   "outputs": [],
   "source": [
    "comp_id = '12'\n",
    "comp_name = 'La-Liga'\n",
    "seria_a_ids = ['10731', '3239','1886','1652','1547','1488','755','690','624','557','488','422','355','299','245']\n",
    "\n",
    "links = ['https://widgets.sports-reference.com/wg.fcgi?css=1&site=fb&url=%2Fen%2Fcomps%2F' + comp_id + '%2F' + seria_a_ids[0] + '%2Fstats%2F2020-2021-' + comp_name + '-Stats&div=div_stats_standard', \n",
    "'https://widgets.sports-reference.com/wg.fcgi?css=1&site=fb&url=%2Fen%2Fcomps%2F' + comp_id + '%2F' + seria_a_ids[1] + '%2Fstats%2F2019-2020-' + comp_name + '-Stats&div=div_stats_standard',\n",
    "'https://widgets.sports-reference.com/wg.fcgi?css=1&site=fb&url=%2Fen%2Fcomps%2F' + comp_id + '%2F' + seria_a_ids[2] + '%2Fstats%2F2018-2019-' + comp_name + '-Stats&div=div_stats_standard',\n",
    "'https://widgets.sports-reference.com/wg.fcgi?css=1&site=fb&url=%2Fen%2Fcomps%2F' + comp_id + '%2F' + seria_a_ids[3] + '%2Fstats%2F2017-2018-' + comp_name + '-Stats&div=div_stats_standard',\n",
    "'https://widgets.sports-reference.com/wg.fcgi?css=1&site=fb&url=%2Fen%2Fcomps%2F' + comp_id + '%2F' + seria_a_ids[4] + '%2Fstats%2F2016-2017-' + comp_name + '-Stats&div=div_stats_standard',\n",
    "'https://widgets.sports-reference.com/wg.fcgi?css=1&site=fb&url=%2Fen%2Fcomps%2F' + comp_id + '%2F' + seria_a_ids[5] + '%2Fstats%2F2015-2016-' + comp_name + '-Stats&div=div_stats_standard',\n",
    "'https://widgets.sports-reference.com/wg.fcgi?css=1&site=fb&url=%2Fen%2Fcomps%2F' + comp_id + '%2F' + seria_a_ids[6] + '%2Fstats%2F2014-2015-' + comp_name + '-Stats&div=div_stats_standard',\n",
    "'https://widgets.sports-reference.com/wg.fcgi?css=1&site=fb&url=%2Fen%2Fcomps%2F' + comp_id + '%2F' + seria_a_ids[7] + '%2Fstats%2F2013-2014-' + comp_name + '-Stats&div=div_stats_standard',\n",
    "'https://widgets.sports-reference.com/wg.fcgi?css=1&site=fb&url=%2Fen%2Fcomps%2F' + comp_id + '%2F' + seria_a_ids[8] + '%2Fstats%2F2012-2013-' + comp_name + '-Stats&div=div_stats_standard',\n",
    "'https://widgets.sports-reference.com/wg.fcgi?css=1&site=fb&url=%2Fen%2Fcomps%2F' + comp_id + '%2F' + seria_a_ids[9] + '%2Fstats%2F2011-2012-' + comp_name + '-Stats&div=div_stats_standard',\n",
    "'https://widgets.sports-reference.com/wg.fcgi?css=1&site=fb&url=%2Fen%2Fcomps%2F' + comp_id + '%2F' + seria_a_ids[10] + '%2Fstats%2F2010-2011-' + comp_name + '-Stats&div=div_stats_standard',\n",
    "'https://widgets.sports-reference.com/wg.fcgi?css=1&site=fb&url=%2Fen%2Fcomps%2F' + comp_id + '%2F' + seria_a_ids[11] + '%2Fstats%2F2009-2010-' + comp_name + '-Stats&div=div_stats_standard',\n",
    "'https://widgets.sports-reference.com/wg.fcgi?css=1&site=fb&url=%2Fen%2Fcomps%2F' + comp_id + '%2F' + seria_a_ids[12] + '%2Fstats%2F2008-2009-' + comp_name + '-Stats&div=div_stats_standard',\n",
    "'https://widgets.sports-reference.com/wg.fcgi?css=1&site=fb&url=%2Fen%2Fcomps%2F' + comp_id + '%2F' + seria_a_ids[13] + '%2Fstats%2F2007-2008-' + comp_name + '-Stats&div=div_stats_standard',\n",
    "'https://widgets.sports-reference.com/wg.fcgi?css=1&site=fb&url=%2Fen%2Fcomps%2F' + comp_id + '%2F' + seria_a_ids[14] + '%2Fstats%2F2006-2007-' + comp_name + '-Stats&div=div_stats_standard']\n",
    "\n",
    "seasons = ['20/21', '19/20', '18/19', '17/18', '16/17', '15/16', '14/15', '13/14', '12/13', '11/12', '10/11', '09/10', '08/09', '07/08','06/07']\n",
    "folder = 'LaLiga'"
   ]
  },
  {
   "cell_type": "code",
   "execution_count": null,
   "metadata": {},
   "outputs": [],
   "source": [
    "comp_id = '22'\n",
    "comp_name = 'Major-League-Soccer'\n",
    "seria_a_ids = ['', '10090','2798','1759','1558','1503','1369','708','643','577','509','442','374','316', '260']\n",
    "\n",
    "links = ['https://widgets.sports-reference.com/wg.fcgi?css=1&site=fb&url=%2Fen%2Fcomps%2F' + comp_id + '%2F' + seria_a_ids[0] + '%2Fstats%2F2020-2021-' + comp_name + '-Stats&div=div_stats_standard', \n",
    "'https://widgets.sports-reference.com/wg.fcgi?css=1&site=fb&url=%2Fen%2Fcomps%2F' + comp_id + '%2F' + seria_a_ids[1] + '%2Fstats%2F2019-2020-' + comp_name + '-Stats&div=div_stats_standard',\n",
    "'https://widgets.sports-reference.com/wg.fcgi?css=1&site=fb&url=%2Fen%2Fcomps%2F' + comp_id + '%2F' + seria_a_ids[2] + '%2Fstats%2F2018-2019-' + comp_name + '-Stats&div=div_stats_standard',\n",
    "'https://widgets.sports-reference.com/wg.fcgi?css=1&site=fb&url=%2Fen%2Fcomps%2F' + comp_id + '%2F' + seria_a_ids[3] + '%2Fstats%2F2017-2018-' + comp_name + '-Stats&div=div_stats_standard',\n",
    "'https://widgets.sports-reference.com/wg.fcgi?css=1&site=fb&url=%2Fen%2Fcomps%2F' + comp_id + '%2F' + seria_a_ids[4] + '%2Fstats%2F2016-2017-' + comp_name + '-Stats&div=div_stats_standard',\n",
    "'https://widgets.sports-reference.com/wg.fcgi?css=1&site=fb&url=%2Fen%2Fcomps%2F' + comp_id + '%2F' + seria_a_ids[5] + '%2Fstats%2F2015-2016-' + comp_name + '-Stats&div=div_stats_standard',\n",
    "'https://widgets.sports-reference.com/wg.fcgi?css=1&site=fb&url=%2Fen%2Fcomps%2F' + comp_id + '%2F' + seria_a_ids[6] + '%2Fstats%2F2014-2015-' + comp_name + '-Stats&div=div_stats_standard',\n",
    "'https://widgets.sports-reference.com/wg.fcgi?css=1&site=fb&url=%2Fen%2Fcomps%2F' + comp_id + '%2F' + seria_a_ids[7] + '%2Fstats%2F2013-2014-' + comp_name + '-Stats&div=div_stats_standard',\n",
    "'https://widgets.sports-reference.com/wg.fcgi?css=1&site=fb&url=%2Fen%2Fcomps%2F' + comp_id + '%2F' + seria_a_ids[8] + '%2Fstats%2F2012-2013-' + comp_name + '-Stats&div=div_stats_standard',\n",
    "'https://widgets.sports-reference.com/wg.fcgi?css=1&site=fb&url=%2Fen%2Fcomps%2F' + comp_id + '%2F' + seria_a_ids[9] + '%2Fstats%2F2011-2012-' + comp_name + '-Stats&div=div_stats_standard',\n",
    "'https://widgets.sports-reference.com/wg.fcgi?css=1&site=fb&url=%2Fen%2Fcomps%2F' + comp_id + '%2F' + seria_a_ids[10] + '%2Fstats%2F2010-2011-' + comp_name + '-Stats&div=div_stats_standard',\n",
    "'https://widgets.sports-reference.com/wg.fcgi?css=1&site=fb&url=%2Fen%2Fcomps%2F' + comp_id + '%2F' + seria_a_ids[11] + '%2Fstats%2F2009-2010-' + comp_name + '-Stats&div=div_stats_standard',\n",
    "'https://widgets.sports-reference.com/wg.fcgi?css=1&site=fb&url=%2Fen%2Fcomps%2F' + comp_id + '%2F' + seria_a_ids[12] + '%2Fstats%2F2008-2009-' + comp_name + '-Stats&div=div_stats_standard',\n",
    "'https://widgets.sports-reference.com/wg.fcgi?css=1&site=fb&url=%2Fen%2Fcomps%2F' + comp_id + '%2F' + seria_a_ids[13] + '%2Fstats%2F2007-2008-' + comp_name + '-Stats&div=div_stats_standard',\n",
    "'https://widgets.sports-reference.com/wg.fcgi?css=1&site=fb&url=%2Fen%2Fcomps%2F' + comp_id + '%2F' + seria_a_ids[14] + '%2Fstats%2F2006-2007-' + comp_name + '-Stats&div=div_stats_standard']\n",
    "\n",
    "seasons = ['20/21', '19/20', '18/19', '17/18', '16/17', '15/16', '14/15', '13/14', '12/13', '11/12', '10/11', '09/10', '08/09', '07/08','06/07']\n",
    "folder = 'MLS'"
   ]
  },
  {
   "cell_type": "code",
   "execution_count": null,
   "metadata": {},
   "outputs": [],
   "source": [
    "#Argentin\n",
    "comp_id = '21'\n",
    "seria_a_ids = ['', '2436','2798','1659','1554','1494','789','718']\n",
    "\n",
    "links = ['https://widgets.sports-reference.com/wg.fcgi?css=1&site=fb&url=%2Fen%2Fcomps%2F' + comp_id + '%2F' + seria_a_ids[0] + '%2Fstats%2F2020-2021-' + 'Primera-Division-Stats' + '-Stats&div=div_stats_standard', \n",
    "'https://widgets.sports-reference.com/wg.fcgi?css=1&site=fb&url=%2Fen%2Fcomps%2F' + comp_id + '%2F' + seria_a_ids[1] + '%2Fstats%2F2019-2020-' + 'Superliga-Argentina' + '-Stats&div=div_stats_standard',\n",
    "'https://widgets.sports-reference.com/wg.fcgi?css=1&site=fb&url=%2Fen%2Fcomps%2F' + comp_id + '%2F' + seria_a_ids[2] + '%2Fstats%2F2018-2019-' + 'Superliga-Argentina' + '-Stats&div=div_stats_standard',\n",
    "'https://widgets.sports-reference.com/wg.fcgi?css=1&site=fb&url=%2Fen%2Fcomps%2F' + comp_id + '%2F' + seria_a_ids[3] + '%2Fstats%2F2017-2018-' + 'Superliga-Argentina' + '-Stats&div=div_stats_standard',\n",
    "'https://widgets.sports-reference.com/wg.fcgi?css=1&site=fb&url=%2Fen%2Fcomps%2F' + comp_id + '%2F' + seria_a_ids[4] + '%2Fstats%2F2016-2017-' + 'Primera-Division' + '-Stats&div=div_stats_standard',\n",
    "'https://widgets.sports-reference.com/wg.fcgi?css=1&site=fb&url=%2Fen%2Fcomps%2F' + comp_id + '%2F' + seria_a_ids[5] + '%2Fstats%2F2015-2016-' + 'Primera-Division' + '-Stats&div=div_stats_standard',\n",
    "'https://widgets.sports-reference.com/wg.fcgi?css=1&site=fb&url=%2Fen%2Fcomps%2F' + comp_id + '%2F' + seria_a_ids[6] + '%2Fstats%2F2014-2015-' + 'Primera-Division' + '-Stats&div=div_stats_standard',\n",
    "'https://widgets.sports-reference.com/wg.fcgi?css=1&site=fb&url=%2Fen%2Fcomps%2F' + comp_id + '%2F' + seria_a_ids[7] + '%2Fstats%2F2013-2014-' + 'Primera-Division' + '-Stats&div=div_stats_standard']\n",
    "\n",
    "seasons = ['20/21', '19/20', '18/19', '17/18', '16/17', '15/16', '14/15', '13/14']\n",
    "folder = 'Argentin'"
   ]
  },
  {
   "cell_type": "code",
   "execution_count": null,
   "metadata": {},
   "outputs": [],
   "source": [
    "comp_id = '56'\n",
    "comp_name = 'Austrian-Bundesliga'\n",
    "seria_a_ids = ['10758', '3213','2352','1618','1513','1454','720','656','589','521','454','386','328','272', '221']\n",
    "\n",
    "links = ['https://widgets.sports-reference.com/wg.fcgi?css=1&site=fb&url=%2Fen%2Fcomps%2F' + comp_id + '%2F' + seria_a_ids[0] + '%2Fstats%2F2020-2021-' + comp_name + '-Stats&div=div_stats_standard', \n",
    "'https://widgets.sports-reference.com/wg.fcgi?css=1&site=fb&url=%2Fen%2Fcomps%2F' + comp_id + '%2F' + seria_a_ids[1] + '%2Fstats%2F2019-2020-' + comp_name + '-Stats&div=div_stats_standard',\n",
    "'https://widgets.sports-reference.com/wg.fcgi?css=1&site=fb&url=%2Fen%2Fcomps%2F' + comp_id + '%2F' + seria_a_ids[2] + '%2Fstats%2F2018-2019-' + comp_name + '-Stats&div=div_stats_standard',\n",
    "'https://widgets.sports-reference.com/wg.fcgi?css=1&site=fb&url=%2Fen%2Fcomps%2F' + comp_id + '%2F' + seria_a_ids[3] + '%2Fstats%2F2017-2018-' + comp_name + '-Stats&div=div_stats_standard',\n",
    "'https://widgets.sports-reference.com/wg.fcgi?css=1&site=fb&url=%2Fen%2Fcomps%2F' + comp_id + '%2F' + seria_a_ids[4] + '%2Fstats%2F2016-2017-' + comp_name + '-Stats&div=div_stats_standard',\n",
    "'https://widgets.sports-reference.com/wg.fcgi?css=1&site=fb&url=%2Fen%2Fcomps%2F' + comp_id + '%2F' + seria_a_ids[5] + '%2Fstats%2F2015-2016-' + comp_name + '-Stats&div=div_stats_standard',\n",
    "'https://widgets.sports-reference.com/wg.fcgi?css=1&site=fb&url=%2Fen%2Fcomps%2F' + comp_id + '%2F' + seria_a_ids[6] + '%2Fstats%2F2014-2015-' + comp_name + '-Stats&div=div_stats_standard',\n",
    "'https://widgets.sports-reference.com/wg.fcgi?css=1&site=fb&url=%2Fen%2Fcomps%2F' + comp_id + '%2F' + seria_a_ids[7] + '%2Fstats%2F2013-2014-' + comp_name + '-Stats&div=div_stats_standard',\n",
    "'https://widgets.sports-reference.com/wg.fcgi?css=1&site=fb&url=%2Fen%2Fcomps%2F' + comp_id + '%2F' + seria_a_ids[8] + '%2Fstats%2F2012-2013-' + comp_name + '-Stats&div=div_stats_standard',\n",
    "'https://widgets.sports-reference.com/wg.fcgi?css=1&site=fb&url=%2Fen%2Fcomps%2F' + comp_id + '%2F' + seria_a_ids[9] + '%2Fstats%2F2011-2012-' + comp_name + '-Stats&div=div_stats_standard',\n",
    "'https://widgets.sports-reference.com/wg.fcgi?css=1&site=fb&url=%2Fen%2Fcomps%2F' + comp_id + '%2F' + seria_a_ids[10] + '%2Fstats%2F2010-2011-' + comp_name + '-Stats&div=div_stats_standard',\n",
    "'https://widgets.sports-reference.com/wg.fcgi?css=1&site=fb&url=%2Fen%2Fcomps%2F' + comp_id + '%2F' + seria_a_ids[11] + '%2Fstats%2F2009-2010-' + comp_name + '-Stats&div=div_stats_standard',\n",
    "'https://widgets.sports-reference.com/wg.fcgi?css=1&site=fb&url=%2Fen%2Fcomps%2F' + comp_id + '%2F' + seria_a_ids[12] + '%2Fstats%2F2008-2009-' + comp_name + '-Stats&div=div_stats_standard',\n",
    "'https://widgets.sports-reference.com/wg.fcgi?css=1&site=fb&url=%2Fen%2Fcomps%2F' + comp_id + '%2F' + seria_a_ids[13] + '%2Fstats%2F2007-2008-' + comp_name + '-Stats&div=div_stats_standard',\n",
    "'https://widgets.sports-reference.com/wg.fcgi?css=1&site=fb&url=%2Fen%2Fcomps%2F' + comp_id + '%2F' + seria_a_ids[14] + '%2Fstats%2F2006-2007-' + comp_name + '-Stats&div=div_stats_standard']\n",
    "\n",
    "seasons = ['20/21', '19/20', '18/19', '17/18', '16/17', '15/16', '14/15', '13/14', '12/13', '11/12', '10/11', '09/10', '08/09', '07/08','06/07']\n",
    "folder = 'Austrian'"
   ]
  },
  {
   "cell_type": "code",
   "execution_count": null,
   "metadata": {},
   "outputs": [],
   "source": [
    "#Belgian\n",
    "comp_id = '37'\n",
    "seria_a_ids = ['10748', '3216','2246','1619','1514','1455','721','657','591','523','456','388','329','273', '222']\n",
    "\n",
    "links = ['https://widgets.sports-reference.com/wg.fcgi?css=1&site=fb&url=%2Fen%2Fcomps%2F' + comp_id + '%2F' + seria_a_ids[0] + '%2Fstats%2F2020-2021-' + 'Belgian-First-Division-A' + '-Stats&div=div_stats_standard', \n",
    "'https://widgets.sports-reference.com/wg.fcgi?css=1&site=fb&url=%2Fen%2Fcomps%2F' + comp_id + '%2F' + seria_a_ids[1] + '%2Fstats%2F2019-2020-' + 'Belgian-First-Division-A' + '-Stats&div=div_stats_standard',\n",
    "'https://widgets.sports-reference.com/wg.fcgi?css=1&site=fb&url=%2Fen%2Fcomps%2F' + comp_id + '%2F' + seria_a_ids[2] + '%2Fstats%2F2018-2019-' + 'Belgian-First-Division-A' + '-Stats&div=div_stats_standard',\n",
    "'https://widgets.sports-reference.com/wg.fcgi?css=1&site=fb&url=%2Fen%2Fcomps%2F' + comp_id + '%2F' + seria_a_ids[3] + '%2Fstats%2F2017-2018-' + 'Belgian-First-Division-A' + '-Stats&div=div_stats_standard',\n",
    "'https://widgets.sports-reference.com/wg.fcgi?css=1&site=fb&url=%2Fen%2Fcomps%2F' + comp_id + '%2F' + seria_a_ids[4] + '%2Fstats%2F2016-2017-' + 'Belgian-First-Division-A' + '-Stats&div=div_stats_standard',\n",
    "'https://widgets.sports-reference.com/wg.fcgi?css=1&site=fb&url=%2Fen%2Fcomps%2F' + comp_id + '%2F' + seria_a_ids[5] + '%2Fstats%2F2015-2016-' + 'Belgian-Pro-League' + '-Stats&div=div_stats_standard',\n",
    "'https://widgets.sports-reference.com/wg.fcgi?css=1&site=fb&url=%2Fen%2Fcomps%2F' + comp_id + '%2F' + seria_a_ids[6] + '%2Fstats%2F2014-2015-' + 'Belgian-Pro-League' + '-Stats&div=div_stats_standard',\n",
    "'https://widgets.sports-reference.com/wg.fcgi?css=1&site=fb&url=%2Fen%2Fcomps%2F' + comp_id + '%2F' + seria_a_ids[7] + '%2Fstats%2F2013-2014-' + 'Belgian-Pro-League' + '-Stats&div=div_stats_standard',\n",
    "'https://widgets.sports-reference.com/wg.fcgi?css=1&site=fb&url=%2Fen%2Fcomps%2F' + comp_id + '%2F' + seria_a_ids[8] + '%2Fstats%2F2012-2013-' + 'Belgian-Pro-League' + '-Stats&div=div_stats_standard',\n",
    "'https://widgets.sports-reference.com/wg.fcgi?css=1&site=fb&url=%2Fen%2Fcomps%2F' + comp_id + '%2F' + seria_a_ids[9] + '%2Fstats%2F2011-2012-' + 'Belgian-Pro-League' + '-Stats&div=div_stats_standard',\n",
    "'https://widgets.sports-reference.com/wg.fcgi?css=1&site=fb&url=%2Fen%2Fcomps%2F' + comp_id + '%2F' + seria_a_ids[10] + '%2Fstats%2F2010-2011-' + 'Belgian-Pro-League' + '-Stats&div=div_stats_standard',\n",
    "'https://widgets.sports-reference.com/wg.fcgi?css=1&site=fb&url=%2Fen%2Fcomps%2F' + comp_id + '%2F' + seria_a_ids[11] + '%2Fstats%2F2009-2010-' + 'Belgian-Pro-League' + '-Stats&div=div_stats_standard',\n",
    "'https://widgets.sports-reference.com/wg.fcgi?css=1&site=fb&url=%2Fen%2Fcomps%2F' + comp_id + '%2F' + seria_a_ids[12] + '%2Fstats%2F2008-2009-' + 'Belgian-First-Division' + '-Stats&div=div_stats_standard',\n",
    "'https://widgets.sports-reference.com/wg.fcgi?css=1&site=fb&url=%2Fen%2Fcomps%2F' + comp_id + '%2F' + seria_a_ids[13] + '%2Fstats%2F2007-2008-' + 'Belgian-First-Division' + '-Stats&div=div_stats_standard',\n",
    "'https://widgets.sports-reference.com/wg.fcgi?css=1&site=fb&url=%2Fen%2Fcomps%2F' + comp_id + '%2F' + seria_a_ids[14] + '%2Fstats%2F2006-2007-' + 'Belgian-First-Division' + '-Stats&div=div_stats_standard']\n",
    "\n",
    "seasons = ['20/21', '19/20', '18/19', '17/18', '16/17', '15/16', '14/15', '13/14', '12/13', '11/12', '10/11', '09/10', '08/09', '07/08','06/07']\n",
    "folder = 'Belgian'"
   ]
  },
  {
   "cell_type": "code",
   "execution_count": null,
   "metadata": {},
   "outputs": [],
   "source": [
    "#Brazil\n",
    "comp_id = '24'\n",
    "seria_a_ids = ['', '10072','3320','1760','1559','1495','851','698']\n",
    "\n",
    "links = ['https://widgets.sports-reference.com/wg.fcgi?css=1&site=fb&url=%2Fen%2Fcomps%2F' + comp_id + '%2F' + seria_a_ids[0] + '%2Fstats%2F2020-2021-' + 'Belgian-First-Division-A' + '-Stats&div=div_stats_standard', \n",
    "'https://widgets.sports-reference.com/wg.fcgi?css=1&site=fb&url=%2Fen%2Fcomps%2F' + comp_id + '%2F' + seria_a_ids[1] + '%2Fstats%2F2019-2020-' + 'Belgian-First-Division-A' + '-Stats&div=div_stats_standard',\n",
    "'https://widgets.sports-reference.com/wg.fcgi?css=1&site=fb&url=%2Fen%2Fcomps%2F' + comp_id + '%2F' + seria_a_ids[2] + '%2Fstats%2F2018-2019-' + 'Belgian-First-Division-A' + '-Stats&div=div_stats_standard',\n",
    "'https://widgets.sports-reference.com/wg.fcgi?css=1&site=fb&url=%2Fen%2Fcomps%2F' + comp_id + '%2F' + seria_a_ids[3] + '%2Fstats%2F2017-2018-' + 'Belgian-First-Division-A' + '-Stats&div=div_stats_standard',\n",
    "'https://widgets.sports-reference.com/wg.fcgi?css=1&site=fb&url=%2Fen%2Fcomps%2F' + comp_id + '%2F' + seria_a_ids[4] + '%2Fstats%2F2016-2017-' + 'Belgian-First-Division-A' + '-Stats&div=div_stats_standard',\n",
    "'https://widgets.sports-reference.com/wg.fcgi?css=1&site=fb&url=%2Fen%2Fcomps%2F' + comp_id + '%2F' + seria_a_ids[5] + '%2Fstats%2F2015-2016-' + 'Belgian-Pro-League' + '-Stats&div=div_stats_standard',\n",
    "'https://widgets.sports-reference.com/wg.fcgi?css=1&site=fb&url=%2Fen%2Fcomps%2F' + comp_id + '%2F' + seria_a_ids[6] + '%2Fstats%2F2014-2015-' + 'Belgian-Pro-League' + '-Stats&div=div_stats_standard',\n",
    "'https://widgets.sports-reference.com/wg.fcgi?css=1&site=fb&url=%2Fen%2Fcomps%2F' + comp_id + '%2F' + seria_a_ids[7] + '%2Fstats%2F2013-2014-' + 'Belgian-Pro-League' + '-Stats&div=div_stats_standard']\n",
    "\n",
    "seasons = ['20/21', '19/20', '18/19', '17/18', '16/17', '15/16', '14/15', '13/14']\n",
    "folder = 'Brazil'"
   ]
  },
  {
   "cell_type": "code",
   "execution_count": null,
   "metadata": {},
   "outputs": [],
   "source": [
    "#Chile\n",
    "comp_id = '35'\n",
    "seria_a_ids = ['10989', '10074','3926','1621','1616','1516','1457','723']\n",
    "comp_name  = 'Primera-Division'\n",
    "\n",
    "links = ['https://widgets.sports-reference.com/wg.fcgi?css=1&site=fb&url=%2Fen%2Fcomps%2F' + comp_id + '%2F' + seria_a_ids[0] + '%2Fstats%2F2020-2021-' + 'Belgian-First-Division-A' + '-Stats&div=div_stats_standard', \n",
    "'https://widgets.sports-reference.com/wg.fcgi?css=1&site=fb&url=%2Fen%2Fcomps%2F' + comp_id + '%2F' + seria_a_ids[1] + '%2Fstats%2F2019-2020-' + 'Belgian-First-Division-A' + '-Stats&div=div_stats_standard',\n",
    "'https://widgets.sports-reference.com/wg.fcgi?css=1&site=fb&url=%2Fen%2Fcomps%2F' + comp_id + '%2F' + seria_a_ids[2] + '%2Fstats%2F2018-2019-' + 'Belgian-First-Division-A' + '-Stats&div=div_stats_standard',\n",
    "'https://widgets.sports-reference.com/wg.fcgi?css=1&site=fb&url=%2Fen%2Fcomps%2F' + comp_id + '%2F' + seria_a_ids[3] + '%2Fstats%2F2017-2018-' + 'Belgian-First-Division-A' + '-Stats&div=div_stats_standard',\n",
    "'https://widgets.sports-reference.com/wg.fcgi?css=1&site=fb&url=%2Fen%2Fcomps%2F' + comp_id + '%2F' + seria_a_ids[4] + '%2Fstats%2F2016-2017-' + 'Belgian-First-Division-A' + '-Stats&div=div_stats_standard',\n",
    "'https://widgets.sports-reference.com/wg.fcgi?css=1&site=fb&url=%2Fen%2Fcomps%2F' + comp_id + '%2F' + seria_a_ids[5] + '%2Fstats%2F2015-2016-' + 'Belgian-Pro-League' + '-Stats&div=div_stats_standard',\n",
    "'https://widgets.sports-reference.com/wg.fcgi?css=1&site=fb&url=%2Fen%2Fcomps%2F' + comp_id + '%2F' + seria_a_ids[6] + '%2Fstats%2F2014-2015-' + 'Belgian-Pro-League' + '-Stats&div=div_stats_standard',\n",
    "'https://widgets.sports-reference.com/wg.fcgi?css=1&site=fb&url=%2Fen%2Fcomps%2F' + comp_id + '%2F' + seria_a_ids[7] + '%2Fstats%2F2013-2014-' + 'Belgian-Pro-League' + '-Stats&div=div_stats_standard']\n",
    "\n",
    "seasons = ['20/21', '19/20', '18/19', '17/18', '16/17', '15/16', '14/15', '13/14']\n",
    "folder = 'Chile'"
   ]
  },
  {
   "cell_type": "code",
   "execution_count": null,
   "metadata": {},
   "outputs": [],
   "source": [
    "#Czech\n",
    "comp_id = '66'\n",
    "comp_name = 'Czech-First-League'\n",
    "seria_a_ids = ['10765', '3226','2427','1623','1518','1459','725','661','594','526','459','391']\n",
    "\n",
    "links = ['https://widgets.sports-reference.com/wg.fcgi?css=1&site=fb&url=%2Fen%2Fcomps%2F' + comp_id + '%2F' + seria_a_ids[0] + '%2Fstats%2F2020-2021-' + comp_name + '-Stats&div=div_stats_standard', \n",
    "'https://widgets.sports-reference.com/wg.fcgi?css=1&site=fb&url=%2Fen%2Fcomps%2F' + comp_id + '%2F' + seria_a_ids[1] + '%2Fstats%2F2019-2020-' + comp_name + '-Stats&div=div_stats_standard',\n",
    "'https://widgets.sports-reference.com/wg.fcgi?css=1&site=fb&url=%2Fen%2Fcomps%2F' + comp_id + '%2F' + seria_a_ids[2] + '%2Fstats%2F2018-2019-' + comp_name + '-Stats&div=div_stats_standard',\n",
    "'https://widgets.sports-reference.com/wg.fcgi?css=1&site=fb&url=%2Fen%2Fcomps%2F' + comp_id + '%2F' + seria_a_ids[3] + '%2Fstats%2F2017-2018-' + comp_name + '-Stats&div=div_stats_standard',\n",
    "'https://widgets.sports-reference.com/wg.fcgi?css=1&site=fb&url=%2Fen%2Fcomps%2F' + comp_id + '%2F' + seria_a_ids[4] + '%2Fstats%2F2016-2017-' + comp_name + '-Stats&div=div_stats_standard',\n",
    "'https://widgets.sports-reference.com/wg.fcgi?css=1&site=fb&url=%2Fen%2Fcomps%2F' + comp_id + '%2F' + seria_a_ids[5] + '%2Fstats%2F2015-2016-' + comp_name + '-Stats&div=div_stats_standard',\n",
    "'https://widgets.sports-reference.com/wg.fcgi?css=1&site=fb&url=%2Fen%2Fcomps%2F' + comp_id + '%2F' + seria_a_ids[6] + '%2Fstats%2F2014-2015-' + comp_name + '-Stats&div=div_stats_standard',\n",
    "'https://widgets.sports-reference.com/wg.fcgi?css=1&site=fb&url=%2Fen%2Fcomps%2F' + comp_id + '%2F' + seria_a_ids[7] + '%2Fstats%2F2013-2014-' + comp_name + '-Stats&div=div_stats_standard',\n",
    "'https://widgets.sports-reference.com/wg.fcgi?css=1&site=fb&url=%2Fen%2Fcomps%2F' + comp_id + '%2F' + seria_a_ids[8] + '%2Fstats%2F2012-2013-' + comp_name + '-Stats&div=div_stats_standard',\n",
    "'https://widgets.sports-reference.com/wg.fcgi?css=1&site=fb&url=%2Fen%2Fcomps%2F' + comp_id + '%2F' + seria_a_ids[9] + '%2Fstats%2F2011-2012-' + comp_name + '-Stats&div=div_stats_standard',\n",
    "'https://widgets.sports-reference.com/wg.fcgi?css=1&site=fb&url=%2Fen%2Fcomps%2F' + comp_id + '%2F' + seria_a_ids[10] + '%2Fstats%2F2010-2011-' + comp_name + '-Stats&div=div_stats_standard',\n",
    "'https://widgets.sports-reference.com/wg.fcgi?css=1&site=fb&url=%2Fen%2Fcomps%2F' + comp_id + '%2F' + seria_a_ids[11] + '%2Fstats%2F2009-2010-' + comp_name + '-Stats&div=div_stats_standard']\n",
    "\n",
    "seasons = ['20/21', '19/20', '18/19', '17/18', '16/17', '15/16', '14/15', '13/14', '12/13', '11/12', '10/11', '09/10']\n",
    "folder = 'Czech'"
   ]
  },
  {
   "cell_type": "code",
   "execution_count": null,
   "metadata": {},
   "outputs": [],
   "source": [
    "#Croatia\n",
    "comp_id = '63'\n",
    "comp_name = '1-HNL'\n",
    "seria_a_ids = ['10762', '3223','2422','1622','1517','1458','724','660','593','525','458','390','330','274']\n",
    "\n",
    "links = ['https://widgets.sports-reference.com/wg.fcgi?css=1&site=fb&url=%2Fen%2Fcomps%2F' + comp_id + '%2F' + seria_a_ids[0] + '%2Fstats%2F2020-2021-' + comp_name + '-Stats&div=div_stats_standard', \n",
    "'https://widgets.sports-reference.com/wg.fcgi?css=1&site=fb&url=%2Fen%2Fcomps%2F' + comp_id + '%2F' + seria_a_ids[1] + '%2Fstats%2F2019-2020-' + comp_name + '-Stats&div=div_stats_standard',\n",
    "'https://widgets.sports-reference.com/wg.fcgi?css=1&site=fb&url=%2Fen%2Fcomps%2F' + comp_id + '%2F' + seria_a_ids[2] + '%2Fstats%2F2018-2019-' + comp_name + '-Stats&div=div_stats_standard',\n",
    "'https://widgets.sports-reference.com/wg.fcgi?css=1&site=fb&url=%2Fen%2Fcomps%2F' + comp_id + '%2F' + seria_a_ids[3] + '%2Fstats%2F2017-2018-' + comp_name + '-Stats&div=div_stats_standard',\n",
    "'https://widgets.sports-reference.com/wg.fcgi?css=1&site=fb&url=%2Fen%2Fcomps%2F' + comp_id + '%2F' + seria_a_ids[4] + '%2Fstats%2F2016-2017-' + comp_name + '-Stats&div=div_stats_standard',\n",
    "'https://widgets.sports-reference.com/wg.fcgi?css=1&site=fb&url=%2Fen%2Fcomps%2F' + comp_id + '%2F' + seria_a_ids[5] + '%2Fstats%2F2015-2016-' + comp_name + '-Stats&div=div_stats_standard',\n",
    "'https://widgets.sports-reference.com/wg.fcgi?css=1&site=fb&url=%2Fen%2Fcomps%2F' + comp_id + '%2F' + seria_a_ids[6] + '%2Fstats%2F2014-2015-' + comp_name + '-Stats&div=div_stats_standard',\n",
    "'https://widgets.sports-reference.com/wg.fcgi?css=1&site=fb&url=%2Fen%2Fcomps%2F' + comp_id + '%2F' + seria_a_ids[7] + '%2Fstats%2F2013-2014-' + comp_name + '-Stats&div=div_stats_standard',\n",
    "'https://widgets.sports-reference.com/wg.fcgi?css=1&site=fb&url=%2Fen%2Fcomps%2F' + comp_id + '%2F' + seria_a_ids[8] + '%2Fstats%2F2012-2013-' + comp_name + '-Stats&div=div_stats_standard',\n",
    "'https://widgets.sports-reference.com/wg.fcgi?css=1&site=fb&url=%2Fen%2Fcomps%2F' + comp_id + '%2F' + seria_a_ids[9] + '%2Fstats%2F2011-2012-' + comp_name + '-Stats&div=div_stats_standard',\n",
    "'https://widgets.sports-reference.com/wg.fcgi?css=1&site=fb&url=%2Fen%2Fcomps%2F' + comp_id + '%2F' + seria_a_ids[10] + '%2Fstats%2F2010-2011-' + comp_name + '-Stats&div=div_stats_standard',\n",
    "'https://widgets.sports-reference.com/wg.fcgi?css=1&site=fb&url=%2Fen%2Fcomps%2F' + comp_id + '%2F' + seria_a_ids[11] + '%2Fstats%2F2009-2010-' + comp_name + '-Stats&div=div_stats_standard',\n",
    "'https://widgets.sports-reference.com/wg.fcgi?css=1&site=fb&url=%2Fen%2Fcomps%2F' + comp_id + '%2F' + seria_a_ids[12] + '%2Fstats%2F2008-2009-' + comp_name + '-Stats&div=div_stats_standard',\n",
    "'https://widgets.sports-reference.com/wg.fcgi?css=1&site=fb&url=%2Fen%2Fcomps%2F' + comp_id + '%2F' + seria_a_ids[13] + '%2Fstats%2F2007-2008-' + comp_name + '-Stats&div=div_stats_standard']\n",
    "\n",
    "seasons = ['20/21', '19/20', '18/19', '17/18', '16/17', '15/16', '14/15', '13/14', '12/13', '11/12', '10/11', '09/10', '08/09', '07/08']\n",
    "folder = 'Croatia'"
   ]
  },
  {
   "cell_type": "code",
   "execution_count": null,
   "metadata": {},
   "outputs": [],
   "source": [
    "#Danish\n",
    "comp_id = '50'\n",
    "seria_a_ids = ['10754', '3229','2423','1624','1519','1460','726','662','595','527','460','392','331','275', '223']\n",
    "\n",
    "links = ['https://widgets.sports-reference.com/wg.fcgi?css=1&site=fb&url=%2Fen%2Fcomps%2F' + comp_id + '%2F' + seria_a_ids[0] + '%2Fstats%2F2020-2021-' + 'Belgian-First-Division-A' + '-Stats&div=div_stats_standard', \n",
    "'https://widgets.sports-reference.com/wg.fcgi?css=1&site=fb&url=%2Fen%2Fcomps%2F' + comp_id + '%2F' + seria_a_ids[1] + '%2Fstats%2F2019-2020-' + 'Belgian-First-Division-A' + '-Stats&div=div_stats_standard',\n",
    "'https://widgets.sports-reference.com/wg.fcgi?css=1&site=fb&url=%2Fen%2Fcomps%2F' + comp_id + '%2F' + seria_a_ids[2] + '%2Fstats%2F2018-2019-' + 'Belgian-First-Division-A' + '-Stats&div=div_stats_standard',\n",
    "'https://widgets.sports-reference.com/wg.fcgi?css=1&site=fb&url=%2Fen%2Fcomps%2F' + comp_id + '%2F' + seria_a_ids[3] + '%2Fstats%2F2017-2018-' + 'Belgian-First-Division-A' + '-Stats&div=div_stats_standard',\n",
    "'https://widgets.sports-reference.com/wg.fcgi?css=1&site=fb&url=%2Fen%2Fcomps%2F' + comp_id + '%2F' + seria_a_ids[4] + '%2Fstats%2F2016-2017-' + 'Belgian-First-Division-A' + '-Stats&div=div_stats_standard',\n",
    "'https://widgets.sports-reference.com/wg.fcgi?css=1&site=fb&url=%2Fen%2Fcomps%2F' + comp_id + '%2F' + seria_a_ids[5] + '%2Fstats%2F2015-2016-' + 'Belgian-Pro-League' + '-Stats&div=div_stats_standard',\n",
    "'https://widgets.sports-reference.com/wg.fcgi?css=1&site=fb&url=%2Fen%2Fcomps%2F' + comp_id + '%2F' + seria_a_ids[6] + '%2Fstats%2F2014-2015-' + 'Belgian-Pro-League' + '-Stats&div=div_stats_standard',\n",
    "'https://widgets.sports-reference.com/wg.fcgi?css=1&site=fb&url=%2Fen%2Fcomps%2F' + comp_id + '%2F' + seria_a_ids[7] + '%2Fstats%2F2013-2014-' + 'Belgian-Pro-League' + '-Stats&div=div_stats_standard',\n",
    "'https://widgets.sports-reference.com/wg.fcgi?css=1&site=fb&url=%2Fen%2Fcomps%2F' + comp_id + '%2F' + seria_a_ids[8] + '%2Fstats%2F2012-2013-' + 'Belgian-Pro-League' + '-Stats&div=div_stats_standard',\n",
    "'https://widgets.sports-reference.com/wg.fcgi?css=1&site=fb&url=%2Fen%2Fcomps%2F' + comp_id + '%2F' + seria_a_ids[9] + '%2Fstats%2F2011-2012-' + 'Belgian-Pro-League' + '-Stats&div=div_stats_standard',\n",
    "'https://widgets.sports-reference.com/wg.fcgi?css=1&site=fb&url=%2Fen%2Fcomps%2F' + comp_id + '%2F' + seria_a_ids[10] + '%2Fstats%2F2010-2011-' + 'Belgian-Pro-League' + '-Stats&div=div_stats_standard',\n",
    "'https://widgets.sports-reference.com/wg.fcgi?css=1&site=fb&url=%2Fen%2Fcomps%2F' + comp_id + '%2F' + seria_a_ids[11] + '%2Fstats%2F2009-2010-' + 'Belgian-Pro-League' + '-Stats&div=div_stats_standard',\n",
    "'https://widgets.sports-reference.com/wg.fcgi?css=1&site=fb&url=%2Fen%2Fcomps%2F' + comp_id + '%2F' + seria_a_ids[12] + '%2Fstats%2F2008-2009-' + 'Belgian-First-Division' + '-Stats&div=div_stats_standard',\n",
    "'https://widgets.sports-reference.com/wg.fcgi?css=1&site=fb&url=%2Fen%2Fcomps%2F' + comp_id + '%2F' + seria_a_ids[13] + '%2Fstats%2F2007-2008-' + 'Belgian-First-Division' + '-Stats&div=div_stats_standard',\n",
    "'https://widgets.sports-reference.com/wg.fcgi?css=1&site=fb&url=%2Fen%2Fcomps%2F' + comp_id + '%2F' + seria_a_ids[14] + '%2Fstats%2F2006-2007-' + 'Belgian-First-Division' + '-Stats&div=div_stats_standard']\n",
    "\n",
    "seasons = ['20/21', '19/20', '18/19', '17/18', '16/17', '15/16', '14/15', '13/14', '12/13', '11/12', '10/11', '09/10', '08/09', '07/08','06/07']\n",
    "folder = 'Danish'"
   ]
  },
  {
   "cell_type": "code",
   "execution_count": null,
   "metadata": {},
   "outputs": [],
   "source": [
    "#Dutch\n",
    "comp_id = '23'\n",
    "seria_a_ids = ['10739', '3269','2231','1625','1520','1462','728','664','597','529','462','394','333','277', '224']\n",
    "comp_name = 'Dutch-Eredivisie'\n",
    "\n",
    "links = ['https://widgets.sports-reference.com/wg.fcgi?css=1&site=fb&url=%2Fen%2Fcomps%2F' + comp_id + '%2F' + seria_a_ids[0] + '%2Fstats%2F2020-2021-' + 'Belgian-First-Division-A' + '-Stats&div=div_stats_standard', \n",
    "'https://widgets.sports-reference.com/wg.fcgi?css=1&site=fb&url=%2Fen%2Fcomps%2F' + comp_id + '%2F' + seria_a_ids[1] + '%2Fstats%2F2019-2020-' + 'Belgian-First-Division-A' + '-Stats&div=div_stats_standard',\n",
    "'https://widgets.sports-reference.com/wg.fcgi?css=1&site=fb&url=%2Fen%2Fcomps%2F' + comp_id + '%2F' + seria_a_ids[2] + '%2Fstats%2F2018-2019-' + 'Belgian-First-Division-A' + '-Stats&div=div_stats_standard',\n",
    "'https://widgets.sports-reference.com/wg.fcgi?css=1&site=fb&url=%2Fen%2Fcomps%2F' + comp_id + '%2F' + seria_a_ids[3] + '%2Fstats%2F2017-2018-' + 'Belgian-First-Division-A' + '-Stats&div=div_stats_standard',\n",
    "'https://widgets.sports-reference.com/wg.fcgi?css=1&site=fb&url=%2Fen%2Fcomps%2F' + comp_id + '%2F' + seria_a_ids[4] + '%2Fstats%2F2016-2017-' + 'Belgian-First-Division-A' + '-Stats&div=div_stats_standard',\n",
    "'https://widgets.sports-reference.com/wg.fcgi?css=1&site=fb&url=%2Fen%2Fcomps%2F' + comp_id + '%2F' + seria_a_ids[5] + '%2Fstats%2F2015-2016-' + 'Belgian-Pro-League' + '-Stats&div=div_stats_standard',\n",
    "'https://widgets.sports-reference.com/wg.fcgi?css=1&site=fb&url=%2Fen%2Fcomps%2F' + comp_id + '%2F' + seria_a_ids[6] + '%2Fstats%2F2014-2015-' + 'Belgian-Pro-League' + '-Stats&div=div_stats_standard',\n",
    "'https://widgets.sports-reference.com/wg.fcgi?css=1&site=fb&url=%2Fen%2Fcomps%2F' + comp_id + '%2F' + seria_a_ids[7] + '%2Fstats%2F2013-2014-' + 'Belgian-Pro-League' + '-Stats&div=div_stats_standard',\n",
    "'https://widgets.sports-reference.com/wg.fcgi?css=1&site=fb&url=%2Fen%2Fcomps%2F' + comp_id + '%2F' + seria_a_ids[8] + '%2Fstats%2F2012-2013-' + 'Belgian-Pro-League' + '-Stats&div=div_stats_standard',\n",
    "'https://widgets.sports-reference.com/wg.fcgi?css=1&site=fb&url=%2Fen%2Fcomps%2F' + comp_id + '%2F' + seria_a_ids[9] + '%2Fstats%2F2011-2012-' + 'Belgian-Pro-League' + '-Stats&div=div_stats_standard',\n",
    "'https://widgets.sports-reference.com/wg.fcgi?css=1&site=fb&url=%2Fen%2Fcomps%2F' + comp_id + '%2F' + seria_a_ids[10] + '%2Fstats%2F2010-2011-' + 'Belgian-Pro-League' + '-Stats&div=div_stats_standard',\n",
    "'https://widgets.sports-reference.com/wg.fcgi?css=1&site=fb&url=%2Fen%2Fcomps%2F' + comp_id + '%2F' + seria_a_ids[11] + '%2Fstats%2F2009-2010-' + 'Belgian-Pro-League' + '-Stats&div=div_stats_standard',\n",
    "'https://widgets.sports-reference.com/wg.fcgi?css=1&site=fb&url=%2Fen%2Fcomps%2F' + comp_id + '%2F' + seria_a_ids[12] + '%2Fstats%2F2008-2009-' + 'Belgian-First-Division' + '-Stats&div=div_stats_standard',\n",
    "'https://widgets.sports-reference.com/wg.fcgi?css=1&site=fb&url=%2Fen%2Fcomps%2F' + comp_id + '%2F' + seria_a_ids[13] + '%2Fstats%2F2007-2008-' + 'Belgian-First-Division' + '-Stats&div=div_stats_standard',\n",
    "'https://widgets.sports-reference.com/wg.fcgi?css=1&site=fb&url=%2Fen%2Fcomps%2F' + comp_id + '%2F' + seria_a_ids[14] + '%2Fstats%2F2006-2007-' + 'Belgian-First-Division' + '-Stats&div=div_stats_standard']\n",
    "\n",
    "seasons = ['20/21', '19/20', '18/19', '17/18', '16/17', '15/16', '14/15', '13/14', '12/13', '11/12', '10/11', '09/10', '08/09', '07/08','06/07']\n",
    "folder = 'Dutch'"
   ]
  },
  {
   "cell_type": "code",
   "execution_count": null,
   "metadata": {},
   "outputs": [],
   "source": [
    "#Greek\n",
    "comp_id = '23'\n",
    "seria_a_ids = ['10741', '3254','2428','1637','1532','1473','739','675','608','540','473','406','342','286', '233']\n",
    "comp_name = 'Super-League-Greece'\n",
    "\n",
    "links = ['https://widgets.sports-reference.com/wg.fcgi?css=1&site=fb&url=%2Fen%2Fcomps%2F' + comp_id + '%2F' + seria_a_ids[0] + '%2Fstats%2F2020-2021-' + 'Belgian-First-Division-A' + '-Stats&div=div_stats_standard', \n",
    "'https://widgets.sports-reference.com/wg.fcgi?css=1&site=fb&url=%2Fen%2Fcomps%2F' + comp_id + '%2F' + seria_a_ids[1] + '%2Fstats%2F2019-2020-' + 'Belgian-First-Division-A' + '-Stats&div=div_stats_standard',\n",
    "'https://widgets.sports-reference.com/wg.fcgi?css=1&site=fb&url=%2Fen%2Fcomps%2F' + comp_id + '%2F' + seria_a_ids[2] + '%2Fstats%2F2018-2019-' + 'Belgian-First-Division-A' + '-Stats&div=div_stats_standard',\n",
    "'https://widgets.sports-reference.com/wg.fcgi?css=1&site=fb&url=%2Fen%2Fcomps%2F' + comp_id + '%2F' + seria_a_ids[3] + '%2Fstats%2F2017-2018-' + 'Belgian-First-Division-A' + '-Stats&div=div_stats_standard',\n",
    "'https://widgets.sports-reference.com/wg.fcgi?css=1&site=fb&url=%2Fen%2Fcomps%2F' + comp_id + '%2F' + seria_a_ids[4] + '%2Fstats%2F2016-2017-' + 'Belgian-First-Division-A' + '-Stats&div=div_stats_standard',\n",
    "'https://widgets.sports-reference.com/wg.fcgi?css=1&site=fb&url=%2Fen%2Fcomps%2F' + comp_id + '%2F' + seria_a_ids[5] + '%2Fstats%2F2015-2016-' + 'Belgian-Pro-League' + '-Stats&div=div_stats_standard',\n",
    "'https://widgets.sports-reference.com/wg.fcgi?css=1&site=fb&url=%2Fen%2Fcomps%2F' + comp_id + '%2F' + seria_a_ids[6] + '%2Fstats%2F2014-2015-' + 'Belgian-Pro-League' + '-Stats&div=div_stats_standard',\n",
    "'https://widgets.sports-reference.com/wg.fcgi?css=1&site=fb&url=%2Fen%2Fcomps%2F' + comp_id + '%2F' + seria_a_ids[7] + '%2Fstats%2F2013-2014-' + 'Belgian-Pro-League' + '-Stats&div=div_stats_standard',\n",
    "'https://widgets.sports-reference.com/wg.fcgi?css=1&site=fb&url=%2Fen%2Fcomps%2F' + comp_id + '%2F' + seria_a_ids[8] + '%2Fstats%2F2012-2013-' + 'Belgian-Pro-League' + '-Stats&div=div_stats_standard',\n",
    "'https://widgets.sports-reference.com/wg.fcgi?css=1&site=fb&url=%2Fen%2Fcomps%2F' + comp_id + '%2F' + seria_a_ids[9] + '%2Fstats%2F2011-2012-' + 'Belgian-Pro-League' + '-Stats&div=div_stats_standard',\n",
    "'https://widgets.sports-reference.com/wg.fcgi?css=1&site=fb&url=%2Fen%2Fcomps%2F' + comp_id + '%2F' + seria_a_ids[10] + '%2Fstats%2F2010-2011-' + 'Belgian-Pro-League' + '-Stats&div=div_stats_standard',\n",
    "'https://widgets.sports-reference.com/wg.fcgi?css=1&site=fb&url=%2Fen%2Fcomps%2F' + comp_id + '%2F' + seria_a_ids[11] + '%2Fstats%2F2009-2010-' + 'Belgian-Pro-League' + '-Stats&div=div_stats_standard',\n",
    "'https://widgets.sports-reference.com/wg.fcgi?css=1&site=fb&url=%2Fen%2Fcomps%2F' + comp_id + '%2F' + seria_a_ids[12] + '%2Fstats%2F2008-2009-' + 'Belgian-First-Division' + '-Stats&div=div_stats_standard',\n",
    "'https://widgets.sports-reference.com/wg.fcgi?css=1&site=fb&url=%2Fen%2Fcomps%2F' + comp_id + '%2F' + seria_a_ids[13] + '%2Fstats%2F2007-2008-' + 'Belgian-First-Division' + '-Stats&div=div_stats_standard',\n",
    "'https://widgets.sports-reference.com/wg.fcgi?css=1&site=fb&url=%2Fen%2Fcomps%2F' + comp_id + '%2F' + seria_a_ids[14] + '%2Fstats%2F2006-2007-' + 'Belgian-First-Division' + '-Stats&div=div_stats_standard']\n",
    "\n",
    "seasons = ['20/21', '19/20', '18/19', '17/18', '16/17', '15/16', '14/15', '13/14', '12/13', '11/12', '10/11', '09/10', '08/09', '07/08','06/07']\n",
    "folder = 'Greek'"
   ]
  },
  {
   "cell_type": "code",
   "execution_count": null,
   "metadata": {},
   "outputs": [],
   "source": [
    "#Portugal\n",
    "links  = ['https://fbref.com/en/comps/32/10744/2020-2021-Primeira-Liga-Stats', 'https://fbref.com/en/comps/32/3278/2019-2020-Primeira-Liga-Stats',\n",
    "    'https://fbref.com/en/comps/32/2226/2018-2019-Primeira-Liga-Stats', 'https://fbref.com/en/comps/32/1644/2017-2018-Primeira-Liga-Stats', \n",
    "    'https://fbref.com/en/comps/32/1539/2016-2017-Primeira-Liga-Stats', 'https://fbref.com/en/comps/32/1480/2015-2016-Primeira-Liga-Stats',\n",
    "    'https://fbref.com/en/comps/32/746/2014-2015-Primeira-Liga-Stats','https://fbref.com/en/comps/32/681/2013-2014-Primeira-Liga-Stats',\n",
    "    'https://fbref.com/en/comps/32/615/2012-2013-Primeira-Liga-Stats','https://fbref.com/en/comps/32/548/2011-2012-Primeira-Liga-Stats',\n",
    "    'https://fbref.com/en/comps/32/481/2010-2011-Primeira-Liga-Stats','https://fbref.com/en/comps/32/414/2009-2010-Primeira-Liga-Stats',\n",
    "    'https://fbref.com/en/comps/32/349/2008-2009-Primeira-Liga-Stats', 'https://fbref.com/en/comps/32/293/2007-2008-Primeira-Liga-Stats',\n",
    "    'https://fbref.com/en/comps/32/240/2006-2007-Primeira-Liga-Stats']\n",
    "\n",
    "comp_id = '32'\n",
    "comp_name = 'Primeira-Liga'\n",
    "seria_a_ids = ['10744', '3278','2226','1644','1539','1480','746','681','615','548','481','414','349','293', '240']\n",
    "\n",
    "links = ['https://widgets.sports-reference.com/wg.fcgi?css=1&site=fb&url=%2Fen%2Fcomps%2F' + comp_id + '%2F' + seria_a_ids[0] + '%2Fstats%2F2020-2021-' + comp_name + '-Stats&div=div_stats_standard', \n",
    "'https://widgets.sports-reference.com/wg.fcgi?css=1&site=fb&url=%2Fen%2Fcomps%2F' + comp_id + '%2F' + seria_a_ids[1] + '%2Fstats%2F2019-2020-' + comp_name + '-Stats&div=div_stats_standard',\n",
    "'https://widgets.sports-reference.com/wg.fcgi?css=1&site=fb&url=%2Fen%2Fcomps%2F' + comp_id + '%2F' + seria_a_ids[2] + '%2Fstats%2F2018-2019-' + comp_name + '-Stats&div=div_stats_standard',\n",
    "'https://widgets.sports-reference.com/wg.fcgi?css=1&site=fb&url=%2Fen%2Fcomps%2F' + comp_id + '%2F' + seria_a_ids[3] + '%2Fstats%2F2017-2018-' + comp_name + '-Stats&div=div_stats_standard',\n",
    "'https://widgets.sports-reference.com/wg.fcgi?css=1&site=fb&url=%2Fen%2Fcomps%2F' + comp_id + '%2F' + seria_a_ids[4] + '%2Fstats%2F2016-2017-' + comp_name + '-Stats&div=div_stats_standard',\n",
    "'https://widgets.sports-reference.com/wg.fcgi?css=1&site=fb&url=%2Fen%2Fcomps%2F' + comp_id + '%2F' + seria_a_ids[5] + '%2Fstats%2F2015-2016-' + comp_name + '-Stats&div=div_stats_standard',\n",
    "'https://widgets.sports-reference.com/wg.fcgi?css=1&site=fb&url=%2Fen%2Fcomps%2F' + comp_id + '%2F' + seria_a_ids[6] + '%2Fstats%2F2014-2015-' + comp_name + '-Stats&div=div_stats_standard',\n",
    "'https://widgets.sports-reference.com/wg.fcgi?css=1&site=fb&url=%2Fen%2Fcomps%2F' + comp_id + '%2F' + seria_a_ids[7] + '%2Fstats%2F2013-2014-' + comp_name + '-Stats&div=div_stats_standard',\n",
    "'https://widgets.sports-reference.com/wg.fcgi?css=1&site=fb&url=%2Fen%2Fcomps%2F' + comp_id + '%2F' + seria_a_ids[8] + '%2Fstats%2F2012-2013-' + comp_name + '-Stats&div=div_stats_standard',\n",
    "'https://widgets.sports-reference.com/wg.fcgi?css=1&site=fb&url=%2Fen%2Fcomps%2F' + comp_id + '%2F' + seria_a_ids[9] + '%2Fstats%2F2011-2012-' + comp_name + '-Stats&div=div_stats_standard',\n",
    "'https://widgets.sports-reference.com/wg.fcgi?css=1&site=fb&url=%2Fen%2Fcomps%2F' + comp_id + '%2F' + seria_a_ids[10] + '%2Fstats%2F2010-2011-' + comp_name + '-Stats&div=div_stats_standard',\n",
    "'https://widgets.sports-reference.com/wg.fcgi?css=1&site=fb&url=%2Fen%2Fcomps%2F' + comp_id + '%2F' + seria_a_ids[11] + '%2Fstats%2F2009-2010-' + comp_name + '-Stats&div=div_stats_standard',\n",
    "'https://widgets.sports-reference.com/wg.fcgi?css=1&site=fb&url=%2Fen%2Fcomps%2F' + comp_id + '%2F' + seria_a_ids[12] + '%2Fstats%2F2008-2009-' + comp_name + '-Stats&div=div_stats_standard',\n",
    "'https://widgets.sports-reference.com/wg.fcgi?css=1&site=fb&url=%2Fen%2Fcomps%2F' + comp_id + '%2F' + seria_a_ids[13] + '%2Fstats%2F2007-2008-' + comp_name + '-Stats&div=div_stats_standard',\n",
    "'https://widgets.sports-reference.com/wg.fcgi?css=1&site=fb&url=%2Fen%2Fcomps%2F' + comp_id + '%2F' + seria_a_ids[14] + '%2Fstats%2F2006-2007-' + comp_name + '-Stats&div=div_stats_standard']\n",
    "\n",
    "seasons = ['20/21', '19/20', '18/19', '17/18', '16/17', '15/16', '14/15', '13/14', '12/13', '11/12', '10/11', '09/10', '08/09', '07/08','06/07']\n",
    "folder = 'Portugal'"
   ]
  },
  {
   "cell_type": "code",
   "execution_count": null,
   "metadata": {},
   "outputs": [],
   "source": [
    "#Russian\n",
    "comp_id = '30'\n",
    "comp_name = 'Russian-Premier-League'\n",
    "seria_a_ids = ['10742', '3285','2371','1646','1541','1482','748','683','617','551','446','378','320','264', '214']\n",
    "\n",
    "links = ['https://widgets.sports-reference.com/wg.fcgi?css=1&site=fb&url=%2Fen%2Fcomps%2F' + comp_id + '%2F' + seria_a_ids[0] + '%2Fstats%2F2020-2021-' + comp_name + '-Stats&div=div_stats_standard', \n",
    "'https://widgets.sports-reference.com/wg.fcgi?css=1&site=fb&url=%2Fen%2Fcomps%2F' + comp_id + '%2F' + seria_a_ids[1] + '%2Fstats%2F2019-2020-' + comp_name + '-Stats&div=div_stats_standard',\n",
    "'https://widgets.sports-reference.com/wg.fcgi?css=1&site=fb&url=%2Fen%2Fcomps%2F' + comp_id + '%2F' + seria_a_ids[2] + '%2Fstats%2F2018-2019-' + comp_name + '-Stats&div=div_stats_standard',\n",
    "'https://widgets.sports-reference.com/wg.fcgi?css=1&site=fb&url=%2Fen%2Fcomps%2F' + comp_id + '%2F' + seria_a_ids[3] + '%2Fstats%2F2017-2018-' + comp_name + '-Stats&div=div_stats_standard',\n",
    "'https://widgets.sports-reference.com/wg.fcgi?css=1&site=fb&url=%2Fen%2Fcomps%2F' + comp_id + '%2F' + seria_a_ids[4] + '%2Fstats%2F2016-2017-' + comp_name + '-Stats&div=div_stats_standard',\n",
    "'https://widgets.sports-reference.com/wg.fcgi?css=1&site=fb&url=%2Fen%2Fcomps%2F' + comp_id + '%2F' + seria_a_ids[5] + '%2Fstats%2F2015-2016-' + comp_name + '-Stats&div=div_stats_standard',\n",
    "'https://widgets.sports-reference.com/wg.fcgi?css=1&site=fb&url=%2Fen%2Fcomps%2F' + comp_id + '%2F' + seria_a_ids[6] + '%2Fstats%2F2014-2015-' + comp_name + '-Stats&div=div_stats_standard',\n",
    "'https://widgets.sports-reference.com/wg.fcgi?css=1&site=fb&url=%2Fen%2Fcomps%2F' + comp_id + '%2F' + seria_a_ids[7] + '%2Fstats%2F2013-2014-' + comp_name + '-Stats&div=div_stats_standard',\n",
    "'https://widgets.sports-reference.com/wg.fcgi?css=1&site=fb&url=%2Fen%2Fcomps%2F' + comp_id + '%2F' + seria_a_ids[8] + '%2Fstats%2F2012-2013-' + comp_name + '-Stats&div=div_stats_standard',\n",
    "'https://widgets.sports-reference.com/wg.fcgi?css=1&site=fb&url=%2Fen%2Fcomps%2F' + comp_id + '%2F' + seria_a_ids[9] + '%2Fstats%2F2011-2012-' + comp_name + '-Stats&div=div_stats_standard',\n",
    "'https://widgets.sports-reference.com/wg.fcgi?css=1&site=fb&url=%2Fen%2Fcomps%2F' + comp_id + '%2F' + seria_a_ids[10] + '%2Fstats%2F2010-2011-' + comp_name + '-Stats&div=div_stats_standard',\n",
    "'https://widgets.sports-reference.com/wg.fcgi?css=1&site=fb&url=%2Fen%2Fcomps%2F' + comp_id + '%2F' + seria_a_ids[11] + '%2Fstats%2F2009-2010-' + comp_name + '-Stats&div=div_stats_standard',\n",
    "'https://widgets.sports-reference.com/wg.fcgi?css=1&site=fb&url=%2Fen%2Fcomps%2F' + comp_id + '%2F' + seria_a_ids[12] + '%2Fstats%2F2008-2009-' + comp_name + '-Stats&div=div_stats_standard',\n",
    "'https://widgets.sports-reference.com/wg.fcgi?css=1&site=fb&url=%2Fen%2Fcomps%2F' + comp_id + '%2F' + seria_a_ids[13] + '%2Fstats%2F2007-2008-' + comp_name + '-Stats&div=div_stats_standard',\n",
    "'https://widgets.sports-reference.com/wg.fcgi?css=1&site=fb&url=%2Fen%2Fcomps%2F' + comp_id + '%2F' + seria_a_ids[14] + '%2Fstats%2F2006-2007-' + comp_name + '-Stats&div=div_stats_standard']\n",
    "\n",
    "seasons = ['20/21', '19/20', '18/19', '17/18', '16/17', '15/16', '14/15', '13/14', '12/13', '11/12', '10/11', '09/10', '08/09', '07/08','06/07']\n",
    "folder = 'Russian'"
   ]
  },
  {
   "cell_type": "code",
   "execution_count": null,
   "metadata": {},
   "outputs": [],
   "source": [
    "#Scottish\n",
    "links  = ['https://fbref.com/en/comps/40/10750/2020-2021-Scottish-Premiership-Stats', 'https://fbref.com/en/comps/40/3289/2019-2020-Scottish-Premiership-Stats',\n",
    "    'https://fbref.com/en/comps/40/2116/2018-2019-Scottish-Premiership-Stats', 'https://fbref.com/en/comps/40/1649/2017-2018-Scottish-Premiership-Stats', \n",
    "    'https://fbref.com/en/comps/40/1544/2016-2017-Scottish-Premiership-Stats', 'https://fbref.com/en/comps/40/1485/2015-2016-Scottish-Premiership-Stats',\n",
    "    'https://fbref.com/en/comps/40/752/2014-2015-Scottish-Premiership-Stats','https://fbref.com/en/comps/40/687/2013-2014-Scottish-Premiership-Stats',\n",
    "    'https://fbref.com/en/comps/40/621/2012-2013-Scottish-Premier-League-Stats','https://fbref.com/en/comps/40/554/2011-2012-Scottish-Premier-League-Stats',\n",
    "    'https://fbref.com/en/comps/40/485/2010-2011-Scottish-Premier-League-Stats','https://fbref.com/en/comps/40/419/2009-2010-Scottish-Premier-League-Stats',\n",
    "    'https://fbref.com/en/comps/40/352/2008-2009-Scottish-Premier-League-Stats', 'https://fbref.com/en/comps/40/296/2007-2008-Scottish-Premier-League-Stats',\n",
    "    'https://fbref.com/en/comps/40/242/2006-2007-Scottish-Premier-League-Stats']\n",
    "seasons = ['20/21', '19/20', '18/19', '17/18', '16/17', '15/16', '14/15', '13/14', '12/13', '11/12', '10/11', '09/10', '08/09', '07/08','06/07']\n",
    "folder = 'Scottish'\n",
    "\n",
    "comp_id = '40'\n",
    "comp_name = 'Scottish-Premier-League'\n",
    "seria_a_ids = ['10750', '3289','2116','1649','1544','1485','752','687','621','554','485','419','352','296', '242']\n",
    "\n",
    "links = ['https://widgets.sports-reference.com/wg.fcgi?css=1&site=fb&url=%2Fen%2Fcomps%2F' + comp_id + '%2F' + seria_a_ids[0] + '%2Fstats%2F2020-2021-' + comp_name + '-Stats&div=div_stats_standard', \n",
    "'https://widgets.sports-reference.com/wg.fcgi?css=1&site=fb&url=%2Fen%2Fcomps%2F' + comp_id + '%2F' + seria_a_ids[1] + '%2Fstats%2F2019-2020-' + comp_name + '-Stats&div=div_stats_standard',\n",
    "'https://widgets.sports-reference.com/wg.fcgi?css=1&site=fb&url=%2Fen%2Fcomps%2F' + comp_id + '%2F' + seria_a_ids[2] + '%2Fstats%2F2018-2019-' + comp_name + '-Stats&div=div_stats_standard',\n",
    "'https://widgets.sports-reference.com/wg.fcgi?css=1&site=fb&url=%2Fen%2Fcomps%2F' + comp_id + '%2F' + seria_a_ids[3] + '%2Fstats%2F2017-2018-' + comp_name + '-Stats&div=div_stats_standard',\n",
    "'https://widgets.sports-reference.com/wg.fcgi?css=1&site=fb&url=%2Fen%2Fcomps%2F' + comp_id + '%2F' + seria_a_ids[4] + '%2Fstats%2F2016-2017-' + comp_name + '-Stats&div=div_stats_standard',\n",
    "'https://widgets.sports-reference.com/wg.fcgi?css=1&site=fb&url=%2Fen%2Fcomps%2F' + comp_id + '%2F' + seria_a_ids[5] + '%2Fstats%2F2015-2016-' + comp_name + '-Stats&div=div_stats_standard',\n",
    "'https://widgets.sports-reference.com/wg.fcgi?css=1&site=fb&url=%2Fen%2Fcomps%2F' + comp_id + '%2F' + seria_a_ids[6] + '%2Fstats%2F2014-2015-' + comp_name + '-Stats&div=div_stats_standard',\n",
    "'https://widgets.sports-reference.com/wg.fcgi?css=1&site=fb&url=%2Fen%2Fcomps%2F' + comp_id + '%2F' + seria_a_ids[7] + '%2Fstats%2F2013-2014-' + comp_name + '-Stats&div=div_stats_standard',\n",
    "'https://widgets.sports-reference.com/wg.fcgi?css=1&site=fb&url=%2Fen%2Fcomps%2F' + comp_id + '%2F' + seria_a_ids[8] + '%2Fstats%2F2012-2013-' + comp_name + '-Stats&div=div_stats_standard',\n",
    "'https://widgets.sports-reference.com/wg.fcgi?css=1&site=fb&url=%2Fen%2Fcomps%2F' + comp_id + '%2F' + seria_a_ids[9] + '%2Fstats%2F2011-2012-' + comp_name + '-Stats&div=div_stats_standard',\n",
    "'https://widgets.sports-reference.com/wg.fcgi?css=1&site=fb&url=%2Fen%2Fcomps%2F' + comp_id + '%2F' + seria_a_ids[10] + '%2Fstats%2F2010-2011-' + comp_name + '-Stats&div=div_stats_standard',\n",
    "'https://widgets.sports-reference.com/wg.fcgi?css=1&site=fb&url=%2Fen%2Fcomps%2F' + comp_id + '%2F' + seria_a_ids[11] + '%2Fstats%2F2009-2010-' + comp_name + '-Stats&div=div_stats_standard',\n",
    "'https://widgets.sports-reference.com/wg.fcgi?css=1&site=fb&url=%2Fen%2Fcomps%2F' + comp_id + '%2F' + seria_a_ids[12] + '%2Fstats%2F2008-2009-' + comp_name + '-Stats&div=div_stats_standard',\n",
    "'https://widgets.sports-reference.com/wg.fcgi?css=1&site=fb&url=%2Fen%2Fcomps%2F' + comp_id + '%2F' + seria_a_ids[13] + '%2Fstats%2F2007-2008-' + comp_name + '-Stats&div=div_stats_standard',\n",
    "'https://widgets.sports-reference.com/wg.fcgi?css=1&site=fb&url=%2Fen%2Fcomps%2F' + comp_id + '%2F' + seria_a_ids[14] + '%2Fstats%2F2006-2007-' + comp_name + '-Stats&div=div_stats_standard']\n",
    "\n",
    "seasons = ['20/21', '19/20', '18/19', '17/18', '16/17', '15/16', '14/15', '13/14', '12/13', '11/12', '10/11', '09/10', '08/09', '07/08','06/07']\n",
    "folder = 'Scottish'"
   ]
  },
  {
   "cell_type": "code",
   "execution_count": null,
   "metadata": {},
   "outputs": [],
   "source": [
    "#Swedish\n",
    "comp_id = '29'\n",
    "comp_name = 'Allsvenskan'\n",
    "seria_a_ids = ['10086', '2917','1763','1562','1509','1348','714','649','583','515','448','380','322','266', '215']\n",
    "\n",
    "links = ['https://widgets.sports-reference.com/wg.fcgi?css=1&site=fb&url=%2Fen%2Fcomps%2F' + comp_id + '%2F' + seria_a_ids[0] + '%2Fstats%2F2020-2021-' + comp_name + '-Stats&div=div_stats_standard', \n",
    "'https://widgets.sports-reference.com/wg.fcgi?css=1&site=fb&url=%2Fen%2Fcomps%2F' + comp_id + '%2F' + seria_a_ids[1] + '%2Fstats%2F2019-2020-' + comp_name + '-Stats&div=div_stats_standard',\n",
    "'https://widgets.sports-reference.com/wg.fcgi?css=1&site=fb&url=%2Fen%2Fcomps%2F' + comp_id + '%2F' + seria_a_ids[2] + '%2Fstats%2F2018-2019-' + comp_name + '-Stats&div=div_stats_standard',\n",
    "'https://widgets.sports-reference.com/wg.fcgi?css=1&site=fb&url=%2Fen%2Fcomps%2F' + comp_id + '%2F' + seria_a_ids[3] + '%2Fstats%2F2017-2018-' + comp_name + '-Stats&div=div_stats_standard',\n",
    "'https://widgets.sports-reference.com/wg.fcgi?css=1&site=fb&url=%2Fen%2Fcomps%2F' + comp_id + '%2F' + seria_a_ids[4] + '%2Fstats%2F2016-2017-' + comp_name + '-Stats&div=div_stats_standard',\n",
    "'https://widgets.sports-reference.com/wg.fcgi?css=1&site=fb&url=%2Fen%2Fcomps%2F' + comp_id + '%2F' + seria_a_ids[5] + '%2Fstats%2F2015-2016-' + comp_name + '-Stats&div=div_stats_standard',\n",
    "'https://widgets.sports-reference.com/wg.fcgi?css=1&site=fb&url=%2Fen%2Fcomps%2F' + comp_id + '%2F' + seria_a_ids[6] + '%2Fstats%2F2014-2015-' + comp_name + '-Stats&div=div_stats_standard',\n",
    "'https://widgets.sports-reference.com/wg.fcgi?css=1&site=fb&url=%2Fen%2Fcomps%2F' + comp_id + '%2F' + seria_a_ids[7] + '%2Fstats%2F2013-2014-' + comp_name + '-Stats&div=div_stats_standard',\n",
    "'https://widgets.sports-reference.com/wg.fcgi?css=1&site=fb&url=%2Fen%2Fcomps%2F' + comp_id + '%2F' + seria_a_ids[8] + '%2Fstats%2F2012-2013-' + comp_name + '-Stats&div=div_stats_standard',\n",
    "'https://widgets.sports-reference.com/wg.fcgi?css=1&site=fb&url=%2Fen%2Fcomps%2F' + comp_id + '%2F' + seria_a_ids[9] + '%2Fstats%2F2011-2012-' + comp_name + '-Stats&div=div_stats_standard',\n",
    "'https://widgets.sports-reference.com/wg.fcgi?css=1&site=fb&url=%2Fen%2Fcomps%2F' + comp_id + '%2F' + seria_a_ids[10] + '%2Fstats%2F2010-2011-' + comp_name + '-Stats&div=div_stats_standard',\n",
    "'https://widgets.sports-reference.com/wg.fcgi?css=1&site=fb&url=%2Fen%2Fcomps%2F' + comp_id + '%2F' + seria_a_ids[11] + '%2Fstats%2F2009-2010-' + comp_name + '-Stats&div=div_stats_standard',\n",
    "'https://widgets.sports-reference.com/wg.fcgi?css=1&site=fb&url=%2Fen%2Fcomps%2F' + comp_id + '%2F' + seria_a_ids[12] + '%2Fstats%2F2008-2009-' + comp_name + '-Stats&div=div_stats_standard',\n",
    "'https://widgets.sports-reference.com/wg.fcgi?css=1&site=fb&url=%2Fen%2Fcomps%2F' + comp_id + '%2F' + seria_a_ids[13] + '%2Fstats%2F2007-2008-' + comp_name + '-Stats&div=div_stats_standard',\n",
    "'https://widgets.sports-reference.com/wg.fcgi?css=1&site=fb&url=%2Fen%2Fcomps%2F' + comp_id + '%2F' + seria_a_ids[14] + '%2Fstats%2F2006-2007-' + comp_name + '-Stats&div=div_stats_standard']\n",
    "\n",
    "seasons = ['20/21', '19/20', '18/19', '17/18', '16/17', '15/16', '14/15', '13/14', '12/13', '11/12', '10/11', '09/10', '08/09', '07/08','06/07']\n",
    "folder = 'Swedish'"
   ]
  },
  {
   "cell_type": "code",
   "execution_count": 167,
   "metadata": {},
   "outputs": [],
   "source": [
    "#Swiss\n",
    "comp_id = '57'\n",
    "comp_name = 'Swiss-Super-League'\n",
    "seria_a_ids = ['10759', '3298','2425','1654','1549','1490','757','692','626','559','490','424','357','301', '247']\n",
    "\n",
    "links = ['https://widgets.sports-reference.com/wg.fcgi?css=1&site=fb&url=%2Fen%2Fcomps%2F' + comp_id + '%2F' + seria_a_ids[0] + '%2Fstats%2F2020-2021-' + comp_name + '-Stats&div=div_stats_standard', \n",
    "'https://widgets.sports-reference.com/wg.fcgi?css=1&site=fb&url=%2Fen%2Fcomps%2F' + comp_id + '%2F' + seria_a_ids[1] + '%2Fstats%2F2019-2020-' + comp_name + '-Stats&div=div_stats_standard',\n",
    "'https://widgets.sports-reference.com/wg.fcgi?css=1&site=fb&url=%2Fen%2Fcomps%2F' + comp_id + '%2F' + seria_a_ids[2] + '%2Fstats%2F2018-2019-' + comp_name + '-Stats&div=div_stats_standard',\n",
    "'https://widgets.sports-reference.com/wg.fcgi?css=1&site=fb&url=%2Fen%2Fcomps%2F' + comp_id + '%2F' + seria_a_ids[3] + '%2Fstats%2F2017-2018-' + comp_name + '-Stats&div=div_stats_standard',\n",
    "'https://widgets.sports-reference.com/wg.fcgi?css=1&site=fb&url=%2Fen%2Fcomps%2F' + comp_id + '%2F' + seria_a_ids[4] + '%2Fstats%2F2016-2017-' + comp_name + '-Stats&div=div_stats_standard',\n",
    "'https://widgets.sports-reference.com/wg.fcgi?css=1&site=fb&url=%2Fen%2Fcomps%2F' + comp_id + '%2F' + seria_a_ids[5] + '%2Fstats%2F2015-2016-' + comp_name + '-Stats&div=div_stats_standard',\n",
    "'https://widgets.sports-reference.com/wg.fcgi?css=1&site=fb&url=%2Fen%2Fcomps%2F' + comp_id + '%2F' + seria_a_ids[6] + '%2Fstats%2F2014-2015-' + comp_name + '-Stats&div=div_stats_standard',\n",
    "'https://widgets.sports-reference.com/wg.fcgi?css=1&site=fb&url=%2Fen%2Fcomps%2F' + comp_id + '%2F' + seria_a_ids[7] + '%2Fstats%2F2013-2014-' + comp_name + '-Stats&div=div_stats_standard',\n",
    "'https://widgets.sports-reference.com/wg.fcgi?css=1&site=fb&url=%2Fen%2Fcomps%2F' + comp_id + '%2F' + seria_a_ids[8] + '%2Fstats%2F2012-2013-' + comp_name + '-Stats&div=div_stats_standard',\n",
    "'https://widgets.sports-reference.com/wg.fcgi?css=1&site=fb&url=%2Fen%2Fcomps%2F' + comp_id + '%2F' + seria_a_ids[9] + '%2Fstats%2F2011-2012-' + comp_name + '-Stats&div=div_stats_standard',\n",
    "'https://widgets.sports-reference.com/wg.fcgi?css=1&site=fb&url=%2Fen%2Fcomps%2F' + comp_id + '%2F' + seria_a_ids[10] + '%2Fstats%2F2010-2011-' + comp_name + '-Stats&div=div_stats_standard',\n",
    "'https://widgets.sports-reference.com/wg.fcgi?css=1&site=fb&url=%2Fen%2Fcomps%2F' + comp_id + '%2F' + seria_a_ids[11] + '%2Fstats%2F2009-2010-' + comp_name + '-Stats&div=div_stats_standard',\n",
    "'https://widgets.sports-reference.com/wg.fcgi?css=1&site=fb&url=%2Fen%2Fcomps%2F' + comp_id + '%2F' + seria_a_ids[12] + '%2Fstats%2F2008-2009-' + comp_name + '-Stats&div=div_stats_standard',\n",
    "'https://widgets.sports-reference.com/wg.fcgi?css=1&site=fb&url=%2Fen%2Fcomps%2F' + comp_id + '%2F' + seria_a_ids[13] + '%2Fstats%2F2007-2008-' + comp_name + '-Stats&div=div_stats_standard',\n",
    "'https://widgets.sports-reference.com/wg.fcgi?css=1&site=fb&url=%2Fen%2Fcomps%2F' + comp_id + '%2F' + seria_a_ids[14] + '%2Fstats%2F2006-2007-' + comp_name + '-Stats&div=div_stats_standard']\n",
    "\n",
    "seasons = ['20/21', '19/20', '18/19', '17/18', '16/17', '15/16', '14/15', '13/14', '12/13', '11/12', '10/11', '09/10', '08/09', '07/08','06/07']\n",
    "folder = 'Swiss'"
   ]
  },
  {
   "cell_type": "code",
   "execution_count": 178,
   "metadata": {},
   "outputs": [],
   "source": [
    "#Turkish\n",
    "comp_id = '26'\n",
    "comp_name = 'Super-Lig'\n",
    "seria_a_ids = ['10740', '3301','2382','1655','1550','1491','758','693','627','560','491','425','358','302', '248']\n",
    "\n",
    "links = ['https://widgets.sports-reference.com/wg.fcgi?css=1&site=fb&url=%2Fen%2Fcomps%2F' + comp_id + '%2F' + seria_a_ids[0] + '%2Fstats%2F2020-2021-' + comp_name + '-Stats&div=div_stats_standard', \n",
    "'https://widgets.sports-reference.com/wg.fcgi?css=1&site=fb&url=%2Fen%2Fcomps%2F' + comp_id + '%2F' + seria_a_ids[1] + '%2Fstats%2F2019-2020-' + comp_name + '-Stats&div=div_stats_standard',\n",
    "'https://widgets.sports-reference.com/wg.fcgi?css=1&site=fb&url=%2Fen%2Fcomps%2F' + comp_id + '%2F' + seria_a_ids[2] + '%2Fstats%2F2018-2019-' + comp_name + '-Stats&div=div_stats_standard',\n",
    "'https://widgets.sports-reference.com/wg.fcgi?css=1&site=fb&url=%2Fen%2Fcomps%2F' + comp_id + '%2F' + seria_a_ids[3] + '%2Fstats%2F2017-2018-' + comp_name + '-Stats&div=div_stats_standard',\n",
    "'https://widgets.sports-reference.com/wg.fcgi?css=1&site=fb&url=%2Fen%2Fcomps%2F' + comp_id + '%2F' + seria_a_ids[4] + '%2Fstats%2F2016-2017-' + comp_name + '-Stats&div=div_stats_standard',\n",
    "'https://widgets.sports-reference.com/wg.fcgi?css=1&site=fb&url=%2Fen%2Fcomps%2F' + comp_id + '%2F' + seria_a_ids[5] + '%2Fstats%2F2015-2016-' + comp_name + '-Stats&div=div_stats_standard',\n",
    "'https://widgets.sports-reference.com/wg.fcgi?css=1&site=fb&url=%2Fen%2Fcomps%2F' + comp_id + '%2F' + seria_a_ids[6] + '%2Fstats%2F2014-2015-' + comp_name + '-Stats&div=div_stats_standard',\n",
    "'https://widgets.sports-reference.com/wg.fcgi?css=1&site=fb&url=%2Fen%2Fcomps%2F' + comp_id + '%2F' + seria_a_ids[7] + '%2Fstats%2F2013-2014-' + comp_name + '-Stats&div=div_stats_standard',\n",
    "'https://widgets.sports-reference.com/wg.fcgi?css=1&site=fb&url=%2Fen%2Fcomps%2F' + comp_id + '%2F' + seria_a_ids[8] + '%2Fstats%2F2012-2013-' + comp_name + '-Stats&div=div_stats_standard',\n",
    "'https://widgets.sports-reference.com/wg.fcgi?css=1&site=fb&url=%2Fen%2Fcomps%2F' + comp_id + '%2F' + seria_a_ids[9] + '%2Fstats%2F2011-2012-' + comp_name + '-Stats&div=div_stats_standard',\n",
    "'https://widgets.sports-reference.com/wg.fcgi?css=1&site=fb&url=%2Fen%2Fcomps%2F' + comp_id + '%2F' + seria_a_ids[10] + '%2Fstats%2F2010-2011-' + comp_name + '-Stats&div=div_stats_standard',\n",
    "'https://widgets.sports-reference.com/wg.fcgi?css=1&site=fb&url=%2Fen%2Fcomps%2F' + comp_id + '%2F' + seria_a_ids[11] + '%2Fstats%2F2009-2010-' + comp_name + '-Stats&div=div_stats_standard',\n",
    "'https://widgets.sports-reference.com/wg.fcgi?css=1&site=fb&url=%2Fen%2Fcomps%2F' + comp_id + '%2F' + seria_a_ids[12] + '%2Fstats%2F2008-2009-' + comp_name + '-Stats&div=div_stats_standard',\n",
    "'https://widgets.sports-reference.com/wg.fcgi?css=1&site=fb&url=%2Fen%2Fcomps%2F' + comp_id + '%2F' + seria_a_ids[13] + '%2Fstats%2F2007-2008-' + comp_name + '-Stats&div=div_stats_standard',\n",
    "'https://widgets.sports-reference.com/wg.fcgi?css=1&site=fb&url=%2Fen%2Fcomps%2F' + comp_id + '%2F' + seria_a_ids[14] + '%2Fstats%2F2006-2007-' + comp_name + '-Stats&div=div_stats_standard']\n",
    "\n",
    "seasons = ['20/21', '19/20', '18/19', '17/18', '16/17', '15/16', '14/15', '13/14', '12/13', '11/12', '10/11', '09/10', '08/09', '07/08','06/07']\n",
    "folder = 'Turkish'"
   ]
  },
  {
   "cell_type": "code",
   "execution_count": 189,
   "metadata": {},
   "outputs": [],
   "source": [
    "#Ukrain\n",
    "comp_id = '39'\n",
    "comp_name = 'Ukrainian-Top-League'\n",
    "seria_a_ids = ['10749', '3303','2435','1658','1553','1492','759','696','630','564','494','428','360','304', '250']\n",
    "\n",
    "links = ['https://widgets.sports-reference.com/wg.fcgi?css=1&site=fb&url=%2Fen%2Fcomps%2F' + comp_id + '%2F' + seria_a_ids[0] + '%2Fstats%2F2020-2021-' + comp_name + '-Stats&div=div_stats_standard', \n",
    "'https://widgets.sports-reference.com/wg.fcgi?css=1&site=fb&url=%2Fen%2Fcomps%2F' + comp_id + '%2F' + seria_a_ids[1] + '%2Fstats%2F2019-2020-' + comp_name + '-Stats&div=div_stats_standard',\n",
    "'https://widgets.sports-reference.com/wg.fcgi?css=1&site=fb&url=%2Fen%2Fcomps%2F' + comp_id + '%2F' + seria_a_ids[2] + '%2Fstats%2F2018-2019-' + comp_name + '-Stats&div=div_stats_standard',\n",
    "'https://widgets.sports-reference.com/wg.fcgi?css=1&site=fb&url=%2Fen%2Fcomps%2F' + comp_id + '%2F' + seria_a_ids[3] + '%2Fstats%2F2017-2018-' + comp_name + '-Stats&div=div_stats_standard',\n",
    "'https://widgets.sports-reference.com/wg.fcgi?css=1&site=fb&url=%2Fen%2Fcomps%2F' + comp_id + '%2F' + seria_a_ids[4] + '%2Fstats%2F2016-2017-' + comp_name + '-Stats&div=div_stats_standard',\n",
    "'https://widgets.sports-reference.com/wg.fcgi?css=1&site=fb&url=%2Fen%2Fcomps%2F' + comp_id + '%2F' + seria_a_ids[5] + '%2Fstats%2F2015-2016-' + comp_name + '-Stats&div=div_stats_standard',\n",
    "'https://widgets.sports-reference.com/wg.fcgi?css=1&site=fb&url=%2Fen%2Fcomps%2F' + comp_id + '%2F' + seria_a_ids[6] + '%2Fstats%2F2014-2015-' + comp_name + '-Stats&div=div_stats_standard',\n",
    "'https://widgets.sports-reference.com/wg.fcgi?css=1&site=fb&url=%2Fen%2Fcomps%2F' + comp_id + '%2F' + seria_a_ids[7] + '%2Fstats%2F2013-2014-' + comp_name + '-Stats&div=div_stats_standard',\n",
    "'https://widgets.sports-reference.com/wg.fcgi?css=1&site=fb&url=%2Fen%2Fcomps%2F' + comp_id + '%2F' + seria_a_ids[8] + '%2Fstats%2F2012-2013-' + comp_name + '-Stats&div=div_stats_standard',\n",
    "'https://widgets.sports-reference.com/wg.fcgi?css=1&site=fb&url=%2Fen%2Fcomps%2F' + comp_id + '%2F' + seria_a_ids[9] + '%2Fstats%2F2011-2012-' + comp_name + '-Stats&div=div_stats_standard',\n",
    "'https://widgets.sports-reference.com/wg.fcgi?css=1&site=fb&url=%2Fen%2Fcomps%2F' + comp_id + '%2F' + seria_a_ids[10] + '%2Fstats%2F2010-2011-' + comp_name + '-Stats&div=div_stats_standard',\n",
    "'https://widgets.sports-reference.com/wg.fcgi?css=1&site=fb&url=%2Fen%2Fcomps%2F' + comp_id + '%2F' + seria_a_ids[11] + '%2Fstats%2F2009-2010-' + comp_name + '-Stats&div=div_stats_standard',\n",
    "'https://widgets.sports-reference.com/wg.fcgi?css=1&site=fb&url=%2Fen%2Fcomps%2F' + comp_id + '%2F' + seria_a_ids[12] + '%2Fstats%2F2008-2009-' + comp_name + '-Stats&div=div_stats_standard',\n",
    "'https://widgets.sports-reference.com/wg.fcgi?css=1&site=fb&url=%2Fen%2Fcomps%2F' + comp_id + '%2F' + seria_a_ids[13] + '%2Fstats%2F2007-2008-' + comp_name + '-Stats&div=div_stats_standard',\n",
    "'https://widgets.sports-reference.com/wg.fcgi?css=1&site=fb&url=%2Fen%2Fcomps%2F' + comp_id + '%2F' + seria_a_ids[14] + '%2Fstats%2F2006-2007-' + comp_name + '-Stats&div=div_stats_standard']\n",
    "\n",
    "seasons = ['20/21', '19/20', '18/19', '17/18', '16/17', '15/16', '14/15', '13/14', '12/13', '11/12', '10/11', '09/10', '08/09', '07/08','06/07']\n",
    "folder = 'Ukrain'"
   ]
  },
  {
   "cell_type": "code",
   "execution_count": 42,
   "metadata": {},
   "outputs": [],
   "source": [
    "#Ukrain\n",
    "comp_id = '10'\n",
    "comp_name = 'Championship'\n",
    "seria_a_ids = ['10729', '3233','1890','1627','1522','1463','729','665','598','530','463','396','334','278', '225']\n",
    "\n",
    "links = ['https://widgets.sports-reference.com/wg.fcgi?css=1&site=fb&url=%2Fen%2Fcomps%2F' + comp_id + '%2F' + seria_a_ids[0] + '%2Fstats%2F2020-2021-' + comp_name + '-Stats&div=div_stats_standard', \n",
    "'https://widgets.sports-reference.com/wg.fcgi?css=1&site=fb&url=%2Fen%2Fcomps%2F' + comp_id + '%2F' + seria_a_ids[1] + '%2Fstats%2F2019-2020-' + comp_name + '-Stats&div=div_stats_standard',\n",
    "'https://widgets.sports-reference.com/wg.fcgi?css=1&site=fb&url=%2Fen%2Fcomps%2F' + comp_id + '%2F' + seria_a_ids[2] + '%2Fstats%2F2018-2019-' + comp_name + '-Stats&div=div_stats_standard',\n",
    "'https://widgets.sports-reference.com/wg.fcgi?css=1&site=fb&url=%2Fen%2Fcomps%2F' + comp_id + '%2F' + seria_a_ids[3] + '%2Fstats%2F2017-2018-' + comp_name + '-Stats&div=div_stats_standard',\n",
    "'https://widgets.sports-reference.com/wg.fcgi?css=1&site=fb&url=%2Fen%2Fcomps%2F' + comp_id + '%2F' + seria_a_ids[4] + '%2Fstats%2F2016-2017-' + comp_name + '-Stats&div=div_stats_standard',\n",
    "'https://widgets.sports-reference.com/wg.fcgi?css=1&site=fb&url=%2Fen%2Fcomps%2F' + comp_id + '%2F' + seria_a_ids[5] + '%2Fstats%2F2015-2016-' + comp_name + '-Stats&div=div_stats_standard',\n",
    "'https://widgets.sports-reference.com/wg.fcgi?css=1&site=fb&url=%2Fen%2Fcomps%2F' + comp_id + '%2F' + seria_a_ids[6] + '%2Fstats%2F2014-2015-' + comp_name + '-Stats&div=div_stats_standard',\n",
    "'https://widgets.sports-reference.com/wg.fcgi?css=1&site=fb&url=%2Fen%2Fcomps%2F' + comp_id + '%2F' + seria_a_ids[7] + '%2Fstats%2F2013-2014-' + comp_name + '-Stats&div=div_stats_standard',\n",
    "'https://widgets.sports-reference.com/wg.fcgi?css=1&site=fb&url=%2Fen%2Fcomps%2F' + comp_id + '%2F' + seria_a_ids[8] + '%2Fstats%2F2012-2013-' + comp_name + '-Stats&div=div_stats_standard',\n",
    "'https://widgets.sports-reference.com/wg.fcgi?css=1&site=fb&url=%2Fen%2Fcomps%2F' + comp_id + '%2F' + seria_a_ids[9] + '%2Fstats%2F2011-2012-' + comp_name + '-Stats&div=div_stats_standard',\n",
    "'https://widgets.sports-reference.com/wg.fcgi?css=1&site=fb&url=%2Fen%2Fcomps%2F' + comp_id + '%2F' + seria_a_ids[10] + '%2Fstats%2F2010-2011-' + comp_name + '-Stats&div=div_stats_standard',\n",
    "'https://widgets.sports-reference.com/wg.fcgi?css=1&site=fb&url=%2Fen%2Fcomps%2F' + comp_id + '%2F' + seria_a_ids[11] + '%2Fstats%2F2009-2010-' + comp_name + '-Stats&div=div_stats_standard',\n",
    "'https://widgets.sports-reference.com/wg.fcgi?css=1&site=fb&url=%2Fen%2Fcomps%2F' + comp_id + '%2F' + seria_a_ids[12] + '%2Fstats%2F2008-2009-' + comp_name + '-Stats&div=div_stats_standard',\n",
    "'https://widgets.sports-reference.com/wg.fcgi?css=1&site=fb&url=%2Fen%2Fcomps%2F' + comp_id + '%2F' + seria_a_ids[13] + '%2Fstats%2F2007-2008-' + comp_name + '-Stats&div=div_stats_standard',\n",
    "'https://widgets.sports-reference.com/wg.fcgi?css=1&site=fb&url=%2Fen%2Fcomps%2F' + comp_id + '%2F' + seria_a_ids[14] + '%2Fstats%2F2006-2007-' + comp_name + '-Stats&div=div_stats_standard']\n",
    "\n",
    "seasons = ['20/21', '19/20', '18/19', '17/18', '16/17', '15/16', '14/15', '13/14', '12/13', '11/12', '10/11', '09/10', '08/09', '07/08','06/07']\n",
    "folder = 'English2'"
   ]
  },
  {
   "cell_type": "code",
   "execution_count": 48,
   "metadata": {},
   "outputs": [],
   "source": [
    "#Ukrain\n",
    "comp_id = '15'\n",
    "comp_name = 'League-One'\n",
    "seria_a_ids = ['10733', '3234','1891','1628','1523','1465','731','667','600','532','465','398','336','280', '227']\n",
    "\n",
    "links = ['https://widgets.sports-reference.com/wg.fcgi?css=1&site=fb&url=%2Fen%2Fcomps%2F' + comp_id + '%2F' + seria_a_ids[0] + '%2Fstats%2F2020-2021-' + comp_name + '-Stats&div=div_stats_standard', \n",
    "'https://widgets.sports-reference.com/wg.fcgi?css=1&site=fb&url=%2Fen%2Fcomps%2F' + comp_id + '%2F' + seria_a_ids[1] + '%2Fstats%2F2019-2020-' + comp_name + '-Stats&div=div_stats_standard',\n",
    "'https://widgets.sports-reference.com/wg.fcgi?css=1&site=fb&url=%2Fen%2Fcomps%2F' + comp_id + '%2F' + seria_a_ids[2] + '%2Fstats%2F2018-2019-' + comp_name + '-Stats&div=div_stats_standard',\n",
    "'https://widgets.sports-reference.com/wg.fcgi?css=1&site=fb&url=%2Fen%2Fcomps%2F' + comp_id + '%2F' + seria_a_ids[3] + '%2Fstats%2F2017-2018-' + comp_name + '-Stats&div=div_stats_standard',\n",
    "'https://widgets.sports-reference.com/wg.fcgi?css=1&site=fb&url=%2Fen%2Fcomps%2F' + comp_id + '%2F' + seria_a_ids[4] + '%2Fstats%2F2016-2017-' + comp_name + '-Stats&div=div_stats_standard',\n",
    "'https://widgets.sports-reference.com/wg.fcgi?css=1&site=fb&url=%2Fen%2Fcomps%2F' + comp_id + '%2F' + seria_a_ids[5] + '%2Fstats%2F2015-2016-' + comp_name + '-Stats&div=div_stats_standard',\n",
    "'https://widgets.sports-reference.com/wg.fcgi?css=1&site=fb&url=%2Fen%2Fcomps%2F' + comp_id + '%2F' + seria_a_ids[6] + '%2Fstats%2F2014-2015-' + comp_name + '-Stats&div=div_stats_standard',\n",
    "'https://widgets.sports-reference.com/wg.fcgi?css=1&site=fb&url=%2Fen%2Fcomps%2F' + comp_id + '%2F' + seria_a_ids[7] + '%2Fstats%2F2013-2014-' + comp_name + '-Stats&div=div_stats_standard',\n",
    "'https://widgets.sports-reference.com/wg.fcgi?css=1&site=fb&url=%2Fen%2Fcomps%2F' + comp_id + '%2F' + seria_a_ids[8] + '%2Fstats%2F2012-2013-' + comp_name + '-Stats&div=div_stats_standard',\n",
    "'https://widgets.sports-reference.com/wg.fcgi?css=1&site=fb&url=%2Fen%2Fcomps%2F' + comp_id + '%2F' + seria_a_ids[9] + '%2Fstats%2F2011-2012-' + comp_name + '-Stats&div=div_stats_standard',\n",
    "'https://widgets.sports-reference.com/wg.fcgi?css=1&site=fb&url=%2Fen%2Fcomps%2F' + comp_id + '%2F' + seria_a_ids[10] + '%2Fstats%2F2010-2011-' + comp_name + '-Stats&div=div_stats_standard',\n",
    "'https://widgets.sports-reference.com/wg.fcgi?css=1&site=fb&url=%2Fen%2Fcomps%2F' + comp_id + '%2F' + seria_a_ids[11] + '%2Fstats%2F2009-2010-' + comp_name + '-Stats&div=div_stats_standard',\n",
    "'https://widgets.sports-reference.com/wg.fcgi?css=1&site=fb&url=%2Fen%2Fcomps%2F' + comp_id + '%2F' + seria_a_ids[12] + '%2Fstats%2F2008-2009-' + comp_name + '-Stats&div=div_stats_standard',\n",
    "'https://widgets.sports-reference.com/wg.fcgi?css=1&site=fb&url=%2Fen%2Fcomps%2F' + comp_id + '%2F' + seria_a_ids[13] + '%2Fstats%2F2007-2008-' + comp_name + '-Stats&div=div_stats_standard',\n",
    "'https://widgets.sports-reference.com/wg.fcgi?css=1&site=fb&url=%2Fen%2Fcomps%2F' + comp_id + '%2F' + seria_a_ids[14] + '%2Fstats%2F2006-2007-' + comp_name + '-Stats&div=div_stats_standard']\n",
    "\n",
    "seasons = ['20/21', '19/20', '18/19', '17/18', '16/17', '15/16', '14/15', '13/14', '12/13', '11/12', '10/11', '09/10', '08/09', '07/08','06/07']\n",
    "folder = 'English3'"
   ]
  },
  {
   "cell_type": "code",
   "execution_count": 54,
   "metadata": {},
   "outputs": [],
   "source": [
    "#Ukrain\n",
    "comp_id = '16'\n",
    "comp_name = 'League-Two'\n",
    "seria_a_ids = ['10734', '3235','1892','1629','1524','1466','732','668','601','533','466','399','337','281', '228']\n",
    "\n",
    "links = ['https://widgets.sports-reference.com/wg.fcgi?css=1&site=fb&url=%2Fen%2Fcomps%2F' + comp_id + '%2F' + seria_a_ids[0] + '%2Fstats%2F2020-2021-' + comp_name + '-Stats&div=div_stats_standard', \n",
    "'https://widgets.sports-reference.com/wg.fcgi?css=1&site=fb&url=%2Fen%2Fcomps%2F' + comp_id + '%2F' + seria_a_ids[1] + '%2Fstats%2F2019-2020-' + comp_name + '-Stats&div=div_stats_standard',\n",
    "'https://widgets.sports-reference.com/wg.fcgi?css=1&site=fb&url=%2Fen%2Fcomps%2F' + comp_id + '%2F' + seria_a_ids[2] + '%2Fstats%2F2018-2019-' + comp_name + '-Stats&div=div_stats_standard',\n",
    "'https://widgets.sports-reference.com/wg.fcgi?css=1&site=fb&url=%2Fen%2Fcomps%2F' + comp_id + '%2F' + seria_a_ids[3] + '%2Fstats%2F2017-2018-' + comp_name + '-Stats&div=div_stats_standard',\n",
    "'https://widgets.sports-reference.com/wg.fcgi?css=1&site=fb&url=%2Fen%2Fcomps%2F' + comp_id + '%2F' + seria_a_ids[4] + '%2Fstats%2F2016-2017-' + comp_name + '-Stats&div=div_stats_standard',\n",
    "'https://widgets.sports-reference.com/wg.fcgi?css=1&site=fb&url=%2Fen%2Fcomps%2F' + comp_id + '%2F' + seria_a_ids[5] + '%2Fstats%2F2015-2016-' + comp_name + '-Stats&div=div_stats_standard',\n",
    "'https://widgets.sports-reference.com/wg.fcgi?css=1&site=fb&url=%2Fen%2Fcomps%2F' + comp_id + '%2F' + seria_a_ids[6] + '%2Fstats%2F2014-2015-' + comp_name + '-Stats&div=div_stats_standard',\n",
    "'https://widgets.sports-reference.com/wg.fcgi?css=1&site=fb&url=%2Fen%2Fcomps%2F' + comp_id + '%2F' + seria_a_ids[7] + '%2Fstats%2F2013-2014-' + comp_name + '-Stats&div=div_stats_standard',\n",
    "'https://widgets.sports-reference.com/wg.fcgi?css=1&site=fb&url=%2Fen%2Fcomps%2F' + comp_id + '%2F' + seria_a_ids[8] + '%2Fstats%2F2012-2013-' + comp_name + '-Stats&div=div_stats_standard',\n",
    "'https://widgets.sports-reference.com/wg.fcgi?css=1&site=fb&url=%2Fen%2Fcomps%2F' + comp_id + '%2F' + seria_a_ids[9] + '%2Fstats%2F2011-2012-' + comp_name + '-Stats&div=div_stats_standard',\n",
    "'https://widgets.sports-reference.com/wg.fcgi?css=1&site=fb&url=%2Fen%2Fcomps%2F' + comp_id + '%2F' + seria_a_ids[10] + '%2Fstats%2F2010-2011-' + comp_name + '-Stats&div=div_stats_standard',\n",
    "'https://widgets.sports-reference.com/wg.fcgi?css=1&site=fb&url=%2Fen%2Fcomps%2F' + comp_id + '%2F' + seria_a_ids[11] + '%2Fstats%2F2009-2010-' + comp_name + '-Stats&div=div_stats_standard',\n",
    "'https://widgets.sports-reference.com/wg.fcgi?css=1&site=fb&url=%2Fen%2Fcomps%2F' + comp_id + '%2F' + seria_a_ids[12] + '%2Fstats%2F2008-2009-' + comp_name + '-Stats&div=div_stats_standard',\n",
    "'https://widgets.sports-reference.com/wg.fcgi?css=1&site=fb&url=%2Fen%2Fcomps%2F' + comp_id + '%2F' + seria_a_ids[13] + '%2Fstats%2F2007-2008-' + comp_name + '-Stats&div=div_stats_standard',\n",
    "'https://widgets.sports-reference.com/wg.fcgi?css=1&site=fb&url=%2Fen%2Fcomps%2F' + comp_id + '%2F' + seria_a_ids[14] + '%2Fstats%2F2006-2007-' + comp_name + '-Stats&div=div_stats_standard']\n",
    "\n",
    "seasons = ['20/21', '19/20', '18/19', '17/18', '16/17', '15/16', '14/15', '13/14', '12/13', '11/12', '10/11', '09/10', '08/09', '07/08','06/07']\n",
    "folder = 'English4'"
   ]
  },
  {
   "cell_type": "code",
   "execution_count": 67,
   "metadata": {},
   "outputs": [],
   "source": [
    "#Ukrain\n",
    "comp_id = '33'\n",
    "comp_name = 'Bundesliga'\n",
    "seria_a_ids = ['10745', '3249','2110','1635','1530','1471','737','673','606','538','471','404','341','285', '232']\n",
    "\n",
    "links = ['https://widgets.sports-reference.com/wg.fcgi?css=1&site=fb&url=%2Fen%2Fcomps%2F' + comp_id + '%2F' + seria_a_ids[0] + '%2Fstats%2F2020-2021-' + comp_name + '-Stats&div=div_stats_standard', \n",
    "'https://widgets.sports-reference.com/wg.fcgi?css=1&site=fb&url=%2Fen%2Fcomps%2F' + comp_id + '%2F' + seria_a_ids[1] + '%2Fstats%2F2019-2020-' + comp_name + '-Stats&div=div_stats_standard',\n",
    "'https://widgets.sports-reference.com/wg.fcgi?css=1&site=fb&url=%2Fen%2Fcomps%2F' + comp_id + '%2F' + seria_a_ids[2] + '%2Fstats%2F2018-2019-' + comp_name + '-Stats&div=div_stats_standard',\n",
    "'https://widgets.sports-reference.com/wg.fcgi?css=1&site=fb&url=%2Fen%2Fcomps%2F' + comp_id + '%2F' + seria_a_ids[3] + '%2Fstats%2F2017-2018-' + comp_name + '-Stats&div=div_stats_standard',\n",
    "'https://widgets.sports-reference.com/wg.fcgi?css=1&site=fb&url=%2Fen%2Fcomps%2F' + comp_id + '%2F' + seria_a_ids[4] + '%2Fstats%2F2016-2017-' + comp_name + '-Stats&div=div_stats_standard',\n",
    "'https://widgets.sports-reference.com/wg.fcgi?css=1&site=fb&url=%2Fen%2Fcomps%2F' + comp_id + '%2F' + seria_a_ids[5] + '%2Fstats%2F2015-2016-' + comp_name + '-Stats&div=div_stats_standard',\n",
    "'https://widgets.sports-reference.com/wg.fcgi?css=1&site=fb&url=%2Fen%2Fcomps%2F' + comp_id + '%2F' + seria_a_ids[6] + '%2Fstats%2F2014-2015-' + comp_name + '-Stats&div=div_stats_standard',\n",
    "'https://widgets.sports-reference.com/wg.fcgi?css=1&site=fb&url=%2Fen%2Fcomps%2F' + comp_id + '%2F' + seria_a_ids[7] + '%2Fstats%2F2013-2014-' + comp_name + '-Stats&div=div_stats_standard',\n",
    "'https://widgets.sports-reference.com/wg.fcgi?css=1&site=fb&url=%2Fen%2Fcomps%2F' + comp_id + '%2F' + seria_a_ids[8] + '%2Fstats%2F2012-2013-' + comp_name + '-Stats&div=div_stats_standard',\n",
    "'https://widgets.sports-reference.com/wg.fcgi?css=1&site=fb&url=%2Fen%2Fcomps%2F' + comp_id + '%2F' + seria_a_ids[9] + '%2Fstats%2F2011-2012-' + comp_name + '-Stats&div=div_stats_standard',\n",
    "'https://widgets.sports-reference.com/wg.fcgi?css=1&site=fb&url=%2Fen%2Fcomps%2F' + comp_id + '%2F' + seria_a_ids[10] + '%2Fstats%2F2010-2011-' + comp_name + '-Stats&div=div_stats_standard',\n",
    "'https://widgets.sports-reference.com/wg.fcgi?css=1&site=fb&url=%2Fen%2Fcomps%2F' + comp_id + '%2F' + seria_a_ids[11] + '%2Fstats%2F2009-2010-' + comp_name + '-Stats&div=div_stats_standard',\n",
    "'https://widgets.sports-reference.com/wg.fcgi?css=1&site=fb&url=%2Fen%2Fcomps%2F' + comp_id + '%2F' + seria_a_ids[12] + '%2Fstats%2F2008-2009-' + comp_name + '-Stats&div=div_stats_standard',\n",
    "'https://widgets.sports-reference.com/wg.fcgi?css=1&site=fb&url=%2Fen%2Fcomps%2F' + comp_id + '%2F' + seria_a_ids[13] + '%2Fstats%2F2007-2008-' + comp_name + '-Stats&div=div_stats_standard',\n",
    "'https://widgets.sports-reference.com/wg.fcgi?css=1&site=fb&url=%2Fen%2Fcomps%2F' + comp_id + '%2F' + seria_a_ids[14] + '%2Fstats%2F2006-2007-' + comp_name + '-Stats&div=div_stats_standard']\n",
    "\n",
    "seasons = ['20/21', '19/20', '18/19', '17/18', '16/17', '15/16', '14/15', '13/14', '12/13', '11/12', '10/11', '09/10', '08/09', '07/08','06/07']\n",
    "folder = 'Bundesliga2'"
   ]
  },
  {
   "cell_type": "code",
   "execution_count": 65,
   "metadata": {},
   "outputs": [],
   "source": [
    "#Ukrain\n",
    "comp_id = '60'\n",
    "comp_name = 'Ligue-2'\n",
    "seria_a_ids = ['10761', '3244','2105','1633','1528','1469','735','671','604','536','469','402']\n",
    "\n",
    "links = ['https://widgets.sports-reference.com/wg.fcgi?css=1&site=fb&url=%2Fen%2Fcomps%2F' + comp_id + '%2F' + seria_a_ids[0] + '%2Fstats%2F2020-2021-' + comp_name + '-Stats&div=div_stats_standard', \n",
    "'https://widgets.sports-reference.com/wg.fcgi?css=1&site=fb&url=%2Fen%2Fcomps%2F' + comp_id + '%2F' + seria_a_ids[1] + '%2Fstats%2F2019-2020-' + comp_name + '-Stats&div=div_stats_standard',\n",
    "'https://widgets.sports-reference.com/wg.fcgi?css=1&site=fb&url=%2Fen%2Fcomps%2F' + comp_id + '%2F' + seria_a_ids[2] + '%2Fstats%2F2018-2019-' + comp_name + '-Stats&div=div_stats_standard',\n",
    "'https://widgets.sports-reference.com/wg.fcgi?css=1&site=fb&url=%2Fen%2Fcomps%2F' + comp_id + '%2F' + seria_a_ids[3] + '%2Fstats%2F2017-2018-' + comp_name + '-Stats&div=div_stats_standard',\n",
    "'https://widgets.sports-reference.com/wg.fcgi?css=1&site=fb&url=%2Fen%2Fcomps%2F' + comp_id + '%2F' + seria_a_ids[4] + '%2Fstats%2F2016-2017-' + comp_name + '-Stats&div=div_stats_standard',\n",
    "'https://widgets.sports-reference.com/wg.fcgi?css=1&site=fb&url=%2Fen%2Fcomps%2F' + comp_id + '%2F' + seria_a_ids[5] + '%2Fstats%2F2015-2016-' + comp_name + '-Stats&div=div_stats_standard',\n",
    "'https://widgets.sports-reference.com/wg.fcgi?css=1&site=fb&url=%2Fen%2Fcomps%2F' + comp_id + '%2F' + seria_a_ids[6] + '%2Fstats%2F2014-2015-' + comp_name + '-Stats&div=div_stats_standard',\n",
    "'https://widgets.sports-reference.com/wg.fcgi?css=1&site=fb&url=%2Fen%2Fcomps%2F' + comp_id + '%2F' + seria_a_ids[7] + '%2Fstats%2F2013-2014-' + comp_name + '-Stats&div=div_stats_standard',\n",
    "'https://widgets.sports-reference.com/wg.fcgi?css=1&site=fb&url=%2Fen%2Fcomps%2F' + comp_id + '%2F' + seria_a_ids[8] + '%2Fstats%2F2012-2013-' + comp_name + '-Stats&div=div_stats_standard',\n",
    "'https://widgets.sports-reference.com/wg.fcgi?css=1&site=fb&url=%2Fen%2Fcomps%2F' + comp_id + '%2F' + seria_a_ids[9] + '%2Fstats%2F2011-2012-' + comp_name + '-Stats&div=div_stats_standard',\n",
    "'https://widgets.sports-reference.com/wg.fcgi?css=1&site=fb&url=%2Fen%2Fcomps%2F' + comp_id + '%2F' + seria_a_ids[10] + '%2Fstats%2F2010-2011-' + comp_name + '-Stats&div=div_stats_standard',\n",
    "'https://widgets.sports-reference.com/wg.fcgi?css=1&site=fb&url=%2Fen%2Fcomps%2F' + comp_id + '%2F' + seria_a_ids[11] + '%2Fstats%2F2009-2010-' + comp_name + '-Stats&div=div_stats_standard']\n",
    "\n",
    "seasons = ['20/21', '19/20', '18/19', '17/18', '16/17', '15/16', '14/15', '13/14', '12/13', '11/12', '10/11', '09/10']\n",
    "folder = 'Ligue2'"
   ]
  },
  {
   "cell_type": "code",
   "execution_count": 73,
   "metadata": {},
   "outputs": [],
   "source": [
    "#Ukrain\n",
    "comp_id = '18'\n",
    "comp_name = 'Serie-B'\n",
    "seria_a_ids = ['10736', '3261','1897','1641','1536','1477','743','679','612','545','478','411','346','290', '237']\n",
    "\n",
    "links = ['https://widgets.sports-reference.com/wg.fcgi?css=1&site=fb&url=%2Fen%2Fcomps%2F' + comp_id + '%2F' + seria_a_ids[0] + '%2Fstats%2F2020-2021-' + comp_name + '-Stats&div=div_stats_standard', \n",
    "'https://widgets.sports-reference.com/wg.fcgi?css=1&site=fb&url=%2Fen%2Fcomps%2F' + comp_id + '%2F' + seria_a_ids[1] + '%2Fstats%2F2019-2020-' + comp_name + '-Stats&div=div_stats_standard',\n",
    "'https://widgets.sports-reference.com/wg.fcgi?css=1&site=fb&url=%2Fen%2Fcomps%2F' + comp_id + '%2F' + seria_a_ids[2] + '%2Fstats%2F2018-2019-' + comp_name + '-Stats&div=div_stats_standard',\n",
    "'https://widgets.sports-reference.com/wg.fcgi?css=1&site=fb&url=%2Fen%2Fcomps%2F' + comp_id + '%2F' + seria_a_ids[3] + '%2Fstats%2F2017-2018-' + comp_name + '-Stats&div=div_stats_standard',\n",
    "'https://widgets.sports-reference.com/wg.fcgi?css=1&site=fb&url=%2Fen%2Fcomps%2F' + comp_id + '%2F' + seria_a_ids[4] + '%2Fstats%2F2016-2017-' + comp_name + '-Stats&div=div_stats_standard',\n",
    "'https://widgets.sports-reference.com/wg.fcgi?css=1&site=fb&url=%2Fen%2Fcomps%2F' + comp_id + '%2F' + seria_a_ids[5] + '%2Fstats%2F2015-2016-' + comp_name + '-Stats&div=div_stats_standard',\n",
    "'https://widgets.sports-reference.com/wg.fcgi?css=1&site=fb&url=%2Fen%2Fcomps%2F' + comp_id + '%2F' + seria_a_ids[6] + '%2Fstats%2F2014-2015-' + comp_name + '-Stats&div=div_stats_standard',\n",
    "'https://widgets.sports-reference.com/wg.fcgi?css=1&site=fb&url=%2Fen%2Fcomps%2F' + comp_id + '%2F' + seria_a_ids[7] + '%2Fstats%2F2013-2014-' + comp_name + '-Stats&div=div_stats_standard',\n",
    "'https://widgets.sports-reference.com/wg.fcgi?css=1&site=fb&url=%2Fen%2Fcomps%2F' + comp_id + '%2F' + seria_a_ids[8] + '%2Fstats%2F2012-2013-' + comp_name + '-Stats&div=div_stats_standard',\n",
    "'https://widgets.sports-reference.com/wg.fcgi?css=1&site=fb&url=%2Fen%2Fcomps%2F' + comp_id + '%2F' + seria_a_ids[9] + '%2Fstats%2F2011-2012-' + comp_name + '-Stats&div=div_stats_standard',\n",
    "'https://widgets.sports-reference.com/wg.fcgi?css=1&site=fb&url=%2Fen%2Fcomps%2F' + comp_id + '%2F' + seria_a_ids[10] + '%2Fstats%2F2010-2011-' + comp_name + '-Stats&div=div_stats_standard',\n",
    "'https://widgets.sports-reference.com/wg.fcgi?css=1&site=fb&url=%2Fen%2Fcomps%2F' + comp_id + '%2F' + seria_a_ids[11] + '%2Fstats%2F2009-2010-' + comp_name + '-Stats&div=div_stats_standard',\n",
    "'https://widgets.sports-reference.com/wg.fcgi?css=1&site=fb&url=%2Fen%2Fcomps%2F' + comp_id + '%2F' + seria_a_ids[12] + '%2Fstats%2F2008-2009-' + comp_name + '-Stats&div=div_stats_standard',\n",
    "'https://widgets.sports-reference.com/wg.fcgi?css=1&site=fb&url=%2Fen%2Fcomps%2F' + comp_id + '%2F' + seria_a_ids[13] + '%2Fstats%2F2007-2008-' + comp_name + '-Stats&div=div_stats_standard',\n",
    "'https://widgets.sports-reference.com/wg.fcgi?css=1&site=fb&url=%2Fen%2Fcomps%2F' + comp_id + '%2F' + seria_a_ids[14] + '%2Fstats%2F2006-2007-' + comp_name + '-Stats&div=div_stats_standard']\n",
    "\n",
    "seasons = ['20/21', '19/20', '18/19', '17/18', '16/17', '15/16', '14/15', '13/14', '12/13', '11/12', '10/11', '09/10', '08/09', '07/08','06/07']\n",
    "folder = 'SerieB'"
   ]
  },
  {
   "cell_type": "code",
   "execution_count": 79,
   "metadata": {},
   "outputs": [],
   "source": [
    "#Ukrain\n",
    "comp_id = '17'\n",
    "comp_name = 'Segunda-Division'\n",
    "seria_a_ids = ['10735', '3240','1887','1653','1548','1489','756','691','625','558','489','423','356','300', '246']\n",
    "\n",
    "links = ['https://widgets.sports-reference.com/wg.fcgi?css=1&site=fb&url=%2Fen%2Fcomps%2F' + comp_id + '%2F' + seria_a_ids[0] + '%2Fstats%2F2020-2021-' + comp_name + '-Stats&div=div_stats_standard', \n",
    "'https://widgets.sports-reference.com/wg.fcgi?css=1&site=fb&url=%2Fen%2Fcomps%2F' + comp_id + '%2F' + seria_a_ids[1] + '%2Fstats%2F2019-2020-' + comp_name + '-Stats&div=div_stats_standard',\n",
    "'https://widgets.sports-reference.com/wg.fcgi?css=1&site=fb&url=%2Fen%2Fcomps%2F' + comp_id + '%2F' + seria_a_ids[2] + '%2Fstats%2F2018-2019-' + comp_name + '-Stats&div=div_stats_standard',\n",
    "'https://widgets.sports-reference.com/wg.fcgi?css=1&site=fb&url=%2Fen%2Fcomps%2F' + comp_id + '%2F' + seria_a_ids[3] + '%2Fstats%2F2017-2018-' + comp_name + '-Stats&div=div_stats_standard',\n",
    "'https://widgets.sports-reference.com/wg.fcgi?css=1&site=fb&url=%2Fen%2Fcomps%2F' + comp_id + '%2F' + seria_a_ids[4] + '%2Fstats%2F2016-2017-' + comp_name + '-Stats&div=div_stats_standard',\n",
    "'https://widgets.sports-reference.com/wg.fcgi?css=1&site=fb&url=%2Fen%2Fcomps%2F' + comp_id + '%2F' + seria_a_ids[5] + '%2Fstats%2F2015-2016-' + comp_name + '-Stats&div=div_stats_standard',\n",
    "'https://widgets.sports-reference.com/wg.fcgi?css=1&site=fb&url=%2Fen%2Fcomps%2F' + comp_id + '%2F' + seria_a_ids[6] + '%2Fstats%2F2014-2015-' + comp_name + '-Stats&div=div_stats_standard',\n",
    "'https://widgets.sports-reference.com/wg.fcgi?css=1&site=fb&url=%2Fen%2Fcomps%2F' + comp_id + '%2F' + seria_a_ids[7] + '%2Fstats%2F2013-2014-' + comp_name + '-Stats&div=div_stats_standard',\n",
    "'https://widgets.sports-reference.com/wg.fcgi?css=1&site=fb&url=%2Fen%2Fcomps%2F' + comp_id + '%2F' + seria_a_ids[8] + '%2Fstats%2F2012-2013-' + comp_name + '-Stats&div=div_stats_standard',\n",
    "'https://widgets.sports-reference.com/wg.fcgi?css=1&site=fb&url=%2Fen%2Fcomps%2F' + comp_id + '%2F' + seria_a_ids[9] + '%2Fstats%2F2011-2012-' + comp_name + '-Stats&div=div_stats_standard',\n",
    "'https://widgets.sports-reference.com/wg.fcgi?css=1&site=fb&url=%2Fen%2Fcomps%2F' + comp_id + '%2F' + seria_a_ids[10] + '%2Fstats%2F2010-2011-' + comp_name + '-Stats&div=div_stats_standard',\n",
    "'https://widgets.sports-reference.com/wg.fcgi?css=1&site=fb&url=%2Fen%2Fcomps%2F' + comp_id + '%2F' + seria_a_ids[11] + '%2Fstats%2F2009-2010-' + comp_name + '-Stats&div=div_stats_standard',\n",
    "'https://widgets.sports-reference.com/wg.fcgi?css=1&site=fb&url=%2Fen%2Fcomps%2F' + comp_id + '%2F' + seria_a_ids[12] + '%2Fstats%2F2008-2009-' + comp_name + '-Stats&div=div_stats_standard',\n",
    "'https://widgets.sports-reference.com/wg.fcgi?css=1&site=fb&url=%2Fen%2Fcomps%2F' + comp_id + '%2F' + seria_a_ids[13] + '%2Fstats%2F2007-2008-' + comp_name + '-Stats&div=div_stats_standard',\n",
    "'https://widgets.sports-reference.com/wg.fcgi?css=1&site=fb&url=%2Fen%2Fcomps%2F' + comp_id + '%2F' + seria_a_ids[14] + '%2Fstats%2F2006-2007-' + comp_name + '-Stats&div=div_stats_standard']\n",
    "\n",
    "seasons = ['20/21', '19/20', '18/19', '17/18', '16/17', '15/16', '14/15', '13/14', '12/13', '11/12', '10/11', '09/10', '08/09', '07/08','06/07']\n",
    "folder = 'Spain2'"
   ]
  },
  {
   "cell_type": "code",
   "execution_count": 14,
   "metadata": {},
   "outputs": [],
   "source": [
    "#poland\n",
    "\n",
    "#Ukrain\n",
    "comp_id = '36'\n",
    "comp_name = 'Ekstraklasa'\n",
    "seria_a_ids = ['10747', '3274','2424','1643','1538','1479','745','652','614','547','480','413','348','292', '239']\n",
    "\n",
    "links = ['https://widgets.sports-reference.com/wg.fcgi?css=1&site=fb&url=%2Fen%2Fcomps%2F' + comp_id + '%2F' + seria_a_ids[0] + '%2Fstats%2F2020-2021-' + comp_name + '-Stats&div=div_stats_standard', \n",
    "'https://widgets.sports-reference.com/wg.fcgi?css=1&site=fb&url=%2Fen%2Fcomps%2F' + comp_id + '%2F' + seria_a_ids[1] + '%2Fstats%2F2019-2020-' + comp_name + '-Stats&div=div_stats_standard',\n",
    "'https://widgets.sports-reference.com/wg.fcgi?css=1&site=fb&url=%2Fen%2Fcomps%2F' + comp_id + '%2F' + seria_a_ids[2] + '%2Fstats%2F2018-2019-' + comp_name + '-Stats&div=div_stats_standard',\n",
    "'https://widgets.sports-reference.com/wg.fcgi?css=1&site=fb&url=%2Fen%2Fcomps%2F' + comp_id + '%2F' + seria_a_ids[3] + '%2Fstats%2F2017-2018-' + comp_name + '-Stats&div=div_stats_standard',\n",
    "'https://widgets.sports-reference.com/wg.fcgi?css=1&site=fb&url=%2Fen%2Fcomps%2F' + comp_id + '%2F' + seria_a_ids[4] + '%2Fstats%2F2016-2017-' + comp_name + '-Stats&div=div_stats_standard',\n",
    "'https://widgets.sports-reference.com/wg.fcgi?css=1&site=fb&url=%2Fen%2Fcomps%2F' + comp_id + '%2F' + seria_a_ids[5] + '%2Fstats%2F2015-2016-' + comp_name + '-Stats&div=div_stats_standard',\n",
    "'https://widgets.sports-reference.com/wg.fcgi?css=1&site=fb&url=%2Fen%2Fcomps%2F' + comp_id + '%2F' + seria_a_ids[6] + '%2Fstats%2F2014-2015-' + comp_name + '-Stats&div=div_stats_standard',\n",
    "'https://widgets.sports-reference.com/wg.fcgi?css=1&site=fb&url=%2Fen%2Fcomps%2F' + comp_id + '%2F' + seria_a_ids[7] + '%2Fstats%2F2013-2014-' + comp_name + '-Stats&div=div_stats_standard',\n",
    "'https://widgets.sports-reference.com/wg.fcgi?css=1&site=fb&url=%2Fen%2Fcomps%2F' + comp_id + '%2F' + seria_a_ids[8] + '%2Fstats%2F2012-2013-' + comp_name + '-Stats&div=div_stats_standard',\n",
    "'https://widgets.sports-reference.com/wg.fcgi?css=1&site=fb&url=%2Fen%2Fcomps%2F' + comp_id + '%2F' + seria_a_ids[9] + '%2Fstats%2F2011-2012-' + comp_name + '-Stats&div=div_stats_standard',\n",
    "'https://widgets.sports-reference.com/wg.fcgi?css=1&site=fb&url=%2Fen%2Fcomps%2F' + comp_id + '%2F' + seria_a_ids[10] + '%2Fstats%2F2010-2011-' + comp_name + '-Stats&div=div_stats_standard',\n",
    "'https://widgets.sports-reference.com/wg.fcgi?css=1&site=fb&url=%2Fen%2Fcomps%2F' + comp_id + '%2F' + seria_a_ids[11] + '%2Fstats%2F2009-2010-' + comp_name + '-Stats&div=div_stats_standard',\n",
    "'https://widgets.sports-reference.com/wg.fcgi?css=1&site=fb&url=%2Fen%2Fcomps%2F' + comp_id + '%2F' + seria_a_ids[12] + '%2Fstats%2F2008-2009-' + comp_name + '-Stats&div=div_stats_standard',\n",
    "'https://widgets.sports-reference.com/wg.fcgi?css=1&site=fb&url=%2Fen%2Fcomps%2F' + comp_id + '%2F' + seria_a_ids[13] + '%2Fstats%2F2007-2008-' + comp_name + '-Stats&div=div_stats_standard',\n",
    "'https://widgets.sports-reference.com/wg.fcgi?css=1&site=fb&url=%2Fen%2Fcomps%2F' + comp_id + '%2F' + seria_a_ids[14] + '%2Fstats%2F2006-2007-' + comp_name + '-Stats&div=div_stats_standard']\n",
    "\n",
    "seasons = ['20/21', '19/20', '18/19', '17/18', '16/17', '15/16', '14/15', '13/14', '12/13', '11/12', '10/11', '09/10', '08/09', '07/08','06/07']\n",
    "folder = 'Poland'"
   ]
  },
  {
   "cell_type": "code",
   "execution_count": 15,
   "metadata": {},
   "outputs": [
    {
     "name": "stdout",
     "output_type": "stream",
     "text": [
      "1 of 15 ready\n",
      "2 of 15 ready\n",
      "3 of 15 ready\n",
      "4 of 15 ready\n",
      "5 of 15 ready\n",
      "6 of 15 ready\n",
      "7 of 15 ready\n",
      "8 of 15 ready\n",
      "9 of 15 ready\n",
      "10 of 15 ready\n",
      "11 of 15 ready\n",
      "12 of 15 ready\n",
      "13 of 15 ready\n",
      "14 of 15 ready\n",
      "15 of 15 ready\n"
     ]
    }
   ],
   "source": [
    "player_standard = pd.DataFrame(columns=['Rk', 'Player', 'Nation', 'Pos', 'Squad', 'Age', 'Born', 'MP', 'Starts',\n",
    "       'Min', '90s', 'Gls', 'Ast', 'G-PK', 'PK', 'PKatt', 'CrdY', 'CrdR',\n",
    "       'Gls/90', 'Ast/90', 'G+A/90', 'G-PK/90', 'G+A-PK', 'Season'])\n",
    "\n",
    "for i in range(len(links)):\n",
    "    #passing\n",
    "    player_standard_table= pd.read_html(links[i] , match='Player Standard Stats')[0]\n",
    "    #standard player data\n",
    "    player_standard_part = player_standard_table[['Unnamed: 0_level_0','Unnamed: 1_level_0',\n",
    "        'Unnamed: 2_level_0','Unnamed: 3_level_0','Unnamed: 4_level_0','Unnamed: 5_level_0','Unnamed: 6_level_0']]\n",
    "    player_standard_part.columns = player_standard_part.columns.droplevel(0)\n",
    "    #playing time part\n",
    "    playing_time_part = player_standard_table['Playing Time']\n",
    "    #performance part\n",
    "    performance_part = player_standard_table['Performance']\n",
    "    #per 90  part\n",
    "    per_90_part = player_standard_table['Per 90 Minutes'][['Gls', 'Ast', 'G+A', 'G-PK', 'G+A-PK']]\n",
    "    per_90_part = per_90_part.rename(columns={\"Gls\": \"Gls/90\", \"Ast\": \"Ast/90\", \"G+A\": \"G+A/90\", \"G-PK\": \"G-PK/90\", \"G+A_PK\": \"G+A-PK/90\"})\n",
    "    #join tables\n",
    "    player_standard_table = player_standard_part.join([playing_time_part, performance_part, per_90_part])\n",
    "    player_standard_table['Season'] = seasons[i]\n",
    "    \n",
    "    player_standard = player_standard.append(player_standard_table)\n",
    "    print(f'{i + 1} of {len(links)} ready')\n",
    "\n",
    "player_standard.to_excel(f\"/Users/{os.environ['USER']}/Documents/Uni/Szakdoga/Adatok/Fbref_data/{folder}/player_standard.xls\")\n"
   ]
  },
  {
   "cell_type": "code",
   "execution_count": 2,
   "metadata": {},
   "outputs": [],
   "source": [
    "links = [\"https://widgets.sports-reference.com/wg.fcgi?css=1&site=fb&url=%2Fen%2Fcomps%2FBig5%2F2020-2021%2Fkeepers%2Fplayers%2F2020-2021-Big-5-European-Leagues-Stats&div=div_stats_keeper\",\n",
    "'https://widgets.sports-reference.com/wg.fcgi?css=1&site=fb&url=%2Fen%2Fcomps%2FBig5%2F2019-2020%2Fkeepers%2Fplayers%2F2019-2020-Big-5-European-Leagues-Stats&div=div_stats_keeper',\n",
    "'https://widgets.sports-reference.com/wg.fcgi?css=1&site=fb&url=%2Fen%2Fcomps%2FBig5%2F2018-2019%2Fkeepers%2Fplayers%2F2018-2019-Big-5-European-Leagues-Stats&div=div_stats_keeper',\n",
    "'https://widgets.sports-reference.com/wg.fcgi?css=1&site=fb&url=%2Fen%2Fcomps%2FBig5%2F2017-2018%2Fkeepers%2Fplayers%2F2017-2018-Big-5-European-Leagues-Stats&div=div_stats_keeper',\n",
    "'https://widgets.sports-reference.com/wg.fcgi?css=1&site=fb&url=%2Fen%2Fcomps%2FBig5%2F2016-2017%2Fkeepers%2Fplayers%2F2016-2017-Big-5-European-Leagues-Stats&div=div_stats_keeper',\n",
    "'https://widgets.sports-reference.com/wg.fcgi?css=1&site=fb&url=%2Fen%2Fcomps%2FBig5%2F2015-2016%2Fkeepers%2Fplayers%2F2015-2016-Big-5-European-Leagues-Stats&div=div_stats_keeper',\n",
    "'https://widgets.sports-reference.com/wg.fcgi?css=1&site=fb&url=%2Fen%2Fcomps%2FBig5%2F2014-2015%2Fkeepers%2Fplayers%2F2014-2015-Big-5-European-Leagues-Stats&div=div_stats_keeper',\n",
    "'https://widgets.sports-reference.com/wg.fcgi?css=1&site=fb&url=%2Fen%2Fcomps%2FBig5%2F2013-2014%2Fkeepers%2Fplayers%2F2013-2014-Big-5-European-Leagues-Stats&div=div_stats_keeper',\n",
    "'https://widgets.sports-reference.com/wg.fcgi?css=1&site=fb&url=%2Fen%2Fcomps%2FBig5%2F2012-2013%2Fkeepers%2Fplayers%2F2012-2013-Big-5-European-Leagues-Stats&div=div_stats_keeper',\n",
    "'https://widgets.sports-reference.com/wg.fcgi?css=1&site=fb&url=%2Fen%2Fcomps%2FBig5%2F2011-2012%2Fkeepers%2Fplayers%2F2011-2012-Big-5-European-Leagues-Stats&div=div_stats_keeper',\n",
    "'https://widgets.sports-reference.com/wg.fcgi?css=1&site=fb&url=%2Fen%2Fcomps%2FBig5%2F2010-2011%2Fkeepers%2Fplayers%2F2010-2011-Big-5-European-Leagues-Stats&div=div_stats_keeper',\n",
    "'https://widgets.sports-reference.com/wg.fcgi?css=1&site=fb&url=%2Fen%2Fcomps%2FBig5%2F2009-2010%2Fkeepers%2Fplayers%2F2009-2010-Big-5-European-Leagues-Stats&div=div_stats_keeper',\n",
    "'https://widgets.sports-reference.com/wg.fcgi?css=1&site=fb&url=%2Fen%2Fcomps%2FBig5%2F2008-2009%2Fkeepers%2Fplayers%2F2008-2009-Big-5-European-Leagues-Stats&div=div_stats_keeper',\n",
    "'https://widgets.sports-reference.com/wg.fcgi?css=1&site=fb&url=%2Fen%2Fcomps%2FBig5%2F2007-2008%2Fkeepers%2Fplayers%2F2007-2008-Big-5-European-Leagues-Stats&div=div_stats_keeper',\n",
    "'https://widgets.sports-reference.com/wg.fcgi?css=1&site=fb&url=%2Fen%2Fcomps%2FBig5%2F2006-2007%2Fkeepers%2Fplayers%2F2006-2007-Big-5-European-Leagues-Stats&div=div_stats_keeper',]\n",
    "seasons = ['20/21', '19/20', '18/19', '17/18', '16/17', '15/16', '14/15', '13/14', '12/13', '11/12', '10/11', '09/10', '08/09', '07/08','06/07']"
   ]
  },
  {
   "cell_type": "code",
   "execution_count": null,
   "metadata": {},
   "outputs": [],
   "source": [
    "comp_id = '22'\n",
    "comp_name = 'Major-League-Soccer'\n",
    "seria_a_ids = ['', '10090','2798','1759','1558','1503','1369','708','643','577','509','442','374','316', '260']\n",
    "\n",
    "links = ['https://widgets.sports-reference.com/wg.fcgi?css=1&site=fb&url=%2Fen%2Fcomps%2F' + comp_id + '%2F' + seria_a_ids[0] + '%2Fkeepers%2F2020-2021-' + comp_name + '-Stats&div=div_stats_keeper', \n",
    "'https://widgets.sports-reference.com/wg.fcgi?css=1&site=fb&url=%2Fen%2Fcomps%2F' + comp_id + '%2F' + seria_a_ids[1] + '%2Fkeepers%2F2019-2020-' + comp_name + '-Stats&div=div_stats_keeper',\n",
    "'https://widgets.sports-reference.com/wg.fcgi?css=1&site=fb&url=%2Fen%2Fcomps%2F' + comp_id + '%2F' + seria_a_ids[2] + '%2Fkeepers%2F2018-2019-' + comp_name + '-Stats&div=div_stats_keeper',\n",
    "'https://widgets.sports-reference.com/wg.fcgi?css=1&site=fb&url=%2Fen%2Fcomps%2F' + comp_id + '%2F' + seria_a_ids[3] + '%2Fkeepers%2F2017-2018-' + comp_name + '-Stats&div=div_stats_keeper',\n",
    "'https://widgets.sports-reference.com/wg.fcgi?css=1&site=fb&url=%2Fen%2Fcomps%2F' + comp_id + '%2F' + seria_a_ids[4] + '%2Fkeepers%2F2016-2017-' + comp_name + '-Stats&div=div_stats_keeper',\n",
    "'https://widgets.sports-reference.com/wg.fcgi?css=1&site=fb&url=%2Fen%2Fcomps%2F' + comp_id + '%2F' + seria_a_ids[5] + '%2Fkeepers%2F2015-2016-' + comp_name + '-Stats&div=div_stats_keeper',\n",
    "'https://widgets.sports-reference.com/wg.fcgi?css=1&site=fb&url=%2Fen%2Fcomps%2F' + comp_id + '%2F' + seria_a_ids[6] + '%2Fkeepers%2F2014-2015-' + comp_name + '-Stats&div=div_stats_keeper',\n",
    "'https://widgets.sports-reference.com/wg.fcgi?css=1&site=fb&url=%2Fen%2Fcomps%2F' + comp_id + '%2F' + seria_a_ids[7] + '%2Fkeepers%2F2013-2014-' + comp_name + '-Stats&div=div_stats_keeper',\n",
    "'https://widgets.sports-reference.com/wg.fcgi?css=1&site=fb&url=%2Fen%2Fcomps%2F' + comp_id + '%2F' + seria_a_ids[8] + '%2Fkeepers%2F2012-2013-' + comp_name + '-Stats&div=div_stats_keeper',\n",
    "'https://widgets.sports-reference.com/wg.fcgi?css=1&site=fb&url=%2Fen%2Fcomps%2F' + comp_id + '%2F' + seria_a_ids[9] + '%2Fkeepers%2F2011-2012-' + comp_name + '-Stats&div=div_stats_keeper',\n",
    "'https://widgets.sports-reference.com/wg.fcgi?css=1&site=fb&url=%2Fen%2Fcomps%2F' + comp_id + '%2F' + seria_a_ids[10] + '%2Fkeepers%2F2010-2011-' + comp_name + '-Stats&div=div_stats_keeper',\n",
    "'https://widgets.sports-reference.com/wg.fcgi?css=1&site=fb&url=%2Fen%2Fcomps%2F' + comp_id + '%2F' + seria_a_ids[11] + '%2Fkeepers%2F2009-2010-' + comp_name + '-Stats&div=div_stats_keeper',\n",
    "'https://widgets.sports-reference.com/wg.fcgi?css=1&site=fb&url=%2Fen%2Fcomps%2F' + comp_id + '%2F' + seria_a_ids[12] + '%2Fkeepers%2F2008-2009-' + comp_name + '-Stats&div=div_stats_keeper',\n",
    "'https://widgets.sports-reference.com/wg.fcgi?css=1&site=fb&url=%2Fen%2Fcomps%2F' + comp_id + '%2F' + seria_a_ids[13] + '%2Fkeepers%2F2007-2008-' + comp_name + '-Stats&div=div_stats_keeper',\n",
    "'https://widgets.sports-reference.com/wg.fcgi?css=1&site=fb&url=%2Fen%2Fcomps%2F' + comp_id + '%2F' + seria_a_ids[14] + '%2Fkeepers%2F2006-2007-' + comp_name + '-Stats&div=div_stats_keeper']\n",
    "\n",
    "seasons = ['20/21', '19/20', '18/19', '17/18', '16/17', '15/16', '14/15', '13/14', '12/13', '11/12', '10/11', '09/10', '08/09', '07/08','06/07']\n",
    "folder = 'MLS'"
   ]
  },
  {
   "cell_type": "code",
   "execution_count": null,
   "metadata": {},
   "outputs": [],
   "source": [
    "#Argentin\n",
    "comp_id = '21'\n",
    "comp_name = 'Major-League-Soccer'\n",
    "seria_a_ids = ['', '2436','2798','1659','1554','1494','789','718']\n",
    "\n",
    "links = ['https://widgets.sports-reference.com/wg.fcgi?css=1&site=fb&url=%2Fen%2Fcomps%2F' + comp_id + '%2F' + seria_a_ids[0] + '%2Fkeepers%2F2020-2021-' + 'Primera-Division-Stats' + '-Stats&div=div_stats_keeper', \n",
    "'https://widgets.sports-reference.com/wg.fcgi?css=1&site=fb&url=%2Fen%2Fcomps%2F' + comp_id + '%2F' + seria_a_ids[1] + '%2Fkeepers%2F2019-2020-' + 'Superliga-Argentina' + '-Stats&div=div_stats_keeper',\n",
    "'https://widgets.sports-reference.com/wg.fcgi?css=1&site=fb&url=%2Fen%2Fcomps%2F' + comp_id + '%2F' + seria_a_ids[2] + '%2Fkeepers%2F2018-2019-' + 'Superliga-Argentina' + '-Stats&div=div_stats_keeper',\n",
    "'https://widgets.sports-reference.com/wg.fcgi?css=1&site=fb&url=%2Fen%2Fcomps%2F' + comp_id + '%2F' + seria_a_ids[3] + '%2Fkeepers%2F2017-2018-' + 'Superliga-Argentina' + '-Stats&div=div_stats_keeper',\n",
    "'https://widgets.sports-reference.com/wg.fcgi?css=1&site=fb&url=%2Fen%2Fcomps%2F' + comp_id + '%2F' + seria_a_ids[4] + '%2Fkeepers%2F2016-2017-' + 'Primera-Division' + '-Stats&div=div_stats_keeper',\n",
    "'https://widgets.sports-reference.com/wg.fcgi?css=1&site=fb&url=%2Fen%2Fcomps%2F' + comp_id + '%2F' + seria_a_ids[5] + '%2Fkeepers%2F2015-2016-' + 'Primera-Division' + '-Stats&div=div_stats_keeper',\n",
    "'https://widgets.sports-reference.com/wg.fcgi?css=1&site=fb&url=%2Fen%2Fcomps%2F' + comp_id + '%2F' + seria_a_ids[6] + '%2Fkeepers%2F2014-2015-' + 'Primera-Division' + '-Stats&div=div_stats_keeper',\n",
    "'https://widgets.sports-reference.com/wg.fcgi?css=1&site=fb&url=%2Fen%2Fcomps%2F' + comp_id + '%2F' + seria_a_ids[7] + '%2Fkeepers%2F2013-2014-' + 'Primera-Division' + '-Stats&div=div_stats_keeper']\n",
    "\n",
    "seasons = ['20/21', '19/20', '18/19', '17/18', '16/17', '15/16', '14/15', '13/14']\n",
    "folder = 'Argentin'"
   ]
  },
  {
   "cell_type": "code",
   "execution_count": null,
   "metadata": {},
   "outputs": [],
   "source": [
    "comp_id = '56'\n",
    "comp_name = 'Austrian-Bundesliga'\n",
    "seria_a_ids = ['10758', '3213','2352','1618','1513','1454','720','656','589','521','454','386','328','272', '221']\n",
    "\n",
    "links = ['https://widgets.sports-reference.com/wg.fcgi?css=1&site=fb&url=%2Fen%2Fcomps%2F' + comp_id + '%2F' + seria_a_ids[0] + '%2Fkeepers%2F2020-2021-' + comp_name + '-Stats&div=div_stats_keeper', \n",
    "'https://widgets.sports-reference.com/wg.fcgi?css=1&site=fb&url=%2Fen%2Fcomps%2F' + comp_id + '%2F' + seria_a_ids[1] + '%2Fkeepers%2F2019-2020-' + comp_name + '-Stats&div=div_stats_keeper',\n",
    "'https://widgets.sports-reference.com/wg.fcgi?css=1&site=fb&url=%2Fen%2Fcomps%2F' + comp_id + '%2F' + seria_a_ids[2] + '%2Fkeepers%2F2018-2019-' + comp_name + '-Stats&div=div_stats_keeper',\n",
    "'https://widgets.sports-reference.com/wg.fcgi?css=1&site=fb&url=%2Fen%2Fcomps%2F' + comp_id + '%2F' + seria_a_ids[3] + '%2Fkeepers%2F2017-2018-' + comp_name + '-Stats&div=div_stats_keeper',\n",
    "'https://widgets.sports-reference.com/wg.fcgi?css=1&site=fb&url=%2Fen%2Fcomps%2F' + comp_id + '%2F' + seria_a_ids[4] + '%2Fkeepers%2F2016-2017-' + comp_name + '-Stats&div=div_stats_keeper',\n",
    "'https://widgets.sports-reference.com/wg.fcgi?css=1&site=fb&url=%2Fen%2Fcomps%2F' + comp_id + '%2F' + seria_a_ids[5] + '%2Fkeepers%2F2015-2016-' + comp_name + '-Stats&div=div_stats_keeper',\n",
    "'https://widgets.sports-reference.com/wg.fcgi?css=1&site=fb&url=%2Fen%2Fcomps%2F' + comp_id + '%2F' + seria_a_ids[6] + '%2Fkeepers%2F2014-2015-' + comp_name + '-Stats&div=div_stats_keeper',\n",
    "'https://widgets.sports-reference.com/wg.fcgi?css=1&site=fb&url=%2Fen%2Fcomps%2F' + comp_id + '%2F' + seria_a_ids[7] + '%2Fkeepers%2F2013-2014-' + comp_name + '-Stats&div=div_stats_keeper',\n",
    "'https://widgets.sports-reference.com/wg.fcgi?css=1&site=fb&url=%2Fen%2Fcomps%2F' + comp_id + '%2F' + seria_a_ids[8] + '%2Fkeepers%2F2012-2013-' + comp_name + '-Stats&div=div_stats_keeper',\n",
    "'https://widgets.sports-reference.com/wg.fcgi?css=1&site=fb&url=%2Fen%2Fcomps%2F' + comp_id + '%2F' + seria_a_ids[9] + '%2Fkeepers%2F2011-2012-' + comp_name + '-Stats&div=div_stats_keeper',\n",
    "'https://widgets.sports-reference.com/wg.fcgi?css=1&site=fb&url=%2Fen%2Fcomps%2F' + comp_id + '%2F' + seria_a_ids[10] + '%2Fkeepers%2F2010-2011-' + comp_name + '-Stats&div=div_stats_keeper',\n",
    "'https://widgets.sports-reference.com/wg.fcgi?css=1&site=fb&url=%2Fen%2Fcomps%2F' + comp_id + '%2F' + seria_a_ids[11] + '%2Fkeepers%2F2009-2010-' + comp_name + '-Stats&div=div_stats_keeper',\n",
    "'https://widgets.sports-reference.com/wg.fcgi?css=1&site=fb&url=%2Fen%2Fcomps%2F' + comp_id + '%2F' + seria_a_ids[12] + '%2Fkeepers%2F2008-2009-' + comp_name + '-Stats&div=div_stats_keeper',\n",
    "'https://widgets.sports-reference.com/wg.fcgi?css=1&site=fb&url=%2Fen%2Fcomps%2F' + comp_id + '%2F' + seria_a_ids[13] + '%2Fkeepers%2F2007-2008-' + comp_name + '-Stats&div=div_stats_keeper',\n",
    "'https://widgets.sports-reference.com/wg.fcgi?css=1&site=fb&url=%2Fen%2Fcomps%2F' + comp_id + '%2F' + seria_a_ids[14] + '%2Fkeepers%2F2006-2007-' + comp_name + '-Stats&div=div_stats_keeper']\n",
    "\n",
    "seasons = ['20/21', '19/20', '18/19', '17/18', '16/17', '15/16', '14/15', '13/14', '12/13', '11/12', '10/11', '09/10', '08/09', '07/08','06/07']\n",
    "folder = 'Austrian'"
   ]
  },
  {
   "cell_type": "code",
   "execution_count": null,
   "metadata": {},
   "outputs": [],
   "source": [
    "#Belgian\n",
    "comp_id = '37'\n",
    "seria_a_ids = ['10748', '3216','2246','1619','1514','1455','721','657','591','523','456','388','329','273', '222']\n",
    "\n",
    "links = ['https://widgets.sports-reference.com/wg.fcgi?css=1&site=fb&url=%2Fen%2Fcomps%2F' + comp_id + '%2F' + seria_a_ids[0] + '%2Fkeepers%2F2020-2021-' + 'Belgian-First-Division-A' + '-Stats&div=div_stats_keeper', \n",
    "'https://widgets.sports-reference.com/wg.fcgi?css=1&site=fb&url=%2Fen%2Fcomps%2F' + comp_id + '%2F' + seria_a_ids[1] + '%2Fkeepers%2F2019-2020-' + 'Belgian-First-Division-A' + '-Stats&div=div_stats_keeper',\n",
    "'https://widgets.sports-reference.com/wg.fcgi?css=1&site=fb&url=%2Fen%2Fcomps%2F' + comp_id + '%2F' + seria_a_ids[2] + '%2Fkeepers%2F2018-2019-' + 'Belgian-First-Division-A' + '-Stats&div=div_stats_keeper',\n",
    "'https://widgets.sports-reference.com/wg.fcgi?css=1&site=fb&url=%2Fen%2Fcomps%2F' + comp_id + '%2F' + seria_a_ids[3] + '%2Fkeepers%2F2017-2018-' + 'Belgian-First-Division-A' + '-Stats&div=div_stats_keeper',\n",
    "'https://widgets.sports-reference.com/wg.fcgi?css=1&site=fb&url=%2Fen%2Fcomps%2F' + comp_id + '%2F' + seria_a_ids[4] + '%2Fkeepers%2F2016-2017-' + 'Belgian-First-Division-A' + '-Stats&div=div_stats_keeper',\n",
    "'https://widgets.sports-reference.com/wg.fcgi?css=1&site=fb&url=%2Fen%2Fcomps%2F' + comp_id + '%2F' + seria_a_ids[5] + '%2Fkeepers%2F2015-2016-' + 'Belgian-Pro-League' + '-Stats&div=div_stats_keeper',\n",
    "'https://widgets.sports-reference.com/wg.fcgi?css=1&site=fb&url=%2Fen%2Fcomps%2F' + comp_id + '%2F' + seria_a_ids[6] + '%2Fkeepers%2F2014-2015-' + 'Belgian-Pro-League' + '-Stats&div=div_stats_keeper',\n",
    "'https://widgets.sports-reference.com/wg.fcgi?css=1&site=fb&url=%2Fen%2Fcomps%2F' + comp_id + '%2F' + seria_a_ids[7] + '%2Fkeepers%2F2013-2014-' + 'Belgian-Pro-League' + '-Stats&div=div_stats_keeper',\n",
    "'https://widgets.sports-reference.com/wg.fcgi?css=1&site=fb&url=%2Fen%2Fcomps%2F' + comp_id + '%2F' + seria_a_ids[8] + '%2Fkeepers%2F2012-2013-' + 'Belgian-Pro-League' + '-Stats&div=div_stats_keeper',\n",
    "'https://widgets.sports-reference.com/wg.fcgi?css=1&site=fb&url=%2Fen%2Fcomps%2F' + comp_id + '%2F' + seria_a_ids[9] + '%2Fkeepers%2F2011-2012-' + 'Belgian-Pro-League' + '-Stats&div=div_stats_keeper',\n",
    "'https://widgets.sports-reference.com/wg.fcgi?css=1&site=fb&url=%2Fen%2Fcomps%2F' + comp_id + '%2F' + seria_a_ids[10] + '%2Fkeepers%2F2010-2011-' + 'Belgian-Pro-League' + '-Stats&div=div_stats_keeper',\n",
    "'https://widgets.sports-reference.com/wg.fcgi?css=1&site=fb&url=%2Fen%2Fcomps%2F' + comp_id + '%2F' + seria_a_ids[11] + '%2Fkeepers%2F2009-2010-' + 'Belgian-Pro-League' + '-Stats&div=div_stats_keeper',\n",
    "'https://widgets.sports-reference.com/wg.fcgi?css=1&site=fb&url=%2Fen%2Fcomps%2F' + comp_id + '%2F' + seria_a_ids[12] + '%2Fkeepers%2F2008-2009-' + 'Belgian-First-Division' + '-Stats&div=div_stats_keeper',\n",
    "'https://widgets.sports-reference.com/wg.fcgi?css=1&site=fb&url=%2Fen%2Fcomps%2F' + comp_id + '%2F' + seria_a_ids[13] + '%2Fkeepers%2F2007-2008-' + 'Belgian-First-Division' + '-Stats&div=div_stats_keeper',\n",
    "'https://widgets.sports-reference.com/wg.fcgi?css=1&site=fb&url=%2Fen%2Fcomps%2F' + comp_id + '%2F' + seria_a_ids[14] + '%2Fkeepers%2F2006-2007-' + 'Belgian-First-Division' + '-Stats&div=div_stats_keeper']\n",
    "\n",
    "seasons = ['20/21', '19/20', '18/19', '17/18', '16/17', '15/16', '14/15', '13/14', '12/13', '11/12', '10/11', '09/10', '08/09', '07/08','06/07']\n",
    "folder = 'Belgian'"
   ]
  },
  {
   "cell_type": "code",
   "execution_count": null,
   "metadata": {},
   "outputs": [],
   "source": [
    "#Brazil\n",
    "comp_id = '24'\n",
    "seria_a_ids = ['', '10072','3320','1760','1559','1495','851','698']\n",
    "\n",
    "links = ['https://widgets.sports-reference.com/wg.fcgi?css=1&site=fb&url=%2Fen%2Fcomps%2F' + comp_id + '%2F' + seria_a_ids[0] + '%2Fkeepers%2F2020-2021-' + 'Belgian-First-Division-A' + '-Stats&div=div_stats_keeper', \n",
    "'https://widgets.sports-reference.com/wg.fcgi?css=1&site=fb&url=%2Fen%2Fcomps%2F' + comp_id + '%2F' + seria_a_ids[1] + '%2Fkeepers%2F2019-2020-' + 'Belgian-First-Division-A' + '-Stats&div=div_stats_keeper',\n",
    "'https://widgets.sports-reference.com/wg.fcgi?css=1&site=fb&url=%2Fen%2Fcomps%2F' + comp_id + '%2F' + seria_a_ids[2] + '%2Fkeepers%2F2018-2019-' + 'Belgian-First-Division-A' + '-Stats&div=div_stats_keeper',\n",
    "'https://widgets.sports-reference.com/wg.fcgi?css=1&site=fb&url=%2Fen%2Fcomps%2F' + comp_id + '%2F' + seria_a_ids[3] + '%2Fkeepers%2F2017-2018-' + 'Belgian-First-Division-A' + '-Stats&div=div_stats_keeper',\n",
    "'https://widgets.sports-reference.com/wg.fcgi?css=1&site=fb&url=%2Fen%2Fcomps%2F' + comp_id + '%2F' + seria_a_ids[4] + '%2Fkeepers%2F2016-2017-' + 'Belgian-First-Division-A' + '-Stats&div=div_stats_keeper',\n",
    "'https://widgets.sports-reference.com/wg.fcgi?css=1&site=fb&url=%2Fen%2Fcomps%2F' + comp_id + '%2F' + seria_a_ids[5] + '%2Fkeepers%2F2015-2016-' + 'Belgian-Pro-League' + '-Stats&div=div_stats_keeper',\n",
    "'https://widgets.sports-reference.com/wg.fcgi?css=1&site=fb&url=%2Fen%2Fcomps%2F' + comp_id + '%2F' + seria_a_ids[6] + '%2Fkeepers%2F2014-2015-' + 'Belgian-Pro-League' + '-Stats&div=div_stats_keeper',\n",
    "'https://widgets.sports-reference.com/wg.fcgi?css=1&site=fb&url=%2Fen%2Fcomps%2F' + comp_id + '%2F' + seria_a_ids[7] + '%2Fkeepers%2F2013-2014-' + 'Belgian-Pro-League' + '-Stats&div=div_stats_keeper']\n",
    "\n",
    "seasons = ['20/21', '19/20', '18/19', '17/18', '16/17', '15/16', '14/15', '13/14']\n",
    "folder = 'Brazil'\n"
   ]
  },
  {
   "cell_type": "code",
   "execution_count": null,
   "metadata": {},
   "outputs": [],
   "source": [
    "#Chile\n",
    "comp_id = '35'\n",
    "seria_a_ids = ['10989', '10074','3926','1621','1616','1516','1457','723']\n",
    "comp_name  = 'Primera-Division'\n",
    "\n",
    "links = ['https://widgets.sports-reference.com/wg.fcgi?css=1&site=fb&url=%2Fen%2Fcomps%2F' + comp_id + '%2F' + seria_a_ids[0] + '%2Fkeepers%2F2020-2021-' + 'Belgian-First-Division-A' + '-Stats&div=div_stats_keeper', \n",
    "'https://widgets.sports-reference.com/wg.fcgi?css=1&site=fb&url=%2Fen%2Fcomps%2F' + comp_id + '%2F' + seria_a_ids[1] + '%2Fkeepers%2F2019-2020-' + 'Belgian-First-Division-A' + '-Stats&div=div_stats_keeper',\n",
    "'https://widgets.sports-reference.com/wg.fcgi?css=1&site=fb&url=%2Fen%2Fcomps%2F' + comp_id + '%2F' + seria_a_ids[2] + '%2Fkeepers%2F2018-2019-' + 'Belgian-First-Division-A' + '-Stats&div=div_stats_keeper',\n",
    "'https://widgets.sports-reference.com/wg.fcgi?css=1&site=fb&url=%2Fen%2Fcomps%2F' + comp_id + '%2F' + seria_a_ids[3] + '%2Fkeepers%2F2017-2018-' + 'Belgian-First-Division-A' + '-Stats&div=div_stats_keeper',\n",
    "'https://widgets.sports-reference.com/wg.fcgi?css=1&site=fb&url=%2Fen%2Fcomps%2F' + comp_id + '%2F' + seria_a_ids[4] + '%2Fkeepers%2F2016-2017-' + 'Belgian-First-Division-A' + '-Stats&div=div_stats_keeper',\n",
    "'https://widgets.sports-reference.com/wg.fcgi?css=1&site=fb&url=%2Fen%2Fcomps%2F' + comp_id + '%2F' + seria_a_ids[5] + '%2Fkeepers%2F2015-2016-' + 'Belgian-Pro-League' + '-Stats&div=div_stats_keeper',\n",
    "'https://widgets.sports-reference.com/wg.fcgi?css=1&site=fb&url=%2Fen%2Fcomps%2F' + comp_id + '%2F' + seria_a_ids[6] + '%2Fv%2F2014-2015-' + 'Belgian-Pro-League' + '-Stats&div=div_stats_keeper',\n",
    "'https://widgets.sports-reference.com/wg.fcgi?css=1&site=fb&url=%2Fen%2Fcomps%2F' + comp_id + '%2F' + seria_a_ids[7] + '%2Fkeepers%2F2013-2014-' + 'Belgian-Pro-League' + '-Stats&div=div_stats_keeper']\n",
    "\n",
    "seasons = ['20/21', '19/20', '18/19', '17/18', '16/17', '15/16', '14/15', '13/14']\n",
    "folder = 'Chile'"
   ]
  },
  {
   "cell_type": "code",
   "execution_count": null,
   "metadata": {},
   "outputs": [],
   "source": [
    "#Czech\n",
    "comp_id = '66'\n",
    "comp_name = 'Czech-First-League'\n",
    "seria_a_ids = ['10765', '3226','2427','1623','1518','1459','725','661','594','526','459','391']\n",
    "\n",
    "links = ['https://widgets.sports-reference.com/wg.fcgi?css=1&site=fb&url=%2Fen%2Fcomps%2F' + comp_id + '%2F' + seria_a_ids[0] + '%2Fkeepers%2F2020-2021-' + comp_name + '-Stats&div=div_stats_keeper', \n",
    "'https://widgets.sports-reference.com/wg.fcgi?css=1&site=fb&url=%2Fen%2Fcomps%2F' + comp_id + '%2F' + seria_a_ids[1] + '%2Fkeepers%2F2019-2020-' + comp_name + '-Stats&div=div_stats_keeper',\n",
    "'https://widgets.sports-reference.com/wg.fcgi?css=1&site=fb&url=%2Fen%2Fcomps%2F' + comp_id + '%2F' + seria_a_ids[2] + '%2Fkeepers%2F2018-2019-' + comp_name + '-Stats&div=div_stats_keeper',\n",
    "'https://widgets.sports-reference.com/wg.fcgi?css=1&site=fb&url=%2Fen%2Fcomps%2F' + comp_id + '%2F' + seria_a_ids[3] + '%2Fkeepers%2F2017-2018-' + comp_name + '-Stats&div=div_stats_keeper',\n",
    "'https://widgets.sports-reference.com/wg.fcgi?css=1&site=fb&url=%2Fen%2Fcomps%2F' + comp_id + '%2F' + seria_a_ids[4] + '%2Fkeepers%2F2016-2017-' + comp_name + '-Stats&div=div_stats_keeper',\n",
    "'https://widgets.sports-reference.com/wg.fcgi?css=1&site=fb&url=%2Fen%2Fcomps%2F' + comp_id + '%2F' + seria_a_ids[5] + '%2Fkeepers%2F2015-2016-' + comp_name + '-Stats&div=div_stats_keeper',\n",
    "'https://widgets.sports-reference.com/wg.fcgi?css=1&site=fb&url=%2Fen%2Fcomps%2F' + comp_id + '%2F' + seria_a_ids[6] + '%2Fkeepers%2F2014-2015-' + comp_name + '-Stats&div=div_stats_keeper',\n",
    "'https://widgets.sports-reference.com/wg.fcgi?css=1&site=fb&url=%2Fen%2Fcomps%2F' + comp_id + '%2F' + seria_a_ids[7] + '%2Fkeepers%2F2013-2014-' + comp_name + '-Stats&div=div_stats_keeper',\n",
    "'https://widgets.sports-reference.com/wg.fcgi?css=1&site=fb&url=%2Fen%2Fcomps%2F' + comp_id + '%2F' + seria_a_ids[8] + '%2Fkeepers%2F2012-2013-' + comp_name + '-Stats&div=div_stats_keeper',\n",
    "'https://widgets.sports-reference.com/wg.fcgi?css=1&site=fb&url=%2Fen%2Fcomps%2F' + comp_id + '%2F' + seria_a_ids[9] + '%2Fkeepers%2F2011-2012-' + comp_name + '-Stats&div=div_stats_keeper',\n",
    "'https://widgets.sports-reference.com/wg.fcgi?css=1&site=fb&url=%2Fen%2Fcomps%2F' + comp_id + '%2F' + seria_a_ids[10] + '%2Fkeepers%2F2010-2011-' + comp_name + '-Stats&div=div_stats_keeper',\n",
    "'https://widgets.sports-reference.com/wg.fcgi?css=1&site=fb&url=%2Fen%2Fcomps%2F' + comp_id + '%2F' + seria_a_ids[11] + '%2Fkeepers%2F2009-2010-' + comp_name + '-Stats&div=div_stats_keeper']\n",
    "\n",
    "seasons = ['20/21', '19/20', '18/19', '17/18', '16/17', '15/16', '14/15', '13/14', '12/13', '11/12', '10/11', '09/10']\n",
    "folder = 'Czech'"
   ]
  },
  {
   "cell_type": "code",
   "execution_count": null,
   "metadata": {},
   "outputs": [],
   "source": [
    "#Croatia\n",
    "comp_id = '63'\n",
    "comp_name = '1-HNL'\n",
    "seria_a_ids = ['10762', '3223','2422','1622','1517','1458','724','660','593','525','458','390','330','274']\n",
    "\n",
    "links = ['https://widgets.sports-reference.com/wg.fcgi?css=1&site=fb&url=%2Fen%2Fcomps%2F' + comp_id + '%2F' + seria_a_ids[0] + '%2Fkeepers%2F2020-2021-' + comp_name + '-Stats&div=div_stats_keeper', \n",
    "'https://widgets.sports-reference.com/wg.fcgi?css=1&site=fb&url=%2Fen%2Fcomps%2F' + comp_id + '%2F' + seria_a_ids[1] + '%2Fkeepers%2F2019-2020-' + comp_name + '-Stats&div=div_stats_keeper',\n",
    "'https://widgets.sports-reference.com/wg.fcgi?css=1&site=fb&url=%2Fen%2Fcomps%2F' + comp_id + '%2F' + seria_a_ids[2] + '%2Fkeepers%2F2018-2019-' + comp_name + '-Stats&div=div_stats_keeper',\n",
    "'https://widgets.sports-reference.com/wg.fcgi?css=1&site=fb&url=%2Fen%2Fcomps%2F' + comp_id + '%2F' + seria_a_ids[3] + '%2Fkeepers%2F2017-2018-' + comp_name + '-Stats&div=div_stats_keeper',\n",
    "'https://widgets.sports-reference.com/wg.fcgi?css=1&site=fb&url=%2Fen%2Fcomps%2F' + comp_id + '%2F' + seria_a_ids[4] + '%2Fkeepers%2F2016-2017-' + comp_name + '-Stats&div=div_stats_keeper',\n",
    "'https://widgets.sports-reference.com/wg.fcgi?css=1&site=fb&url=%2Fen%2Fcomps%2F' + comp_id + '%2F' + seria_a_ids[5] + '%2Fkeepers%2F2015-2016-' + comp_name + '-Stats&div=div_stats_keeper',\n",
    "'https://widgets.sports-reference.com/wg.fcgi?css=1&site=fb&url=%2Fen%2Fcomps%2F' + comp_id + '%2F' + seria_a_ids[6] + '%2Fkeepers%2F2014-2015-' + comp_name + '-Stats&div=div_stats_keeper',\n",
    "'https://widgets.sports-reference.com/wg.fcgi?css=1&site=fb&url=%2Fen%2Fcomps%2F' + comp_id + '%2F' + seria_a_ids[7] + '%2Fkeepers%2F2013-2014-' + comp_name + '-Stats&div=div_stats_keeper',\n",
    "'https://widgets.sports-reference.com/wg.fcgi?css=1&site=fb&url=%2Fen%2Fcomps%2F' + comp_id + '%2F' + seria_a_ids[8] + '%2Fkeepers%2F2012-2013-' + comp_name + '-Stats&div=div_stats_keeper',\n",
    "'https://widgets.sports-reference.com/wg.fcgi?css=1&site=fb&url=%2Fen%2Fcomps%2F' + comp_id + '%2F' + seria_a_ids[9] + '%2Fkeepers%2F2011-2012-' + comp_name + '-Stats&div=div_stats_keeper',\n",
    "'https://widgets.sports-reference.com/wg.fcgi?css=1&site=fb&url=%2Fen%2Fcomps%2F' + comp_id + '%2F' + seria_a_ids[10] + '%2Fkeepers%2F2010-2011-' + comp_name + '-Stats&div=div_stats_keeper',\n",
    "'https://widgets.sports-reference.com/wg.fcgi?css=1&site=fb&url=%2Fen%2Fcomps%2F' + comp_id + '%2F' + seria_a_ids[11] + '%2Fkeepers%2F2009-2010-' + comp_name + '-Stats&div=div_stats_keeper',\n",
    "'https://widgets.sports-reference.com/wg.fcgi?css=1&site=fb&url=%2Fen%2Fcomps%2F' + comp_id + '%2F' + seria_a_ids[12] + '%2Fkeepers%2F2008-2009-' + comp_name + '-Stats&div=div_stats_keeper',\n",
    "'https://widgets.sports-reference.com/wg.fcgi?css=1&site=fb&url=%2Fen%2Fcomps%2F' + comp_id + '%2F' + seria_a_ids[13] + '%2Fkeepers%2F2007-2008-' + comp_name + '-Stats&div=div_stats_keeper']\n",
    "\n",
    "seasons = ['20/21', '19/20', '18/19', '17/18', '16/17', '15/16', '14/15', '13/14', '12/13', '11/12', '10/11', '09/10', '08/09', '07/08']\n",
    "folder = 'Croatia'"
   ]
  },
  {
   "cell_type": "code",
   "execution_count": null,
   "metadata": {},
   "outputs": [],
   "source": [
    "#Danish\n",
    "comp_id = '50'\n",
    "seria_a_ids = ['10754', '3229','2423','1624','1519','1460','726','662','595','527','460','392','331','275', '223']\n",
    "\n",
    "links = ['https://widgets.sports-reference.com/wg.fcgi?css=1&site=fb&url=%2Fen%2Fcomps%2F' + comp_id + '%2F' + seria_a_ids[0] + '%2Fkeepers%2F2020-2021-' + 'Belgian-First-Division-A' + '-Stats&div=div_stats_keeper', \n",
    "'https://widgets.sports-reference.com/wg.fcgi?css=1&site=fb&url=%2Fen%2Fcomps%2F' + comp_id + '%2F' + seria_a_ids[1] + '%2Fkeepers%2F2019-2020-' + 'Belgian-First-Division-A' + '-Stats&div=div_stats_keeper',\n",
    "'https://widgets.sports-reference.com/wg.fcgi?css=1&site=fb&url=%2Fen%2Fcomps%2F' + comp_id + '%2F' + seria_a_ids[2] + '%2Fkeepers%2F2018-2019-' + 'Belgian-First-Division-A' + '-Stats&div=div_stats_keeper',\n",
    "'https://widgets.sports-reference.com/wg.fcgi?css=1&site=fb&url=%2Fen%2Fcomps%2F' + comp_id + '%2F' + seria_a_ids[3] + '%2Fkeepers%2F2017-2018-' + 'Belgian-First-Division-A' + '-Stats&div=div_stats_keeper',\n",
    "'https://widgets.sports-reference.com/wg.fcgi?css=1&site=fb&url=%2Fen%2Fcomps%2F' + comp_id + '%2F' + seria_a_ids[4] + '%2Fkeepers%2F2016-2017-' + 'Belgian-First-Division-A' + '-Stats&div=div_stats_keeper',\n",
    "'https://widgets.sports-reference.com/wg.fcgi?css=1&site=fb&url=%2Fen%2Fcomps%2F' + comp_id + '%2F' + seria_a_ids[5] + '%2Fkeepers%2F2015-2016-' + 'Belgian-Pro-League' + '-Stats&div=div_stats_keeper',\n",
    "'https://widgets.sports-reference.com/wg.fcgi?css=1&site=fb&url=%2Fen%2Fcomps%2F' + comp_id + '%2F' + seria_a_ids[6] + '%2Fkeepers%2F2014-2015-' + 'Belgian-Pro-League' + '-Stats&div=div_stats_keeper',\n",
    "'https://widgets.sports-reference.com/wg.fcgi?css=1&site=fb&url=%2Fen%2Fcomps%2F' + comp_id + '%2F' + seria_a_ids[7] + '%2Fkeepers%2F2013-2014-' + 'Belgian-Pro-League' + '-Stats&div=div_stats_keeper',\n",
    "'https://widgets.sports-reference.com/wg.fcgi?css=1&site=fb&url=%2Fen%2Fcomps%2F' + comp_id + '%2F' + seria_a_ids[8] + '%2Fkeepers%2F2012-2013-' + 'Belgian-Pro-League' + '-Stats&div=div_stats_keeper',\n",
    "'https://widgets.sports-reference.com/wg.fcgi?css=1&site=fb&url=%2Fen%2Fcomps%2F' + comp_id + '%2F' + seria_a_ids[9] + '%2Fkeepers%2F2011-2012-' + 'Belgian-Pro-League' + '-Stats&div=div_stats_keeper',\n",
    "'https://widgets.sports-reference.com/wg.fcgi?css=1&site=fb&url=%2Fen%2Fcomps%2F' + comp_id + '%2F' + seria_a_ids[10] + '%2Fkeepers%2F2010-2011-' + 'Belgian-Pro-League' + '-Stats&div=div_stats_keeper',\n",
    "'https://widgets.sports-reference.com/wg.fcgi?css=1&site=fb&url=%2Fen%2Fcomps%2F' + comp_id + '%2F' + seria_a_ids[11] + '%2Fkeepers%2F2009-2010-' + 'Belgian-Pro-League' + '-Stats&div=div_stats_keeper',\n",
    "'https://widgets.sports-reference.com/wg.fcgi?css=1&site=fb&url=%2Fen%2Fcomps%2F' + comp_id + '%2F' + seria_a_ids[12] + '%2Fkeepers%2F2008-2009-' + 'Belgian-First-Division' + '-Stats&div=div_stats_keeper',\n",
    "'https://widgets.sports-reference.com/wg.fcgi?css=1&site=fb&url=%2Fen%2Fcomps%2F' + comp_id + '%2F' + seria_a_ids[13] + '%2Fkeepers%2F2007-2008-' + 'Belgian-First-Division' + '-Stats&div=div_stats_keeper',\n",
    "'https://widgets.sports-reference.com/wg.fcgi?css=1&site=fb&url=%2Fen%2Fcomps%2F' + comp_id + '%2F' + seria_a_ids[14] + '%2Fkeepers%2F2006-2007-' + 'Belgian-First-Division' + '-Stats&div=div_stats_keeper']\n",
    "\n",
    "seasons = ['20/21', '19/20', '18/19', '17/18', '16/17', '15/16', '14/15', '13/14', '12/13', '11/12', '10/11', '09/10', '08/09', '07/08','06/07']\n",
    "folder = 'Danish'"
   ]
  },
  {
   "cell_type": "code",
   "execution_count": null,
   "metadata": {},
   "outputs": [],
   "source": [
    "#Dutch\n",
    "comp_id = '23'\n",
    "seria_a_ids = ['10739', '3269','2231','1625','1520','1462','728','664','597','529','462','394','333','277', '224']\n",
    "comp_name = 'Dutch-Eredivisie'\n",
    "\n",
    "links = ['https://widgets.sports-reference.com/wg.fcgi?css=1&site=fb&url=%2Fen%2Fcomps%2F' + comp_id + '%2F' + seria_a_ids[0] + '%2Fkeepers%2F2020-2021-' + 'Belgian-First-Division-A' + '-Stats&div=div_stats_keeper', \n",
    "'https://widgets.sports-reference.com/wg.fcgi?css=1&site=fb&url=%2Fen%2Fcomps%2F' + comp_id + '%2F' + seria_a_ids[1] + '%2Fkeepers%2F2019-2020-' + 'Belgian-First-Division-A' + '-Stats&div=div_stats_keeper',\n",
    "'https://widgets.sports-reference.com/wg.fcgi?css=1&site=fb&url=%2Fen%2Fcomps%2F' + comp_id + '%2F' + seria_a_ids[2] + '%2Fkeepers%2F2018-2019-' + 'Belgian-First-Division-A' + '-Stats&div=div_stats_keeper',\n",
    "'https://widgets.sports-reference.com/wg.fcgi?css=1&site=fb&url=%2Fen%2Fcomps%2F' + comp_id + '%2F' + seria_a_ids[3] + '%2Fkeepers%2F2017-2018-' + 'Belgian-First-Division-A' + '-Stats&div=div_stats_keeper',\n",
    "'https://widgets.sports-reference.com/wg.fcgi?css=1&site=fb&url=%2Fen%2Fcomps%2F' + comp_id + '%2F' + seria_a_ids[4] + '%2Fkeepers%2F2016-2017-' + 'Belgian-First-Division-A' + '-Stats&div=div_stats_keeper',\n",
    "'https://widgets.sports-reference.com/wg.fcgi?css=1&site=fb&url=%2Fen%2Fcomps%2F' + comp_id + '%2F' + seria_a_ids[5] + '%2Fkeepers%2F2015-2016-' + 'Belgian-Pro-League' + '-Stats&div=div_stats_keeper',\n",
    "'https://widgets.sports-reference.com/wg.fcgi?css=1&site=fb&url=%2Fen%2Fcomps%2F' + comp_id + '%2F' + seria_a_ids[6] + '%2Fkeepers%2F2014-2015-' + 'Belgian-Pro-League' + '-Stats&div=div_stats_keeper',\n",
    "'https://widgets.sports-reference.com/wg.fcgi?css=1&site=fb&url=%2Fen%2Fcomps%2F' + comp_id + '%2F' + seria_a_ids[7] + '%2Fkeepers%2F2013-2014-' + 'Belgian-Pro-League' + '-Stats&div=div_stats_keeper',\n",
    "'https://widgets.sports-reference.com/wg.fcgi?css=1&site=fb&url=%2Fen%2Fcomps%2F' + comp_id + '%2F' + seria_a_ids[8] + '%2Fkeepers%2F2012-2013-' + 'Belgian-Pro-League' + '-Stats&div=div_stats_keeper',\n",
    "'https://widgets.sports-reference.com/wg.fcgi?css=1&site=fb&url=%2Fen%2Fcomps%2F' + comp_id + '%2F' + seria_a_ids[9] + '%2Fkeepers%2F2011-2012-' + 'Belgian-Pro-League' + '-Stats&div=div_stats_keeper',\n",
    "'https://widgets.sports-reference.com/wg.fcgi?css=1&site=fb&url=%2Fen%2Fcomps%2F' + comp_id + '%2F' + seria_a_ids[10] + '%2Fkeepers%2F2010-2011-' + 'Belgian-Pro-League' + '-Stats&div=div_stats_keeper',\n",
    "'https://widgets.sports-reference.com/wg.fcgi?css=1&site=fb&url=%2Fen%2Fcomps%2F' + comp_id + '%2F' + seria_a_ids[11] + '%2Fkeepers%2F2009-2010-' + 'Belgian-Pro-League' + '-Stats&div=div_stats_keeper',\n",
    "'https://widgets.sports-reference.com/wg.fcgi?css=1&site=fb&url=%2Fen%2Fcomps%2F' + comp_id + '%2F' + seria_a_ids[12] + '%2Fkeepers%2F2008-2009-' + 'Belgian-First-Division' + '-Stats&div=div_stats_keeper',\n",
    "'https://widgets.sports-reference.com/wg.fcgi?css=1&site=fb&url=%2Fen%2Fcomps%2F' + comp_id + '%2F' + seria_a_ids[13] + '%2Fkeepers%2F2007-2008-' + 'Belgian-First-Division' + '-Stats&div=div_stats_keeper',\n",
    "'https://widgets.sports-reference.com/wg.fcgi?css=1&site=fb&url=%2Fen%2Fcomps%2F' + comp_id + '%2F' + seria_a_ids[14] + '%2Fkeepers%2F2006-2007-' + 'Belgian-First-Division' + '-Stats&div=div_stats_keeper']\n",
    "\n",
    "seasons = ['20/21', '19/20', '18/19', '17/18', '16/17', '15/16', '14/15', '13/14', '12/13', '11/12', '10/11', '09/10', '08/09', '07/08','06/07']\n",
    "folder = 'Dutch'"
   ]
  },
  {
   "cell_type": "code",
   "execution_count": null,
   "metadata": {},
   "outputs": [],
   "source": [
    "#Greek\n",
    "comp_id = '23'\n",
    "seria_a_ids = ['10741', '3254','2428','1637','1532','1473','739','675','608','540','473','406','342','286', '233']\n",
    "comp_name = 'Super-League-Greece'\n",
    "\n",
    "links = ['https://widgets.sports-reference.com/wg.fcgi?css=1&site=fb&url=%2Fen%2Fcomps%2F' + comp_id + '%2F' + seria_a_ids[0] + '%2Fkeepers%2F2020-2021-' + 'Belgian-First-Division-A' + '-Stats&div=div_stats_keeper', \n",
    "'https://widgets.sports-reference.com/wg.fcgi?css=1&site=fb&url=%2Fen%2Fcomps%2F' + comp_id + '%2F' + seria_a_ids[1] + '%2Fkeepers%2F2019-2020-' + 'Belgian-First-Division-A' + '-Stats&div=div_stats_keeper',\n",
    "'https://widgets.sports-reference.com/wg.fcgi?css=1&site=fb&url=%2Fen%2Fcomps%2F' + comp_id + '%2F' + seria_a_ids[2] + '%2Fkeepers%2F2018-2019-' + 'Belgian-First-Division-A' + '-Stats&div=div_stats_keeper',\n",
    "'https://widgets.sports-reference.com/wg.fcgi?css=1&site=fb&url=%2Fen%2Fcomps%2F' + comp_id + '%2F' + seria_a_ids[3] + '%2Fkeepers%2F2017-2018-' + 'Belgian-First-Division-A' + '-Stats&div=div_stats_keeper',\n",
    "'https://widgets.sports-reference.com/wg.fcgi?css=1&site=fb&url=%2Fen%2Fcomps%2F' + comp_id + '%2F' + seria_a_ids[4] + '%2Fkeepers%2F2016-2017-' + 'Belgian-First-Division-A' + '-Stats&div=div_stats_keeper',\n",
    "'https://widgets.sports-reference.com/wg.fcgi?css=1&site=fb&url=%2Fen%2Fcomps%2F' + comp_id + '%2F' + seria_a_ids[5] + '%2Fkeepers%2F2015-2016-' + 'Belgian-Pro-League' + '-Stats&div=div_stats_keeper',\n",
    "'https://widgets.sports-reference.com/wg.fcgi?css=1&site=fb&url=%2Fen%2Fcomps%2F' + comp_id + '%2F' + seria_a_ids[6] + '%2Fkeepers%2F2014-2015-' + 'Belgian-Pro-League' + '-Stats&div=div_stats_keeper',\n",
    "'https://widgets.sports-reference.com/wg.fcgi?css=1&site=fb&url=%2Fen%2Fcomps%2F' + comp_id + '%2F' + seria_a_ids[7] + '%2Fkeepers%2F2013-2014-' + 'Belgian-Pro-League' + '-Stats&div=div_stats_keeper',\n",
    "'https://widgets.sports-reference.com/wg.fcgi?css=1&site=fb&url=%2Fen%2Fcomps%2F' + comp_id + '%2F' + seria_a_ids[8] + '%2Fkeepers%2F2012-2013-' + 'Belgian-Pro-League' + '-Stats&div=div_stats_keeper',\n",
    "'https://widgets.sports-reference.com/wg.fcgi?css=1&site=fb&url=%2Fen%2Fcomps%2F' + comp_id + '%2F' + seria_a_ids[9] + '%2Fkeepers%2F2011-2012-' + 'Belgian-Pro-League' + '-Stats&div=div_stats_keeper',\n",
    "'https://widgets.sports-reference.com/wg.fcgi?css=1&site=fb&url=%2Fen%2Fcomps%2F' + comp_id + '%2F' + seria_a_ids[10] + '%2Fkeepers%2F2010-2011-' + 'Belgian-Pro-League' + '-Stats&div=div_stats_keeper',\n",
    "'https://widgets.sports-reference.com/wg.fcgi?css=1&site=fb&url=%2Fen%2Fcomps%2F' + comp_id + '%2F' + seria_a_ids[11] + '%2Fkeepers%2F2009-2010-' + 'Belgian-Pro-League' + '-Stats&div=div_stats_keeper',\n",
    "'https://widgets.sports-reference.com/wg.fcgi?css=1&site=fb&url=%2Fen%2Fcomps%2F' + comp_id + '%2F' + seria_a_ids[12] + '%2Fkeepers%2F2008-2009-' + 'Belgian-First-Division' + '-Stats&div=div_stats_keeper',\n",
    "'https://widgets.sports-reference.com/wg.fcgi?css=1&site=fb&url=%2Fen%2Fcomps%2F' + comp_id + '%2F' + seria_a_ids[13] + '%2Fkeepers%2F2007-2008-' + 'Belgian-First-Division' + '-Stats&div=div_stats_keeper',\n",
    "'https://widgets.sports-reference.com/wg.fcgi?css=1&site=fb&url=%2Fen%2Fcomps%2F' + comp_id + '%2F' + seria_a_ids[14] + '%2Fkeepers%2F2006-2007-' + 'Belgian-First-Division' + '-Stats&div=div_stats_keeper']\n",
    "\n",
    "seasons = ['20/21', '19/20', '18/19', '17/18', '16/17', '15/16', '14/15', '13/14', '12/13', '11/12', '10/11', '09/10', '08/09', '07/08','06/07']\n",
    "folder = 'Greek'"
   ]
  },
  {
   "cell_type": "code",
   "execution_count": null,
   "metadata": {},
   "outputs": [],
   "source": [
    "#Portugal\n",
    "links  = ['https://fbref.com/en/comps/32/10744/2020-2021-Primeira-Liga-Stats', 'https://fbref.com/en/comps/32/3278/2019-2020-Primeira-Liga-Stats',\n",
    "    'https://fbref.com/en/comps/32/2226/2018-2019-Primeira-Liga-Stats', 'https://fbref.com/en/comps/32/1644/2017-2018-Primeira-Liga-Stats', \n",
    "    'https://fbref.com/en/comps/32/1539/2016-2017-Primeira-Liga-Stats', 'https://fbref.com/en/comps/32/1480/2015-2016-Primeira-Liga-Stats',\n",
    "    'https://fbref.com/en/comps/32/746/2014-2015-Primeira-Liga-Stats','https://fbref.com/en/comps/32/681/2013-2014-Primeira-Liga-Stats',\n",
    "    'https://fbref.com/en/comps/32/615/2012-2013-Primeira-Liga-Stats','https://fbref.com/en/comps/32/548/2011-2012-Primeira-Liga-Stats',\n",
    "    'https://fbref.com/en/comps/32/481/2010-2011-Primeira-Liga-Stats','https://fbref.com/en/comps/32/414/2009-2010-Primeira-Liga-Stats',\n",
    "    'https://fbref.com/en/comps/32/349/2008-2009-Primeira-Liga-Stats', 'https://fbref.com/en/comps/32/293/2007-2008-Primeira-Liga-Stats',\n",
    "    'https://fbref.com/en/comps/32/240/2006-2007-Primeira-Liga-Stats']\n",
    "\n",
    "comp_id = '32'\n",
    "comp_name = 'Primeira-Liga'\n",
    "seria_a_ids = ['10744', '3278','2226','1644','1539','1480','746','681','615','548','481','414','349','293', '240']\n",
    "\n",
    "links = ['https://widgets.sports-reference.com/wg.fcgi?css=1&site=fb&url=%2Fen%2Fcomps%2F' + comp_id + '%2F' + seria_a_ids[0] + '%2Fkeepers%2F2020-2021-' + comp_name + '-Stats&div=div_stats_keeper', \n",
    "'https://widgets.sports-reference.com/wg.fcgi?css=1&site=fb&url=%2Fen%2Fcomps%2F' + comp_id + '%2F' + seria_a_ids[1] + '%2Fkeepers%2F2019-2020-' + comp_name + '-Stats&div=div_stats_keeper',\n",
    "'https://widgets.sports-reference.com/wg.fcgi?css=1&site=fb&url=%2Fen%2Fcomps%2F' + comp_id + '%2F' + seria_a_ids[2] + '%2Fkeepers%2F2018-2019-' + comp_name + '-Stats&div=div_stats_keeper',\n",
    "'https://widgets.sports-reference.com/wg.fcgi?css=1&site=fb&url=%2Fen%2Fcomps%2F' + comp_id + '%2F' + seria_a_ids[3] + '%2Fkeepers%2F2017-2018-' + comp_name + '-Stats&div=div_stats_keeper',\n",
    "'https://widgets.sports-reference.com/wg.fcgi?css=1&site=fb&url=%2Fen%2Fcomps%2F' + comp_id + '%2F' + seria_a_ids[4] + '%2Fkeepers%2F2016-2017-' + comp_name + '-Stats&div=div_stats_keeper',\n",
    "'https://widgets.sports-reference.com/wg.fcgi?css=1&site=fb&url=%2Fen%2Fcomps%2F' + comp_id + '%2F' + seria_a_ids[5] + '%2Fkeepers%2F2015-2016-' + comp_name + '-Stats&div=div_stats_keeper',\n",
    "'https://widgets.sports-reference.com/wg.fcgi?css=1&site=fb&url=%2Fen%2Fcomps%2F' + comp_id + '%2F' + seria_a_ids[6] + '%2Fkeepers%2F2014-2015-' + comp_name + '-Stats&div=div_stats_keeper',\n",
    "'https://widgets.sports-reference.com/wg.fcgi?css=1&site=fb&url=%2Fen%2Fcomps%2F' + comp_id + '%2F' + seria_a_ids[7] + '%2Fkeepers%2F2013-2014-' + comp_name + '-Stats&div=div_stats_keeper',\n",
    "'https://widgets.sports-reference.com/wg.fcgi?css=1&site=fb&url=%2Fen%2Fcomps%2F' + comp_id + '%2F' + seria_a_ids[8] + '%2Fkeepers%2F2012-2013-' + comp_name + '-Stats&div=div_stats_keeper',\n",
    "'https://widgets.sports-reference.com/wg.fcgi?css=1&site=fb&url=%2Fen%2Fcomps%2F' + comp_id + '%2F' + seria_a_ids[9] + '%2Fkeepers%2F2011-2012-' + comp_name + '-Stats&div=div_stats_keeper',\n",
    "'https://widgets.sports-reference.com/wg.fcgi?css=1&site=fb&url=%2Fen%2Fcomps%2F' + comp_id + '%2F' + seria_a_ids[10] + '%2Fkeepers%2F2010-2011-' + comp_name + '-Stats&div=div_stats_keeper',\n",
    "'https://widgets.sports-reference.com/wg.fcgi?css=1&site=fb&url=%2Fen%2Fcomps%2F' + comp_id + '%2F' + seria_a_ids[11] + '%2Fkeepers%2F2009-2010-' + comp_name + '-Stats&div=div_stats_keeper',\n",
    "'https://widgets.sports-reference.com/wg.fcgi?css=1&site=fb&url=%2Fen%2Fcomps%2F' + comp_id + '%2F' + seria_a_ids[12] + '%2Fkeepers%2F2008-2009-' + comp_name + '-Stats&div=div_stats_keeper',\n",
    "'https://widgets.sports-reference.com/wg.fcgi?css=1&site=fb&url=%2Fen%2Fcomps%2F' + comp_id + '%2F' + seria_a_ids[13] + '%2Fkeepers%2F2007-2008-' + comp_name + '-Stats&div=div_stats_keeper',\n",
    "'https://widgets.sports-reference.com/wg.fcgi?css=1&site=fb&url=%2Fen%2Fcomps%2F' + comp_id + '%2F' + seria_a_ids[14] + '%2Fkeepers%2F2006-2007-' + comp_name + '-Stats&div=div_stats_keeper']\n",
    "\n",
    "seasons = ['20/21', '19/20', '18/19', '17/18', '16/17', '15/16', '14/15', '13/14', '12/13', '11/12', '10/11', '09/10', '08/09', '07/08','06/07']\n",
    "folder = 'Portugal'"
   ]
  },
  {
   "cell_type": "code",
   "execution_count": null,
   "metadata": {},
   "outputs": [],
   "source": [
    "#Russian\n",
    "comp_id = '30'\n",
    "comp_name = 'Russian-Premier-League'\n",
    "seria_a_ids = ['10742', '3285','2371','1646','1541','1482','748','683','617','551','446','378','320','264', '214']\n",
    "\n",
    "links = ['https://widgets.sports-reference.com/wg.fcgi?css=1&site=fb&url=%2Fen%2Fcomps%2F' + comp_id + '%2F' + seria_a_ids[0] + '%2Fkeepers%2F2020-2021-' + comp_name + '-Stats&div=div_stats_keeper', \n",
    "'https://widgets.sports-reference.com/wg.fcgi?css=1&site=fb&url=%2Fen%2Fcomps%2F' + comp_id + '%2F' + seria_a_ids[1] + '%2Fkeepers%2F2019-2020-' + comp_name + '-Stats&div=div_stats_keeper',\n",
    "'https://widgets.sports-reference.com/wg.fcgi?css=1&site=fb&url=%2Fen%2Fcomps%2F' + comp_id + '%2F' + seria_a_ids[2] + '%2Fkeepers%2F2018-2019-' + comp_name + '-Stats&div=div_stats_keeper',\n",
    "'https://widgets.sports-reference.com/wg.fcgi?css=1&site=fb&url=%2Fen%2Fcomps%2F' + comp_id + '%2F' + seria_a_ids[3] + '%2Fkeepers%2F2017-2018-' + comp_name + '-Stats&div=div_stats_keeper',\n",
    "'https://widgets.sports-reference.com/wg.fcgi?css=1&site=fb&url=%2Fen%2Fcomps%2F' + comp_id + '%2F' + seria_a_ids[4] + '%2Fkeepers%2F2016-2017-' + comp_name + '-Stats&div=div_stats_keeper',\n",
    "'https://widgets.sports-reference.com/wg.fcgi?css=1&site=fb&url=%2Fen%2Fcomps%2F' + comp_id + '%2F' + seria_a_ids[5] + '%2Fkeepers%2F2015-2016-' + comp_name + '-Stats&div=div_stats_keeper',\n",
    "'https://widgets.sports-reference.com/wg.fcgi?css=1&site=fb&url=%2Fen%2Fcomps%2F' + comp_id + '%2F' + seria_a_ids[6] + '%2Fkeepers%2F2014-2015-' + comp_name + '-Stats&div=div_stats_keeper',\n",
    "'https://widgets.sports-reference.com/wg.fcgi?css=1&site=fb&url=%2Fen%2Fcomps%2F' + comp_id + '%2F' + seria_a_ids[7] + '%2Fkeepers%2F2013-2014-' + comp_name + '-Stats&div=div_stats_keeper',\n",
    "'https://widgets.sports-reference.com/wg.fcgi?css=1&site=fb&url=%2Fen%2Fcomps%2F' + comp_id + '%2F' + seria_a_ids[8] + '%2Fkeepers%2F2012-2013-' + comp_name + '-Stats&div=div_stats_keeper',\n",
    "'https://widgets.sports-reference.com/wg.fcgi?css=1&site=fb&url=%2Fen%2Fcomps%2F' + comp_id + '%2F' + seria_a_ids[9] + '%2Fkeepers%2F2011-2012-' + comp_name + '-Stats&div=div_stats_keeper',\n",
    "'https://widgets.sports-reference.com/wg.fcgi?css=1&site=fb&url=%2Fen%2Fcomps%2F' + comp_id + '%2F' + seria_a_ids[10] + '%2Fkeepers%2F2010-2011-' + comp_name + '-Stats&div=div_stats_keeper',\n",
    "'https://widgets.sports-reference.com/wg.fcgi?css=1&site=fb&url=%2Fen%2Fcomps%2F' + comp_id + '%2F' + seria_a_ids[11] + '%2Fkeepers%2F2009-2010-' + comp_name + '-Stats&div=div_stats_keeper',\n",
    "'https://widgets.sports-reference.com/wg.fcgi?css=1&site=fb&url=%2Fen%2Fcomps%2F' + comp_id + '%2F' + seria_a_ids[12] + '%2Fkeepers%2F2008-2009-' + comp_name + '-Stats&div=div_stats_keeper',\n",
    "'https://widgets.sports-reference.com/wg.fcgi?css=1&site=fb&url=%2Fen%2Fcomps%2F' + comp_id + '%2F' + seria_a_ids[13] + '%2Fkeepers%2F2007-2008-' + comp_name + '-Stats&div=div_stats_keeper',\n",
    "'https://widgets.sports-reference.com/wg.fcgi?css=1&site=fb&url=%2Fen%2Fcomps%2F' + comp_id + '%2F' + seria_a_ids[14] + '%2Fkeepers%2F2006-2007-' + comp_name + '-Stats&div=div_stats_keeper']\n",
    "\n",
    "seasons = ['20/21', '19/20', '18/19', '17/18', '16/17', '15/16', '14/15', '13/14', '12/13', '11/12', '10/11', '09/10', '08/09', '07/08','06/07']\n",
    "folder = 'Russian'"
   ]
  },
  {
   "cell_type": "code",
   "execution_count": null,
   "metadata": {},
   "outputs": [],
   "source": [
    "#Scottish\n",
    "links  = ['https://fbref.com/en/comps/40/10750/2020-2021-Scottish-Premiership-Stats', 'https://fbref.com/en/comps/40/3289/2019-2020-Scottish-Premiership-Stats',\n",
    "    'https://fbref.com/en/comps/40/2116/2018-2019-Scottish-Premiership-Stats', 'https://fbref.com/en/comps/40/1649/2017-2018-Scottish-Premiership-Stats', \n",
    "    'https://fbref.com/en/comps/40/1544/2016-2017-Scottish-Premiership-Stats', 'https://fbref.com/en/comps/40/1485/2015-2016-Scottish-Premiership-Stats',\n",
    "    'https://fbref.com/en/comps/40/752/2014-2015-Scottish-Premiership-Stats','https://fbref.com/en/comps/40/687/2013-2014-Scottish-Premiership-Stats',\n",
    "    'https://fbref.com/en/comps/40/621/2012-2013-Scottish-Premier-League-Stats','https://fbref.com/en/comps/40/554/2011-2012-Scottish-Premier-League-Stats',\n",
    "    'https://fbref.com/en/comps/40/485/2010-2011-Scottish-Premier-League-Stats','https://fbref.com/en/comps/40/419/2009-2010-Scottish-Premier-League-Stats',\n",
    "    'https://fbref.com/en/comps/40/352/2008-2009-Scottish-Premier-League-Stats', 'https://fbref.com/en/comps/40/296/2007-2008-Scottish-Premier-League-Stats',\n",
    "    'https://fbref.com/en/comps/40/242/2006-2007-Scottish-Premier-League-Stats']\n",
    "seasons = ['20/21', '19/20', '18/19', '17/18', '16/17', '15/16', '14/15', '13/14', '12/13', '11/12', '10/11', '09/10', '08/09', '07/08','06/07']\n",
    "folder = 'Scottish'\n",
    "\n",
    "comp_id = '40'\n",
    "comp_name = 'Scottish-Premier-League'\n",
    "seria_a_ids = ['10750', '3289','2116','1649','1544','1485','752','687','621','554','485','419','352','296', '242']\n",
    "\n",
    "links = ['https://widgets.sports-reference.com/wg.fcgi?css=1&site=fb&url=%2Fen%2Fcomps%2F' + comp_id + '%2F' + seria_a_ids[0] + '%2Fkeepers%2F2020-2021-' + comp_name + '-Stats&div=div_stats_keeper', \n",
    "'https://widgets.sports-reference.com/wg.fcgi?css=1&site=fb&url=%2Fen%2Fcomps%2F' + comp_id + '%2F' + seria_a_ids[1] + '%2Fkeepers%2F2019-2020-' + comp_name + '-Stats&div=div_stats_keeper',\n",
    "'https://widgets.sports-reference.com/wg.fcgi?css=1&site=fb&url=%2Fen%2Fcomps%2F' + comp_id + '%2F' + seria_a_ids[2] + '%2Fkeepers%2F2018-2019-' + comp_name + '-Stats&div=div_stats_keeper',\n",
    "'https://widgets.sports-reference.com/wg.fcgi?css=1&site=fb&url=%2Fen%2Fcomps%2F' + comp_id + '%2F' + seria_a_ids[3] + '%2Fkeepers%2F2017-2018-' + comp_name + '-Stats&div=div_stats_keeper',\n",
    "'https://widgets.sports-reference.com/wg.fcgi?css=1&site=fb&url=%2Fen%2Fcomps%2F' + comp_id + '%2F' + seria_a_ids[4] + '%2Fkeepers%2F2016-2017-' + comp_name + '-Stats&div=div_stats_keeper',\n",
    "'https://widgets.sports-reference.com/wg.fcgi?css=1&site=fb&url=%2Fen%2Fcomps%2F' + comp_id + '%2F' + seria_a_ids[5] + '%2Fkeepers%2F2015-2016-' + comp_name + '-Stats&div=div_stats_keeper',\n",
    "'https://widgets.sports-reference.com/wg.fcgi?css=1&site=fb&url=%2Fen%2Fcomps%2F' + comp_id + '%2F' + seria_a_ids[6] + '%2Fkeepers%2F2014-2015-' + comp_name + '-Stats&div=div_stats_keeper',\n",
    "'https://widgets.sports-reference.com/wg.fcgi?css=1&site=fb&url=%2Fen%2Fcomps%2F' + comp_id + '%2F' + seria_a_ids[7] + '%2Fkeepers%2F2013-2014-' + comp_name + '-Stats&div=div_stats_keeper',\n",
    "'https://widgets.sports-reference.com/wg.fcgi?css=1&site=fb&url=%2Fen%2Fcomps%2F' + comp_id + '%2F' + seria_a_ids[8] + '%2Fkeepers%2F2012-2013-' + comp_name + '-Stats&div=div_stats_keeper',\n",
    "'https://widgets.sports-reference.com/wg.fcgi?css=1&site=fb&url=%2Fen%2Fcomps%2F' + comp_id + '%2F' + seria_a_ids[9] + '%2Fkeepers%2F2011-2012-' + comp_name + '-Stats&div=div_stats_keeper',\n",
    "'https://widgets.sports-reference.com/wg.fcgi?css=1&site=fb&url=%2Fen%2Fcomps%2F' + comp_id + '%2F' + seria_a_ids[10] + '%2Fkeepers%2F2010-2011-' + comp_name + '-Stats&div=div_stats_keeper',\n",
    "'https://widgets.sports-reference.com/wg.fcgi?css=1&site=fb&url=%2Fen%2Fcomps%2F' + comp_id + '%2F' + seria_a_ids[11] + '%2Fkeepers%2F2009-2010-' + comp_name + '-Stats&div=div_stats_keeper',\n",
    "'https://widgets.sports-reference.com/wg.fcgi?css=1&site=fb&url=%2Fen%2Fcomps%2F' + comp_id + '%2F' + seria_a_ids[12] + '%2Fkeepers%2F2008-2009-' + comp_name + '-Stats&div=div_stats_keeper',\n",
    "'https://widgets.sports-reference.com/wg.fcgi?css=1&site=fb&url=%2Fen%2Fcomps%2F' + comp_id + '%2F' + seria_a_ids[13] + '%2Fkeepers%2F2007-2008-' + comp_name + '-Stats&div=div_stats_keeper',\n",
    "'https://widgets.sports-reference.com/wg.fcgi?css=1&site=fb&url=%2Fen%2Fcomps%2F' + comp_id + '%2F' + seria_a_ids[14] + '%2Fkeepers%2F2006-2007-' + comp_name + '-Stats&div=div_stats_keeper']\n",
    "\n",
    "seasons = ['20/21', '19/20', '18/19', '17/18', '16/17', '15/16', '14/15', '13/14', '12/13', '11/12', '10/11', '09/10', '08/09', '07/08','06/07']\n",
    "folder = 'Scottish'"
   ]
  },
  {
   "cell_type": "code",
   "execution_count": null,
   "metadata": {},
   "outputs": [],
   "source": [
    "#Swedish\n",
    "comp_id = '29'\n",
    "comp_name = 'Allsvenskan'\n",
    "seria_a_ids = ['10086', '2917','1763','1562','1509','1348','714','649','583','515','448','380','322','266', '215']\n",
    "\n",
    "links = ['https://widgets.sports-reference.com/wg.fcgi?css=1&site=fb&url=%2Fen%2Fcomps%2F' + comp_id + '%2F' + seria_a_ids[0] + '%2Fkeepers%2F2020-2021-' + comp_name + '-Stats&div=div_stats_keeper', \n",
    "'https://widgets.sports-reference.com/wg.fcgi?css=1&site=fb&url=%2Fen%2Fcomps%2F' + comp_id + '%2F' + seria_a_ids[1] + '%2Fkeepers%2F2019-2020-' + comp_name + '-Stats&div=div_stats_keeper',\n",
    "'https://widgets.sports-reference.com/wg.fcgi?css=1&site=fb&url=%2Fen%2Fcomps%2F' + comp_id + '%2F' + seria_a_ids[2] + '%2Fkeepers%2F2018-2019-' + comp_name + '-Stats&div=div_stats_keeper',\n",
    "'https://widgets.sports-reference.com/wg.fcgi?css=1&site=fb&url=%2Fen%2Fcomps%2F' + comp_id + '%2F' + seria_a_ids[3] + '%2Fkeepers%2F2017-2018-' + comp_name + '-Stats&div=div_stats_keeper',\n",
    "'https://widgets.sports-reference.com/wg.fcgi?css=1&site=fb&url=%2Fen%2Fcomps%2F' + comp_id + '%2F' + seria_a_ids[4] + '%2Fkeepers%2F2016-2017-' + comp_name + '-Stats&div=div_stats_keeper',\n",
    "'https://widgets.sports-reference.com/wg.fcgi?css=1&site=fb&url=%2Fen%2Fcomps%2F' + comp_id + '%2F' + seria_a_ids[5] + '%2Fkeepers%2F2015-2016-' + comp_name + '-Stats&div=div_stats_keeper',\n",
    "'https://widgets.sports-reference.com/wg.fcgi?css=1&site=fb&url=%2Fen%2Fcomps%2F' + comp_id + '%2F' + seria_a_ids[6] + '%2Fkeepers%2F2014-2015-' + comp_name + '-Stats&div=div_stats_keeper',\n",
    "'https://widgets.sports-reference.com/wg.fcgi?css=1&site=fb&url=%2Fen%2Fcomps%2F' + comp_id + '%2F' + seria_a_ids[7] + '%2Fkeepers%2F2013-2014-' + comp_name + '-Stats&div=div_stats_keeper',\n",
    "'https://widgets.sports-reference.com/wg.fcgi?css=1&site=fb&url=%2Fen%2Fcomps%2F' + comp_id + '%2F' + seria_a_ids[8] + '%2Fkeepers%2F2012-2013-' + comp_name + '-Stats&div=div_stats_keeper',\n",
    "'https://widgets.sports-reference.com/wg.fcgi?css=1&site=fb&url=%2Fen%2Fcomps%2F' + comp_id + '%2F' + seria_a_ids[9] + '%2Fkeepers%2F2011-2012-' + comp_name + '-Stats&div=div_stats_keeper',\n",
    "'https://widgets.sports-reference.com/wg.fcgi?css=1&site=fb&url=%2Fen%2Fcomps%2F' + comp_id + '%2F' + seria_a_ids[10] + '%2Fkeepers%2F2010-2011-' + comp_name + '-Stats&div=div_stats_keeper',\n",
    "'https://widgets.sports-reference.com/wg.fcgi?css=1&site=fb&url=%2Fen%2Fcomps%2F' + comp_id + '%2F' + seria_a_ids[11] + '%2Fkeepers%2F2009-2010-' + comp_name + '-Stats&div=div_stats_keeper',\n",
    "'https://widgets.sports-reference.com/wg.fcgi?css=1&site=fb&url=%2Fen%2Fcomps%2F' + comp_id + '%2F' + seria_a_ids[12] + '%2Fkeepers%2F2008-2009-' + comp_name + '-Stats&div=div_stats_keeper',\n",
    "'https://widgets.sports-reference.com/wg.fcgi?css=1&site=fb&url=%2Fen%2Fcomps%2F' + comp_id + '%2F' + seria_a_ids[13] + '%2Fkeepers%2F2007-2008-' + comp_name + '-Stats&div=div_stats_keeper',\n",
    "'https://widgets.sports-reference.com/wg.fcgi?css=1&site=fb&url=%2Fen%2Fcomps%2F' + comp_id + '%2F' + seria_a_ids[14] + '%2Fkeepers%2F2006-2007-' + comp_name + '-Stats&div=div_stats_keeper']\n",
    "\n",
    "seasons = ['20/21', '19/20', '18/19', '17/18', '16/17', '15/16', '14/15', '13/14', '12/13', '11/12', '10/11', '09/10', '08/09', '07/08','06/07']\n",
    "folder = 'Swedish'"
   ]
  },
  {
   "cell_type": "code",
   "execution_count": 163,
   "metadata": {},
   "outputs": [],
   "source": [
    "#Swiss\n",
    "comp_id = '57'\n",
    "comp_name = 'Swiss-Super-League'\n",
    "seria_a_ids = ['10759', '3298','2425','1654','1549','1490','757','692','626','559','490','424','357','301', '247']\n",
    "\n",
    "links = ['https://widgets.sports-reference.com/wg.fcgi?css=1&site=fb&url=%2Fen%2Fcomps%2F' + comp_id + '%2F' + seria_a_ids[0] + '%2Fkeepers%2F2020-2021-' + comp_name + '-Stats&div=div_stats_keeper', \n",
    "'https://widgets.sports-reference.com/wg.fcgi?css=1&site=fb&url=%2Fen%2Fcomps%2F' + comp_id + '%2F' + seria_a_ids[1] + '%2Fkeepers%2F2019-2020-' + comp_name + '-Stats&div=div_stats_keeper',\n",
    "'https://widgets.sports-reference.com/wg.fcgi?css=1&site=fb&url=%2Fen%2Fcomps%2F' + comp_id + '%2F' + seria_a_ids[2] + '%2Fkeepers%2F2018-2019-' + comp_name + '-Stats&div=div_stats_keeper',\n",
    "'https://widgets.sports-reference.com/wg.fcgi?css=1&site=fb&url=%2Fen%2Fcomps%2F' + comp_id + '%2F' + seria_a_ids[3] + '%2Fkeepers%2F2017-2018-' + comp_name + '-Stats&div=div_stats_keeper',\n",
    "'https://widgets.sports-reference.com/wg.fcgi?css=1&site=fb&url=%2Fen%2Fcomps%2F' + comp_id + '%2F' + seria_a_ids[4] + '%2Fkeepers%2F2016-2017-' + comp_name + '-Stats&div=div_stats_keeper',\n",
    "'https://widgets.sports-reference.com/wg.fcgi?css=1&site=fb&url=%2Fen%2Fcomps%2F' + comp_id + '%2F' + seria_a_ids[5] + '%2Fkeepers%2F2015-2016-' + comp_name + '-Stats&div=div_stats_keeper',\n",
    "'https://widgets.sports-reference.com/wg.fcgi?css=1&site=fb&url=%2Fen%2Fcomps%2F' + comp_id + '%2F' + seria_a_ids[6] + '%2Fkeepers%2F2014-2015-' + comp_name + '-Stats&div=div_stats_keeper',\n",
    "'https://widgets.sports-reference.com/wg.fcgi?css=1&site=fb&url=%2Fen%2Fcomps%2F' + comp_id + '%2F' + seria_a_ids[7] + '%2Fkeepers%2F2013-2014-' + comp_name + '-Stats&div=div_stats_keeper',\n",
    "'https://widgets.sports-reference.com/wg.fcgi?css=1&site=fb&url=%2Fen%2Fcomps%2F' + comp_id + '%2F' + seria_a_ids[8] + '%2Fkeepers%2F2012-2013-' + comp_name + '-Stats&div=div_stats_keeper',\n",
    "'https://widgets.sports-reference.com/wg.fcgi?css=1&site=fb&url=%2Fen%2Fcomps%2F' + comp_id + '%2F' + seria_a_ids[9] + '%2Fkeepers%2F2011-2012-' + comp_name + '-Stats&div=div_stats_keeper',\n",
    "'https://widgets.sports-reference.com/wg.fcgi?css=1&site=fb&url=%2Fen%2Fcomps%2F' + comp_id + '%2F' + seria_a_ids[10] + '%2Fkeepers%2F2010-2011-' + comp_name + '-Stats&div=div_stats_keeper',\n",
    "'https://widgets.sports-reference.com/wg.fcgi?css=1&site=fb&url=%2Fen%2Fcomps%2F' + comp_id + '%2F' + seria_a_ids[11] + '%2Fkeepers%2F2009-2010-' + comp_name + '-Stats&div=div_stats_keeper',\n",
    "'https://widgets.sports-reference.com/wg.fcgi?css=1&site=fb&url=%2Fen%2Fcomps%2F' + comp_id + '%2F' + seria_a_ids[12] + '%2Fkeepers%2F2008-2009-' + comp_name + '-Stats&div=div_stats_keeper',\n",
    "'https://widgets.sports-reference.com/wg.fcgi?css=1&site=fb&url=%2Fen%2Fcomps%2F' + comp_id + '%2F' + seria_a_ids[13] + '%2Fkeepers%2F2007-2008-' + comp_name + '-Stats&div=div_stats_keeper',\n",
    "'https://widgets.sports-reference.com/wg.fcgi?css=1&site=fb&url=%2Fen%2Fcomps%2F' + comp_id + '%2F' + seria_a_ids[14] + '%2Fkeepers%2F2006-2007-' + comp_name + '-Stats&div=div_stats_keeper']\n",
    "\n",
    "seasons = ['20/21', '19/20', '18/19', '17/18', '16/17', '15/16', '14/15', '13/14', '12/13', '11/12', '10/11', '09/10', '08/09', '07/08','06/07']\n",
    "folder = 'Swiss'"
   ]
  },
  {
   "cell_type": "code",
   "execution_count": 174,
   "metadata": {},
   "outputs": [],
   "source": [
    "#Turkish\n",
    "comp_id = '26'\n",
    "comp_name = 'Super-Lig'\n",
    "seria_a_ids = ['10740', '3301','2382','1655','1550','1491','758','693','627','560','491','425','358','302', '248']\n",
    "\n",
    "links = ['https://widgets.sports-reference.com/wg.fcgi?css=1&site=fb&url=%2Fen%2Fcomps%2F' + comp_id + '%2F' + seria_a_ids[0] + '%2Fkeepers%2F2020-2021-' + comp_name + '-Stats&div=div_stats_keeper', \n",
    "'https://widgets.sports-reference.com/wg.fcgi?css=1&site=fb&url=%2Fen%2Fcomps%2F' + comp_id + '%2F' + seria_a_ids[1] + '%2Fkeepers%2F2019-2020-' + comp_name + '-Stats&div=div_stats_keeper',\n",
    "'https://widgets.sports-reference.com/wg.fcgi?css=1&site=fb&url=%2Fen%2Fcomps%2F' + comp_id + '%2F' + seria_a_ids[2] + '%2Fkeepers%2F2018-2019-' + comp_name + '-Stats&div=div_stats_keeper',\n",
    "'https://widgets.sports-reference.com/wg.fcgi?css=1&site=fb&url=%2Fen%2Fcomps%2F' + comp_id + '%2F' + seria_a_ids[3] + '%2Fkeepers%2F2017-2018-' + comp_name + '-Stats&div=div_stats_keeper',\n",
    "'https://widgets.sports-reference.com/wg.fcgi?css=1&site=fb&url=%2Fen%2Fcomps%2F' + comp_id + '%2F' + seria_a_ids[4] + '%2Fkeepers%2F2016-2017-' + comp_name + '-Stats&div=div_stats_keeper',\n",
    "'https://widgets.sports-reference.com/wg.fcgi?css=1&site=fb&url=%2Fen%2Fcomps%2F' + comp_id + '%2F' + seria_a_ids[5] + '%2Fkeepers%2F2015-2016-' + comp_name + '-Stats&div=div_stats_keeper',\n",
    "'https://widgets.sports-reference.com/wg.fcgi?css=1&site=fb&url=%2Fen%2Fcomps%2F' + comp_id + '%2F' + seria_a_ids[6] + '%2Fkeepers%2F2014-2015-' + comp_name + '-Stats&div=div_stats_keeper',\n",
    "'https://widgets.sports-reference.com/wg.fcgi?css=1&site=fb&url=%2Fen%2Fcomps%2F' + comp_id + '%2F' + seria_a_ids[7] + '%2Fkeepers%2F2013-2014-' + comp_name + '-Stats&div=div_stats_keeper',\n",
    "'https://widgets.sports-reference.com/wg.fcgi?css=1&site=fb&url=%2Fen%2Fcomps%2F' + comp_id + '%2F' + seria_a_ids[8] + '%2Fkeepers%2F2012-2013-' + comp_name + '-Stats&div=div_stats_keeper',\n",
    "'https://widgets.sports-reference.com/wg.fcgi?css=1&site=fb&url=%2Fen%2Fcomps%2F' + comp_id + '%2F' + seria_a_ids[9] + '%2Fkeepers%2F2011-2012-' + comp_name + '-Stats&div=div_stats_keeper',\n",
    "'https://widgets.sports-reference.com/wg.fcgi?css=1&site=fb&url=%2Fen%2Fcomps%2F' + comp_id + '%2F' + seria_a_ids[10] + '%2Fkeepers%2F2010-2011-' + comp_name + '-Stats&div=div_stats_keeper',\n",
    "'https://widgets.sports-reference.com/wg.fcgi?css=1&site=fb&url=%2Fen%2Fcomps%2F' + comp_id + '%2F' + seria_a_ids[11] + '%2Fkeepers%2F2009-2010-' + comp_name + '-Stats&div=div_stats_keeper',\n",
    "'https://widgets.sports-reference.com/wg.fcgi?css=1&site=fb&url=%2Fen%2Fcomps%2F' + comp_id + '%2F' + seria_a_ids[12] + '%2Fkeepers%2F2008-2009-' + comp_name + '-Stats&div=div_stats_keeper',\n",
    "'https://widgets.sports-reference.com/wg.fcgi?css=1&site=fb&url=%2Fen%2Fcomps%2F' + comp_id + '%2F' + seria_a_ids[13] + '%2Fkeepers%2F2007-2008-' + comp_name + '-Stats&div=div_stats_keeper',\n",
    "'https://widgets.sports-reference.com/wg.fcgi?css=1&site=fb&url=%2Fen%2Fcomps%2F' + comp_id + '%2F' + seria_a_ids[14] + '%2Fkeepers%2F2006-2007-' + comp_name + '-Stats&div=div_stats_keeper']\n",
    "\n",
    "seasons = ['20/21', '19/20', '18/19', '17/18', '16/17', '15/16', '14/15', '13/14', '12/13', '11/12', '10/11', '09/10', '08/09', '07/08','06/07']\n",
    "folder = 'Turkish'"
   ]
  },
  {
   "cell_type": "code",
   "execution_count": 185,
   "metadata": {},
   "outputs": [],
   "source": [
    "#Ukrain\n",
    "comp_id = '39'\n",
    "comp_name = 'Ukrainian-Top-League'\n",
    "seria_a_ids = ['10749', '3303','2435','1658','1553','1492','759','696','630','564','494','428','360','304', '250']\n",
    "\n",
    "links = ['https://widgets.sports-reference.com/wg.fcgi?css=1&site=fb&url=%2Fen%2Fcomps%2F' + comp_id + '%2F' + seria_a_ids[0] + '%2Fkeepers%2F2020-2021-' + comp_name + '-Stats&div=div_stats_keeper', \n",
    "'https://widgets.sports-reference.com/wg.fcgi?css=1&site=fb&url=%2Fen%2Fcomps%2F' + comp_id + '%2F' + seria_a_ids[1] + '%2Fkeepers%2F2019-2020-' + comp_name + '-Stats&div=div_stats_keeper',\n",
    "'https://widgets.sports-reference.com/wg.fcgi?css=1&site=fb&url=%2Fen%2Fcomps%2F' + comp_id + '%2F' + seria_a_ids[2] + '%2Fkeepers%2F2018-2019-' + comp_name + '-Stats&div=div_stats_keeper',\n",
    "'https://widgets.sports-reference.com/wg.fcgi?css=1&site=fb&url=%2Fen%2Fcomps%2F' + comp_id + '%2F' + seria_a_ids[3] + '%2Fkeepers%2F2017-2018-' + comp_name + '-Stats&div=div_stats_keeper',\n",
    "'https://widgets.sports-reference.com/wg.fcgi?css=1&site=fb&url=%2Fen%2Fcomps%2F' + comp_id + '%2F' + seria_a_ids[4] + '%2Fkeepers%2F2016-2017-' + comp_name + '-Stats&div=div_stats_keeper',\n",
    "'https://widgets.sports-reference.com/wg.fcgi?css=1&site=fb&url=%2Fen%2Fcomps%2F' + comp_id + '%2F' + seria_a_ids[5] + '%2Fkeepers%2F2015-2016-' + comp_name + '-Stats&div=div_stats_keeper',\n",
    "'https://widgets.sports-reference.com/wg.fcgi?css=1&site=fb&url=%2Fen%2Fcomps%2F' + comp_id + '%2F' + seria_a_ids[6] + '%2Fkeepers%2F2014-2015-' + comp_name + '-Stats&div=div_stats_keeper',\n",
    "'https://widgets.sports-reference.com/wg.fcgi?css=1&site=fb&url=%2Fen%2Fcomps%2F' + comp_id + '%2F' + seria_a_ids[7] + '%2Fkeepers%2F2013-2014-' + comp_name + '-Stats&div=div_stats_keeper',\n",
    "'https://widgets.sports-reference.com/wg.fcgi?css=1&site=fb&url=%2Fen%2Fcomps%2F' + comp_id + '%2F' + seria_a_ids[8] + '%2Fkeepers%2F2012-2013-' + comp_name + '-Stats&div=div_stats_keeper',\n",
    "'https://widgets.sports-reference.com/wg.fcgi?css=1&site=fb&url=%2Fen%2Fcomps%2F' + comp_id + '%2F' + seria_a_ids[9] + '%2Fkeepers%2F2011-2012-' + comp_name + '-Stats&div=div_stats_keeper',\n",
    "'https://widgets.sports-reference.com/wg.fcgi?css=1&site=fb&url=%2Fen%2Fcomps%2F' + comp_id + '%2F' + seria_a_ids[10] + '%2Fkeepers%2F2010-2011-' + comp_name + '-Stats&div=div_stats_keeper',\n",
    "'https://widgets.sports-reference.com/wg.fcgi?css=1&site=fb&url=%2Fen%2Fcomps%2F' + comp_id + '%2F' + seria_a_ids[11] + '%2Fkeepers%2F2009-2010-' + comp_name + '-Stats&div=div_stats_keeper',\n",
    "'https://widgets.sports-reference.com/wg.fcgi?css=1&site=fb&url=%2Fen%2Fcomps%2F' + comp_id + '%2F' + seria_a_ids[12] + '%2Fkeepers%2F2008-2009-' + comp_name + '-Stats&div=div_stats_keeper',\n",
    "'https://widgets.sports-reference.com/wg.fcgi?css=1&site=fb&url=%2Fen%2Fcomps%2F' + comp_id + '%2F' + seria_a_ids[13] + '%2Fkeepers%2F2007-2008-' + comp_name + '-Stats&div=div_stats_keeper',\n",
    "'https://widgets.sports-reference.com/wg.fcgi?css=1&site=fb&url=%2Fen%2Fcomps%2F' + comp_id + '%2F' + seria_a_ids[14] + '%2Fkeepers%2F2006-2007-' + comp_name + '-Stats&div=div_stats_keeper']\n",
    "\n",
    "seasons = ['20/21', '19/20', '18/19', '17/18', '16/17', '15/16', '14/15', '13/14', '12/13', '11/12', '10/11', '09/10', '08/09', '07/08','06/07']\n",
    "folder = 'Ukrain'"
   ]
  },
  {
   "cell_type": "code",
   "execution_count": 38,
   "metadata": {},
   "outputs": [],
   "source": [
    "#Ukrain\n",
    "comp_id = '10'\n",
    "comp_name = 'Championship'\n",
    "seria_a_ids = ['10729', '3233','1890','1627','1522','1463','729','665','598','530','463','396','334','278', '225']\n",
    "\n",
    "links = ['https://widgets.sports-reference.com/wg.fcgi?css=1&site=fb&url=%2Fen%2Fcomps%2F' + comp_id + '%2F' + seria_a_ids[0] + '%2Fkeepers%2F2020-2021-' + comp_name + '-Stats&div=div_stats_keeper', \n",
    "'https://widgets.sports-reference.com/wg.fcgi?css=1&site=fb&url=%2Fen%2Fcomps%2F' + comp_id + '%2F' + seria_a_ids[1] + '%2Fkeepers%2F2019-2020-' + comp_name + '-Stats&div=div_stats_keeper',\n",
    "'https://widgets.sports-reference.com/wg.fcgi?css=1&site=fb&url=%2Fen%2Fcomps%2F' + comp_id + '%2F' + seria_a_ids[2] + '%2Fkeepers%2F2018-2019-' + comp_name + '-Stats&div=div_stats_keeper',\n",
    "'https://widgets.sports-reference.com/wg.fcgi?css=1&site=fb&url=%2Fen%2Fcomps%2F' + comp_id + '%2F' + seria_a_ids[3] + '%2Fkeepers%2F2017-2018-' + comp_name + '-Stats&div=div_stats_keeper',\n",
    "'https://widgets.sports-reference.com/wg.fcgi?css=1&site=fb&url=%2Fen%2Fcomps%2F' + comp_id + '%2F' + seria_a_ids[4] + '%2Fkeepers%2F2016-2017-' + comp_name + '-Stats&div=div_stats_keeper',\n",
    "'https://widgets.sports-reference.com/wg.fcgi?css=1&site=fb&url=%2Fen%2Fcomps%2F' + comp_id + '%2F' + seria_a_ids[5] + '%2Fkeepers%2F2015-2016-' + comp_name + '-Stats&div=div_stats_keeper',\n",
    "'https://widgets.sports-reference.com/wg.fcgi?css=1&site=fb&url=%2Fen%2Fcomps%2F' + comp_id + '%2F' + seria_a_ids[6] + '%2Fkeepers%2F2014-2015-' + comp_name + '-Stats&div=div_stats_keeper',\n",
    "'https://widgets.sports-reference.com/wg.fcgi?css=1&site=fb&url=%2Fen%2Fcomps%2F' + comp_id + '%2F' + seria_a_ids[7] + '%2Fkeepers%2F2013-2014-' + comp_name + '-Stats&div=div_stats_keeper',\n",
    "'https://widgets.sports-reference.com/wg.fcgi?css=1&site=fb&url=%2Fen%2Fcomps%2F' + comp_id + '%2F' + seria_a_ids[8] + '%2Fkeepers%2F2012-2013-' + comp_name + '-Stats&div=div_stats_keeper',\n",
    "'https://widgets.sports-reference.com/wg.fcgi?css=1&site=fb&url=%2Fen%2Fcomps%2F' + comp_id + '%2F' + seria_a_ids[9] + '%2Fkeepers%2F2011-2012-' + comp_name + '-Stats&div=div_stats_keeper',\n",
    "'https://widgets.sports-reference.com/wg.fcgi?css=1&site=fb&url=%2Fen%2Fcomps%2F' + comp_id + '%2F' + seria_a_ids[10] + '%2Fkeepers%2F2010-2011-' + comp_name + '-Stats&div=div_stats_keeper',\n",
    "'https://widgets.sports-reference.com/wg.fcgi?css=1&site=fb&url=%2Fen%2Fcomps%2F' + comp_id + '%2F' + seria_a_ids[11] + '%2Fkeepers%2F2009-2010-' + comp_name + '-Stats&div=div_stats_keeper',\n",
    "'https://widgets.sports-reference.com/wg.fcgi?css=1&site=fb&url=%2Fen%2Fcomps%2F' + comp_id + '%2F' + seria_a_ids[12] + '%2Fkeepers%2F2008-2009-' + comp_name + '-Stats&div=div_stats_keeper',\n",
    "'https://widgets.sports-reference.com/wg.fcgi?css=1&site=fb&url=%2Fen%2Fcomps%2F' + comp_id + '%2F' + seria_a_ids[13] + '%2Fkeepers%2F2007-2008-' + comp_name + '-Stats&div=div_stats_keeper',\n",
    "'https://widgets.sports-reference.com/wg.fcgi?css=1&site=fb&url=%2Fen%2Fcomps%2F' + comp_id + '%2F' + seria_a_ids[14] + '%2Fkeepers%2F2006-2007-' + comp_name + '-Stats&div=div_stats_keeper']\n",
    "\n",
    "seasons = ['20/21', '19/20', '18/19', '17/18', '16/17', '15/16', '14/15', '13/14', '12/13', '11/12', '10/11', '09/10', '08/09', '07/08','06/07']\n",
    "folder = 'English2'"
   ]
  },
  {
   "cell_type": "code",
   "execution_count": 44,
   "metadata": {},
   "outputs": [],
   "source": [
    "#Ukrain\n",
    "comp_id = '15'\n",
    "comp_name = 'League-One'\n",
    "seria_a_ids = ['10733', '3234','1891','1628','1523','1465','731','667','600','532','465','398','336','280', '227']\n",
    "\n",
    "links = ['https://widgets.sports-reference.com/wg.fcgi?css=1&site=fb&url=%2Fen%2Fcomps%2F' + comp_id + '%2F' + seria_a_ids[0] + '%2Fkeepers%2F2020-2021-' + comp_name + '-Stats&div=div_stats_keeper', \n",
    "'https://widgets.sports-reference.com/wg.fcgi?css=1&site=fb&url=%2Fen%2Fcomps%2F' + comp_id + '%2F' + seria_a_ids[1] + '%2Fkeepers%2F2019-2020-' + comp_name + '-Stats&div=div_stats_keeper',\n",
    "'https://widgets.sports-reference.com/wg.fcgi?css=1&site=fb&url=%2Fen%2Fcomps%2F' + comp_id + '%2F' + seria_a_ids[2] + '%2Fkeepers%2F2018-2019-' + comp_name + '-Stats&div=div_stats_keeper',\n",
    "'https://widgets.sports-reference.com/wg.fcgi?css=1&site=fb&url=%2Fen%2Fcomps%2F' + comp_id + '%2F' + seria_a_ids[3] + '%2Fkeepers%2F2017-2018-' + comp_name + '-Stats&div=div_stats_keeper',\n",
    "'https://widgets.sports-reference.com/wg.fcgi?css=1&site=fb&url=%2Fen%2Fcomps%2F' + comp_id + '%2F' + seria_a_ids[4] + '%2Fkeepers%2F2016-2017-' + comp_name + '-Stats&div=div_stats_keeper',\n",
    "'https://widgets.sports-reference.com/wg.fcgi?css=1&site=fb&url=%2Fen%2Fcomps%2F' + comp_id + '%2F' + seria_a_ids[5] + '%2Fkeepers%2F2015-2016-' + comp_name + '-Stats&div=div_stats_keeper',\n",
    "'https://widgets.sports-reference.com/wg.fcgi?css=1&site=fb&url=%2Fen%2Fcomps%2F' + comp_id + '%2F' + seria_a_ids[6] + '%2Fkeepers%2F2014-2015-' + comp_name + '-Stats&div=div_stats_keeper',\n",
    "'https://widgets.sports-reference.com/wg.fcgi?css=1&site=fb&url=%2Fen%2Fcomps%2F' + comp_id + '%2F' + seria_a_ids[7] + '%2Fkeepers%2F2013-2014-' + comp_name + '-Stats&div=div_stats_keeper',\n",
    "'https://widgets.sports-reference.com/wg.fcgi?css=1&site=fb&url=%2Fen%2Fcomps%2F' + comp_id + '%2F' + seria_a_ids[8] + '%2Fkeepers%2F2012-2013-' + comp_name + '-Stats&div=div_stats_keeper',\n",
    "'https://widgets.sports-reference.com/wg.fcgi?css=1&site=fb&url=%2Fen%2Fcomps%2F' + comp_id + '%2F' + seria_a_ids[9] + '%2Fkeepers%2F2011-2012-' + comp_name + '-Stats&div=div_stats_keeper',\n",
    "'https://widgets.sports-reference.com/wg.fcgi?css=1&site=fb&url=%2Fen%2Fcomps%2F' + comp_id + '%2F' + seria_a_ids[10] + '%2Fkeepers%2F2010-2011-' + comp_name + '-Stats&div=div_stats_keeper',\n",
    "'https://widgets.sports-reference.com/wg.fcgi?css=1&site=fb&url=%2Fen%2Fcomps%2F' + comp_id + '%2F' + seria_a_ids[11] + '%2Fkeepers%2F2009-2010-' + comp_name + '-Stats&div=div_stats_keeper',\n",
    "'https://widgets.sports-reference.com/wg.fcgi?css=1&site=fb&url=%2Fen%2Fcomps%2F' + comp_id + '%2F' + seria_a_ids[12] + '%2Fkeepers%2F2008-2009-' + comp_name + '-Stats&div=div_stats_keeper',\n",
    "'https://widgets.sports-reference.com/wg.fcgi?css=1&site=fb&url=%2Fen%2Fcomps%2F' + comp_id + '%2F' + seria_a_ids[13] + '%2Fkeepers%2F2007-2008-' + comp_name + '-Stats&div=div_stats_keeper',\n",
    "'https://widgets.sports-reference.com/wg.fcgi?css=1&site=fb&url=%2Fen%2Fcomps%2F' + comp_id + '%2F' + seria_a_ids[14] + '%2Fkeepers%2F2006-2007-' + comp_name + '-Stats&div=div_stats_keeper']\n",
    "\n",
    "seasons = ['20/21', '19/20', '18/19', '17/18', '16/17', '15/16', '14/15', '13/14', '12/13', '11/12', '10/11', '09/10', '08/09', '07/08','06/07']\n",
    "folder = 'English3'"
   ]
  },
  {
   "cell_type": "code",
   "execution_count": 50,
   "metadata": {},
   "outputs": [],
   "source": [
    "#Ukrain\n",
    "comp_id = '16'\n",
    "comp_name = 'League-Two'\n",
    "seria_a_ids = ['10734', '3235','1892','1629','1524','1466','732','668','601','533','466','399','337','281', '228']\n",
    "\n",
    "links = ['https://widgets.sports-reference.com/wg.fcgi?css=1&site=fb&url=%2Fen%2Fcomps%2F' + comp_id + '%2F' + seria_a_ids[0] + '%2Fkeepers%2F2020-2021-' + comp_name + '-Stats&div=div_stats_keeper', \n",
    "'https://widgets.sports-reference.com/wg.fcgi?css=1&site=fb&url=%2Fen%2Fcomps%2F' + comp_id + '%2F' + seria_a_ids[1] + '%2Fkeepers%2F2019-2020-' + comp_name + '-Stats&div=div_stats_keeper',\n",
    "'https://widgets.sports-reference.com/wg.fcgi?css=1&site=fb&url=%2Fen%2Fcomps%2F' + comp_id + '%2F' + seria_a_ids[2] + '%2Fkeepers%2F2018-2019-' + comp_name + '-Stats&div=div_stats_keeper',\n",
    "'https://widgets.sports-reference.com/wg.fcgi?css=1&site=fb&url=%2Fen%2Fcomps%2F' + comp_id + '%2F' + seria_a_ids[3] + '%2Fkeepers%2F2017-2018-' + comp_name + '-Stats&div=div_stats_keeper',\n",
    "'https://widgets.sports-reference.com/wg.fcgi?css=1&site=fb&url=%2Fen%2Fcomps%2F' + comp_id + '%2F' + seria_a_ids[4] + '%2Fkeepers%2F2016-2017-' + comp_name + '-Stats&div=div_stats_keeper',\n",
    "'https://widgets.sports-reference.com/wg.fcgi?css=1&site=fb&url=%2Fen%2Fcomps%2F' + comp_id + '%2F' + seria_a_ids[5] + '%2Fkeepers%2F2015-2016-' + comp_name + '-Stats&div=div_stats_keeper',\n",
    "'https://widgets.sports-reference.com/wg.fcgi?css=1&site=fb&url=%2Fen%2Fcomps%2F' + comp_id + '%2F' + seria_a_ids[6] + '%2Fkeepers%2F2014-2015-' + comp_name + '-Stats&div=div_stats_keeper',\n",
    "'https://widgets.sports-reference.com/wg.fcgi?css=1&site=fb&url=%2Fen%2Fcomps%2F' + comp_id + '%2F' + seria_a_ids[7] + '%2Fkeepers%2F2013-2014-' + comp_name + '-Stats&div=div_stats_keeper',\n",
    "'https://widgets.sports-reference.com/wg.fcgi?css=1&site=fb&url=%2Fen%2Fcomps%2F' + comp_id + '%2F' + seria_a_ids[8] + '%2Fkeepers%2F2012-2013-' + comp_name + '-Stats&div=div_stats_keeper',\n",
    "'https://widgets.sports-reference.com/wg.fcgi?css=1&site=fb&url=%2Fen%2Fcomps%2F' + comp_id + '%2F' + seria_a_ids[9] + '%2Fkeepers%2F2011-2012-' + comp_name + '-Stats&div=div_stats_keeper',\n",
    "'https://widgets.sports-reference.com/wg.fcgi?css=1&site=fb&url=%2Fen%2Fcomps%2F' + comp_id + '%2F' + seria_a_ids[10] + '%2Fkeepers%2F2010-2011-' + comp_name + '-Stats&div=div_stats_keeper',\n",
    "'https://widgets.sports-reference.com/wg.fcgi?css=1&site=fb&url=%2Fen%2Fcomps%2F' + comp_id + '%2F' + seria_a_ids[11] + '%2Fkeepers%2F2009-2010-' + comp_name + '-Stats&div=div_stats_keeper',\n",
    "'https://widgets.sports-reference.com/wg.fcgi?css=1&site=fb&url=%2Fen%2Fcomps%2F' + comp_id + '%2F' + seria_a_ids[12] + '%2Fkeepers%2F2008-2009-' + comp_name + '-Stats&div=div_stats_keeper',\n",
    "'https://widgets.sports-reference.com/wg.fcgi?css=1&site=fb&url=%2Fen%2Fcomps%2F' + comp_id + '%2F' + seria_a_ids[13] + '%2Fkeepers%2F2007-2008-' + comp_name + '-Stats&div=div_stats_keeper',\n",
    "'https://widgets.sports-reference.com/wg.fcgi?css=1&site=fb&url=%2Fen%2Fcomps%2F' + comp_id + '%2F' + seria_a_ids[14] + '%2Fkeepers%2F2006-2007-' + comp_name + '-Stats&div=div_stats_keeper']\n",
    "\n",
    "seasons = ['20/21', '19/20', '18/19', '17/18', '16/17', '15/16', '14/15', '13/14', '12/13', '11/12', '10/11', '09/10', '08/09', '07/08','06/07']\n",
    "folder = 'English4'"
   ]
  },
  {
   "cell_type": "code",
   "execution_count": 57,
   "metadata": {},
   "outputs": [],
   "source": [
    "#Ukrain\n",
    "comp_id = '60'\n",
    "comp_name = 'Ligue-2'\n",
    "seria_a_ids = ['10761', '3244','2105','1633','1528','1469','735','671','604','536','469','402']\n",
    "\n",
    "links = ['https://widgets.sports-reference.com/wg.fcgi?css=1&site=fb&url=%2Fen%2Fcomps%2F' + comp_id + '%2F' + seria_a_ids[0] + '%2Fkeepers%2F2020-2021-' + comp_name + '-Stats&div=div_stats_keeper', \n",
    "'https://widgets.sports-reference.com/wg.fcgi?css=1&site=fb&url=%2Fen%2Fcomps%2F' + comp_id + '%2F' + seria_a_ids[1] + '%2Fkeepers%2F2019-2020-' + comp_name + '-Stats&div=div_stats_keeper',\n",
    "'https://widgets.sports-reference.com/wg.fcgi?css=1&site=fb&url=%2Fen%2Fcomps%2F' + comp_id + '%2F' + seria_a_ids[2] + '%2Fkeepers%2F2018-2019-' + comp_name + '-Stats&div=div_stats_keeper',\n",
    "'https://widgets.sports-reference.com/wg.fcgi?css=1&site=fb&url=%2Fen%2Fcomps%2F' + comp_id + '%2F' + seria_a_ids[3] + '%2Fkeepers%2F2017-2018-' + comp_name + '-Stats&div=div_stats_keeper',\n",
    "'https://widgets.sports-reference.com/wg.fcgi?css=1&site=fb&url=%2Fen%2Fcomps%2F' + comp_id + '%2F' + seria_a_ids[4] + '%2Fkeepers%2F2016-2017-' + comp_name + '-Stats&div=div_stats_keeper',\n",
    "'https://widgets.sports-reference.com/wg.fcgi?css=1&site=fb&url=%2Fen%2Fcomps%2F' + comp_id + '%2F' + seria_a_ids[5] + '%2Fkeepers%2F2015-2016-' + comp_name + '-Stats&div=div_stats_keeper',\n",
    "'https://widgets.sports-reference.com/wg.fcgi?css=1&site=fb&url=%2Fen%2Fcomps%2F' + comp_id + '%2F' + seria_a_ids[6] + '%2Fkeepers%2F2014-2015-' + comp_name + '-Stats&div=div_stats_keeper',\n",
    "'https://widgets.sports-reference.com/wg.fcgi?css=1&site=fb&url=%2Fen%2Fcomps%2F' + comp_id + '%2F' + seria_a_ids[7] + '%2Fkeepers%2F2013-2014-' + comp_name + '-Stats&div=div_stats_keeper',\n",
    "'https://widgets.sports-reference.com/wg.fcgi?css=1&site=fb&url=%2Fen%2Fcomps%2F' + comp_id + '%2F' + seria_a_ids[8] + '%2Fkeepers%2F2012-2013-' + comp_name + '-Stats&div=div_stats_keeper',\n",
    "'https://widgets.sports-reference.com/wg.fcgi?css=1&site=fb&url=%2Fen%2Fcomps%2F' + comp_id + '%2F' + seria_a_ids[9] + '%2Fkeepers%2F2011-2012-' + comp_name + '-Stats&div=div_stats_keeper',\n",
    "'https://widgets.sports-reference.com/wg.fcgi?css=1&site=fb&url=%2Fen%2Fcomps%2F' + comp_id + '%2F' + seria_a_ids[10] + '%2Fkeepers%2F2010-2011-' + comp_name + '-Stats&div=div_stats_keeper',\n",
    "'https://widgets.sports-reference.com/wg.fcgi?css=1&site=fb&url=%2Fen%2Fcomps%2F' + comp_id + '%2F' + seria_a_ids[11] + '%2Fkeepers%2F2009-2010-' + comp_name + '-Stats&div=div_stats_keeper']\n",
    "\n",
    "seasons = ['20/21', '19/20', '18/19', '17/18', '16/17', '15/16', '14/15', '13/14', '12/13', '11/12', '10/11', '09/10']\n",
    "folder = 'Ligue2'"
   ]
  },
  {
   "cell_type": "code",
   "execution_count": 69,
   "metadata": {},
   "outputs": [],
   "source": [
    "#Ukrain\n",
    "comp_id = '33'\n",
    "comp_name = 'Bundesliga'\n",
    "seria_a_ids = ['10745', '3249','2110','1635','1530','1471','737','673','606','538','471','404','341','285', '232']\n",
    "\n",
    "links = ['https://widgets.sports-reference.com/wg.fcgi?css=1&site=fb&url=%2Fen%2Fcomps%2F' + comp_id + '%2F' + seria_a_ids[0] + '%2Fkeepers%2F2020-2021-' + comp_name + '-Stats&div=div_stats_keeper', \n",
    "'https://widgets.sports-reference.com/wg.fcgi?css=1&site=fb&url=%2Fen%2Fcomps%2F' + comp_id + '%2F' + seria_a_ids[1] + '%2Fkeepers%2F2019-2020-' + comp_name + '-Stats&div=div_stats_keeper',\n",
    "'https://widgets.sports-reference.com/wg.fcgi?css=1&site=fb&url=%2Fen%2Fcomps%2F' + comp_id + '%2F' + seria_a_ids[2] + '%2Fkeepers%2F2018-2019-' + comp_name + '-Stats&div=div_stats_keeper',\n",
    "'https://widgets.sports-reference.com/wg.fcgi?css=1&site=fb&url=%2Fen%2Fcomps%2F' + comp_id + '%2F' + seria_a_ids[3] + '%2Fkeepers%2F2017-2018-' + comp_name + '-Stats&div=div_stats_keeper',\n",
    "'https://widgets.sports-reference.com/wg.fcgi?css=1&site=fb&url=%2Fen%2Fcomps%2F' + comp_id + '%2F' + seria_a_ids[4] + '%2Fkeepers%2F2016-2017-' + comp_name + '-Stats&div=div_stats_keeper',\n",
    "'https://widgets.sports-reference.com/wg.fcgi?css=1&site=fb&url=%2Fen%2Fcomps%2F' + comp_id + '%2F' + seria_a_ids[5] + '%2Fkeepers%2F2015-2016-' + comp_name + '-Stats&div=div_stats_keeper',\n",
    "'https://widgets.sports-reference.com/wg.fcgi?css=1&site=fb&url=%2Fen%2Fcomps%2F' + comp_id + '%2F' + seria_a_ids[6] + '%2Fkeepers%2F2014-2015-' + comp_name + '-Stats&div=div_stats_keeper',\n",
    "'https://widgets.sports-reference.com/wg.fcgi?css=1&site=fb&url=%2Fen%2Fcomps%2F' + comp_id + '%2F' + seria_a_ids[7] + '%2Fkeepers%2F2013-2014-' + comp_name + '-Stats&div=div_stats_keeper',\n",
    "'https://widgets.sports-reference.com/wg.fcgi?css=1&site=fb&url=%2Fen%2Fcomps%2F' + comp_id + '%2F' + seria_a_ids[8] + '%2Fkeepers%2F2012-2013-' + comp_name + '-Stats&div=div_stats_keeper',\n",
    "'https://widgets.sports-reference.com/wg.fcgi?css=1&site=fb&url=%2Fen%2Fcomps%2F' + comp_id + '%2F' + seria_a_ids[9] + '%2Fkeepers%2F2011-2012-' + comp_name + '-Stats&div=div_stats_keeper',\n",
    "'https://widgets.sports-reference.com/wg.fcgi?css=1&site=fb&url=%2Fen%2Fcomps%2F' + comp_id + '%2F' + seria_a_ids[10] + '%2Fkeepers%2F2010-2011-' + comp_name + '-Stats&div=div_stats_keeper',\n",
    "'https://widgets.sports-reference.com/wg.fcgi?css=1&site=fb&url=%2Fen%2Fcomps%2F' + comp_id + '%2F' + seria_a_ids[11] + '%2Fkeepers%2F2009-2010-' + comp_name + '-Stats&div=div_stats_keeper',\n",
    "'https://widgets.sports-reference.com/wg.fcgi?css=1&site=fb&url=%2Fen%2Fcomps%2F' + comp_id + '%2F' + seria_a_ids[12] + '%2Fkeepers%2F2008-2009-' + comp_name + '-Stats&div=div_stats_keeper',\n",
    "'https://widgets.sports-reference.com/wg.fcgi?css=1&site=fb&url=%2Fen%2Fcomps%2F' + comp_id + '%2F' + seria_a_ids[13] + '%2Fkeepers%2F2007-2008-' + comp_name + '-Stats&div=div_stats_keeper',\n",
    "'https://widgets.sports-reference.com/wg.fcgi?css=1&site=fb&url=%2Fen%2Fcomps%2F' + comp_id + '%2F' + seria_a_ids[14] + '%2Fkeepers%2F2006-2007-' + comp_name + '-Stats&div=div_stats_keeper']\n",
    "\n",
    "seasons = ['20/21', '19/20', '18/19', '17/18', '16/17', '15/16', '14/15', '13/14', '12/13', '11/12', '10/11', '09/10', '08/09', '07/08','06/07']\n",
    "folder = 'Bundesliga2'"
   ]
  },
  {
   "cell_type": "code",
   "execution_count": 75,
   "metadata": {},
   "outputs": [],
   "source": [
    "#Ukrain\n",
    "comp_id = '18'\n",
    "comp_name = 'Serie-B'\n",
    "seria_a_ids = ['10736', '3261','1897','1641','1536','1477','743','679','612','545','478','411','346','290', '237']\n",
    "\n",
    "links = ['https://widgets.sports-reference.com/wg.fcgi?css=1&site=fb&url=%2Fen%2Fcomps%2F' + comp_id + '%2F' + seria_a_ids[0] + '%2Fkeepers%2F2020-2021-' + comp_name + '-Stats&div=div_stats_keeper', \n",
    "'https://widgets.sports-reference.com/wg.fcgi?css=1&site=fb&url=%2Fen%2Fcomps%2F' + comp_id + '%2F' + seria_a_ids[1] + '%2Fkeepers%2F2019-2020-' + comp_name + '-Stats&div=div_stats_keeper',\n",
    "'https://widgets.sports-reference.com/wg.fcgi?css=1&site=fb&url=%2Fen%2Fcomps%2F' + comp_id + '%2F' + seria_a_ids[2] + '%2Fkeepers%2F2018-2019-' + comp_name + '-Stats&div=div_stats_keeper',\n",
    "'https://widgets.sports-reference.com/wg.fcgi?css=1&site=fb&url=%2Fen%2Fcomps%2F' + comp_id + '%2F' + seria_a_ids[3] + '%2Fkeepers%2F2017-2018-' + comp_name + '-Stats&div=div_stats_keeper',\n",
    "'https://widgets.sports-reference.com/wg.fcgi?css=1&site=fb&url=%2Fen%2Fcomps%2F' + comp_id + '%2F' + seria_a_ids[4] + '%2Fkeepers%2F2016-2017-' + comp_name + '-Stats&div=div_stats_keeper',\n",
    "'https://widgets.sports-reference.com/wg.fcgi?css=1&site=fb&url=%2Fen%2Fcomps%2F' + comp_id + '%2F' + seria_a_ids[5] + '%2Fkeepers%2F2015-2016-' + comp_name + '-Stats&div=div_stats_keeper',\n",
    "'https://widgets.sports-reference.com/wg.fcgi?css=1&site=fb&url=%2Fen%2Fcomps%2F' + comp_id + '%2F' + seria_a_ids[6] + '%2Fkeepers%2F2014-2015-' + comp_name + '-Stats&div=div_stats_keeper',\n",
    "'https://widgets.sports-reference.com/wg.fcgi?css=1&site=fb&url=%2Fen%2Fcomps%2F' + comp_id + '%2F' + seria_a_ids[7] + '%2Fkeepers%2F2013-2014-' + comp_name + '-Stats&div=div_stats_keeper',\n",
    "'https://widgets.sports-reference.com/wg.fcgi?css=1&site=fb&url=%2Fen%2Fcomps%2F' + comp_id + '%2F' + seria_a_ids[8] + '%2Fkeepers%2F2012-2013-' + comp_name + '-Stats&div=div_stats_keeper',\n",
    "'https://widgets.sports-reference.com/wg.fcgi?css=1&site=fb&url=%2Fen%2Fcomps%2F' + comp_id + '%2F' + seria_a_ids[9] + '%2Fkeepers%2F2011-2012-' + comp_name + '-Stats&div=div_stats_keeper',\n",
    "'https://widgets.sports-reference.com/wg.fcgi?css=1&site=fb&url=%2Fen%2Fcomps%2F' + comp_id + '%2F' + seria_a_ids[10] + '%2Fkeepers%2F2010-2011-' + comp_name + '-Stats&div=div_stats_keeper',\n",
    "'https://widgets.sports-reference.com/wg.fcgi?css=1&site=fb&url=%2Fen%2Fcomps%2F' + comp_id + '%2F' + seria_a_ids[11] + '%2Fkeepers%2F2009-2010-' + comp_name + '-Stats&div=div_stats_keeper',\n",
    "'https://widgets.sports-reference.com/wg.fcgi?css=1&site=fb&url=%2Fen%2Fcomps%2F' + comp_id + '%2F' + seria_a_ids[12] + '%2Fkeepers%2F2008-2009-' + comp_name + '-Stats&div=div_stats_keeper',\n",
    "'https://widgets.sports-reference.com/wg.fcgi?css=1&site=fb&url=%2Fen%2Fcomps%2F' + comp_id + '%2F' + seria_a_ids[13] + '%2Fkeepers%2F2007-2008-' + comp_name + '-Stats&div=div_stats_keeper',\n",
    "'https://widgets.sports-reference.com/wg.fcgi?css=1&site=fb&url=%2Fen%2Fcomps%2F' + comp_id + '%2F' + seria_a_ids[14] + '%2Fkeepers%2F2006-2007-' + comp_name + '-Stats&div=div_stats_keeper']\n",
    "\n",
    "seasons = ['20/21', '19/20', '18/19', '17/18', '16/17', '15/16', '14/15', '13/14', '12/13', '11/12', '10/11', '09/10', '08/09', '07/08','06/07']\n",
    "folder = 'SerieB'"
   ]
  },
  {
   "cell_type": "code",
   "execution_count": 81,
   "metadata": {},
   "outputs": [],
   "source": [
    "#Ukrain\n",
    "comp_id = '17'\n",
    "comp_name = 'Segunda-Division'\n",
    "seria_a_ids = ['10735', '3240','1887','1653','1548','1489','756','691','625','558','489','423','356','300', '246']\n",
    "\n",
    "links = ['https://widgets.sports-reference.com/wg.fcgi?css=1&site=fb&url=%2Fen%2Fcomps%2F' + comp_id + '%2F' + seria_a_ids[0] + '%2Fkeepers%2F2020-2021-' + comp_name + '-Stats&div=div_stats_keeper', \n",
    "'https://widgets.sports-reference.com/wg.fcgi?css=1&site=fb&url=%2Fen%2Fcomps%2F' + comp_id + '%2F' + seria_a_ids[1] + '%2Fkeepers%2F2019-2020-' + comp_name + '-Stats&div=div_stats_keeper',\n",
    "'https://widgets.sports-reference.com/wg.fcgi?css=1&site=fb&url=%2Fen%2Fcomps%2F' + comp_id + '%2F' + seria_a_ids[2] + '%2Fkeepers%2F2018-2019-' + comp_name + '-Stats&div=div_stats_keeper',\n",
    "'https://widgets.sports-reference.com/wg.fcgi?css=1&site=fb&url=%2Fen%2Fcomps%2F' + comp_id + '%2F' + seria_a_ids[3] + '%2Fkeepers%2F2017-2018-' + comp_name + '-Stats&div=div_stats_keeper',\n",
    "'https://widgets.sports-reference.com/wg.fcgi?css=1&site=fb&url=%2Fen%2Fcomps%2F' + comp_id + '%2F' + seria_a_ids[4] + '%2Fkeepers%2F2016-2017-' + comp_name + '-Stats&div=div_stats_keeper',\n",
    "'https://widgets.sports-reference.com/wg.fcgi?css=1&site=fb&url=%2Fen%2Fcomps%2F' + comp_id + '%2F' + seria_a_ids[5] + '%2Fkeepers%2F2015-2016-' + comp_name + '-Stats&div=div_stats_keeper',\n",
    "'https://widgets.sports-reference.com/wg.fcgi?css=1&site=fb&url=%2Fen%2Fcomps%2F' + comp_id + '%2F' + seria_a_ids[6] + '%2Fkeepers%2F2014-2015-' + comp_name + '-Stats&div=div_stats_keeper',\n",
    "'https://widgets.sports-reference.com/wg.fcgi?css=1&site=fb&url=%2Fen%2Fcomps%2F' + comp_id + '%2F' + seria_a_ids[7] + '%2Fkeepers%2F2013-2014-' + comp_name + '-Stats&div=div_stats_keeper',\n",
    "'https://widgets.sports-reference.com/wg.fcgi?css=1&site=fb&url=%2Fen%2Fcomps%2F' + comp_id + '%2F' + seria_a_ids[8] + '%2Fkeepers%2F2012-2013-' + comp_name + '-Stats&div=div_stats_keeper',\n",
    "'https://widgets.sports-reference.com/wg.fcgi?css=1&site=fb&url=%2Fen%2Fcomps%2F' + comp_id + '%2F' + seria_a_ids[9] + '%2Fkeepers%2F2011-2012-' + comp_name + '-Stats&div=div_stats_keeper',\n",
    "'https://widgets.sports-reference.com/wg.fcgi?css=1&site=fb&url=%2Fen%2Fcomps%2F' + comp_id + '%2F' + seria_a_ids[10] + '%2Fkeepers%2F2010-2011-' + comp_name + '-Stats&div=div_stats_keeper',\n",
    "'https://widgets.sports-reference.com/wg.fcgi?css=1&site=fb&url=%2Fen%2Fcomps%2F' + comp_id + '%2F' + seria_a_ids[11] + '%2Fkeepers%2F2009-2010-' + comp_name + '-Stats&div=div_stats_keeper',\n",
    "'https://widgets.sports-reference.com/wg.fcgi?css=1&site=fb&url=%2Fen%2Fcomps%2F' + comp_id + '%2F' + seria_a_ids[12] + '%2Fkeepers%2F2008-2009-' + comp_name + '-Stats&div=div_stats_keeper',\n",
    "'https://widgets.sports-reference.com/wg.fcgi?css=1&site=fb&url=%2Fen%2Fcomps%2F' + comp_id + '%2F' + seria_a_ids[13] + '%2Fkeepers%2F2007-2008-' + comp_name + '-Stats&div=div_stats_keeper',\n",
    "'https://widgets.sports-reference.com/wg.fcgi?css=1&site=fb&url=%2Fen%2Fcomps%2F' + comp_id + '%2F' + seria_a_ids[14] + '%2Fkeepers%2F2006-2007-' + comp_name + '-Stats&div=div_stats_keeper']\n",
    "\n",
    "seasons = ['20/21', '19/20', '18/19', '17/18', '16/17', '15/16', '14/15', '13/14', '12/13', '11/12', '10/11', '09/10', '08/09', '07/08','06/07']\n",
    "folder = 'Spain2'"
   ]
  },
  {
   "cell_type": "code",
   "execution_count": 10,
   "metadata": {},
   "outputs": [],
   "source": [
    "#poland\n",
    "\n",
    "#Ukrain\n",
    "comp_id = '36'\n",
    "comp_name = 'Ekstraklasa'\n",
    "seria_a_ids = ['10747', '3274','2424','1643','1538','1479','745','652','614','547','480','413','348','292', '239']\n",
    "\n",
    "links = ['https://widgets.sports-reference.com/wg.fcgi?css=1&site=fb&url=%2Fen%2Fcomps%2F' + comp_id + '%2F' + seria_a_ids[0] + '%2Fkeepers%2F2020-2021-' + comp_name + '-Stats&div=div_stats_keeper', \n",
    "'https://widgets.sports-reference.com/wg.fcgi?css=1&site=fb&url=%2Fen%2Fcomps%2F' + comp_id + '%2F' + seria_a_ids[1] + '%2Fkeepers%2F2019-2020-' + comp_name + '-Stats&div=div_stats_keeper',\n",
    "'https://widgets.sports-reference.com/wg.fcgi?css=1&site=fb&url=%2Fen%2Fcomps%2F' + comp_id + '%2F' + seria_a_ids[2] + '%2Fkeepers%2F2018-2019-' + comp_name + '-Stats&div=div_stats_keeper',\n",
    "'https://widgets.sports-reference.com/wg.fcgi?css=1&site=fb&url=%2Fen%2Fcomps%2F' + comp_id + '%2F' + seria_a_ids[3] + '%2Fkeepers%2F2017-2018-' + comp_name + '-Stats&div=div_stats_keeper',\n",
    "'https://widgets.sports-reference.com/wg.fcgi?css=1&site=fb&url=%2Fen%2Fcomps%2F' + comp_id + '%2F' + seria_a_ids[4] + '%2Fkeepers%2F2016-2017-' + comp_name + '-Stats&div=div_stats_keeper',\n",
    "'https://widgets.sports-reference.com/wg.fcgi?css=1&site=fb&url=%2Fen%2Fcomps%2F' + comp_id + '%2F' + seria_a_ids[5] + '%2Fkeepers%2F2015-2016-' + comp_name + '-Stats&div=div_stats_keeper',\n",
    "'https://widgets.sports-reference.com/wg.fcgi?css=1&site=fb&url=%2Fen%2Fcomps%2F' + comp_id + '%2F' + seria_a_ids[6] + '%2Fkeepers%2F2014-2015-' + comp_name + '-Stats&div=div_stats_keeper',\n",
    "'https://widgets.sports-reference.com/wg.fcgi?css=1&site=fb&url=%2Fen%2Fcomps%2F' + comp_id + '%2F' + seria_a_ids[7] + '%2Fkeepers%2F2013-2014-' + comp_name + '-Stats&div=div_stats_keeper',\n",
    "'https://widgets.sports-reference.com/wg.fcgi?css=1&site=fb&url=%2Fen%2Fcomps%2F' + comp_id + '%2F' + seria_a_ids[8] + '%2Fkeepers%2F2012-2013-' + comp_name + '-Stats&div=div_stats_keeper',\n",
    "'https://widgets.sports-reference.com/wg.fcgi?css=1&site=fb&url=%2Fen%2Fcomps%2F' + comp_id + '%2F' + seria_a_ids[9] + '%2Fkeepers%2F2011-2012-' + comp_name + '-Stats&div=div_stats_keeper',\n",
    "'https://widgets.sports-reference.com/wg.fcgi?css=1&site=fb&url=%2Fen%2Fcomps%2F' + comp_id + '%2F' + seria_a_ids[10] + '%2Fkeepers%2F2010-2011-' + comp_name + '-Stats&div=div_stats_keeper',\n",
    "'https://widgets.sports-reference.com/wg.fcgi?css=1&site=fb&url=%2Fen%2Fcomps%2F' + comp_id + '%2F' + seria_a_ids[11] + '%2Fkeepers%2F2009-2010-' + comp_name + '-Stats&div=div_stats_keeper',\n",
    "'https://widgets.sports-reference.com/wg.fcgi?css=1&site=fb&url=%2Fen%2Fcomps%2F' + comp_id + '%2F' + seria_a_ids[12] + '%2Fkeepers%2F2008-2009-' + comp_name + '-Stats&div=div_stats_keeper',\n",
    "'https://widgets.sports-reference.com/wg.fcgi?css=1&site=fb&url=%2Fen%2Fcomps%2F' + comp_id + '%2F' + seria_a_ids[13] + '%2Fkeepers%2F2007-2008-' + comp_name + '-Stats&div=div_stats_keeper',\n",
    "'https://widgets.sports-reference.com/wg.fcgi?css=1&site=fb&url=%2Fen%2Fcomps%2F' + comp_id + '%2F' + seria_a_ids[14] + '%2Fkeepers%2F2006-2007-' + comp_name + '-Stats&div=div_stats_keeper']\n",
    "\n",
    "seasons = ['20/21', '19/20', '18/19', '17/18', '16/17', '15/16', '14/15', '13/14', '12/13', '11/12', '10/11', '09/10', '08/09', '07/08','06/07']\n",
    "folder = 'Poland'"
   ]
  },
  {
   "cell_type": "code",
   "execution_count": 11,
   "metadata": {},
   "outputs": [
    {
     "name": "stderr",
     "output_type": "stream",
     "text": [
      "/Library/Frameworks/Python.framework/Versions/3.8/lib/python3.8/site-packages/pandas/core/generic.py:4152: PerformanceWarning: dropping on a non-lexsorted multi-index without a level parameter may impact performance.\n",
      "  obj = obj._drop_axis(labels, axis, level=level, errors=errors)\n"
     ]
    },
    {
     "name": "stdout",
     "output_type": "stream",
     "text": [
      "1 of 15 ready\n"
     ]
    },
    {
     "name": "stderr",
     "output_type": "stream",
     "text": [
      "/Library/Frameworks/Python.framework/Versions/3.8/lib/python3.8/site-packages/pandas/core/generic.py:4152: PerformanceWarning: dropping on a non-lexsorted multi-index without a level parameter may impact performance.\n",
      "  obj = obj._drop_axis(labels, axis, level=level, errors=errors)\n"
     ]
    },
    {
     "name": "stdout",
     "output_type": "stream",
     "text": [
      "2 of 15 ready\n"
     ]
    },
    {
     "name": "stderr",
     "output_type": "stream",
     "text": [
      "/Library/Frameworks/Python.framework/Versions/3.8/lib/python3.8/site-packages/pandas/core/generic.py:4152: PerformanceWarning: dropping on a non-lexsorted multi-index without a level parameter may impact performance.\n",
      "  obj = obj._drop_axis(labels, axis, level=level, errors=errors)\n"
     ]
    },
    {
     "name": "stdout",
     "output_type": "stream",
     "text": [
      "3 of 15 ready\n"
     ]
    },
    {
     "name": "stderr",
     "output_type": "stream",
     "text": [
      "/Library/Frameworks/Python.framework/Versions/3.8/lib/python3.8/site-packages/pandas/core/generic.py:4152: PerformanceWarning: dropping on a non-lexsorted multi-index without a level parameter may impact performance.\n",
      "  obj = obj._drop_axis(labels, axis, level=level, errors=errors)\n"
     ]
    },
    {
     "name": "stdout",
     "output_type": "stream",
     "text": [
      "4 of 15 ready\n"
     ]
    },
    {
     "name": "stderr",
     "output_type": "stream",
     "text": [
      "/Library/Frameworks/Python.framework/Versions/3.8/lib/python3.8/site-packages/pandas/core/generic.py:4152: PerformanceWarning: dropping on a non-lexsorted multi-index without a level parameter may impact performance.\n",
      "  obj = obj._drop_axis(labels, axis, level=level, errors=errors)\n"
     ]
    },
    {
     "name": "stdout",
     "output_type": "stream",
     "text": [
      "5 of 15 ready\n"
     ]
    },
    {
     "name": "stderr",
     "output_type": "stream",
     "text": [
      "/Library/Frameworks/Python.framework/Versions/3.8/lib/python3.8/site-packages/pandas/core/generic.py:4152: PerformanceWarning: dropping on a non-lexsorted multi-index without a level parameter may impact performance.\n",
      "  obj = obj._drop_axis(labels, axis, level=level, errors=errors)\n"
     ]
    },
    {
     "name": "stdout",
     "output_type": "stream",
     "text": [
      "6 of 15 ready\n"
     ]
    },
    {
     "name": "stderr",
     "output_type": "stream",
     "text": [
      "/Library/Frameworks/Python.framework/Versions/3.8/lib/python3.8/site-packages/pandas/core/generic.py:4152: PerformanceWarning: dropping on a non-lexsorted multi-index without a level parameter may impact performance.\n",
      "  obj = obj._drop_axis(labels, axis, level=level, errors=errors)\n"
     ]
    },
    {
     "name": "stdout",
     "output_type": "stream",
     "text": [
      "7 of 15 ready\n"
     ]
    },
    {
     "name": "stderr",
     "output_type": "stream",
     "text": [
      "/Library/Frameworks/Python.framework/Versions/3.8/lib/python3.8/site-packages/pandas/core/generic.py:4152: PerformanceWarning: dropping on a non-lexsorted multi-index without a level parameter may impact performance.\n",
      "  obj = obj._drop_axis(labels, axis, level=level, errors=errors)\n"
     ]
    },
    {
     "name": "stdout",
     "output_type": "stream",
     "text": [
      "8 of 15 ready\n"
     ]
    },
    {
     "name": "stderr",
     "output_type": "stream",
     "text": [
      "/Library/Frameworks/Python.framework/Versions/3.8/lib/python3.8/site-packages/pandas/core/generic.py:4152: PerformanceWarning: dropping on a non-lexsorted multi-index without a level parameter may impact performance.\n",
      "  obj = obj._drop_axis(labels, axis, level=level, errors=errors)\n"
     ]
    },
    {
     "name": "stdout",
     "output_type": "stream",
     "text": [
      "9 of 15 ready\n"
     ]
    },
    {
     "name": "stderr",
     "output_type": "stream",
     "text": [
      "/Library/Frameworks/Python.framework/Versions/3.8/lib/python3.8/site-packages/pandas/core/generic.py:4152: PerformanceWarning: dropping on a non-lexsorted multi-index without a level parameter may impact performance.\n",
      "  obj = obj._drop_axis(labels, axis, level=level, errors=errors)\n"
     ]
    },
    {
     "name": "stdout",
     "output_type": "stream",
     "text": [
      "10 of 15 ready\n"
     ]
    },
    {
     "name": "stderr",
     "output_type": "stream",
     "text": [
      "/Library/Frameworks/Python.framework/Versions/3.8/lib/python3.8/site-packages/pandas/core/generic.py:4152: PerformanceWarning: dropping on a non-lexsorted multi-index without a level parameter may impact performance.\n",
      "  obj = obj._drop_axis(labels, axis, level=level, errors=errors)\n"
     ]
    },
    {
     "name": "stdout",
     "output_type": "stream",
     "text": [
      "11 of 15 ready\n"
     ]
    },
    {
     "name": "stderr",
     "output_type": "stream",
     "text": [
      "/Library/Frameworks/Python.framework/Versions/3.8/lib/python3.8/site-packages/pandas/core/generic.py:4152: PerformanceWarning: dropping on a non-lexsorted multi-index without a level parameter may impact performance.\n",
      "  obj = obj._drop_axis(labels, axis, level=level, errors=errors)\n"
     ]
    },
    {
     "name": "stdout",
     "output_type": "stream",
     "text": [
      "12 of 15 ready\n"
     ]
    },
    {
     "name": "stderr",
     "output_type": "stream",
     "text": [
      "/Library/Frameworks/Python.framework/Versions/3.8/lib/python3.8/site-packages/pandas/core/generic.py:4152: PerformanceWarning: dropping on a non-lexsorted multi-index without a level parameter may impact performance.\n",
      "  obj = obj._drop_axis(labels, axis, level=level, errors=errors)\n"
     ]
    },
    {
     "name": "stdout",
     "output_type": "stream",
     "text": [
      "13 of 15 ready\n"
     ]
    },
    {
     "name": "stderr",
     "output_type": "stream",
     "text": [
      "/Library/Frameworks/Python.framework/Versions/3.8/lib/python3.8/site-packages/pandas/core/generic.py:4152: PerformanceWarning: dropping on a non-lexsorted multi-index without a level parameter may impact performance.\n",
      "  obj = obj._drop_axis(labels, axis, level=level, errors=errors)\n"
     ]
    },
    {
     "name": "stdout",
     "output_type": "stream",
     "text": [
      "14 of 15 ready\n"
     ]
    },
    {
     "name": "stderr",
     "output_type": "stream",
     "text": [
      "/Library/Frameworks/Python.framework/Versions/3.8/lib/python3.8/site-packages/pandas/core/generic.py:4152: PerformanceWarning: dropping on a non-lexsorted multi-index without a level parameter may impact performance.\n",
      "  obj = obj._drop_axis(labels, axis, level=level, errors=errors)\n"
     ]
    },
    {
     "name": "stdout",
     "output_type": "stream",
     "text": [
      "15 of 15 ready\n"
     ]
    }
   ],
   "source": [
    "player_goalkeeping = pd.DataFrame(columns=['Rk','Player','Nation','Pos','Squad','Age','Born','MP','Starts','Min','90s',\n",
    "'GA','GA90','SoTA','Saves','Save%','W','D','L','CS','CS%', 'Season'])\n",
    "\n",
    "for i in range(len(links)):\n",
    "    try:\n",
    "        player_goalkeeping_table= pd.read_html(links[i] , match='Player Goalkeeping')[0]\n",
    "        player_goalkeeping_table = player_goalkeeping_table.drop(['Penalty Kicks'], axis=1)\n",
    "        player_goalkeeping_table.columns = player_goalkeeping_table.columns.droplevel(0)\n",
    "        player_goalkeeping_table = player_goalkeeping_table[['Rk','Player','Nation','Pos','Squad','Age','Born','MP','Starts','Min','90s',\n",
    "            'GA','GA90','SoTA','Saves','Save%','W','D','L','CS','CS%']]\n",
    "        player_goalkeeping_table['Season'] = seasons[i]\n",
    "        player_goalkeeping = player_goalkeeping.append(player_goalkeeping_table)\n",
    "        print(f'{i + 1} of {len(links)} ready')\n",
    "    except:\n",
    "        pass\n",
    "player_goalkeeping.to_excel(f\"/Users/{os.environ['USER']}/Documents/Uni/Szakdoga/Adatok/Fbref_data/{folder}/player_goalkeeping.xlsx\")\n",
    "\n"
   ]
  },
  {
   "cell_type": "code",
   "execution_count": null,
   "metadata": {},
   "outputs": [],
   "source": [
    "links = [\"https://widgets.sports-reference.com/wg.fcgi?css=1&site=fb&url=%2Fen%2Fcomps%2FBig5%2F2020-2021%2Fshooting%2Fplayers%2F2020-2021-Big-5-European-Leagues-Stats&div=div_stats_shooting\",\n",
    "'https://widgets.sports-reference.com/wg.fcgi?css=1&site=fb&url=%2Fen%2Fcomps%2FBig5%2F2019-2020%2Fshooting%2Fplayers%2F2019-2020-Big-5-European-Leagues-Stats&div=div_stats_shooting',\n",
    "'https://widgets.sports-reference.com/wg.fcgi?css=1&site=fb&url=%2Fen%2Fcomps%2FBig5%2F2018-2019%2Fshooting%2Fplayers%2F2018-2019-Big-5-European-Leagues-Stats&div=div_stats_shooting',\n",
    "'https://widgets.sports-reference.com/wg.fcgi?css=1&site=fb&url=%2Fen%2Fcomps%2FBig5%2F2017-2018%2Fshooting%2Fplayers%2F2017-2018-Big-5-European-Leagues-Stats&div=div_stats_shooting',\n",
    "'https://widgets.sports-reference.com/wg.fcgi?css=1&site=fb&url=%2Fen%2Fcomps%2FBig5%2F2016-2017%2Fshooting%2Fplayers%2F2016-2017-Big-5-European-Leagues-Stats&div=div_stats_shooting',\n",
    "'https://widgets.sports-reference.com/wg.fcgi?css=1&site=fb&url=%2Fen%2Fcomps%2FBig5%2F2015-2016%2Fshooting%2Fplayers%2F2015-2016-Big-5-European-Leagues-Stats&div=div_stats_shooting',\n",
    "'https://widgets.sports-reference.com/wg.fcgi?css=1&site=fb&url=%2Fen%2Fcomps%2FBig5%2F2014-2015%2Fshooting%2Fplayers%2F2014-2015-Big-5-European-Leagues-Stats&div=div_stats_shooting',\n",
    "'https://widgets.sports-reference.com/wg.fcgi?css=1&site=fb&url=%2Fen%2Fcomps%2FBig5%2F2013-2014%2Fshooting%2Fplayers%2F2013-2014-Big-5-European-Leagues-Stats&div=div_stats_shooting',\n",
    "'https://widgets.sports-reference.com/wg.fcgi?css=1&site=fb&url=%2Fen%2Fcomps%2FBig5%2F2012-2013%2Fshooting%2Fplayers%2F2012-2013-Big-5-European-Leagues-Stats&div=div_stats_shooting',\n",
    "'https://widgets.sports-reference.com/wg.fcgi?css=1&site=fb&url=%2Fen%2Fcomps%2FBig5%2F2011-2012%2Fshooting%2Fplayers%2F2011-2012-Big-5-European-Leagues-Stats&div=div_stats_shooting',\n",
    "'https://widgets.sports-reference.com/wg.fcgi?css=1&site=fb&url=%2Fen%2Fcomps%2FBig5%2F2010-2011%2Fshooting%2Fplayers%2F2010-2011-Big-5-European-Leagues-Stats&div=div_stats_shooting',\n",
    "'https://widgets.sports-reference.com/wg.fcgi?css=1&site=fb&url=%2Fen%2Fcomps%2FBig5%2F2009-2010%2Fshooting%2Fplayers%2F2009-2010-Big-5-European-Leagues-Stats&div=div_stats_shooting',\n",
    "'https://widgets.sports-reference.com/wg.fcgi?css=1&site=fb&url=%2Fen%2Fcomps%2FBig5%2F2008-2009%2Fshooting%2Fplayers%2F2008-2009-Big-5-European-Leagues-Stats&div=div_stats_shooting',\n",
    "'https://widgets.sports-reference.com/wg.fcgi?css=1&site=fb&url=%2Fen%2Fcomps%2FBig5%2F2007-2008%2Fshooting%2Fplayers%2F2007-2008-Big-5-European-Leagues-Stats&div=div_stats_shooting',\n",
    "'https://widgets.sports-reference.com/wg.fcgi?css=1&site=fb&url=%2Fen%2Fcomps%2FBig5%2F2006-2007%2Fshooting%2Fplayers%2F2006-2007-Big-5-European-Leagues-Stats&div=div_stats_shooting',]\n",
    "seasons = ['20/21', '19/20', '18/19', '17/18', '16/17', '15/16', '14/15', '13/14', '12/13', '11/12', '10/11', '09/10', '08/09', '07/08','06/07']"
   ]
  },
  {
   "cell_type": "code",
   "execution_count": null,
   "metadata": {},
   "outputs": [],
   "source": [
    "comp_id = '22'\n",
    "comp_name = 'Major-League-Soccer'\n",
    "seria_a_ids = ['', '10090','2798','1759','1558','1503','1369','708','643','577','509','442','374','316', '260']\n",
    "\n",
    "links = ['https://widgets.sports-reference.com/wg.fcgi?css=1&site=fb&url=%2Fen%2Fcomps%2F' + comp_id + '%2F' + seria_a_ids[0] + '%2Fshooting%2F2020-2021-' + comp_name + '-Stats&div=div_stats_shooting', \n",
    "'https://widgets.sports-reference.com/wg.fcgi?css=1&site=fb&url=%2Fen%2Fcomps%2F' + comp_id + '%2F' + seria_a_ids[1] + '%2Fshooting%2F2019-2020-' + comp_name + '-Stats&div=div_stats_shooting',\n",
    "'https://widgets.sports-reference.com/wg.fcgi?css=1&site=fb&url=%2Fen%2Fcomps%2F' + comp_id + '%2F' + seria_a_ids[2] + '%2Fshooting%2F2018-2019-' + comp_name + '-Stats&div=div_stats_shooting',\n",
    "'https://widgets.sports-reference.com/wg.fcgi?css=1&site=fb&url=%2Fen%2Fcomps%2F' + comp_id + '%2F' + seria_a_ids[3] + '%2Fshooting%2F2017-2018-' + comp_name + '-Stats&div=div_stats_shooting',\n",
    "'https://widgets.sports-reference.com/wg.fcgi?css=1&site=fb&url=%2Fen%2Fcomps%2F' + comp_id + '%2F' + seria_a_ids[4] + '%2Fshooting%2F2016-2017-' + comp_name + '-Stats&div=div_stats_shooting',\n",
    "'https://widgets.sports-reference.com/wg.fcgi?css=1&site=fb&url=%2Fen%2Fcomps%2F' + comp_id + '%2F' + seria_a_ids[5] + '%2Fshooting%2F2015-2016-' + comp_name + '-Stats&div=div_stats_shooting',\n",
    "'https://widgets.sports-reference.com/wg.fcgi?css=1&site=fb&url=%2Fen%2Fcomps%2F' + comp_id + '%2F' + seria_a_ids[6] + '%2Fshooting%2F2014-2015-' + comp_name + '-Stats&div=div_stats_shooting',\n",
    "'https://widgets.sports-reference.com/wg.fcgi?css=1&site=fb&url=%2Fen%2Fcomps%2F' + comp_id + '%2F' + seria_a_ids[7] + '%2Fshooting%2F2013-2014-' + comp_name + '-Stats&div=div_stats_shooting',\n",
    "'https://widgets.sports-reference.com/wg.fcgi?css=1&site=fb&url=%2Fen%2Fcomps%2F' + comp_id + '%2F' + seria_a_ids[8] + '%2Fshooting%2F2012-2013-' + comp_name + '-Stats&div=div_stats_shooting',\n",
    "'https://widgets.sports-reference.com/wg.fcgi?css=1&site=fb&url=%2Fen%2Fcomps%2F' + comp_id + '%2F' + seria_a_ids[9] + '%2Fshooting%2F2011-2012-' + comp_name + '-Stats&div=div_stats_shooting',\n",
    "'https://widgets.sports-reference.com/wg.fcgi?css=1&site=fb&url=%2Fen%2Fcomps%2F' + comp_id + '%2F' + seria_a_ids[10] + '%2Fshooting%2F2010-2011-' + comp_name + '-Stats&div=div_stats_shooting',\n",
    "'https://widgets.sports-reference.com/wg.fcgi?css=1&site=fb&url=%2Fen%2Fcomps%2F' + comp_id + '%2F' + seria_a_ids[11] + '%2Fshooting%2F2009-2010-' + comp_name + '-Stats&div=div_stats_shooting',\n",
    "'https://widgets.sports-reference.com/wg.fcgi?css=1&site=fb&url=%2Fen%2Fcomps%2F' + comp_id + '%2F' + seria_a_ids[12] + '%2Fshooting%2F2008-2009-' + comp_name + '-Stats&div=div_stats_shooting',\n",
    "'https://widgets.sports-reference.com/wg.fcgi?css=1&site=fb&url=%2Fen%2Fcomps%2F' + comp_id + '%2F' + seria_a_ids[13] + '%2Fshooting%2F2007-2008-' + comp_name + '-Stats&div=div_stats_shooting',\n",
    "'https://widgets.sports-reference.com/wg.fcgi?css=1&site=fb&url=%2Fen%2Fcomps%2F' + comp_id + '%2F' + seria_a_ids[14] + '%2Fshooting%2F2006-2007-' + comp_name + '-Stats&div=div_stats_shooting']\n",
    "\n",
    "seasons = ['20/21', '19/20', '18/19', '17/18', '16/17', '15/16', '14/15', '13/14', '12/13', '11/12', '10/11', '09/10', '08/09', '07/08','06/07']\n",
    "folder = 'MLS'"
   ]
  },
  {
   "cell_type": "code",
   "execution_count": null,
   "metadata": {},
   "outputs": [],
   "source": [
    "#Argentin\n",
    "comp_id = '21'\n",
    "comp_name = 'Major-League-Soccer'\n",
    "seria_a_ids = ['', '2436','2798','1659','1554','1494','789','718']\n",
    "\n",
    "links = ['https://widgets.sports-reference.com/wg.fcgi?css=1&site=fb&url=%2Fen%2Fcomps%2F' + comp_id + '%2F' + seria_a_ids[0] + '%2Fshooting%2F2020-2021-' + 'Primera-Division-Stats' + '-Stats&div=div_stats_shooting', \n",
    "'https://widgets.sports-reference.com/wg.fcgi?css=1&site=fb&url=%2Fen%2Fcomps%2F' + comp_id + '%2F' + seria_a_ids[1] + '%2Fshooting%2F2019-2020-' + 'Superliga-Argentina' + '-Stats&div=div_stats_shooting',\n",
    "'https://widgets.sports-reference.com/wg.fcgi?css=1&site=fb&url=%2Fen%2Fcomps%2F' + comp_id + '%2F' + seria_a_ids[2] + '%2Fshooting%2F2018-2019-' + 'Superliga-Argentina' + '-Stats&div=div_stats_shooting',\n",
    "'https://widgets.sports-reference.com/wg.fcgi?css=1&site=fb&url=%2Fen%2Fcomps%2F' + comp_id + '%2F' + seria_a_ids[3] + '%2Fshooting%2F2017-2018-' + 'Superliga-Argentina' + '-Stats&div=div_stats_shooting',\n",
    "'https://widgets.sports-reference.com/wg.fcgi?css=1&site=fb&url=%2Fen%2Fcomps%2F' + comp_id + '%2F' + seria_a_ids[4] + '%2Fshooting%2F2016-2017-' + 'Primera-Division' + '-Stats&div=div_stats_shooting',\n",
    "'https://widgets.sports-reference.com/wg.fcgi?css=1&site=fb&url=%2Fen%2Fcomps%2F' + comp_id + '%2F' + seria_a_ids[5] + '%2Fshooting%2F2015-2016-' + 'Primera-Division' + '-Stats&div=div_stats_shooting',\n",
    "'https://widgets.sports-reference.com/wg.fcgi?css=1&site=fb&url=%2Fen%2Fcomps%2F' + comp_id + '%2F' + seria_a_ids[6] + '%2Fshooting%2F2014-2015-' + 'Primera-Division' + '-Stats&div=div_stats_shooting',\n",
    "'https://widgets.sports-reference.com/wg.fcgi?css=1&site=fb&url=%2Fen%2Fcomps%2F' + comp_id + '%2F' + seria_a_ids[7] + '%2Fshooting%2F2013-2014-' + 'Primera-Division' + '-Stats&div=div_stats_shooting']\n",
    "\n",
    "seasons = ['20/21', '19/20', '18/19', '17/18', '16/17', '15/16', '14/15', '13/14']\n",
    "folder = 'Argentin'"
   ]
  },
  {
   "cell_type": "code",
   "execution_count": null,
   "metadata": {},
   "outputs": [],
   "source": [
    "comp_id = '56'\n",
    "comp_name = 'Austrian-Bundesliga'\n",
    "seria_a_ids = ['10758', '3213','2352','1618','1513','1454','720','656','589','521','454','386','328','272', '221']\n",
    "\n",
    "links = ['https://widgets.sports-reference.com/wg.fcgi?css=1&site=fb&url=%2Fen%2Fcomps%2F' + comp_id + '%2F' + seria_a_ids[0] + '%2Fshooting%2F2020-2021-' + comp_name + '-Stats&div=div_stats_shooting', \n",
    "'https://widgets.sports-reference.com/wg.fcgi?css=1&site=fb&url=%2Fen%2Fcomps%2F' + comp_id + '%2F' + seria_a_ids[1] + '%2Fshooting%2F2019-2020-' + comp_name + '-Stats&div=div_stats_shooting',\n",
    "'https://widgets.sports-reference.com/wg.fcgi?css=1&site=fb&url=%2Fen%2Fcomps%2F' + comp_id + '%2F' + seria_a_ids[2] + '%2Fshooting%2F2018-2019-' + comp_name + '-Stats&div=div_stats_shooting',\n",
    "'https://widgets.sports-reference.com/wg.fcgi?css=1&site=fb&url=%2Fen%2Fcomps%2F' + comp_id + '%2F' + seria_a_ids[3] + '%2Fshooting%2F2017-2018-' + comp_name + '-Stats&div=div_stats_shooting',\n",
    "'https://widgets.sports-reference.com/wg.fcgi?css=1&site=fb&url=%2Fen%2Fcomps%2F' + comp_id + '%2F' + seria_a_ids[4] + '%2Fshooting%2F2016-2017-' + comp_name + '-Stats&div=div_stats_shooting',\n",
    "'https://widgets.sports-reference.com/wg.fcgi?css=1&site=fb&url=%2Fen%2Fcomps%2F' + comp_id + '%2F' + seria_a_ids[5] + '%2Fshooting%2F2015-2016-' + comp_name + '-Stats&div=div_stats_shooting',\n",
    "'https://widgets.sports-reference.com/wg.fcgi?css=1&site=fb&url=%2Fen%2Fcomps%2F' + comp_id + '%2F' + seria_a_ids[6] + '%2Fshooting%2F2014-2015-' + comp_name + '-Stats&div=div_stats_shooting',\n",
    "'https://widgets.sports-reference.com/wg.fcgi?css=1&site=fb&url=%2Fen%2Fcomps%2F' + comp_id + '%2F' + seria_a_ids[7] + '%2Fshooting%2F2013-2014-' + comp_name + '-Stats&div=div_stats_shooting',\n",
    "'https://widgets.sports-reference.com/wg.fcgi?css=1&site=fb&url=%2Fen%2Fcomps%2F' + comp_id + '%2F' + seria_a_ids[8] + '%2Fshooting%2F2012-2013-' + comp_name + '-Stats&div=div_stats_shooting',\n",
    "'https://widgets.sports-reference.com/wg.fcgi?css=1&site=fb&url=%2Fen%2Fcomps%2F' + comp_id + '%2F' + seria_a_ids[9] + '%2Fshooting%2F2011-2012-' + comp_name + '-Stats&div=div_stats_shooting',\n",
    "'https://widgets.sports-reference.com/wg.fcgi?css=1&site=fb&url=%2Fen%2Fcomps%2F' + comp_id + '%2F' + seria_a_ids[10] + '%2Fshooting%2F2010-2011-' + comp_name + '-Stats&div=div_stats_shooting',\n",
    "'https://widgets.sports-reference.com/wg.fcgi?css=1&site=fb&url=%2Fen%2Fcomps%2F' + comp_id + '%2F' + seria_a_ids[11] + '%2Fshooting%2F2009-2010-' + comp_name + '-Stats&div=div_stats_shooting',\n",
    "'https://widgets.sports-reference.com/wg.fcgi?css=1&site=fb&url=%2Fen%2Fcomps%2F' + comp_id + '%2F' + seria_a_ids[12] + '%2Fshooting%2F2008-2009-' + comp_name + '-Stats&div=div_stats_shooting',\n",
    "'https://widgets.sports-reference.com/wg.fcgi?css=1&site=fb&url=%2Fen%2Fcomps%2F' + comp_id + '%2F' + seria_a_ids[13] + '%2Fshooting%2F2007-2008-' + comp_name + '-Stats&div=div_stats_shooting',\n",
    "'https://widgets.sports-reference.com/wg.fcgi?css=1&site=fb&url=%2Fen%2Fcomps%2F' + comp_id + '%2F' + seria_a_ids[14] + '%2Fshooting%2F2006-2007-' + comp_name + '-Stats&div=div_stats_shooting']\n",
    "\n",
    "seasons = ['20/21', '19/20', '18/19', '17/18', '16/17', '15/16', '14/15', '13/14', '12/13', '11/12', '10/11', '09/10', '08/09', '07/08','06/07']\n",
    "folder = 'Austrian'"
   ]
  },
  {
   "cell_type": "code",
   "execution_count": null,
   "metadata": {},
   "outputs": [],
   "source": [
    "#Belgian\n",
    "comp_id = '37'\n",
    "seria_a_ids = ['10748', '3216','2246','1619','1514','1455','721','657','591','523','456','388','329','273', '222']\n",
    "\n",
    "links = ['https://widgets.sports-reference.com/wg.fcgi?css=1&site=fb&url=%2Fen%2Fcomps%2F' + comp_id + '%2F' + seria_a_ids[0] + '%2Fshooting%2F2020-2021-' + 'Belgian-First-Division-A' + '-Stats&div=div_stats_shooting', \n",
    "'https://widgets.sports-reference.com/wg.fcgi?css=1&site=fb&url=%2Fen%2Fcomps%2F' + comp_id + '%2F' + seria_a_ids[1] + '%2Fshooting%2F2019-2020-' + 'Belgian-First-Division-A' + '-Stats&div=div_stats_shooting',\n",
    "'https://widgets.sports-reference.com/wg.fcgi?css=1&site=fb&url=%2Fen%2Fcomps%2F' + comp_id + '%2F' + seria_a_ids[2] + '%2Fshooting%2F2018-2019-' + 'Belgian-First-Division-A' + '-Stats&div=div_stats_shooting',\n",
    "'https://widgets.sports-reference.com/wg.fcgi?css=1&site=fb&url=%2Fen%2Fcomps%2F' + comp_id + '%2F' + seria_a_ids[3] + '%2Fshooting%2F2017-2018-' + 'Belgian-First-Division-A' + '-Stats&div=div_stats_shooting',\n",
    "'https://widgets.sports-reference.com/wg.fcgi?css=1&site=fb&url=%2Fen%2Fcomps%2F' + comp_id + '%2F' + seria_a_ids[4] + '%2Fshooting%2F2016-2017-' + 'Belgian-First-Division-A' + '-Stats&div=div_stats_shooting',\n",
    "'https://widgets.sports-reference.com/wg.fcgi?css=1&site=fb&url=%2Fen%2Fcomps%2F' + comp_id + '%2F' + seria_a_ids[5] + '%2Fshooting%2F2015-2016-' + 'Belgian-Pro-League' + '-Stats&div=div_stats_shooting',\n",
    "'https://widgets.sports-reference.com/wg.fcgi?css=1&site=fb&url=%2Fen%2Fcomps%2F' + comp_id + '%2F' + seria_a_ids[6] + '%2Fshooting%2F2014-2015-' + 'Belgian-Pro-League' + '-Stats&div=div_stats_shooting',\n",
    "'https://widgets.sports-reference.com/wg.fcgi?css=1&site=fb&url=%2Fen%2Fcomps%2F' + comp_id + '%2F' + seria_a_ids[7] + '%2Fshooting%2F2013-2014-' + 'Belgian-Pro-League' + '-Stats&div=div_stats_shooting',\n",
    "'https://widgets.sports-reference.com/wg.fcgi?css=1&site=fb&url=%2Fen%2Fcomps%2F' + comp_id + '%2F' + seria_a_ids[8] + '%2Fshooting%2F2012-2013-' + 'Belgian-Pro-League' + '-Stats&div=div_stats_shooting',\n",
    "'https://widgets.sports-reference.com/wg.fcgi?css=1&site=fb&url=%2Fen%2Fcomps%2F' + comp_id + '%2F' + seria_a_ids[9] + '%2Fshooting%2F2011-2012-' + 'Belgian-Pro-League' + '-Stats&div=div_stats_shooting',\n",
    "'https://widgets.sports-reference.com/wg.fcgi?css=1&site=fb&url=%2Fen%2Fcomps%2F' + comp_id + '%2F' + seria_a_ids[10] + '%2Fshooting%2F2010-2011-' + 'Belgian-Pro-League' + '-Stats&div=div_stats_shooting',\n",
    "'https://widgets.sports-reference.com/wg.fcgi?css=1&site=fb&url=%2Fen%2Fcomps%2F' + comp_id + '%2F' + seria_a_ids[11] + '%2Fshooting%2F2009-2010-' + 'Belgian-Pro-League' + '-Stats&div=div_stats_shooting',\n",
    "'https://widgets.sports-reference.com/wg.fcgi?css=1&site=fb&url=%2Fen%2Fcomps%2F' + comp_id + '%2F' + seria_a_ids[12] + '%2Fshooting%2F2008-2009-' + 'Belgian-First-Division' + '-Stats&div=div_stats_shooting',\n",
    "'https://widgets.sports-reference.com/wg.fcgi?css=1&site=fb&url=%2Fen%2Fcomps%2F' + comp_id + '%2F' + seria_a_ids[13] + '%2Fshooting%2F2007-2008-' + 'Belgian-First-Division' + '-Stats&div=div_stats_shooting',\n",
    "'https://widgets.sports-reference.com/wg.fcgi?css=1&site=fb&url=%2Fen%2Fcomps%2F' + comp_id + '%2F' + seria_a_ids[14] + '%2Fshooting%2F2006-2007-' + 'Belgian-First-Division' + '-Stats&div=div_stats_shooting']\n",
    "\n",
    "seasons = ['20/21', '19/20', '18/19', '17/18', '16/17', '15/16', '14/15', '13/14', '12/13', '11/12', '10/11', '09/10', '08/09', '07/08','06/07']\n",
    "folder = 'Belgian'"
   ]
  },
  {
   "cell_type": "code",
   "execution_count": null,
   "metadata": {},
   "outputs": [],
   "source": [
    "#Brazil\n",
    "comp_id = '24'\n",
    "seria_a_ids = ['', '10072','3320','1760','1559','1495','851','698']\n",
    "\n",
    "links = ['https://widgets.sports-reference.com/wg.fcgi?css=1&site=fb&url=%2Fen%2Fcomps%2F' + comp_id + '%2F' + seria_a_ids[0] + '%2Fshooting%2F2020-2021-' + 'Belgian-First-Division-A' + '-Stats&div=div_stats_shooting', \n",
    "'https://widgets.sports-reference.com/wg.fcgi?css=1&site=fb&url=%2Fen%2Fcomps%2F' + comp_id + '%2F' + seria_a_ids[1] + '%2Fshooting%2F2019-2020-' + 'Belgian-First-Division-A' + '-Stats&div=div_stats_shooting',\n",
    "'https://widgets.sports-reference.com/wg.fcgi?css=1&site=fb&url=%2Fen%2Fcomps%2F' + comp_id + '%2F' + seria_a_ids[2] + '%2Fshooting%2F2018-2019-' + 'Belgian-First-Division-A' + '-Stats&div=div_stats_shooting',\n",
    "'https://widgets.sports-reference.com/wg.fcgi?css=1&site=fb&url=%2Fen%2Fcomps%2F' + comp_id + '%2F' + seria_a_ids[3] + '%2Fshooting%2F2017-2018-' + 'Belgian-First-Division-A' + '-Stats&div=div_stats_shooting',\n",
    "'https://widgets.sports-reference.com/wg.fcgi?css=1&site=fb&url=%2Fen%2Fcomps%2F' + comp_id + '%2F' + seria_a_ids[4] + '%2Fshooting%2F2016-2017-' + 'Belgian-First-Division-A' + '-Stats&div=div_stats_shooting',\n",
    "'https://widgets.sports-reference.com/wg.fcgi?css=1&site=fb&url=%2Fen%2Fcomps%2F' + comp_id + '%2F' + seria_a_ids[5] + '%2Fshooting%2F2015-2016-' + 'Belgian-Pro-League' + '-Stats&div=div_stats_shooting',\n",
    "'https://widgets.sports-reference.com/wg.fcgi?css=1&site=fb&url=%2Fen%2Fcomps%2F' + comp_id + '%2F' + seria_a_ids[6] + '%2Fshooting%2F2014-2015-' + 'Belgian-Pro-League' + '-Stats&div=div_stats_shooting',\n",
    "'https://widgets.sports-reference.com/wg.fcgi?css=1&site=fb&url=%2Fen%2Fcomps%2F' + comp_id + '%2F' + seria_a_ids[7] + '%2Fshooting%2F2013-2014-' + 'Belgian-Pro-League' + '-Stats&div=div_stats_shooting']\n",
    "\n",
    "seasons = ['20/21', '19/20', '18/19', '17/18', '16/17', '15/16', '14/15', '13/14']\n",
    "folder = 'Brazil'\n"
   ]
  },
  {
   "cell_type": "code",
   "execution_count": null,
   "metadata": {},
   "outputs": [],
   "source": [
    "#Chile\n",
    "comp_id = '35'\n",
    "seria_a_ids = ['10989', '10074','3926','1621','1616','1516','1457','723']\n",
    "comp_name  = 'Primera-Division'\n",
    "\n",
    "links = ['https://widgets.sports-reference.com/wg.fcgi?css=1&site=fb&url=%2Fen%2Fcomps%2F' + comp_id + '%2F' + seria_a_ids[0] + '%2Fshooting%2F2020-2021-' + 'Belgian-First-Division-A' + '-Stats&div=div_stats_shooting', \n",
    "'https://widgets.sports-reference.com/wg.fcgi?css=1&site=fb&url=%2Fen%2Fcomps%2F' + comp_id + '%2F' + seria_a_ids[1] + '%2Fshooting%2F2019-2020-' + 'Belgian-First-Division-A' + '-Stats&div=div_stats_shooting',\n",
    "'https://widgets.sports-reference.com/wg.fcgi?css=1&site=fb&url=%2Fen%2Fcomps%2F' + comp_id + '%2F' + seria_a_ids[2] + '%2Fshooting%2F2018-2019-' + 'Belgian-First-Division-A' + '-Stats&div=div_stats_shooting',\n",
    "'https://widgets.sports-reference.com/wg.fcgi?css=1&site=fb&url=%2Fen%2Fcomps%2F' + comp_id + '%2F' + seria_a_ids[3] + '%2Fshooting%2F2017-2018-' + 'Belgian-First-Division-A' + '-Stats&div=div_stats_shooting',\n",
    "'https://widgets.sports-reference.com/wg.fcgi?css=1&site=fb&url=%2Fen%2Fcomps%2F' + comp_id + '%2F' + seria_a_ids[4] + '%2Fshooting%2F2016-2017-' + 'Belgian-First-Division-A' + '-Stats&div=div_stats_shooting',\n",
    "'https://widgets.sports-reference.com/wg.fcgi?css=1&site=fb&url=%2Fen%2Fcomps%2F' + comp_id + '%2F' + seria_a_ids[5] + '%2Fshooting%2F2015-2016-' + 'Belgian-Pro-League' + '-Stats&div=div_stats_shooting',\n",
    "'https://widgets.sports-reference.com/wg.fcgi?css=1&site=fb&url=%2Fen%2Fcomps%2F' + comp_id + '%2F' + seria_a_ids[6] + '%2Fv%2F2014-2015-' + 'Belgian-Pro-League' + '-Stats&div=div_stats_shooting',\n",
    "'https://widgets.sports-reference.com/wg.fcgi?css=1&site=fb&url=%2Fen%2Fcomps%2F' + comp_id + '%2F' + seria_a_ids[7] + '%2Fshooting%2F2013-2014-' + 'Belgian-Pro-League' + '-Stats&div=div_stats_shooting']\n",
    "\n",
    "seasons = ['20/21', '19/20', '18/19', '17/18', '16/17', '15/16', '14/15', '13/14']\n",
    "folder = 'Chile'"
   ]
  },
  {
   "cell_type": "code",
   "execution_count": null,
   "metadata": {},
   "outputs": [],
   "source": [
    "#Czech\n",
    "comp_id = '66'\n",
    "comp_name = 'Czech-First-League'\n",
    "seria_a_ids = ['10765', '3226','2427','1623','1518','1459','725','661','594','526','459','391']\n",
    "\n",
    "links = ['https://widgets.sports-reference.com/wg.fcgi?css=1&site=fb&url=%2Fen%2Fcomps%2F' + comp_id + '%2F' + seria_a_ids[0] + '%2Fshooting%2F2020-2021-' + comp_name + '-Stats&div=div_stats_shooting', \n",
    "'https://widgets.sports-reference.com/wg.fcgi?css=1&site=fb&url=%2Fen%2Fcomps%2F' + comp_id + '%2F' + seria_a_ids[1] + '%2Fshooting%2F2019-2020-' + comp_name + '-Stats&div=div_stats_shooting',\n",
    "'https://widgets.sports-reference.com/wg.fcgi?css=1&site=fb&url=%2Fen%2Fcomps%2F' + comp_id + '%2F' + seria_a_ids[2] + '%2Fshooting%2F2018-2019-' + comp_name + '-Stats&div=div_stats_shooting',\n",
    "'https://widgets.sports-reference.com/wg.fcgi?css=1&site=fb&url=%2Fen%2Fcomps%2F' + comp_id + '%2F' + seria_a_ids[3] + '%2Fshooting%2F2017-2018-' + comp_name + '-Stats&div=div_stats_shooting',\n",
    "'https://widgets.sports-reference.com/wg.fcgi?css=1&site=fb&url=%2Fen%2Fcomps%2F' + comp_id + '%2F' + seria_a_ids[4] + '%2Fshooting%2F2016-2017-' + comp_name + '-Stats&div=div_stats_shooting',\n",
    "'https://widgets.sports-reference.com/wg.fcgi?css=1&site=fb&url=%2Fen%2Fcomps%2F' + comp_id + '%2F' + seria_a_ids[5] + '%2Fshooting%2F2015-2016-' + comp_name + '-Stats&div=div_stats_shooting',\n",
    "'https://widgets.sports-reference.com/wg.fcgi?css=1&site=fb&url=%2Fen%2Fcomps%2F' + comp_id + '%2F' + seria_a_ids[6] + '%2Fshooting%2F2014-2015-' + comp_name + '-Stats&div=div_stats_shooting',\n",
    "'https://widgets.sports-reference.com/wg.fcgi?css=1&site=fb&url=%2Fen%2Fcomps%2F' + comp_id + '%2F' + seria_a_ids[7] + '%2Fshooting%2F2013-2014-' + comp_name + '-Stats&div=div_stats_shooting',\n",
    "'https://widgets.sports-reference.com/wg.fcgi?css=1&site=fb&url=%2Fen%2Fcomps%2F' + comp_id + '%2F' + seria_a_ids[8] + '%2Fshooting%2F2012-2013-' + comp_name + '-Stats&div=div_stats_shooting',\n",
    "'https://widgets.sports-reference.com/wg.fcgi?css=1&site=fb&url=%2Fen%2Fcomps%2F' + comp_id + '%2F' + seria_a_ids[9] + '%2Fshooting%2F2011-2012-' + comp_name + '-Stats&div=div_stats_shooting',\n",
    "'https://widgets.sports-reference.com/wg.fcgi?css=1&site=fb&url=%2Fen%2Fcomps%2F' + comp_id + '%2F' + seria_a_ids[10] + '%2Fshooting%2F2010-2011-' + comp_name + '-Stats&div=div_stats_shooting',\n",
    "'https://widgets.sports-reference.com/wg.fcgi?css=1&site=fb&url=%2Fen%2Fcomps%2F' + comp_id + '%2F' + seria_a_ids[11] + '%2Fshooting%2F2009-2010-' + comp_name + '-Stats&div=div_stats_shooting']\n",
    "\n",
    "seasons = ['20/21', '19/20', '18/19', '17/18', '16/17', '15/16', '14/15', '13/14', '12/13', '11/12', '10/11', '09/10']\n",
    "folder = 'Czech'"
   ]
  },
  {
   "cell_type": "code",
   "execution_count": null,
   "metadata": {},
   "outputs": [],
   "source": [
    "#Croatia\n",
    "comp_id = '63'\n",
    "comp_name = '1-HNL'\n",
    "seria_a_ids = ['10762', '3223','2422','1622','1517','1458','724','660','593','525','458','390','330','274']\n",
    "\n",
    "links = ['https://widgets.sports-reference.com/wg.fcgi?css=1&site=fb&url=%2Fen%2Fcomps%2F' + comp_id + '%2F' + seria_a_ids[0] + '%2Fshooting%2F2020-2021-' + comp_name + '-Stats&div=div_stats_shooting', \n",
    "'https://widgets.sports-reference.com/wg.fcgi?css=1&site=fb&url=%2Fen%2Fcomps%2F' + comp_id + '%2F' + seria_a_ids[1] + '%2Fshooting%2F2019-2020-' + comp_name + '-Stats&div=div_stats_shooting',\n",
    "'https://widgets.sports-reference.com/wg.fcgi?css=1&site=fb&url=%2Fen%2Fcomps%2F' + comp_id + '%2F' + seria_a_ids[2] + '%2Fshooting%2F2018-2019-' + comp_name + '-Stats&div=div_stats_shooting',\n",
    "'https://widgets.sports-reference.com/wg.fcgi?css=1&site=fb&url=%2Fen%2Fcomps%2F' + comp_id + '%2F' + seria_a_ids[3] + '%2Fshooting%2F2017-2018-' + comp_name + '-Stats&div=div_stats_shooting',\n",
    "'https://widgets.sports-reference.com/wg.fcgi?css=1&site=fb&url=%2Fen%2Fcomps%2F' + comp_id + '%2F' + seria_a_ids[4] + '%2Fshooting%2F2016-2017-' + comp_name + '-Stats&div=div_stats_shooting',\n",
    "'https://widgets.sports-reference.com/wg.fcgi?css=1&site=fb&url=%2Fen%2Fcomps%2F' + comp_id + '%2F' + seria_a_ids[5] + '%2Fshooting%2F2015-2016-' + comp_name + '-Stats&div=div_stats_shooting',\n",
    "'https://widgets.sports-reference.com/wg.fcgi?css=1&site=fb&url=%2Fen%2Fcomps%2F' + comp_id + '%2F' + seria_a_ids[6] + '%2Fshooting%2F2014-2015-' + comp_name + '-Stats&div=div_stats_shooting',\n",
    "'https://widgets.sports-reference.com/wg.fcgi?css=1&site=fb&url=%2Fen%2Fcomps%2F' + comp_id + '%2F' + seria_a_ids[7] + '%2Fshooting%2F2013-2014-' + comp_name + '-Stats&div=div_stats_shooting',\n",
    "'https://widgets.sports-reference.com/wg.fcgi?css=1&site=fb&url=%2Fen%2Fcomps%2F' + comp_id + '%2F' + seria_a_ids[8] + '%2Fshooting%2F2012-2013-' + comp_name + '-Stats&div=div_stats_shooting',\n",
    "'https://widgets.sports-reference.com/wg.fcgi?css=1&site=fb&url=%2Fen%2Fcomps%2F' + comp_id + '%2F' + seria_a_ids[9] + '%2Fshooting%2F2011-2012-' + comp_name + '-Stats&div=div_stats_shooting',\n",
    "'https://widgets.sports-reference.com/wg.fcgi?css=1&site=fb&url=%2Fen%2Fcomps%2F' + comp_id + '%2F' + seria_a_ids[10] + '%2Fshooting%2F2010-2011-' + comp_name + '-Stats&div=div_stats_shooting',\n",
    "'https://widgets.sports-reference.com/wg.fcgi?css=1&site=fb&url=%2Fen%2Fcomps%2F' + comp_id + '%2F' + seria_a_ids[11] + '%2Fshooting%2F2009-2010-' + comp_name + '-Stats&div=div_stats_shooting',\n",
    "'https://widgets.sports-reference.com/wg.fcgi?css=1&site=fb&url=%2Fen%2Fcomps%2F' + comp_id + '%2F' + seria_a_ids[12] + '%2Fshooting%2F2008-2009-' + comp_name + '-Stats&div=div_stats_shooting',\n",
    "'https://widgets.sports-reference.com/wg.fcgi?css=1&site=fb&url=%2Fen%2Fcomps%2F' + comp_id + '%2F' + seria_a_ids[13] + '%2Fshooting%2F2007-2008-' + comp_name + '-Stats&div=div_stats_shooting']\n",
    "\n",
    "seasons = ['20/21', '19/20', '18/19', '17/18', '16/17', '15/16', '14/15', '13/14', '12/13', '11/12', '10/11', '09/10', '08/09', '07/08']\n",
    "folder = 'Croatia'"
   ]
  },
  {
   "cell_type": "code",
   "execution_count": null,
   "metadata": {},
   "outputs": [],
   "source": [
    "#Danish\n",
    "comp_id = '50'\n",
    "seria_a_ids = ['10754', '3229','2423','1624','1519','1460','726','662','595','527','460','392','331','275', '223']\n",
    "\n",
    "links = ['https://widgets.sports-reference.com/wg.fcgi?css=1&site=fb&url=%2Fen%2Fcomps%2F' + comp_id + '%2F' + seria_a_ids[0] + '%2Fshooting%2F2020-2021-' + 'Belgian-First-Division-A' + '-Stats&div=div_stats_shooting', \n",
    "'https://widgets.sports-reference.com/wg.fcgi?css=1&site=fb&url=%2Fen%2Fcomps%2F' + comp_id + '%2F' + seria_a_ids[1] + '%2Fshooting%2F2019-2020-' + 'Belgian-First-Division-A' + '-Stats&div=div_stats_shooting',\n",
    "'https://widgets.sports-reference.com/wg.fcgi?css=1&site=fb&url=%2Fen%2Fcomps%2F' + comp_id + '%2F' + seria_a_ids[2] + '%2Fshooting%2F2018-2019-' + 'Belgian-First-Division-A' + '-Stats&div=div_stats_shooting',\n",
    "'https://widgets.sports-reference.com/wg.fcgi?css=1&site=fb&url=%2Fen%2Fcomps%2F' + comp_id + '%2F' + seria_a_ids[3] + '%2Fshooting%2F2017-2018-' + 'Belgian-First-Division-A' + '-Stats&div=div_stats_shooting',\n",
    "'https://widgets.sports-reference.com/wg.fcgi?css=1&site=fb&url=%2Fen%2Fcomps%2F' + comp_id + '%2F' + seria_a_ids[4] + '%2Fshooting%2F2016-2017-' + 'Belgian-First-Division-A' + '-Stats&div=div_stats_shooting',\n",
    "'https://widgets.sports-reference.com/wg.fcgi?css=1&site=fb&url=%2Fen%2Fcomps%2F' + comp_id + '%2F' + seria_a_ids[5] + '%2Fshooting%2F2015-2016-' + 'Belgian-Pro-League' + '-Stats&div=div_stats_shooting',\n",
    "'https://widgets.sports-reference.com/wg.fcgi?css=1&site=fb&url=%2Fen%2Fcomps%2F' + comp_id + '%2F' + seria_a_ids[6] + '%2Fshooting%2F2014-2015-' + 'Belgian-Pro-League' + '-Stats&div=div_stats_shooting',\n",
    "'https://widgets.sports-reference.com/wg.fcgi?css=1&site=fb&url=%2Fen%2Fcomps%2F' + comp_id + '%2F' + seria_a_ids[7] + '%2Fshooting%2F2013-2014-' + 'Belgian-Pro-League' + '-Stats&div=div_stats_shooting',\n",
    "'https://widgets.sports-reference.com/wg.fcgi?css=1&site=fb&url=%2Fen%2Fcomps%2F' + comp_id + '%2F' + seria_a_ids[8] + '%2Fshooting%2F2012-2013-' + 'Belgian-Pro-League' + '-Stats&div=div_stats_shooting',\n",
    "'https://widgets.sports-reference.com/wg.fcgi?css=1&site=fb&url=%2Fen%2Fcomps%2F' + comp_id + '%2F' + seria_a_ids[9] + '%2Fshooting%2F2011-2012-' + 'Belgian-Pro-League' + '-Stats&div=div_stats_shooting',\n",
    "'https://widgets.sports-reference.com/wg.fcgi?css=1&site=fb&url=%2Fen%2Fcomps%2F' + comp_id + '%2F' + seria_a_ids[10] + '%2Fshooting%2F2010-2011-' + 'Belgian-Pro-League' + '-Stats&div=div_stats_shooting',\n",
    "'https://widgets.sports-reference.com/wg.fcgi?css=1&site=fb&url=%2Fen%2Fcomps%2F' + comp_id + '%2F' + seria_a_ids[11] + '%2Fshooting%2F2009-2010-' + 'Belgian-Pro-League' + '-Stats&div=div_stats_shooting',\n",
    "'https://widgets.sports-reference.com/wg.fcgi?css=1&site=fb&url=%2Fen%2Fcomps%2F' + comp_id + '%2F' + seria_a_ids[12] + '%2Fshooting%2F2008-2009-' + 'Belgian-First-Division' + '-Stats&div=div_stats_shooting',\n",
    "'https://widgets.sports-reference.com/wg.fcgi?css=1&site=fb&url=%2Fen%2Fcomps%2F' + comp_id + '%2F' + seria_a_ids[13] + '%2Fshooting%2F2007-2008-' + 'Belgian-First-Division' + '-Stats&div=div_stats_shooting',\n",
    "'https://widgets.sports-reference.com/wg.fcgi?css=1&site=fb&url=%2Fen%2Fcomps%2F' + comp_id + '%2F' + seria_a_ids[14] + '%2Fshooting%2F2006-2007-' + 'Belgian-First-Division' + '-Stats&div=div_stats_shooting']\n",
    "\n",
    "seasons = ['20/21', '19/20', '18/19', '17/18', '16/17', '15/16', '14/15', '13/14', '12/13', '11/12', '10/11', '09/10', '08/09', '07/08','06/07']\n",
    "folder = 'Danish'"
   ]
  },
  {
   "cell_type": "code",
   "execution_count": null,
   "metadata": {},
   "outputs": [],
   "source": [
    "#Dutch\n",
    "comp_id = '23'\n",
    "seria_a_ids = ['10739', '3269','2231','1625','1520','1462','728','664','597','529','462','394','333','277', '224']\n",
    "comp_name = 'Dutch-Eredivisie'\n",
    "\n",
    "links = ['https://widgets.sports-reference.com/wg.fcgi?css=1&site=fb&url=%2Fen%2Fcomps%2F' + comp_id + '%2F' + seria_a_ids[0] + '%2Fshooting%2F2020-2021-' + 'Belgian-First-Division-A' + '-Stats&div=div_stats_shooting', \n",
    "'https://widgets.sports-reference.com/wg.fcgi?css=1&site=fb&url=%2Fen%2Fcomps%2F' + comp_id + '%2F' + seria_a_ids[1] + '%2Fshooting%2F2019-2020-' + 'Belgian-First-Division-A' + '-Stats&div=div_stats_shooting',\n",
    "'https://widgets.sports-reference.com/wg.fcgi?css=1&site=fb&url=%2Fen%2Fcomps%2F' + comp_id + '%2F' + seria_a_ids[2] + '%2Fshooting%2F2018-2019-' + 'Belgian-First-Division-A' + '-Stats&div=div_stats_shooting',\n",
    "'https://widgets.sports-reference.com/wg.fcgi?css=1&site=fb&url=%2Fen%2Fcomps%2F' + comp_id + '%2F' + seria_a_ids[3] + '%2Fshooting%2F2017-2018-' + 'Belgian-First-Division-A' + '-Stats&div=div_stats_shooting',\n",
    "'https://widgets.sports-reference.com/wg.fcgi?css=1&site=fb&url=%2Fen%2Fcomps%2F' + comp_id + '%2F' + seria_a_ids[4] + '%2Fshooting%2F2016-2017-' + 'Belgian-First-Division-A' + '-Stats&div=div_stats_shooting',\n",
    "'https://widgets.sports-reference.com/wg.fcgi?css=1&site=fb&url=%2Fen%2Fcomps%2F' + comp_id + '%2F' + seria_a_ids[5] + '%2Fshooting%2F2015-2016-' + 'Belgian-Pro-League' + '-Stats&div=div_stats_shooting',\n",
    "'https://widgets.sports-reference.com/wg.fcgi?css=1&site=fb&url=%2Fen%2Fcomps%2F' + comp_id + '%2F' + seria_a_ids[6] + '%2Fshooting%2F2014-2015-' + 'Belgian-Pro-League' + '-Stats&div=div_stats_shooting',\n",
    "'https://widgets.sports-reference.com/wg.fcgi?css=1&site=fb&url=%2Fen%2Fcomps%2F' + comp_id + '%2F' + seria_a_ids[7] + '%2Fshooting%2F2013-2014-' + 'Belgian-Pro-League' + '-Stats&div=div_stats_shooting',\n",
    "'https://widgets.sports-reference.com/wg.fcgi?css=1&site=fb&url=%2Fen%2Fcomps%2F' + comp_id + '%2F' + seria_a_ids[8] + '%2Fshooting%2F2012-2013-' + 'Belgian-Pro-League' + '-Stats&div=div_stats_shooting',\n",
    "'https://widgets.sports-reference.com/wg.fcgi?css=1&site=fb&url=%2Fen%2Fcomps%2F' + comp_id + '%2F' + seria_a_ids[9] + '%2Fshooting%2F2011-2012-' + 'Belgian-Pro-League' + '-Stats&div=div_stats_shooting',\n",
    "'https://widgets.sports-reference.com/wg.fcgi?css=1&site=fb&url=%2Fen%2Fcomps%2F' + comp_id + '%2F' + seria_a_ids[10] + '%2Fshooting%2F2010-2011-' + 'Belgian-Pro-League' + '-Stats&div=div_stats_shooting',\n",
    "'https://widgets.sports-reference.com/wg.fcgi?css=1&site=fb&url=%2Fen%2Fcomps%2F' + comp_id + '%2F' + seria_a_ids[11] + '%2Fshooting%2F2009-2010-' + 'Belgian-Pro-League' + '-Stats&div=div_stats_shooting',\n",
    "'https://widgets.sports-reference.com/wg.fcgi?css=1&site=fb&url=%2Fen%2Fcomps%2F' + comp_id + '%2F' + seria_a_ids[12] + '%2Fshooting%2F2008-2009-' + 'Belgian-First-Division' + '-Stats&div=div_stats_shooting',\n",
    "'https://widgets.sports-reference.com/wg.fcgi?css=1&site=fb&url=%2Fen%2Fcomps%2F' + comp_id + '%2F' + seria_a_ids[13] + '%2Fshooting%2F2007-2008-' + 'Belgian-First-Division' + '-Stats&div=div_stats_shooting',\n",
    "'https://widgets.sports-reference.com/wg.fcgi?css=1&site=fb&url=%2Fen%2Fcomps%2F' + comp_id + '%2F' + seria_a_ids[14] + '%2Fshooting%2F2006-2007-' + 'Belgian-First-Division' + '-Stats&div=div_stats_shooting']\n",
    "\n",
    "seasons = ['20/21', '19/20', '18/19', '17/18', '16/17', '15/16', '14/15', '13/14', '12/13', '11/12', '10/11', '09/10', '08/09', '07/08','06/07']\n",
    "folder = 'Dutch'"
   ]
  },
  {
   "cell_type": "code",
   "execution_count": null,
   "metadata": {},
   "outputs": [],
   "source": [
    "#Greek\n",
    "comp_id = '23'\n",
    "seria_a_ids = ['10741', '3254','2428','1637','1532','1473','739','675','608','540','473','406','342','286', '233']\n",
    "comp_name = 'Super-League-Greece'\n",
    "\n",
    "links = ['https://widgets.sports-reference.com/wg.fcgi?css=1&site=fb&url=%2Fen%2Fcomps%2F' + comp_id + '%2F' + seria_a_ids[0] + '%2Fshooting%2F2020-2021-' + 'Belgian-First-Division-A' + '-Stats&div=div_stats_shooting', \n",
    "'https://widgets.sports-reference.com/wg.fcgi?css=1&site=fb&url=%2Fen%2Fcomps%2F' + comp_id + '%2F' + seria_a_ids[1] + '%2Fshooting%2F2019-2020-' + 'Belgian-First-Division-A' + '-Stats&div=div_stats_shooting',\n",
    "'https://widgets.sports-reference.com/wg.fcgi?css=1&site=fb&url=%2Fen%2Fcomps%2F' + comp_id + '%2F' + seria_a_ids[2] + '%2Fshooting%2F2018-2019-' + 'Belgian-First-Division-A' + '-Stats&div=div_stats_shooting',\n",
    "'https://widgets.sports-reference.com/wg.fcgi?css=1&site=fb&url=%2Fen%2Fcomps%2F' + comp_id + '%2F' + seria_a_ids[3] + '%2Fshooting%2F2017-2018-' + 'Belgian-First-Division-A' + '-Stats&div=div_stats_shooting',\n",
    "'https://widgets.sports-reference.com/wg.fcgi?css=1&site=fb&url=%2Fen%2Fcomps%2F' + comp_id + '%2F' + seria_a_ids[4] + '%2Fshooting%2F2016-2017-' + 'Belgian-First-Division-A' + '-Stats&div=div_stats_shooting',\n",
    "'https://widgets.sports-reference.com/wg.fcgi?css=1&site=fb&url=%2Fen%2Fcomps%2F' + comp_id + '%2F' + seria_a_ids[5] + '%2Fshooting%2F2015-2016-' + 'Belgian-Pro-League' + '-Stats&div=div_stats_shooting',\n",
    "'https://widgets.sports-reference.com/wg.fcgi?css=1&site=fb&url=%2Fen%2Fcomps%2F' + comp_id + '%2F' + seria_a_ids[6] + '%2Fshooting%2F2014-2015-' + 'Belgian-Pro-League' + '-Stats&div=div_stats_shooting',\n",
    "'https://widgets.sports-reference.com/wg.fcgi?css=1&site=fb&url=%2Fen%2Fcomps%2F' + comp_id + '%2F' + seria_a_ids[7] + '%2Fshooting%2F2013-2014-' + 'Belgian-Pro-League' + '-Stats&div=div_stats_shooting',\n",
    "'https://widgets.sports-reference.com/wg.fcgi?css=1&site=fb&url=%2Fen%2Fcomps%2F' + comp_id + '%2F' + seria_a_ids[8] + '%2Fshooting%2F2012-2013-' + 'Belgian-Pro-League' + '-Stats&div=div_stats_shooting',\n",
    "'https://widgets.sports-reference.com/wg.fcgi?css=1&site=fb&url=%2Fen%2Fcomps%2F' + comp_id + '%2F' + seria_a_ids[9] + '%2Fshooting%2F2011-2012-' + 'Belgian-Pro-League' + '-Stats&div=div_stats_shooting',\n",
    "'https://widgets.sports-reference.com/wg.fcgi?css=1&site=fb&url=%2Fen%2Fcomps%2F' + comp_id + '%2F' + seria_a_ids[10] + '%2Fshooting%2F2010-2011-' + 'Belgian-Pro-League' + '-Stats&div=div_stats_shooting',\n",
    "'https://widgets.sports-reference.com/wg.fcgi?css=1&site=fb&url=%2Fen%2Fcomps%2F' + comp_id + '%2F' + seria_a_ids[11] + '%2Fshooting%2F2009-2010-' + 'Belgian-Pro-League' + '-Stats&div=div_stats_shooting',\n",
    "'https://widgets.sports-reference.com/wg.fcgi?css=1&site=fb&url=%2Fen%2Fcomps%2F' + comp_id + '%2F' + seria_a_ids[12] + '%2Fshooting%2F2008-2009-' + 'Belgian-First-Division' + '-Stats&div=div_stats_shooting',\n",
    "'https://widgets.sports-reference.com/wg.fcgi?css=1&site=fb&url=%2Fen%2Fcomps%2F' + comp_id + '%2F' + seria_a_ids[13] + '%2Fshooting%2F2007-2008-' + 'Belgian-First-Division' + '-Stats&div=div_stats_shooting',\n",
    "'https://widgets.sports-reference.com/wg.fcgi?css=1&site=fb&url=%2Fen%2Fcomps%2F' + comp_id + '%2F' + seria_a_ids[14] + '%2Fshooting%2F2006-2007-' + 'Belgian-First-Division' + '-Stats&div=div_stats_shooting']\n",
    "\n",
    "seasons = ['20/21', '19/20', '18/19', '17/18', '16/17', '15/16', '14/15', '13/14', '12/13', '11/12', '10/11', '09/10', '08/09', '07/08','06/07']\n",
    "folder = 'Greek'"
   ]
  },
  {
   "cell_type": "code",
   "execution_count": null,
   "metadata": {},
   "outputs": [],
   "source": [
    "#Portugal\n",
    "links  = ['https://fbref.com/en/comps/32/10744/2020-2021-Primeira-Liga-Stats', 'https://fbref.com/en/comps/32/3278/2019-2020-Primeira-Liga-Stats',\n",
    "    'https://fbref.com/en/comps/32/2226/2018-2019-Primeira-Liga-Stats', 'https://fbref.com/en/comps/32/1644/2017-2018-Primeira-Liga-Stats', \n",
    "    'https://fbref.com/en/comps/32/1539/2016-2017-Primeira-Liga-Stats', 'https://fbref.com/en/comps/32/1480/2015-2016-Primeira-Liga-Stats',\n",
    "    'https://fbref.com/en/comps/32/746/2014-2015-Primeira-Liga-Stats','https://fbref.com/en/comps/32/681/2013-2014-Primeira-Liga-Stats',\n",
    "    'https://fbref.com/en/comps/32/615/2012-2013-Primeira-Liga-Stats','https://fbref.com/en/comps/32/548/2011-2012-Primeira-Liga-Stats',\n",
    "    'https://fbref.com/en/comps/32/481/2010-2011-Primeira-Liga-Stats','https://fbref.com/en/comps/32/414/2009-2010-Primeira-Liga-Stats',\n",
    "    'https://fbref.com/en/comps/32/349/2008-2009-Primeira-Liga-Stats', 'https://fbref.com/en/comps/32/293/2007-2008-Primeira-Liga-Stats',\n",
    "    'https://fbref.com/en/comps/32/240/2006-2007-Primeira-Liga-Stats']\n",
    "\n",
    "comp_id = '32'\n",
    "comp_name = 'Primeira-Liga'\n",
    "seria_a_ids = ['10744', '3278','2226','1644','1539','1480','746','681','615','548','481','414','349','293', '240']\n",
    "\n",
    "links = ['https://widgets.sports-reference.com/wg.fcgi?css=1&site=fb&url=%2Fen%2Fcomps%2F' + comp_id + '%2F' + seria_a_ids[0] + '%2Fshooting%2F2020-2021-' + comp_name + '-Stats&div=div_stats_shooting', \n",
    "'https://widgets.sports-reference.com/wg.fcgi?css=1&site=fb&url=%2Fen%2Fcomps%2F' + comp_id + '%2F' + seria_a_ids[1] + '%2Fshooting%2F2019-2020-' + comp_name + '-Stats&div=div_stats_shooting',\n",
    "'https://widgets.sports-reference.com/wg.fcgi?css=1&site=fb&url=%2Fen%2Fcomps%2F' + comp_id + '%2F' + seria_a_ids[2] + '%2Fshooting%2F2018-2019-' + comp_name + '-Stats&div=div_stats_shooting',\n",
    "'https://widgets.sports-reference.com/wg.fcgi?css=1&site=fb&url=%2Fen%2Fcomps%2F' + comp_id + '%2F' + seria_a_ids[3] + '%2Fshooting%2F2017-2018-' + comp_name + '-Stats&div=div_stats_shooting',\n",
    "'https://widgets.sports-reference.com/wg.fcgi?css=1&site=fb&url=%2Fen%2Fcomps%2F' + comp_id + '%2F' + seria_a_ids[4] + '%2Fshooting%2F2016-2017-' + comp_name + '-Stats&div=div_stats_shooting',\n",
    "'https://widgets.sports-reference.com/wg.fcgi?css=1&site=fb&url=%2Fen%2Fcomps%2F' + comp_id + '%2F' + seria_a_ids[5] + '%2Fshooting%2F2015-2016-' + comp_name + '-Stats&div=div_stats_shooting',\n",
    "'https://widgets.sports-reference.com/wg.fcgi?css=1&site=fb&url=%2Fen%2Fcomps%2F' + comp_id + '%2F' + seria_a_ids[6] + '%2Fshooting%2F2014-2015-' + comp_name + '-Stats&div=div_stats_shooting',\n",
    "'https://widgets.sports-reference.com/wg.fcgi?css=1&site=fb&url=%2Fen%2Fcomps%2F' + comp_id + '%2F' + seria_a_ids[7] + '%2Fshooting%2F2013-2014-' + comp_name + '-Stats&div=div_stats_shooting',\n",
    "'https://widgets.sports-reference.com/wg.fcgi?css=1&site=fb&url=%2Fen%2Fcomps%2F' + comp_id + '%2F' + seria_a_ids[8] + '%2Fshooting%2F2012-2013-' + comp_name + '-Stats&div=div_stats_shooting',\n",
    "'https://widgets.sports-reference.com/wg.fcgi?css=1&site=fb&url=%2Fen%2Fcomps%2F' + comp_id + '%2F' + seria_a_ids[9] + '%2Fshooting%2F2011-2012-' + comp_name + '-Stats&div=div_stats_shooting',\n",
    "'https://widgets.sports-reference.com/wg.fcgi?css=1&site=fb&url=%2Fen%2Fcomps%2F' + comp_id + '%2F' + seria_a_ids[10] + '%2Fshooting%2F2010-2011-' + comp_name + '-Stats&div=div_stats_shooting',\n",
    "'https://widgets.sports-reference.com/wg.fcgi?css=1&site=fb&url=%2Fen%2Fcomps%2F' + comp_id + '%2F' + seria_a_ids[11] + '%2Fshooting%2F2009-2010-' + comp_name + '-Stats&div=div_stats_shooting',\n",
    "'https://widgets.sports-reference.com/wg.fcgi?css=1&site=fb&url=%2Fen%2Fcomps%2F' + comp_id + '%2F' + seria_a_ids[12] + '%2Fshooting%2F2008-2009-' + comp_name + '-Stats&div=div_stats_shooting',\n",
    "'https://widgets.sports-reference.com/wg.fcgi?css=1&site=fb&url=%2Fen%2Fcomps%2F' + comp_id + '%2F' + seria_a_ids[13] + '%2Fshooting%2F2007-2008-' + comp_name + '-Stats&div=div_stats_shooting',\n",
    "'https://widgets.sports-reference.com/wg.fcgi?css=1&site=fb&url=%2Fen%2Fcomps%2F' + comp_id + '%2F' + seria_a_ids[14] + '%2Fshooting%2F2006-2007-' + comp_name + '-Stats&div=div_stats_shooting']\n",
    "\n",
    "seasons = ['20/21', '19/20', '18/19', '17/18', '16/17', '15/16', '14/15', '13/14', '12/13', '11/12', '10/11', '09/10', '08/09', '07/08','06/07']\n",
    "folder = 'Portugal'"
   ]
  },
  {
   "cell_type": "code",
   "execution_count": null,
   "metadata": {},
   "outputs": [],
   "source": [
    "#Russian\n",
    "comp_id = '30'\n",
    "comp_name = 'Russian-Premier-League'\n",
    "seria_a_ids = ['10742', '3285','2371','1646','1541','1482','748','683','617','551','446','378','320','264', '214']\n",
    "\n",
    "links = ['https://widgets.sports-reference.com/wg.fcgi?css=1&site=fb&url=%2Fen%2Fcomps%2F' + comp_id + '%2F' + seria_a_ids[0] + '%2Fshooting%2F2020-2021-' + comp_name + '-Stats&div=div_stats_shooting', \n",
    "'https://widgets.sports-reference.com/wg.fcgi?css=1&site=fb&url=%2Fen%2Fcomps%2F' + comp_id + '%2F' + seria_a_ids[1] + '%2Fshooting%2F2019-2020-' + comp_name + '-Stats&div=div_stats_shooting',\n",
    "'https://widgets.sports-reference.com/wg.fcgi?css=1&site=fb&url=%2Fen%2Fcomps%2F' + comp_id + '%2F' + seria_a_ids[2] + '%2Fshooting%2F2018-2019-' + comp_name + '-Stats&div=div_stats_shooting',\n",
    "'https://widgets.sports-reference.com/wg.fcgi?css=1&site=fb&url=%2Fen%2Fcomps%2F' + comp_id + '%2F' + seria_a_ids[3] + '%2Fshooting%2F2017-2018-' + comp_name + '-Stats&div=div_stats_shooting',\n",
    "'https://widgets.sports-reference.com/wg.fcgi?css=1&site=fb&url=%2Fen%2Fcomps%2F' + comp_id + '%2F' + seria_a_ids[4] + '%2Fshooting%2F2016-2017-' + comp_name + '-Stats&div=div_stats_shooting',\n",
    "'https://widgets.sports-reference.com/wg.fcgi?css=1&site=fb&url=%2Fen%2Fcomps%2F' + comp_id + '%2F' + seria_a_ids[5] + '%2Fshooting%2F2015-2016-' + comp_name + '-Stats&div=div_stats_shooting',\n",
    "'https://widgets.sports-reference.com/wg.fcgi?css=1&site=fb&url=%2Fen%2Fcomps%2F' + comp_id + '%2F' + seria_a_ids[6] + '%2Fshooting%2F2014-2015-' + comp_name + '-Stats&div=div_stats_shooting',\n",
    "'https://widgets.sports-reference.com/wg.fcgi?css=1&site=fb&url=%2Fen%2Fcomps%2F' + comp_id + '%2F' + seria_a_ids[7] + '%2Fshooting%2F2013-2014-' + comp_name + '-Stats&div=div_stats_shooting',\n",
    "'https://widgets.sports-reference.com/wg.fcgi?css=1&site=fb&url=%2Fen%2Fcomps%2F' + comp_id + '%2F' + seria_a_ids[8] + '%2Fshooting%2F2012-2013-' + comp_name + '-Stats&div=div_stats_shooting',\n",
    "'https://widgets.sports-reference.com/wg.fcgi?css=1&site=fb&url=%2Fen%2Fcomps%2F' + comp_id + '%2F' + seria_a_ids[9] + '%2Fshooting%2F2011-2012-' + comp_name + '-Stats&div=div_stats_shooting',\n",
    "'https://widgets.sports-reference.com/wg.fcgi?css=1&site=fb&url=%2Fen%2Fcomps%2F' + comp_id + '%2F' + seria_a_ids[10] + '%2Fshooting%2F2010-2011-' + comp_name + '-Stats&div=div_stats_shooting',\n",
    "'https://widgets.sports-reference.com/wg.fcgi?css=1&site=fb&url=%2Fen%2Fcomps%2F' + comp_id + '%2F' + seria_a_ids[11] + '%2Fshooting%2F2009-2010-' + comp_name + '-Stats&div=div_stats_shooting',\n",
    "'https://widgets.sports-reference.com/wg.fcgi?css=1&site=fb&url=%2Fen%2Fcomps%2F' + comp_id + '%2F' + seria_a_ids[12] + '%2Fshooting%2F2008-2009-' + comp_name + '-Stats&div=div_stats_shooting',\n",
    "'https://widgets.sports-reference.com/wg.fcgi?css=1&site=fb&url=%2Fen%2Fcomps%2F' + comp_id + '%2F' + seria_a_ids[13] + '%2Fshooting%2F2007-2008-' + comp_name + '-Stats&div=div_stats_shooting',\n",
    "'https://widgets.sports-reference.com/wg.fcgi?css=1&site=fb&url=%2Fen%2Fcomps%2F' + comp_id + '%2F' + seria_a_ids[14] + '%2Fshooting%2F2006-2007-' + comp_name + '-Stats&div=div_stats_shooting']\n",
    "\n",
    "seasons = ['20/21', '19/20', '18/19', '17/18', '16/17', '15/16', '14/15', '13/14', '12/13', '11/12', '10/11', '09/10', '08/09', '07/08','06/07']\n",
    "folder = 'Russian'"
   ]
  },
  {
   "cell_type": "code",
   "execution_count": null,
   "metadata": {},
   "outputs": [],
   "source": [
    "#Scottish\n",
    "links  = ['https://fbref.com/en/comps/40/10750/2020-2021-Scottish-Premiership-Stats', 'https://fbref.com/en/comps/40/3289/2019-2020-Scottish-Premiership-Stats',\n",
    "    'https://fbref.com/en/comps/40/2116/2018-2019-Scottish-Premiership-Stats', 'https://fbref.com/en/comps/40/1649/2017-2018-Scottish-Premiership-Stats', \n",
    "    'https://fbref.com/en/comps/40/1544/2016-2017-Scottish-Premiership-Stats', 'https://fbref.com/en/comps/40/1485/2015-2016-Scottish-Premiership-Stats',\n",
    "    'https://fbref.com/en/comps/40/752/2014-2015-Scottish-Premiership-Stats','https://fbref.com/en/comps/40/687/2013-2014-Scottish-Premiership-Stats',\n",
    "    'https://fbref.com/en/comps/40/621/2012-2013-Scottish-Premier-League-Stats','https://fbref.com/en/comps/40/554/2011-2012-Scottish-Premier-League-Stats',\n",
    "    'https://fbref.com/en/comps/40/485/2010-2011-Scottish-Premier-League-Stats','https://fbref.com/en/comps/40/419/2009-2010-Scottish-Premier-League-Stats',\n",
    "    'https://fbref.com/en/comps/40/352/2008-2009-Scottish-Premier-League-Stats', 'https://fbref.com/en/comps/40/296/2007-2008-Scottish-Premier-League-Stats',\n",
    "    'https://fbref.com/en/comps/40/242/2006-2007-Scottish-Premier-League-Stats']\n",
    "seasons = ['20/21', '19/20', '18/19', '17/18', '16/17', '15/16', '14/15', '13/14', '12/13', '11/12', '10/11', '09/10', '08/09', '07/08','06/07']\n",
    "folder = 'Scottish'\n",
    "\n",
    "comp_id = '40'\n",
    "comp_name = 'Scottish-Premier-League'\n",
    "seria_a_ids = ['10750', '3289','2116','1649','1544','1485','752','687','621','554','485','419','352','296', '242']\n",
    "\n",
    "links = ['https://widgets.sports-reference.com/wg.fcgi?css=1&site=fb&url=%2Fen%2Fcomps%2F' + comp_id + '%2F' + seria_a_ids[0] + '%2Fshooting%2F2020-2021-' + comp_name + '-Stats&div=div_stats_shooting', \n",
    "'https://widgets.sports-reference.com/wg.fcgi?css=1&site=fb&url=%2Fen%2Fcomps%2F' + comp_id + '%2F' + seria_a_ids[1] + '%2Fshooting%2F2019-2020-' + comp_name + '-Stats&div=div_stats_shooting',\n",
    "'https://widgets.sports-reference.com/wg.fcgi?css=1&site=fb&url=%2Fen%2Fcomps%2F' + comp_id + '%2F' + seria_a_ids[2] + '%2Fshooting%2F2018-2019-' + comp_name + '-Stats&div=div_stats_shooting',\n",
    "'https://widgets.sports-reference.com/wg.fcgi?css=1&site=fb&url=%2Fen%2Fcomps%2F' + comp_id + '%2F' + seria_a_ids[3] + '%2Fshooting%2F2017-2018-' + comp_name + '-Stats&div=div_stats_shooting',\n",
    "'https://widgets.sports-reference.com/wg.fcgi?css=1&site=fb&url=%2Fen%2Fcomps%2F' + comp_id + '%2F' + seria_a_ids[4] + '%2Fshooting%2F2016-2017-' + comp_name + '-Stats&div=div_stats_shooting',\n",
    "'https://widgets.sports-reference.com/wg.fcgi?css=1&site=fb&url=%2Fen%2Fcomps%2F' + comp_id + '%2F' + seria_a_ids[5] + '%2Fshooting%2F2015-2016-' + comp_name + '-Stats&div=div_stats_shooting',\n",
    "'https://widgets.sports-reference.com/wg.fcgi?css=1&site=fb&url=%2Fen%2Fcomps%2F' + comp_id + '%2F' + seria_a_ids[6] + '%2Fshooting%2F2014-2015-' + comp_name + '-Stats&div=div_stats_shooting',\n",
    "'https://widgets.sports-reference.com/wg.fcgi?css=1&site=fb&url=%2Fen%2Fcomps%2F' + comp_id + '%2F' + seria_a_ids[7] + '%2Fshooting%2F2013-2014-' + comp_name + '-Stats&div=div_stats_shooting',\n",
    "'https://widgets.sports-reference.com/wg.fcgi?css=1&site=fb&url=%2Fen%2Fcomps%2F' + comp_id + '%2F' + seria_a_ids[8] + '%2Fshooting%2F2012-2013-' + comp_name + '-Stats&div=div_stats_shooting',\n",
    "'https://widgets.sports-reference.com/wg.fcgi?css=1&site=fb&url=%2Fen%2Fcomps%2F' + comp_id + '%2F' + seria_a_ids[9] + '%2Fshooting%2F2011-2012-' + comp_name + '-Stats&div=div_stats_shooting',\n",
    "'https://widgets.sports-reference.com/wg.fcgi?css=1&site=fb&url=%2Fen%2Fcomps%2F' + comp_id + '%2F' + seria_a_ids[10] + '%2Fshooting%2F2010-2011-' + comp_name + '-Stats&div=div_stats_shooting',\n",
    "'https://widgets.sports-reference.com/wg.fcgi?css=1&site=fb&url=%2Fen%2Fcomps%2F' + comp_id + '%2F' + seria_a_ids[11] + '%2Fshooting%2F2009-2010-' + comp_name + '-Stats&div=div_stats_shooting',\n",
    "'https://widgets.sports-reference.com/wg.fcgi?css=1&site=fb&url=%2Fen%2Fcomps%2F' + comp_id + '%2F' + seria_a_ids[12] + '%2Fshooting%2F2008-2009-' + comp_name + '-Stats&div=div_stats_shooting',\n",
    "'https://widgets.sports-reference.com/wg.fcgi?css=1&site=fb&url=%2Fen%2Fcomps%2F' + comp_id + '%2F' + seria_a_ids[13] + '%2Fshooting%2F2007-2008-' + comp_name + '-Stats&div=div_stats_shooting',\n",
    "'https://widgets.sports-reference.com/wg.fcgi?css=1&site=fb&url=%2Fen%2Fcomps%2F' + comp_id + '%2F' + seria_a_ids[14] + '%2Fshooting%2F2006-2007-' + comp_name + '-Stats&div=div_stats_shooting']\n",
    "\n",
    "seasons = ['20/21', '19/20', '18/19', '17/18', '16/17', '15/16', '14/15', '13/14', '12/13', '11/12', '10/11', '09/10', '08/09', '07/08','06/07']\n",
    "folder = 'Scottish'"
   ]
  },
  {
   "cell_type": "code",
   "execution_count": null,
   "metadata": {},
   "outputs": [],
   "source": [
    "#Swedish\n",
    "comp_id = '29'\n",
    "comp_name = 'Allsvenskan'\n",
    "seria_a_ids = ['10086', '2917','1763','1562','1509','1348','714','649','583','515','448','380','322','266', '215']\n",
    "\n",
    "links = ['https://widgets.sports-reference.com/wg.fcgi?css=1&site=fb&url=%2Fen%2Fcomps%2F' + comp_id + '%2F' + seria_a_ids[0] + '%2Fshooting%2F2020-2021-' + comp_name + '-Stats&div=div_stats_shooting', \n",
    "'https://widgets.sports-reference.com/wg.fcgi?css=1&site=fb&url=%2Fen%2Fcomps%2F' + comp_id + '%2F' + seria_a_ids[1] + '%2Fshooting%2F2019-2020-' + comp_name + '-Stats&div=div_stats_shooting',\n",
    "'https://widgets.sports-reference.com/wg.fcgi?css=1&site=fb&url=%2Fen%2Fcomps%2F' + comp_id + '%2F' + seria_a_ids[2] + '%2Fshooting%2F2018-2019-' + comp_name + '-Stats&div=div_stats_shooting',\n",
    "'https://widgets.sports-reference.com/wg.fcgi?css=1&site=fb&url=%2Fen%2Fcomps%2F' + comp_id + '%2F' + seria_a_ids[3] + '%2Fshooting%2F2017-2018-' + comp_name + '-Stats&div=div_stats_shooting',\n",
    "'https://widgets.sports-reference.com/wg.fcgi?css=1&site=fb&url=%2Fen%2Fcomps%2F' + comp_id + '%2F' + seria_a_ids[4] + '%2Fshooting%2F2016-2017-' + comp_name + '-Stats&div=div_stats_shooting',\n",
    "'https://widgets.sports-reference.com/wg.fcgi?css=1&site=fb&url=%2Fen%2Fcomps%2F' + comp_id + '%2F' + seria_a_ids[5] + '%2Fshooting%2F2015-2016-' + comp_name + '-Stats&div=div_stats_shooting',\n",
    "'https://widgets.sports-reference.com/wg.fcgi?css=1&site=fb&url=%2Fen%2Fcomps%2F' + comp_id + '%2F' + seria_a_ids[6] + '%2Fshooting%2F2014-2015-' + comp_name + '-Stats&div=div_stats_shooting',\n",
    "'https://widgets.sports-reference.com/wg.fcgi?css=1&site=fb&url=%2Fen%2Fcomps%2F' + comp_id + '%2F' + seria_a_ids[7] + '%2Fshooting%2F2013-2014-' + comp_name + '-Stats&div=div_stats_shooting',\n",
    "'https://widgets.sports-reference.com/wg.fcgi?css=1&site=fb&url=%2Fen%2Fcomps%2F' + comp_id + '%2F' + seria_a_ids[8] + '%2Fshooting%2F2012-2013-' + comp_name + '-Stats&div=div_stats_shooting',\n",
    "'https://widgets.sports-reference.com/wg.fcgi?css=1&site=fb&url=%2Fen%2Fcomps%2F' + comp_id + '%2F' + seria_a_ids[9] + '%2Fshooting%2F2011-2012-' + comp_name + '-Stats&div=div_stats_shooting',\n",
    "'https://widgets.sports-reference.com/wg.fcgi?css=1&site=fb&url=%2Fen%2Fcomps%2F' + comp_id + '%2F' + seria_a_ids[10] + '%2Fshooting%2F2010-2011-' + comp_name + '-Stats&div=div_stats_shooting',\n",
    "'https://widgets.sports-reference.com/wg.fcgi?css=1&site=fb&url=%2Fen%2Fcomps%2F' + comp_id + '%2F' + seria_a_ids[11] + '%2Fshooting%2F2009-2010-' + comp_name + '-Stats&div=div_stats_shooting',\n",
    "'https://widgets.sports-reference.com/wg.fcgi?css=1&site=fb&url=%2Fen%2Fcomps%2F' + comp_id + '%2F' + seria_a_ids[12] + '%2Fshooting%2F2008-2009-' + comp_name + '-Stats&div=div_stats_shooting',\n",
    "'https://widgets.sports-reference.com/wg.fcgi?css=1&site=fb&url=%2Fen%2Fcomps%2F' + comp_id + '%2F' + seria_a_ids[13] + '%2Fshooting%2F2007-2008-' + comp_name + '-Stats&div=div_stats_shooting',\n",
    "'https://widgets.sports-reference.com/wg.fcgi?css=1&site=fb&url=%2Fen%2Fcomps%2F' + comp_id + '%2F' + seria_a_ids[14] + '%2Fshooting%2F2006-2007-' + comp_name + '-Stats&div=div_stats_shooting']\n",
    "\n",
    "seasons = ['20/21', '19/20', '18/19', '17/18', '16/17', '15/16', '14/15', '13/14', '12/13', '11/12', '10/11', '09/10', '08/09', '07/08','06/07']\n",
    "folder = 'Swedish'"
   ]
  },
  {
   "cell_type": "code",
   "execution_count": 165,
   "metadata": {},
   "outputs": [],
   "source": [
    "#Swiss\n",
    "comp_id = '57'\n",
    "comp_name = 'Swiss-Super-League'\n",
    "seria_a_ids = ['10759', '3298','2425','1654','1549','1490','757','692','626','559','490','424','357','301', '247']\n",
    "\n",
    "links = ['https://widgets.sports-reference.com/wg.fcgi?css=1&site=fb&url=%2Fen%2Fcomps%2F' + comp_id + '%2F' + seria_a_ids[0] + '%2Fshooting%2F2020-2021-' + comp_name + '-Stats&div=div_stats_shooting', \n",
    "'https://widgets.sports-reference.com/wg.fcgi?css=1&site=fb&url=%2Fen%2Fcomps%2F' + comp_id + '%2F' + seria_a_ids[1] + '%2Fshooting%2F2019-2020-' + comp_name + '-Stats&div=div_stats_shooting',\n",
    "'https://widgets.sports-reference.com/wg.fcgi?css=1&site=fb&url=%2Fen%2Fcomps%2F' + comp_id + '%2F' + seria_a_ids[2] + '%2Fshooting%2F2018-2019-' + comp_name + '-Stats&div=div_stats_shooting',\n",
    "'https://widgets.sports-reference.com/wg.fcgi?css=1&site=fb&url=%2Fen%2Fcomps%2F' + comp_id + '%2F' + seria_a_ids[3] + '%2Fshooting%2F2017-2018-' + comp_name + '-Stats&div=div_stats_shooting',\n",
    "'https://widgets.sports-reference.com/wg.fcgi?css=1&site=fb&url=%2Fen%2Fcomps%2F' + comp_id + '%2F' + seria_a_ids[4] + '%2Fshooting%2F2016-2017-' + comp_name + '-Stats&div=div_stats_shooting',\n",
    "'https://widgets.sports-reference.com/wg.fcgi?css=1&site=fb&url=%2Fen%2Fcomps%2F' + comp_id + '%2F' + seria_a_ids[5] + '%2Fshooting%2F2015-2016-' + comp_name + '-Stats&div=div_stats_shooting',\n",
    "'https://widgets.sports-reference.com/wg.fcgi?css=1&site=fb&url=%2Fen%2Fcomps%2F' + comp_id + '%2F' + seria_a_ids[6] + '%2Fshooting%2F2014-2015-' + comp_name + '-Stats&div=div_stats_shooting',\n",
    "'https://widgets.sports-reference.com/wg.fcgi?css=1&site=fb&url=%2Fen%2Fcomps%2F' + comp_id + '%2F' + seria_a_ids[7] + '%2Fshooting%2F2013-2014-' + comp_name + '-Stats&div=div_stats_shooting',\n",
    "'https://widgets.sports-reference.com/wg.fcgi?css=1&site=fb&url=%2Fen%2Fcomps%2F' + comp_id + '%2F' + seria_a_ids[8] + '%2Fshooting%2F2012-2013-' + comp_name + '-Stats&div=div_stats_shooting',\n",
    "'https://widgets.sports-reference.com/wg.fcgi?css=1&site=fb&url=%2Fen%2Fcomps%2F' + comp_id + '%2F' + seria_a_ids[9] + '%2Fshooting%2F2011-2012-' + comp_name + '-Stats&div=div_stats_shooting',\n",
    "'https://widgets.sports-reference.com/wg.fcgi?css=1&site=fb&url=%2Fen%2Fcomps%2F' + comp_id + '%2F' + seria_a_ids[10] + '%2Fshooting%2F2010-2011-' + comp_name + '-Stats&div=div_stats_shooting',\n",
    "'https://widgets.sports-reference.com/wg.fcgi?css=1&site=fb&url=%2Fen%2Fcomps%2F' + comp_id + '%2F' + seria_a_ids[11] + '%2Fshooting%2F2009-2010-' + comp_name + '-Stats&div=div_stats_shooting',\n",
    "'https://widgets.sports-reference.com/wg.fcgi?css=1&site=fb&url=%2Fen%2Fcomps%2F' + comp_id + '%2F' + seria_a_ids[12] + '%2Fshooting%2F2008-2009-' + comp_name + '-Stats&div=div_stats_shooting',\n",
    "'https://widgets.sports-reference.com/wg.fcgi?css=1&site=fb&url=%2Fen%2Fcomps%2F' + comp_id + '%2F' + seria_a_ids[13] + '%2Fshooting%2F2007-2008-' + comp_name + '-Stats&div=div_stats_shooting',\n",
    "'https://widgets.sports-reference.com/wg.fcgi?css=1&site=fb&url=%2Fen%2Fcomps%2F' + comp_id + '%2F' + seria_a_ids[14] + '%2Fshooting%2F2006-2007-' + comp_name + '-Stats&div=div_stats_shooting']\n",
    "\n",
    "seasons = ['20/21', '19/20', '18/19', '17/18', '16/17', '15/16', '14/15', '13/14', '12/13', '11/12', '10/11', '09/10', '08/09', '07/08','06/07']\n",
    "folder = 'Swiss'"
   ]
  },
  {
   "cell_type": "code",
   "execution_count": 176,
   "metadata": {},
   "outputs": [],
   "source": [
    "#Turkish\n",
    "comp_id = '26'\n",
    "comp_name = 'Super-Lig'\n",
    "seria_a_ids = ['10740', '3301','2382','1655','1550','1491','758','693','627','560','491','425','358','302', '248']\n",
    "\n",
    "links = ['https://widgets.sports-reference.com/wg.fcgi?css=1&site=fb&url=%2Fen%2Fcomps%2F' + comp_id + '%2F' + seria_a_ids[0] + '%2Fshooting%2F2020-2021-' + comp_name + '-Stats&div=div_stats_shooting', \n",
    "'https://widgets.sports-reference.com/wg.fcgi?css=1&site=fb&url=%2Fen%2Fcomps%2F' + comp_id + '%2F' + seria_a_ids[1] + '%2Fshooting%2F2019-2020-' + comp_name + '-Stats&div=div_stats_shooting',\n",
    "'https://widgets.sports-reference.com/wg.fcgi?css=1&site=fb&url=%2Fen%2Fcomps%2F' + comp_id + '%2F' + seria_a_ids[2] + '%2Fshooting%2F2018-2019-' + comp_name + '-Stats&div=div_stats_shooting',\n",
    "'https://widgets.sports-reference.com/wg.fcgi?css=1&site=fb&url=%2Fen%2Fcomps%2F' + comp_id + '%2F' + seria_a_ids[3] + '%2Fshooting%2F2017-2018-' + comp_name + '-Stats&div=div_stats_shooting',\n",
    "'https://widgets.sports-reference.com/wg.fcgi?css=1&site=fb&url=%2Fen%2Fcomps%2F' + comp_id + '%2F' + seria_a_ids[4] + '%2Fshooting%2F2016-2017-' + comp_name + '-Stats&div=div_stats_shooting',\n",
    "'https://widgets.sports-reference.com/wg.fcgi?css=1&site=fb&url=%2Fen%2Fcomps%2F' + comp_id + '%2F' + seria_a_ids[5] + '%2Fshooting%2F2015-2016-' + comp_name + '-Stats&div=div_stats_shooting',\n",
    "'https://widgets.sports-reference.com/wg.fcgi?css=1&site=fb&url=%2Fen%2Fcomps%2F' + comp_id + '%2F' + seria_a_ids[6] + '%2Fshooting%2F2014-2015-' + comp_name + '-Stats&div=div_stats_shooting',\n",
    "'https://widgets.sports-reference.com/wg.fcgi?css=1&site=fb&url=%2Fen%2Fcomps%2F' + comp_id + '%2F' + seria_a_ids[7] + '%2Fshooting%2F2013-2014-' + comp_name + '-Stats&div=div_stats_shooting',\n",
    "'https://widgets.sports-reference.com/wg.fcgi?css=1&site=fb&url=%2Fen%2Fcomps%2F' + comp_id + '%2F' + seria_a_ids[8] + '%2Fshooting%2F2012-2013-' + comp_name + '-Stats&div=div_stats_shooting',\n",
    "'https://widgets.sports-reference.com/wg.fcgi?css=1&site=fb&url=%2Fen%2Fcomps%2F' + comp_id + '%2F' + seria_a_ids[9] + '%2Fshooting%2F2011-2012-' + comp_name + '-Stats&div=div_stats_shooting',\n",
    "'https://widgets.sports-reference.com/wg.fcgi?css=1&site=fb&url=%2Fen%2Fcomps%2F' + comp_id + '%2F' + seria_a_ids[10] + '%2Fshooting%2F2010-2011-' + comp_name + '-Stats&div=div_stats_shooting',\n",
    "'https://widgets.sports-reference.com/wg.fcgi?css=1&site=fb&url=%2Fen%2Fcomps%2F' + comp_id + '%2F' + seria_a_ids[11] + '%2Fshooting%2F2009-2010-' + comp_name + '-Stats&div=div_stats_shooting',\n",
    "'https://widgets.sports-reference.com/wg.fcgi?css=1&site=fb&url=%2Fen%2Fcomps%2F' + comp_id + '%2F' + seria_a_ids[12] + '%2Fshooting%2F2008-2009-' + comp_name + '-Stats&div=div_stats_shooting',\n",
    "'https://widgets.sports-reference.com/wg.fcgi?css=1&site=fb&url=%2Fen%2Fcomps%2F' + comp_id + '%2F' + seria_a_ids[13] + '%2Fshooting%2F2007-2008-' + comp_name + '-Stats&div=div_stats_shooting',\n",
    "'https://widgets.sports-reference.com/wg.fcgi?css=1&site=fb&url=%2Fen%2Fcomps%2F' + comp_id + '%2F' + seria_a_ids[14] + '%2Fshooting%2F2006-2007-' + comp_name + '-Stats&div=div_stats_shooting']\n",
    "\n",
    "seasons = ['20/21', '19/20', '18/19', '17/18', '16/17', '15/16', '14/15', '13/14', '12/13', '11/12', '10/11', '09/10', '08/09', '07/08','06/07']\n",
    "folder = 'Turkish'"
   ]
  },
  {
   "cell_type": "code",
   "execution_count": 187,
   "metadata": {},
   "outputs": [],
   "source": [
    "#Ukrain\n",
    "comp_id = '39'\n",
    "comp_name = 'Ukrainian-Top-League'\n",
    "seria_a_ids = ['10749', '3303','2435','1658','1553','1492','759','696','630','564','494','428','360','304', '250']\n",
    "\n",
    "links = ['https://widgets.sports-reference.com/wg.fcgi?css=1&site=fb&url=%2Fen%2Fcomps%2F' + comp_id + '%2F' + seria_a_ids[0] + '%2Fshooting%2F2020-2021-' + comp_name + '-Stats&div=div_stats_shooting', \n",
    "'https://widgets.sports-reference.com/wg.fcgi?css=1&site=fb&url=%2Fen%2Fcomps%2F' + comp_id + '%2F' + seria_a_ids[1] + '%2Fshooting%2F2019-2020-' + comp_name + '-Stats&div=div_stats_shooting',\n",
    "'https://widgets.sports-reference.com/wg.fcgi?css=1&site=fb&url=%2Fen%2Fcomps%2F' + comp_id + '%2F' + seria_a_ids[2] + '%2Fshooting%2F2018-2019-' + comp_name + '-Stats&div=div_stats_shooting',\n",
    "'https://widgets.sports-reference.com/wg.fcgi?css=1&site=fb&url=%2Fen%2Fcomps%2F' + comp_id + '%2F' + seria_a_ids[3] + '%2Fshooting%2F2017-2018-' + comp_name + '-Stats&div=div_stats_shooting',\n",
    "'https://widgets.sports-reference.com/wg.fcgi?css=1&site=fb&url=%2Fen%2Fcomps%2F' + comp_id + '%2F' + seria_a_ids[4] + '%2Fshooting%2F2016-2017-' + comp_name + '-Stats&div=div_stats_shooting',\n",
    "'https://widgets.sports-reference.com/wg.fcgi?css=1&site=fb&url=%2Fen%2Fcomps%2F' + comp_id + '%2F' + seria_a_ids[5] + '%2Fshooting%2F2015-2016-' + comp_name + '-Stats&div=div_stats_shooting',\n",
    "'https://widgets.sports-reference.com/wg.fcgi?css=1&site=fb&url=%2Fen%2Fcomps%2F' + comp_id + '%2F' + seria_a_ids[6] + '%2Fshooting%2F2014-2015-' + comp_name + '-Stats&div=div_stats_shooting',\n",
    "'https://widgets.sports-reference.com/wg.fcgi?css=1&site=fb&url=%2Fen%2Fcomps%2F' + comp_id + '%2F' + seria_a_ids[7] + '%2Fshooting%2F2013-2014-' + comp_name + '-Stats&div=div_stats_shooting',\n",
    "'https://widgets.sports-reference.com/wg.fcgi?css=1&site=fb&url=%2Fen%2Fcomps%2F' + comp_id + '%2F' + seria_a_ids[8] + '%2Fshooting%2F2012-2013-' + comp_name + '-Stats&div=div_stats_shooting',\n",
    "'https://widgets.sports-reference.com/wg.fcgi?css=1&site=fb&url=%2Fen%2Fcomps%2F' + comp_id + '%2F' + seria_a_ids[9] + '%2Fshooting%2F2011-2012-' + comp_name + '-Stats&div=div_stats_shooting',\n",
    "'https://widgets.sports-reference.com/wg.fcgi?css=1&site=fb&url=%2Fen%2Fcomps%2F' + comp_id + '%2F' + seria_a_ids[10] + '%2Fshooting%2F2010-2011-' + comp_name + '-Stats&div=div_stats_shooting',\n",
    "'https://widgets.sports-reference.com/wg.fcgi?css=1&site=fb&url=%2Fen%2Fcomps%2F' + comp_id + '%2F' + seria_a_ids[11] + '%2Fshooting%2F2009-2010-' + comp_name + '-Stats&div=div_stats_shooting',\n",
    "'https://widgets.sports-reference.com/wg.fcgi?css=1&site=fb&url=%2Fen%2Fcomps%2F' + comp_id + '%2F' + seria_a_ids[12] + '%2Fshooting%2F2008-2009-' + comp_name + '-Stats&div=div_stats_shooting',\n",
    "'https://widgets.sports-reference.com/wg.fcgi?css=1&site=fb&url=%2Fen%2Fcomps%2F' + comp_id + '%2F' + seria_a_ids[13] + '%2Fshooting%2F2007-2008-' + comp_name + '-Stats&div=div_stats_shooting',\n",
    "'https://widgets.sports-reference.com/wg.fcgi?css=1&site=fb&url=%2Fen%2Fcomps%2F' + comp_id + '%2F' + seria_a_ids[14] + '%2Fshooting%2F2006-2007-' + comp_name + '-Stats&div=div_stats_shooting']\n",
    "\n",
    "seasons = ['20/21', '19/20', '18/19', '17/18', '16/17', '15/16', '14/15', '13/14', '12/13', '11/12', '10/11', '09/10', '08/09', '07/08','06/07']\n",
    "folder = 'Ukrain'"
   ]
  },
  {
   "cell_type": "code",
   "execution_count": 40,
   "metadata": {},
   "outputs": [],
   "source": [
    "#Ukrain\n",
    "comp_id = '10'\n",
    "comp_name = 'Championship'\n",
    "seria_a_ids = ['10729', '3233','1890','1627','1522','1463','729','665','598','530','463','396','334','278', '225']\n",
    "\n",
    "links = ['https://widgets.sports-reference.com/wg.fcgi?css=1&site=fb&url=%2Fen%2Fcomps%2F' + comp_id + '%2F' + seria_a_ids[0] + '%2Fshooting%2F2020-2021-' + comp_name + '-Stats&div=div_stats_shooting', \n",
    "'https://widgets.sports-reference.com/wg.fcgi?css=1&site=fb&url=%2Fen%2Fcomps%2F' + comp_id + '%2F' + seria_a_ids[1] + '%2Fshooting%2F2019-2020-' + comp_name + '-Stats&div=div_stats_shooting',\n",
    "'https://widgets.sports-reference.com/wg.fcgi?css=1&site=fb&url=%2Fen%2Fcomps%2F' + comp_id + '%2F' + seria_a_ids[2] + '%2Fshooting%2F2018-2019-' + comp_name + '-Stats&div=div_stats_shooting',\n",
    "'https://widgets.sports-reference.com/wg.fcgi?css=1&site=fb&url=%2Fen%2Fcomps%2F' + comp_id + '%2F' + seria_a_ids[3] + '%2Fshooting%2F2017-2018-' + comp_name + '-Stats&div=div_stats_shooting',\n",
    "'https://widgets.sports-reference.com/wg.fcgi?css=1&site=fb&url=%2Fen%2Fcomps%2F' + comp_id + '%2F' + seria_a_ids[4] + '%2Fshooting%2F2016-2017-' + comp_name + '-Stats&div=div_stats_shooting',\n",
    "'https://widgets.sports-reference.com/wg.fcgi?css=1&site=fb&url=%2Fen%2Fcomps%2F' + comp_id + '%2F' + seria_a_ids[5] + '%2Fshooting%2F2015-2016-' + comp_name + '-Stats&div=div_stats_shooting',\n",
    "'https://widgets.sports-reference.com/wg.fcgi?css=1&site=fb&url=%2Fen%2Fcomps%2F' + comp_id + '%2F' + seria_a_ids[6] + '%2Fshooting%2F2014-2015-' + comp_name + '-Stats&div=div_stats_shooting',\n",
    "'https://widgets.sports-reference.com/wg.fcgi?css=1&site=fb&url=%2Fen%2Fcomps%2F' + comp_id + '%2F' + seria_a_ids[7] + '%2Fshooting%2F2013-2014-' + comp_name + '-Stats&div=div_stats_shooting',\n",
    "'https://widgets.sports-reference.com/wg.fcgi?css=1&site=fb&url=%2Fen%2Fcomps%2F' + comp_id + '%2F' + seria_a_ids[8] + '%2Fshooting%2F2012-2013-' + comp_name + '-Stats&div=div_stats_shooting',\n",
    "'https://widgets.sports-reference.com/wg.fcgi?css=1&site=fb&url=%2Fen%2Fcomps%2F' + comp_id + '%2F' + seria_a_ids[9] + '%2Fshooting%2F2011-2012-' + comp_name + '-Stats&div=div_stats_shooting',\n",
    "'https://widgets.sports-reference.com/wg.fcgi?css=1&site=fb&url=%2Fen%2Fcomps%2F' + comp_id + '%2F' + seria_a_ids[10] + '%2Fshooting%2F2010-2011-' + comp_name + '-Stats&div=div_stats_shooting',\n",
    "'https://widgets.sports-reference.com/wg.fcgi?css=1&site=fb&url=%2Fen%2Fcomps%2F' + comp_id + '%2F' + seria_a_ids[11] + '%2Fshooting%2F2009-2010-' + comp_name + '-Stats&div=div_stats_shooting',\n",
    "'https://widgets.sports-reference.com/wg.fcgi?css=1&site=fb&url=%2Fen%2Fcomps%2F' + comp_id + '%2F' + seria_a_ids[12] + '%2Fshooting%2F2008-2009-' + comp_name + '-Stats&div=div_stats_shooting',\n",
    "'https://widgets.sports-reference.com/wg.fcgi?css=1&site=fb&url=%2Fen%2Fcomps%2F' + comp_id + '%2F' + seria_a_ids[13] + '%2Fshooting%2F2007-2008-' + comp_name + '-Stats&div=div_stats_shooting',\n",
    "'https://widgets.sports-reference.com/wg.fcgi?css=1&site=fb&url=%2Fen%2Fcomps%2F' + comp_id + '%2F' + seria_a_ids[14] + '%2Fshooting%2F2006-2007-' + comp_name + '-Stats&div=div_stats_shooting']\n",
    "\n",
    "seasons = ['20/21', '19/20', '18/19', '17/18', '16/17', '15/16', '14/15', '13/14', '12/13', '11/12', '10/11', '09/10', '08/09', '07/08','06/07']\n",
    "folder = 'English2'"
   ]
  },
  {
   "cell_type": "code",
   "execution_count": 46,
   "metadata": {},
   "outputs": [],
   "source": [
    "#Ukrain\n",
    "comp_id = '15'\n",
    "comp_name = 'League-One'\n",
    "seria_a_ids = ['10733', '3234','1891','1628','1523','1465','731','667','600','532','465','398','336','280', '227']\n",
    "\n",
    "links = ['https://widgets.sports-reference.com/wg.fcgi?css=1&site=fb&url=%2Fen%2Fcomps%2F' + comp_id + '%2F' + seria_a_ids[0] + '%2Fshooting%2F2020-2021-' + comp_name + '-Stats&div=div_stats_shooting', \n",
    "'https://widgets.sports-reference.com/wg.fcgi?css=1&site=fb&url=%2Fen%2Fcomps%2F' + comp_id + '%2F' + seria_a_ids[1] + '%2Fshooting%2F2019-2020-' + comp_name + '-Stats&div=div_stats_shooting',\n",
    "'https://widgets.sports-reference.com/wg.fcgi?css=1&site=fb&url=%2Fen%2Fcomps%2F' + comp_id + '%2F' + seria_a_ids[2] + '%2Fshooting%2F2018-2019-' + comp_name + '-Stats&div=div_stats_shooting',\n",
    "'https://widgets.sports-reference.com/wg.fcgi?css=1&site=fb&url=%2Fen%2Fcomps%2F' + comp_id + '%2F' + seria_a_ids[3] + '%2Fshooting%2F2017-2018-' + comp_name + '-Stats&div=div_stats_shooting',\n",
    "'https://widgets.sports-reference.com/wg.fcgi?css=1&site=fb&url=%2Fen%2Fcomps%2F' + comp_id + '%2F' + seria_a_ids[4] + '%2Fshooting%2F2016-2017-' + comp_name + '-Stats&div=div_stats_shooting',\n",
    "'https://widgets.sports-reference.com/wg.fcgi?css=1&site=fb&url=%2Fen%2Fcomps%2F' + comp_id + '%2F' + seria_a_ids[5] + '%2Fshooting%2F2015-2016-' + comp_name + '-Stats&div=div_stats_shooting',\n",
    "'https://widgets.sports-reference.com/wg.fcgi?css=1&site=fb&url=%2Fen%2Fcomps%2F' + comp_id + '%2F' + seria_a_ids[6] + '%2Fshooting%2F2014-2015-' + comp_name + '-Stats&div=div_stats_shooting',\n",
    "'https://widgets.sports-reference.com/wg.fcgi?css=1&site=fb&url=%2Fen%2Fcomps%2F' + comp_id + '%2F' + seria_a_ids[7] + '%2Fshooting%2F2013-2014-' + comp_name + '-Stats&div=div_stats_shooting',\n",
    "'https://widgets.sports-reference.com/wg.fcgi?css=1&site=fb&url=%2Fen%2Fcomps%2F' + comp_id + '%2F' + seria_a_ids[8] + '%2Fshooting%2F2012-2013-' + comp_name + '-Stats&div=div_stats_shooting',\n",
    "'https://widgets.sports-reference.com/wg.fcgi?css=1&site=fb&url=%2Fen%2Fcomps%2F' + comp_id + '%2F' + seria_a_ids[9] + '%2Fshooting%2F2011-2012-' + comp_name + '-Stats&div=div_stats_shooting',\n",
    "'https://widgets.sports-reference.com/wg.fcgi?css=1&site=fb&url=%2Fen%2Fcomps%2F' + comp_id + '%2F' + seria_a_ids[10] + '%2Fshooting%2F2010-2011-' + comp_name + '-Stats&div=div_stats_shooting',\n",
    "'https://widgets.sports-reference.com/wg.fcgi?css=1&site=fb&url=%2Fen%2Fcomps%2F' + comp_id + '%2F' + seria_a_ids[11] + '%2Fshooting%2F2009-2010-' + comp_name + '-Stats&div=div_stats_shooting',\n",
    "'https://widgets.sports-reference.com/wg.fcgi?css=1&site=fb&url=%2Fen%2Fcomps%2F' + comp_id + '%2F' + seria_a_ids[12] + '%2Fshooting%2F2008-2009-' + comp_name + '-Stats&div=div_stats_shooting',\n",
    "'https://widgets.sports-reference.com/wg.fcgi?css=1&site=fb&url=%2Fen%2Fcomps%2F' + comp_id + '%2F' + seria_a_ids[13] + '%2Fshooting%2F2007-2008-' + comp_name + '-Stats&div=div_stats_shooting',\n",
    "'https://widgets.sports-reference.com/wg.fcgi?css=1&site=fb&url=%2Fen%2Fcomps%2F' + comp_id + '%2F' + seria_a_ids[14] + '%2Fshooting%2F2006-2007-' + comp_name + '-Stats&div=div_stats_shooting']\n",
    "\n",
    "seasons = ['20/21', '19/20', '18/19', '17/18', '16/17', '15/16', '14/15', '13/14', '12/13', '11/12', '10/11', '09/10', '08/09', '07/08','06/07']\n",
    "folder = 'English3'"
   ]
  },
  {
   "cell_type": "code",
   "execution_count": 52,
   "metadata": {},
   "outputs": [],
   "source": [
    "#Ukrain\n",
    "comp_id = '16'\n",
    "comp_name = 'League-Two'\n",
    "seria_a_ids = ['10734', '3235','1892','1629','1524','1466','732','668','601','533','466','399','337','281', '228']\n",
    "\n",
    "links = ['https://widgets.sports-reference.com/wg.fcgi?css=1&site=fb&url=%2Fen%2Fcomps%2F' + comp_id + '%2F' + seria_a_ids[0] + '%2Fshooting%2F2020-2021-' + comp_name + '-Stats&div=div_stats_shooting', \n",
    "'https://widgets.sports-reference.com/wg.fcgi?css=1&site=fb&url=%2Fen%2Fcomps%2F' + comp_id + '%2F' + seria_a_ids[1] + '%2Fshooting%2F2019-2020-' + comp_name + '-Stats&div=div_stats_shooting',\n",
    "'https://widgets.sports-reference.com/wg.fcgi?css=1&site=fb&url=%2Fen%2Fcomps%2F' + comp_id + '%2F' + seria_a_ids[2] + '%2Fshooting%2F2018-2019-' + comp_name + '-Stats&div=div_stats_shooting',\n",
    "'https://widgets.sports-reference.com/wg.fcgi?css=1&site=fb&url=%2Fen%2Fcomps%2F' + comp_id + '%2F' + seria_a_ids[3] + '%2Fshooting%2F2017-2018-' + comp_name + '-Stats&div=div_stats_shooting',\n",
    "'https://widgets.sports-reference.com/wg.fcgi?css=1&site=fb&url=%2Fen%2Fcomps%2F' + comp_id + '%2F' + seria_a_ids[4] + '%2Fshooting%2F2016-2017-' + comp_name + '-Stats&div=div_stats_shooting',\n",
    "'https://widgets.sports-reference.com/wg.fcgi?css=1&site=fb&url=%2Fen%2Fcomps%2F' + comp_id + '%2F' + seria_a_ids[5] + '%2Fshooting%2F2015-2016-' + comp_name + '-Stats&div=div_stats_shooting',\n",
    "'https://widgets.sports-reference.com/wg.fcgi?css=1&site=fb&url=%2Fen%2Fcomps%2F' + comp_id + '%2F' + seria_a_ids[6] + '%2Fshooting%2F2014-2015-' + comp_name + '-Stats&div=div_stats_shooting',\n",
    "'https://widgets.sports-reference.com/wg.fcgi?css=1&site=fb&url=%2Fen%2Fcomps%2F' + comp_id + '%2F' + seria_a_ids[7] + '%2Fshooting%2F2013-2014-' + comp_name + '-Stats&div=div_stats_shooting',\n",
    "'https://widgets.sports-reference.com/wg.fcgi?css=1&site=fb&url=%2Fen%2Fcomps%2F' + comp_id + '%2F' + seria_a_ids[8] + '%2Fshooting%2F2012-2013-' + comp_name + '-Stats&div=div_stats_shooting',\n",
    "'https://widgets.sports-reference.com/wg.fcgi?css=1&site=fb&url=%2Fen%2Fcomps%2F' + comp_id + '%2F' + seria_a_ids[9] + '%2Fshooting%2F2011-2012-' + comp_name + '-Stats&div=div_stats_shooting',\n",
    "'https://widgets.sports-reference.com/wg.fcgi?css=1&site=fb&url=%2Fen%2Fcomps%2F' + comp_id + '%2F' + seria_a_ids[10] + '%2Fshooting%2F2010-2011-' + comp_name + '-Stats&div=div_stats_shooting',\n",
    "'https://widgets.sports-reference.com/wg.fcgi?css=1&site=fb&url=%2Fen%2Fcomps%2F' + comp_id + '%2F' + seria_a_ids[11] + '%2Fshooting%2F2009-2010-' + comp_name + '-Stats&div=div_stats_shooting',\n",
    "'https://widgets.sports-reference.com/wg.fcgi?css=1&site=fb&url=%2Fen%2Fcomps%2F' + comp_id + '%2F' + seria_a_ids[12] + '%2Fshooting%2F2008-2009-' + comp_name + '-Stats&div=div_stats_shooting',\n",
    "'https://widgets.sports-reference.com/wg.fcgi?css=1&site=fb&url=%2Fen%2Fcomps%2F' + comp_id + '%2F' + seria_a_ids[13] + '%2Fshooting%2F2007-2008-' + comp_name + '-Stats&div=div_stats_shooting',\n",
    "'https://widgets.sports-reference.com/wg.fcgi?css=1&site=fb&url=%2Fen%2Fcomps%2F' + comp_id + '%2F' + seria_a_ids[14] + '%2Fshooting%2F2006-2007-' + comp_name + '-Stats&div=div_stats_shooting']\n",
    "\n",
    "seasons = ['20/21', '19/20', '18/19', '17/18', '16/17', '15/16', '14/15', '13/14', '12/13', '11/12', '10/11', '09/10', '08/09', '07/08','06/07']\n",
    "folder = 'English4'"
   ]
  },
  {
   "cell_type": "code",
   "execution_count": 60,
   "metadata": {},
   "outputs": [],
   "source": [
    "#Ukrain\n",
    "comp_id = '60'\n",
    "comp_name = 'Ligue-2'\n",
    "seria_a_ids = ['10761', '3244','2105','1633','1528','1469','735','671','604','536','469','402']\n",
    "\n",
    "links = ['https://widgets.sports-reference.com/wg.fcgi?css=1&site=fb&url=%2Fen%2Fcomps%2F' + comp_id + '%2F' + seria_a_ids[0] + '%2Fshooting%2F2020-2021-' + comp_name + '-Stats&div=div_stats_shooting', \n",
    "'https://widgets.sports-reference.com/wg.fcgi?css=1&site=fb&url=%2Fen%2Fcomps%2F' + comp_id + '%2F' + seria_a_ids[1] + '%2Fshooting%2F2019-2020-' + comp_name + '-Stats&div=div_stats_shooting',\n",
    "'https://widgets.sports-reference.com/wg.fcgi?css=1&site=fb&url=%2Fen%2Fcomps%2F' + comp_id + '%2F' + seria_a_ids[2] + '%2Fshooting%2F2018-2019-' + comp_name + '-Stats&div=div_stats_shooting',\n",
    "'https://widgets.sports-reference.com/wg.fcgi?css=1&site=fb&url=%2Fen%2Fcomps%2F' + comp_id + '%2F' + seria_a_ids[3] + '%2Fshooting%2F2017-2018-' + comp_name + '-Stats&div=div_stats_shooting',\n",
    "'https://widgets.sports-reference.com/wg.fcgi?css=1&site=fb&url=%2Fen%2Fcomps%2F' + comp_id + '%2F' + seria_a_ids[4] + '%2Fshooting%2F2016-2017-' + comp_name + '-Stats&div=div_stats_shooting',\n",
    "'https://widgets.sports-reference.com/wg.fcgi?css=1&site=fb&url=%2Fen%2Fcomps%2F' + comp_id + '%2F' + seria_a_ids[5] + '%2Fshooting%2F2015-2016-' + comp_name + '-Stats&div=div_stats_shooting',\n",
    "'https://widgets.sports-reference.com/wg.fcgi?css=1&site=fb&url=%2Fen%2Fcomps%2F' + comp_id + '%2F' + seria_a_ids[6] + '%2Fshooting%2F2014-2015-' + comp_name + '-Stats&div=div_stats_shooting',\n",
    "'https://widgets.sports-reference.com/wg.fcgi?css=1&site=fb&url=%2Fen%2Fcomps%2F' + comp_id + '%2F' + seria_a_ids[7] + '%2Fshooting%2F2013-2014-' + comp_name + '-Stats&div=div_stats_shooting',\n",
    "'https://widgets.sports-reference.com/wg.fcgi?css=1&site=fb&url=%2Fen%2Fcomps%2F' + comp_id + '%2F' + seria_a_ids[8] + '%2Fshooting%2F2012-2013-' + comp_name + '-Stats&div=div_stats_shooting',\n",
    "'https://widgets.sports-reference.com/wg.fcgi?css=1&site=fb&url=%2Fen%2Fcomps%2F' + comp_id + '%2F' + seria_a_ids[9] + '%2Fshooting%2F2011-2012-' + comp_name + '-Stats&div=div_stats_shooting',\n",
    "'https://widgets.sports-reference.com/wg.fcgi?css=1&site=fb&url=%2Fen%2Fcomps%2F' + comp_id + '%2F' + seria_a_ids[10] + '%2Fshooting%2F2010-2011-' + comp_name + '-Stats&div=div_stats_shooting',\n",
    "'https://widgets.sports-reference.com/wg.fcgi?css=1&site=fb&url=%2Fen%2Fcomps%2F' + comp_id + '%2F' + seria_a_ids[11] + '%2Fshooting%2F2009-2010-' + comp_name + '-Stats&div=div_stats_shooting']\n",
    "\n",
    "seasons = ['20/21', '19/20', '18/19', '17/18', '16/17', '15/16', '14/15', '13/14', '12/13', '11/12', '10/11', '09/10']\n",
    "folder = 'Ligue2'"
   ]
  },
  {
   "cell_type": "code",
   "execution_count": 71,
   "metadata": {},
   "outputs": [],
   "source": [
    "#Ukrain\n",
    "comp_id = '33'\n",
    "comp_name = 'Bundesliga'\n",
    "seria_a_ids = ['10745', '3249','2110','1635','1530','1471','737','673','606','538','471','404','341','285', '232']\n",
    "\n",
    "links = ['https://widgets.sports-reference.com/wg.fcgi?css=1&site=fb&url=%2Fen%2Fcomps%2F' + comp_id + '%2F' + seria_a_ids[0] + '%2Fshooting%2F2020-2021-' + comp_name + '-Stats&div=div_stats_shooting', \n",
    "'https://widgets.sports-reference.com/wg.fcgi?css=1&site=fb&url=%2Fen%2Fcomps%2F' + comp_id + '%2F' + seria_a_ids[1] + '%2Fshooting%2F2019-2020-' + comp_name + '-Stats&div=div_stats_shooting',\n",
    "'https://widgets.sports-reference.com/wg.fcgi?css=1&site=fb&url=%2Fen%2Fcomps%2F' + comp_id + '%2F' + seria_a_ids[2] + '%2Fshooting%2F2018-2019-' + comp_name + '-Stats&div=div_stats_shooting',\n",
    "'https://widgets.sports-reference.com/wg.fcgi?css=1&site=fb&url=%2Fen%2Fcomps%2F' + comp_id + '%2F' + seria_a_ids[3] + '%2Fshooting%2F2017-2018-' + comp_name + '-Stats&div=div_stats_shooting',\n",
    "'https://widgets.sports-reference.com/wg.fcgi?css=1&site=fb&url=%2Fen%2Fcomps%2F' + comp_id + '%2F' + seria_a_ids[4] + '%2Fshooting%2F2016-2017-' + comp_name + '-Stats&div=div_stats_shooting',\n",
    "'https://widgets.sports-reference.com/wg.fcgi?css=1&site=fb&url=%2Fen%2Fcomps%2F' + comp_id + '%2F' + seria_a_ids[5] + '%2Fshooting%2F2015-2016-' + comp_name + '-Stats&div=div_stats_shooting',\n",
    "'https://widgets.sports-reference.com/wg.fcgi?css=1&site=fb&url=%2Fen%2Fcomps%2F' + comp_id + '%2F' + seria_a_ids[6] + '%2Fshooting%2F2014-2015-' + comp_name + '-Stats&div=div_stats_shooting',\n",
    "'https://widgets.sports-reference.com/wg.fcgi?css=1&site=fb&url=%2Fen%2Fcomps%2F' + comp_id + '%2F' + seria_a_ids[7] + '%2Fshooting%2F2013-2014-' + comp_name + '-Stats&div=div_stats_shooting',\n",
    "'https://widgets.sports-reference.com/wg.fcgi?css=1&site=fb&url=%2Fen%2Fcomps%2F' + comp_id + '%2F' + seria_a_ids[8] + '%2Fshooting%2F2012-2013-' + comp_name + '-Stats&div=div_stats_shooting',\n",
    "'https://widgets.sports-reference.com/wg.fcgi?css=1&site=fb&url=%2Fen%2Fcomps%2F' + comp_id + '%2F' + seria_a_ids[9] + '%2Fshooting%2F2011-2012-' + comp_name + '-Stats&div=div_stats_shooting',\n",
    "'https://widgets.sports-reference.com/wg.fcgi?css=1&site=fb&url=%2Fen%2Fcomps%2F' + comp_id + '%2F' + seria_a_ids[10] + '%2Fshooting%2F2010-2011-' + comp_name + '-Stats&div=div_stats_shooting',\n",
    "'https://widgets.sports-reference.com/wg.fcgi?css=1&site=fb&url=%2Fen%2Fcomps%2F' + comp_id + '%2F' + seria_a_ids[11] + '%2Fshooting%2F2009-2010-' + comp_name + '-Stats&div=div_stats_shooting',\n",
    "'https://widgets.sports-reference.com/wg.fcgi?css=1&site=fb&url=%2Fen%2Fcomps%2F' + comp_id + '%2F' + seria_a_ids[12] + '%2Fshooting%2F2008-2009-' + comp_name + '-Stats&div=div_stats_shooting',\n",
    "'https://widgets.sports-reference.com/wg.fcgi?css=1&site=fb&url=%2Fen%2Fcomps%2F' + comp_id + '%2F' + seria_a_ids[13] + '%2Fshooting%2F2007-2008-' + comp_name + '-Stats&div=div_stats_shooting',\n",
    "'https://widgets.sports-reference.com/wg.fcgi?css=1&site=fb&url=%2Fen%2Fcomps%2F' + comp_id + '%2F' + seria_a_ids[14] + '%2Fshooting%2F2006-2007-' + comp_name + '-Stats&div=div_stats_shooting']\n",
    "\n",
    "seasons = ['20/21', '19/20', '18/19', '17/18', '16/17', '15/16', '14/15', '13/14', '12/13', '11/12', '10/11', '09/10', '08/09', '07/08','06/07']\n",
    "folder = 'Bundesliga2'"
   ]
  },
  {
   "cell_type": "code",
   "execution_count": 77,
   "metadata": {},
   "outputs": [],
   "source": [
    "#Ukrain\n",
    "comp_id = '18'\n",
    "comp_name = 'Serie-B'\n",
    "seria_a_ids = ['10736', '3261','1897','1641','1536','1477','743','679','612','545','478','411','346','290', '237']\n",
    "\n",
    "links = ['https://widgets.sports-reference.com/wg.fcgi?css=1&site=fb&url=%2Fen%2Fcomps%2F' + comp_id + '%2F' + seria_a_ids[0] + '%2Fshooting%2F2020-2021-' + comp_name + '-Stats&div=div_stats_shooting', \n",
    "'https://widgets.sports-reference.com/wg.fcgi?css=1&site=fb&url=%2Fen%2Fcomps%2F' + comp_id + '%2F' + seria_a_ids[1] + '%2Fshooting%2F2019-2020-' + comp_name + '-Stats&div=div_stats_shooting',\n",
    "'https://widgets.sports-reference.com/wg.fcgi?css=1&site=fb&url=%2Fen%2Fcomps%2F' + comp_id + '%2F' + seria_a_ids[2] + '%2Fshooting%2F2018-2019-' + comp_name + '-Stats&div=div_stats_shooting',\n",
    "'https://widgets.sports-reference.com/wg.fcgi?css=1&site=fb&url=%2Fen%2Fcomps%2F' + comp_id + '%2F' + seria_a_ids[3] + '%2Fshooting%2F2017-2018-' + comp_name + '-Stats&div=div_stats_shooting',\n",
    "'https://widgets.sports-reference.com/wg.fcgi?css=1&site=fb&url=%2Fen%2Fcomps%2F' + comp_id + '%2F' + seria_a_ids[4] + '%2Fshooting%2F2016-2017-' + comp_name + '-Stats&div=div_stats_shooting',\n",
    "'https://widgets.sports-reference.com/wg.fcgi?css=1&site=fb&url=%2Fen%2Fcomps%2F' + comp_id + '%2F' + seria_a_ids[5] + '%2Fshooting%2F2015-2016-' + comp_name + '-Stats&div=div_stats_shooting',\n",
    "'https://widgets.sports-reference.com/wg.fcgi?css=1&site=fb&url=%2Fen%2Fcomps%2F' + comp_id + '%2F' + seria_a_ids[6] + '%2Fshooting%2F2014-2015-' + comp_name + '-Stats&div=div_stats_shooting',\n",
    "'https://widgets.sports-reference.com/wg.fcgi?css=1&site=fb&url=%2Fen%2Fcomps%2F' + comp_id + '%2F' + seria_a_ids[7] + '%2Fshooting%2F2013-2014-' + comp_name + '-Stats&div=div_stats_shooting',\n",
    "'https://widgets.sports-reference.com/wg.fcgi?css=1&site=fb&url=%2Fen%2Fcomps%2F' + comp_id + '%2F' + seria_a_ids[8] + '%2Fshooting%2F2012-2013-' + comp_name + '-Stats&div=div_stats_shooting',\n",
    "'https://widgets.sports-reference.com/wg.fcgi?css=1&site=fb&url=%2Fen%2Fcomps%2F' + comp_id + '%2F' + seria_a_ids[9] + '%2Fshooting%2F2011-2012-' + comp_name + '-Stats&div=div_stats_shooting',\n",
    "'https://widgets.sports-reference.com/wg.fcgi?css=1&site=fb&url=%2Fen%2Fcomps%2F' + comp_id + '%2F' + seria_a_ids[10] + '%2Fshooting%2F2010-2011-' + comp_name + '-Stats&div=div_stats_shooting',\n",
    "'https://widgets.sports-reference.com/wg.fcgi?css=1&site=fb&url=%2Fen%2Fcomps%2F' + comp_id + '%2F' + seria_a_ids[11] + '%2Fshooting%2F2009-2010-' + comp_name + '-Stats&div=div_stats_shooting',\n",
    "'https://widgets.sports-reference.com/wg.fcgi?css=1&site=fb&url=%2Fen%2Fcomps%2F' + comp_id + '%2F' + seria_a_ids[12] + '%2Fshooting%2F2008-2009-' + comp_name + '-Stats&div=div_stats_shooting',\n",
    "'https://widgets.sports-reference.com/wg.fcgi?css=1&site=fb&url=%2Fen%2Fcomps%2F' + comp_id + '%2F' + seria_a_ids[13] + '%2Fshooting%2F2007-2008-' + comp_name + '-Stats&div=div_stats_shooting',\n",
    "'https://widgets.sports-reference.com/wg.fcgi?css=1&site=fb&url=%2Fen%2Fcomps%2F' + comp_id + '%2F' + seria_a_ids[14] + '%2Fshooting%2F2006-2007-' + comp_name + '-Stats&div=div_stats_shooting']\n",
    "\n",
    "seasons = ['20/21', '19/20', '18/19', '17/18', '16/17', '15/16', '14/15', '13/14', '12/13', '11/12', '10/11', '09/10', '08/09', '07/08','06/07']\n",
    "folder = 'SerieB'"
   ]
  },
  {
   "cell_type": "code",
   "execution_count": 83,
   "metadata": {},
   "outputs": [],
   "source": [
    "#Ukrain\n",
    "comp_id = '17'\n",
    "comp_name = 'Segunda-Division'\n",
    "seria_a_ids = ['10735', '3240','1887','1653','1548','1489','756','691','625','558','489','423','356','300', '246']\n",
    "\n",
    "links = ['https://widgets.sports-reference.com/wg.fcgi?css=1&site=fb&url=%2Fen%2Fcomps%2F' + comp_id + '%2F' + seria_a_ids[0] + '%2Fshooting%2F2020-2021-' + comp_name + '-Stats&div=div_stats_shooting', \n",
    "'https://widgets.sports-reference.com/wg.fcgi?css=1&site=fb&url=%2Fen%2Fcomps%2F' + comp_id + '%2F' + seria_a_ids[1] + '%2Fshooting%2F2019-2020-' + comp_name + '-Stats&div=div_stats_shooting',\n",
    "'https://widgets.sports-reference.com/wg.fcgi?css=1&site=fb&url=%2Fen%2Fcomps%2F' + comp_id + '%2F' + seria_a_ids[2] + '%2Fshooting%2F2018-2019-' + comp_name + '-Stats&div=div_stats_shooting',\n",
    "'https://widgets.sports-reference.com/wg.fcgi?css=1&site=fb&url=%2Fen%2Fcomps%2F' + comp_id + '%2F' + seria_a_ids[3] + '%2Fshooting%2F2017-2018-' + comp_name + '-Stats&div=div_stats_shooting',\n",
    "'https://widgets.sports-reference.com/wg.fcgi?css=1&site=fb&url=%2Fen%2Fcomps%2F' + comp_id + '%2F' + seria_a_ids[4] + '%2Fshooting%2F2016-2017-' + comp_name + '-Stats&div=div_stats_shooting',\n",
    "'https://widgets.sports-reference.com/wg.fcgi?css=1&site=fb&url=%2Fen%2Fcomps%2F' + comp_id + '%2F' + seria_a_ids[5] + '%2Fshooting%2F2015-2016-' + comp_name + '-Stats&div=div_stats_shooting',\n",
    "'https://widgets.sports-reference.com/wg.fcgi?css=1&site=fb&url=%2Fen%2Fcomps%2F' + comp_id + '%2F' + seria_a_ids[6] + '%2Fshooting%2F2014-2015-' + comp_name + '-Stats&div=div_stats_shooting',\n",
    "'https://widgets.sports-reference.com/wg.fcgi?css=1&site=fb&url=%2Fen%2Fcomps%2F' + comp_id + '%2F' + seria_a_ids[7] + '%2Fshooting%2F2013-2014-' + comp_name + '-Stats&div=div_stats_shooting',\n",
    "'https://widgets.sports-reference.com/wg.fcgi?css=1&site=fb&url=%2Fen%2Fcomps%2F' + comp_id + '%2F' + seria_a_ids[8] + '%2Fshooting%2F2012-2013-' + comp_name + '-Stats&div=div_stats_shooting',\n",
    "'https://widgets.sports-reference.com/wg.fcgi?css=1&site=fb&url=%2Fen%2Fcomps%2F' + comp_id + '%2F' + seria_a_ids[9] + '%2Fshooting%2F2011-2012-' + comp_name + '-Stats&div=div_stats_shooting',\n",
    "'https://widgets.sports-reference.com/wg.fcgi?css=1&site=fb&url=%2Fen%2Fcomps%2F' + comp_id + '%2F' + seria_a_ids[10] + '%2Fshooting%2F2010-2011-' + comp_name + '-Stats&div=div_stats_shooting',\n",
    "'https://widgets.sports-reference.com/wg.fcgi?css=1&site=fb&url=%2Fen%2Fcomps%2F' + comp_id + '%2F' + seria_a_ids[11] + '%2Fshooting%2F2009-2010-' + comp_name + '-Stats&div=div_stats_shooting',\n",
    "'https://widgets.sports-reference.com/wg.fcgi?css=1&site=fb&url=%2Fen%2Fcomps%2F' + comp_id + '%2F' + seria_a_ids[12] + '%2Fshooting%2F2008-2009-' + comp_name + '-Stats&div=div_stats_shooting',\n",
    "'https://widgets.sports-reference.com/wg.fcgi?css=1&site=fb&url=%2Fen%2Fcomps%2F' + comp_id + '%2F' + seria_a_ids[13] + '%2Fshooting%2F2007-2008-' + comp_name + '-Stats&div=div_stats_shooting',\n",
    "'https://widgets.sports-reference.com/wg.fcgi?css=1&site=fb&url=%2Fen%2Fcomps%2F' + comp_id + '%2F' + seria_a_ids[14] + '%2Fshooting%2F2006-2007-' + comp_name + '-Stats&div=div_stats_shooting']\n",
    "\n",
    "seasons = ['20/21', '19/20', '18/19', '17/18', '16/17', '15/16', '14/15', '13/14', '12/13', '11/12', '10/11', '09/10', '08/09', '07/08','06/07']\n",
    "folder = 'Spain2'"
   ]
  },
  {
   "cell_type": "code",
   "execution_count": 12,
   "metadata": {},
   "outputs": [],
   "source": [
    "#poland\n",
    "\n",
    "#Ukrain\n",
    "comp_id = '36'\n",
    "comp_name = 'Ekstraklasa'\n",
    "seria_a_ids = ['10747', '3274','2424','1643','1538','1479','745','652','614','547','480','413','348','292', '239']\n",
    "\n",
    "links = ['https://widgets.sports-reference.com/wg.fcgi?css=1&site=fb&url=%2Fen%2Fcomps%2F' + comp_id + '%2F' + seria_a_ids[0] + '%2Fshooting%2F2020-2021-' + comp_name + '-Stats&div=div_stats_shooting', \n",
    "'https://widgets.sports-reference.com/wg.fcgi?css=1&site=fb&url=%2Fen%2Fcomps%2F' + comp_id + '%2F' + seria_a_ids[1] + '%2Fshooting%2F2019-2020-' + comp_name + '-Stats&div=div_stats_shooting',\n",
    "'https://widgets.sports-reference.com/wg.fcgi?css=1&site=fb&url=%2Fen%2Fcomps%2F' + comp_id + '%2F' + seria_a_ids[2] + '%2Fshooting%2F2018-2019-' + comp_name + '-Stats&div=div_stats_shooting',\n",
    "'https://widgets.sports-reference.com/wg.fcgi?css=1&site=fb&url=%2Fen%2Fcomps%2F' + comp_id + '%2F' + seria_a_ids[3] + '%2Fshooting%2F2017-2018-' + comp_name + '-Stats&div=div_stats_shooting',\n",
    "'https://widgets.sports-reference.com/wg.fcgi?css=1&site=fb&url=%2Fen%2Fcomps%2F' + comp_id + '%2F' + seria_a_ids[4] + '%2Fshooting%2F2016-2017-' + comp_name + '-Stats&div=div_stats_shooting',\n",
    "'https://widgets.sports-reference.com/wg.fcgi?css=1&site=fb&url=%2Fen%2Fcomps%2F' + comp_id + '%2F' + seria_a_ids[5] + '%2Fshooting%2F2015-2016-' + comp_name + '-Stats&div=div_stats_shooting',\n",
    "'https://widgets.sports-reference.com/wg.fcgi?css=1&site=fb&url=%2Fen%2Fcomps%2F' + comp_id + '%2F' + seria_a_ids[6] + '%2Fshooting%2F2014-2015-' + comp_name + '-Stats&div=div_stats_shooting',\n",
    "'https://widgets.sports-reference.com/wg.fcgi?css=1&site=fb&url=%2Fen%2Fcomps%2F' + comp_id + '%2F' + seria_a_ids[7] + '%2Fshooting%2F2013-2014-' + comp_name + '-Stats&div=div_stats_shooting',\n",
    "'https://widgets.sports-reference.com/wg.fcgi?css=1&site=fb&url=%2Fen%2Fcomps%2F' + comp_id + '%2F' + seria_a_ids[8] + '%2Fshooting%2F2012-2013-' + comp_name + '-Stats&div=div_stats_shooting',\n",
    "'https://widgets.sports-reference.com/wg.fcgi?css=1&site=fb&url=%2Fen%2Fcomps%2F' + comp_id + '%2F' + seria_a_ids[9] + '%2Fshooting%2F2011-2012-' + comp_name + '-Stats&div=div_stats_shooting',\n",
    "'https://widgets.sports-reference.com/wg.fcgi?css=1&site=fb&url=%2Fen%2Fcomps%2F' + comp_id + '%2F' + seria_a_ids[10] + '%2Fshooting%2F2010-2011-' + comp_name + '-Stats&div=div_stats_shooting',\n",
    "'https://widgets.sports-reference.com/wg.fcgi?css=1&site=fb&url=%2Fen%2Fcomps%2F' + comp_id + '%2F' + seria_a_ids[11] + '%2Fshooting%2F2009-2010-' + comp_name + '-Stats&div=div_stats_shooting',\n",
    "'https://widgets.sports-reference.com/wg.fcgi?css=1&site=fb&url=%2Fen%2Fcomps%2F' + comp_id + '%2F' + seria_a_ids[12] + '%2Fshooting%2F2008-2009-' + comp_name + '-Stats&div=div_stats_shooting',\n",
    "'https://widgets.sports-reference.com/wg.fcgi?css=1&site=fb&url=%2Fen%2Fcomps%2F' + comp_id + '%2F' + seria_a_ids[13] + '%2Fshooting%2F2007-2008-' + comp_name + '-Stats&div=div_stats_shooting',\n",
    "'https://widgets.sports-reference.com/wg.fcgi?css=1&site=fb&url=%2Fen%2Fcomps%2F' + comp_id + '%2F' + seria_a_ids[14] + '%2Fshooting%2F2006-2007-' + comp_name + '-Stats&div=div_stats_shooting']\n",
    "\n",
    "seasons = ['20/21', '19/20', '18/19', '17/18', '16/17', '15/16', '14/15', '13/14', '12/13', '11/12', '10/11', '09/10', '08/09', '07/08','06/07']\n",
    "folder = 'Poland'"
   ]
  },
  {
   "cell_type": "code",
   "execution_count": 13,
   "metadata": {},
   "outputs": [
    {
     "name": "stdout",
     "output_type": "stream",
     "text": [
      "1 of 15 ready\n",
      "2 of 15 ready\n",
      "3 of 15 ready\n",
      "4 of 15 ready\n",
      "5 of 15 ready\n",
      "6 of 15 ready\n",
      "7 of 15 ready\n",
      "8 of 15 ready\n",
      "9 of 15 ready\n",
      "10 of 15 ready\n",
      "11 of 15 ready\n",
      "12 of 15 ready\n",
      "13 of 15 ready\n",
      "14 of 15 ready\n",
      "15 of 15 ready\n"
     ]
    }
   ],
   "source": [
    "player_shooting = pd.DataFrame(columns=['Rk','Player','Nation','Pos','Squad','Age','Born',\n",
    "    '90s','Gls','Sh','SoT',\t'SoT%',\t'Sh/90','SoT/90','G/Sh','G/SoT','Dist','PK','PKatt', 'Season'])\n",
    "\n",
    "for i in range(len(links)):\n",
    "    try:\n",
    "        player_shooting_table= pd.read_html(links[i] , match='Player Shooting')[0]\n",
    "        try:\n",
    "            player_shooting_table = player_shooting_table.drop(['Expected'], axis=1)\n",
    "        except:\n",
    "            pass\n",
    "        player_shooting_table.columns = player_shooting_table.columns.droplevel(0)\n",
    "        player_shooting_table = player_shooting_table[['Rk','Player','Nation','Pos','Squad','Age','Born',\n",
    "        '90s','Gls','Sh','SoT',\t'SoT%',\t'Sh/90','SoT/90','G/Sh','G/SoT','Dist','PK','PKatt']]\n",
    "        player_shooting_table['Season'] = seasons[i]\n",
    "        player_shooting = player_shooting.append(player_shooting_table)\n",
    "        print(f'{i + 1} of {len(links)} ready')\n",
    "    except:\n",
    "        pass\n",
    "\n",
    "player_shooting.to_excel(f\"/Users/{os.environ['USER']}/Documents/Uni/Szakdoga/Adatok/Fbref_data/{folder}/player_shooting.xlsx\")\n",
    "\n"
   ]
  },
  {
   "cell_type": "code",
   "execution_count": null,
   "metadata": {},
   "outputs": [],
   "source": []
  },
  {
   "cell_type": "code",
   "execution_count": null,
   "metadata": {},
   "outputs": [],
   "source": []
  }
 ],
 "metadata": {
  "interpreter": {
   "hash": "aee8b7b246df8f9039afb4144a1f6fd8d2ca17a180786b69acc140d282b71a49"
  },
  "kernelspec": {
   "display_name": "Python 3.8.3 64-bit",
   "language": "python",
   "name": "python3"
  },
  "language_info": {
   "codemirror_mode": {
    "name": "ipython",
    "version": 3
   },
   "file_extension": ".py",
   "mimetype": "text/x-python",
   "name": "python",
   "nbconvert_exporter": "python",
   "pygments_lexer": "ipython3",
   "version": "3.8.3"
  },
  "orig_nbformat": 4
 },
 "nbformat": 4,
 "nbformat_minor": 2
}
